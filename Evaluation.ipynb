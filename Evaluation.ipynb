{
 "cells": [
  {
   "cell_type": "markdown",
   "metadata": {},
   "source": [
    "Testando se o ambiente está funcionando"
   ]
  },
  {
   "cell_type": "code",
   "execution_count": 4,
   "metadata": {},
   "outputs": [
    {
     "name": "stdout",
     "output_type": "stream",
     "text": [
      "teste\n"
     ]
    }
   ],
   "source": [
    "print('teste')"
   ]
  },
  {
   "cell_type": "markdown",
   "metadata": {},
   "source": [
    "Importando bibliotecas para explorar os diretórios do computador"
   ]
  },
  {
   "cell_type": "code",
   "execution_count": 5,
   "metadata": {},
   "outputs": [],
   "source": [
    "from os import listdir\n",
    "from os.path import isfile, join"
   ]
  },
  {
   "cell_type": "markdown",
   "metadata": {},
   "source": [
    "Verificando todos os arquivos obtidos da fonta de dados"
   ]
  },
  {
   "cell_type": "code",
   "execution_count": 6,
   "metadata": {},
   "outputs": [],
   "source": [
    "path = \"E://dump\"\n",
    "\n",
    "dump_files = listdir(path)"
   ]
  },
  {
   "cell_type": "code",
   "execution_count": 36,
   "metadata": {},
   "outputs": [],
   "source": [
    "import pandas as pd\n",
    "import numpy as np"
   ]
  },
  {
   "cell_type": "markdown",
   "metadata": {},
   "source": [
    "Tendo certeza que é possível ler os dados do GHtorrent."
   ]
  },
  {
   "cell_type": "code",
   "execution_count": 8,
   "metadata": {},
   "outputs": [],
   "source": [
    "#pd.read_csv(join(path, 'project_languages.csv'))"
   ]
  },
  {
   "cell_type": "markdown",
   "metadata": {},
   "source": [
    "Acredito que será possível partir dos pullrequest para observar quais repositórios possuem contribuições ou não. Além disso, após pesquisar (https://levelup.gitconnected.com/how-to-mine-github-data-in-2022-e9c70b3f61d3) parece que os dados de 2015 possuem uma estrutura diferente. Então irei tentar filtrar eles fora do meu dataset"
   ]
  },
  {
   "cell_type": "code",
   "execution_count": 9,
   "metadata": {},
   "outputs": [],
   "source": [
    "#df_pullrequests = pd.read_csv(join(path, 'pull_requests.csv'))"
   ]
  },
  {
   "cell_type": "code",
   "execution_count": 10,
   "metadata": {},
   "outputs": [],
   "source": [
    "#df_pullrequests"
   ]
  },
  {
   "cell_type": "markdown",
   "metadata": {},
   "source": [
    "Um artigo que mostra a estrutura dos arquivos do GHtorrent https://gousios.org/pub/ghtorrent-dataset-toolsuite.pdf\n",
    "misturando com esse aqui também https://github.com/ghtorrent/ghtorrent.org/blob/master/files/schema.pdf\n",
    "Então irei adicionar o nome nas colunas, acabei retirando a coluna pullrequest_id pois ela não fazia sentido no contexto"
   ]
  },
  {
   "cell_type": "code",
   "execution_count": 11,
   "metadata": {},
   "outputs": [],
   "source": [
    "#df_pullrequests.columns = [\"id\", \"head_repo_id\", \"base_repo_id\", \"head_commit_id\", \"base_commit_id\", \"intra_branch_id\",\"merged\"]"
   ]
  },
  {
   "cell_type": "markdown",
   "metadata": {},
   "source": [
    "Como os pull requests não possuem data de criação tentarei filtrar através dos commits que eles estão ligados."
   ]
  },
  {
   "cell_type": "code",
   "execution_count": 12,
   "metadata": {},
   "outputs": [],
   "source": [
    "# # Função para calcular o número total de chunks\n",
    "# def get_total_chunks(filename, chunksize):\n",
    "#     # Contar o número total de linhas no arquivo\n",
    "#     total_lines = sum(1 for _ in open(filename)) - 1  # Subtrai 1 por causa do cabeçalho\n",
    "#     # Calcular o número total de chunks\n",
    "#     total_chunks = (total_lines // chunksize) + (1 if total_lines % chunksize != 0 else 0)\n",
    "#     return total_chunks\n",
    "\n",
    "# # Exemplo de uso\n",
    "# filename = join(path, 'commits.csv')\n",
    "# chunksize = 5000000\n",
    "# total_chunks = get_total_chunks(filename, chunksize)\n",
    "# print(f\"Total de chunks: {total_chunks}\")"
   ]
  },
  {
   "cell_type": "code",
   "execution_count": 13,
   "metadata": {},
   "outputs": [],
   "source": [
    "#df_commits_19 = pd.DataFrame({},columns=[\"id\", \"sha\", \"author_id\", \"commiter_id\", \"project_id\", \"created_at\"])\n",
    "\n"
   ]
  },
  {
   "cell_type": "code",
   "execution_count": 14,
   "metadata": {},
   "outputs": [],
   "source": [
    "#def checkDate(df):\n",
    "#   return pd.to_datetime(df.iloc[0]['created_at']) > pd.to_datetime('2019-01-01') or pd.to_datetime(df.iloc[-1]['created_at']) > pd.to_datetime('2019-01-01')\n",
    "\n",
    "\n"
   ]
  },
  {
   "cell_type": "code",
   "execution_count": 15,
   "metadata": {},
   "outputs": [],
   "source": [
    "# for chunk in df_commits:\n",
    "#     chunk.map(lambda row: chechRowDate(row))"
   ]
  },
  {
   "cell_type": "code",
   "execution_count": 16,
   "metadata": {},
   "outputs": [],
   "source": [
    "# i=0\n",
    "\n",
    "# for chunk in df_commits:\n",
    "#     if checkDate(chunk):\n",
    "#         chunk.to_csv(f'E:/dump/commits_greater_than_2k19_{i}')\n",
    "\n",
    "#     i += 1"
   ]
  },
  {
   "cell_type": "markdown",
   "metadata": {},
   "source": [
    "# Filtrando os repositórios Open Source"
   ]
  },
  {
   "cell_type": "markdown",
   "metadata": {},
   "source": [
    "Devido a grande quantidade de commits, não foi possível os utilizar como filtro de projetos open-source. Nesse caso, iremos utilizar a relação project_members para encontrar quais projetos são relevantes, ou seja, que possuem contribuintes além do dono."
   ]
  },
  {
   "cell_type": "code",
   "execution_count": 17,
   "metadata": {},
   "outputs": [],
   "source": [
    "df_project_members = pd.read_csv(join(path, 'project_members.csv'), names=[\"repo_id\", \"user_id\", \"created_at\", \"ext_ref_id\"])"
   ]
  },
  {
   "cell_type": "code",
   "execution_count": 18,
   "metadata": {},
   "outputs": [
    {
     "data": {
      "text/html": [
       "<div>\n",
       "<style scoped>\n",
       "    .dataframe tbody tr th:only-of-type {\n",
       "        vertical-align: middle;\n",
       "    }\n",
       "\n",
       "    .dataframe tbody tr th {\n",
       "        vertical-align: top;\n",
       "    }\n",
       "\n",
       "    .dataframe thead th {\n",
       "        text-align: right;\n",
       "    }\n",
       "</style>\n",
       "<table border=\"1\" class=\"dataframe\">\n",
       "  <thead>\n",
       "    <tr style=\"text-align: right;\">\n",
       "      <th></th>\n",
       "      <th>repo_id</th>\n",
       "      <th>user_id</th>\n",
       "      <th>created_at</th>\n",
       "      <th>ext_ref_id</th>\n",
       "    </tr>\n",
       "  </thead>\n",
       "  <tbody>\n",
       "    <tr>\n",
       "      <th>0</th>\n",
       "      <td>1</td>\n",
       "      <td>1</td>\n",
       "      <td>2009-12-08 10:17:27</td>\n",
       "      <td>NaN</td>\n",
       "    </tr>\n",
       "    <tr>\n",
       "      <th>1</th>\n",
       "      <td>1</td>\n",
       "      <td>2</td>\n",
       "      <td>2009-12-08 10:17:27</td>\n",
       "      <td>NaN</td>\n",
       "    </tr>\n",
       "    <tr>\n",
       "      <th>2</th>\n",
       "      <td>1</td>\n",
       "      <td>4</td>\n",
       "      <td>2009-12-08 10:17:27</td>\n",
       "      <td>NaN</td>\n",
       "    </tr>\n",
       "    <tr>\n",
       "      <th>3</th>\n",
       "      <td>3</td>\n",
       "      <td>24</td>\n",
       "      <td>2011-02-19 01:58:42</td>\n",
       "      <td>NaN</td>\n",
       "    </tr>\n",
       "    <tr>\n",
       "      <th>4</th>\n",
       "      <td>3</td>\n",
       "      <td>5465</td>\n",
       "      <td>2011-02-19 01:58:42</td>\n",
       "      <td>NaN</td>\n",
       "    </tr>\n",
       "    <tr>\n",
       "      <th>...</th>\n",
       "      <td>...</td>\n",
       "      <td>...</td>\n",
       "      <td>...</td>\n",
       "      <td>...</td>\n",
       "    </tr>\n",
       "    <tr>\n",
       "      <th>15525047</th>\n",
       "      <td>207191305</td>\n",
       "      <td>221488</td>\n",
       "      <td>2021-03-06 22:46:40</td>\n",
       "      <td>NaN</td>\n",
       "    </tr>\n",
       "    <tr>\n",
       "      <th>15525048</th>\n",
       "      <td>207191367</td>\n",
       "      <td>54196484</td>\n",
       "      <td>2021-03-06 22:51:54</td>\n",
       "      <td>NaN</td>\n",
       "    </tr>\n",
       "    <tr>\n",
       "      <th>15525049</th>\n",
       "      <td>207191455</td>\n",
       "      <td>54204581</td>\n",
       "      <td>2021-03-06 22:50:39</td>\n",
       "      <td>NaN</td>\n",
       "    </tr>\n",
       "    <tr>\n",
       "      <th>15525050</th>\n",
       "      <td>207191498</td>\n",
       "      <td>3518100</td>\n",
       "      <td>2021-03-06 22:45:27</td>\n",
       "      <td>NaN</td>\n",
       "    </tr>\n",
       "    <tr>\n",
       "      <th>15525051</th>\n",
       "      <td>207192080</td>\n",
       "      <td>56706217</td>\n",
       "      <td>2021-03-06 22:55:19</td>\n",
       "      <td>NaN</td>\n",
       "    </tr>\n",
       "  </tbody>\n",
       "</table>\n",
       "<p>15525052 rows × 4 columns</p>\n",
       "</div>"
      ],
      "text/plain": [
       "            repo_id   user_id           created_at  ext_ref_id\n",
       "0                 1         1  2009-12-08 10:17:27         NaN\n",
       "1                 1         2  2009-12-08 10:17:27         NaN\n",
       "2                 1         4  2009-12-08 10:17:27         NaN\n",
       "3                 3        24  2011-02-19 01:58:42         NaN\n",
       "4                 3      5465  2011-02-19 01:58:42         NaN\n",
       "...             ...       ...                  ...         ...\n",
       "15525047  207191305    221488  2021-03-06 22:46:40         NaN\n",
       "15525048  207191367  54196484  2021-03-06 22:51:54         NaN\n",
       "15525049  207191455  54204581  2021-03-06 22:50:39         NaN\n",
       "15525050  207191498   3518100  2021-03-06 22:45:27         NaN\n",
       "15525051  207192080  56706217  2021-03-06 22:55:19         NaN\n",
       "\n",
       "[15525052 rows x 4 columns]"
      ]
     },
     "execution_count": 18,
     "metadata": {},
     "output_type": "execute_result"
    }
   ],
   "source": [
    "df_project_members"
   ]
  },
  {
   "cell_type": "code",
   "execution_count": 19,
   "metadata": {},
   "outputs": [],
   "source": [
    "df_count_members = df_project_members.groupby(\"repo_id\", as_index=False)[\"user_id\"].count()"
   ]
  },
  {
   "cell_type": "code",
   "execution_count": 18,
   "metadata": {},
   "outputs": [
    {
     "data": {
      "text/html": [
       "<div>\n",
       "<style scoped>\n",
       "    .dataframe tbody tr th:only-of-type {\n",
       "        vertical-align: middle;\n",
       "    }\n",
       "\n",
       "    .dataframe tbody tr th {\n",
       "        vertical-align: top;\n",
       "    }\n",
       "\n",
       "    .dataframe thead th {\n",
       "        text-align: right;\n",
       "    }\n",
       "</style>\n",
       "<table border=\"1\" class=\"dataframe\">\n",
       "  <thead>\n",
       "    <tr style=\"text-align: right;\">\n",
       "      <th></th>\n",
       "      <th>repo_id</th>\n",
       "      <th>user_id</th>\n",
       "    </tr>\n",
       "  </thead>\n",
       "  <tbody>\n",
       "    <tr>\n",
       "      <th>0</th>\n",
       "      <td>1</td>\n",
       "      <td>3</td>\n",
       "    </tr>\n",
       "    <tr>\n",
       "      <th>1</th>\n",
       "      <td>3</td>\n",
       "      <td>19</td>\n",
       "    </tr>\n",
       "    <tr>\n",
       "      <th>2</th>\n",
       "      <td>5</td>\n",
       "      <td>1</td>\n",
       "    </tr>\n",
       "    <tr>\n",
       "      <th>3</th>\n",
       "      <td>6</td>\n",
       "      <td>6</td>\n",
       "    </tr>\n",
       "    <tr>\n",
       "      <th>4</th>\n",
       "      <td>8</td>\n",
       "      <td>16</td>\n",
       "    </tr>\n",
       "    <tr>\n",
       "      <th>...</th>\n",
       "      <td>...</td>\n",
       "      <td>...</td>\n",
       "    </tr>\n",
       "    <tr>\n",
       "      <th>9549778</th>\n",
       "      <td>207191305</td>\n",
       "      <td>1</td>\n",
       "    </tr>\n",
       "    <tr>\n",
       "      <th>9549779</th>\n",
       "      <td>207191367</td>\n",
       "      <td>1</td>\n",
       "    </tr>\n",
       "    <tr>\n",
       "      <th>9549780</th>\n",
       "      <td>207191455</td>\n",
       "      <td>1</td>\n",
       "    </tr>\n",
       "    <tr>\n",
       "      <th>9549781</th>\n",
       "      <td>207191498</td>\n",
       "      <td>1</td>\n",
       "    </tr>\n",
       "    <tr>\n",
       "      <th>9549782</th>\n",
       "      <td>207192080</td>\n",
       "      <td>1</td>\n",
       "    </tr>\n",
       "  </tbody>\n",
       "</table>\n",
       "<p>9549783 rows × 2 columns</p>\n",
       "</div>"
      ],
      "text/plain": [
       "           repo_id  user_id\n",
       "0                1        3\n",
       "1                3       19\n",
       "2                5        1\n",
       "3                6        6\n",
       "4                8       16\n",
       "...            ...      ...\n",
       "9549778  207191305        1\n",
       "9549779  207191367        1\n",
       "9549780  207191455        1\n",
       "9549781  207191498        1\n",
       "9549782  207192080        1\n",
       "\n",
       "[9549783 rows x 2 columns]"
      ]
     },
     "execution_count": 18,
     "metadata": {},
     "output_type": "execute_result"
    }
   ],
   "source": [
    "df_count_members"
   ]
  },
  {
   "cell_type": "code",
   "execution_count": 19,
   "metadata": {},
   "outputs": [],
   "source": [
    "df_open_source_members = df_count_members[df_count_members[\"user_id\"]>10]"
   ]
  },
  {
   "cell_type": "code",
   "execution_count": 20,
   "metadata": {},
   "outputs": [
    {
     "data": {
      "text/html": [
       "<div>\n",
       "<style scoped>\n",
       "    .dataframe tbody tr th:only-of-type {\n",
       "        vertical-align: middle;\n",
       "    }\n",
       "\n",
       "    .dataframe tbody tr th {\n",
       "        vertical-align: top;\n",
       "    }\n",
       "\n",
       "    .dataframe thead th {\n",
       "        text-align: right;\n",
       "    }\n",
       "</style>\n",
       "<table border=\"1\" class=\"dataframe\">\n",
       "  <thead>\n",
       "    <tr style=\"text-align: right;\">\n",
       "      <th></th>\n",
       "      <th>repo_id</th>\n",
       "      <th>user_id</th>\n",
       "    </tr>\n",
       "  </thead>\n",
       "  <tbody>\n",
       "    <tr>\n",
       "      <th>1</th>\n",
       "      <td>3</td>\n",
       "      <td>19</td>\n",
       "    </tr>\n",
       "    <tr>\n",
       "      <th>4</th>\n",
       "      <td>8</td>\n",
       "      <td>16</td>\n",
       "    </tr>\n",
       "    <tr>\n",
       "      <th>14</th>\n",
       "      <td>19</td>\n",
       "      <td>14</td>\n",
       "    </tr>\n",
       "    <tr>\n",
       "      <th>26</th>\n",
       "      <td>34</td>\n",
       "      <td>38</td>\n",
       "    </tr>\n",
       "    <tr>\n",
       "      <th>27</th>\n",
       "      <td>37</td>\n",
       "      <td>42</td>\n",
       "    </tr>\n",
       "    <tr>\n",
       "      <th>...</th>\n",
       "      <td>...</td>\n",
       "      <td>...</td>\n",
       "    </tr>\n",
       "    <tr>\n",
       "      <th>9544854</th>\n",
       "      <td>206859445</td>\n",
       "      <td>12</td>\n",
       "    </tr>\n",
       "    <tr>\n",
       "      <th>9545989</th>\n",
       "      <td>206918002</td>\n",
       "      <td>12</td>\n",
       "    </tr>\n",
       "    <tr>\n",
       "      <th>9546379</th>\n",
       "      <td>206955864</td>\n",
       "      <td>17</td>\n",
       "    </tr>\n",
       "    <tr>\n",
       "      <th>9547045</th>\n",
       "      <td>206997704</td>\n",
       "      <td>19</td>\n",
       "    </tr>\n",
       "    <tr>\n",
       "      <th>9549231</th>\n",
       "      <td>207159748</td>\n",
       "      <td>27</td>\n",
       "    </tr>\n",
       "  </tbody>\n",
       "</table>\n",
       "<p>57075 rows × 2 columns</p>\n",
       "</div>"
      ],
      "text/plain": [
       "           repo_id  user_id\n",
       "1                3       19\n",
       "4                8       16\n",
       "14              19       14\n",
       "26              34       38\n",
       "27              37       42\n",
       "...            ...      ...\n",
       "9544854  206859445       12\n",
       "9545989  206918002       12\n",
       "9546379  206955864       17\n",
       "9547045  206997704       19\n",
       "9549231  207159748       27\n",
       "\n",
       "[57075 rows x 2 columns]"
      ]
     },
     "execution_count": 20,
     "metadata": {},
     "output_type": "execute_result"
    }
   ],
   "source": [
    "df_open_source_members"
   ]
  },
  {
   "cell_type": "markdown",
   "metadata": {},
   "source": [
    "Devivo a datação dos dados iremos filtrar somente os membros a partir de 2019"
   ]
  },
  {
   "cell_type": "code",
   "execution_count": 24,
   "metadata": {},
   "outputs": [],
   "source": [
    "df_project_members = df_project_members.loc[\n",
    "    (pd.to_datetime(df_project_members['created_at']) > pd.to_datetime(\"01-01-2019\")) & \n",
    "    (df_project_members['repo_id'].isin(df_open_source_members['repo_id']))\n",
    "    ]"
   ]
  },
  {
   "cell_type": "code",
   "execution_count": 35,
   "metadata": {},
   "outputs": [],
   "source": [
    "#transforma o campo de data em data\n",
    "\n",
    "df_project_members['created_at'] = pd.to_datetime(df_project_members['created_at'])"
   ]
  },
  {
   "cell_type": "code",
   "execution_count": 25,
   "metadata": {},
   "outputs": [
    {
     "data": {
      "text/html": [
       "<div>\n",
       "<style scoped>\n",
       "    .dataframe tbody tr th:only-of-type {\n",
       "        vertical-align: middle;\n",
       "    }\n",
       "\n",
       "    .dataframe tbody tr th {\n",
       "        vertical-align: top;\n",
       "    }\n",
       "\n",
       "    .dataframe thead th {\n",
       "        text-align: right;\n",
       "    }\n",
       "</style>\n",
       "<table border=\"1\" class=\"dataframe\">\n",
       "  <thead>\n",
       "    <tr style=\"text-align: right;\">\n",
       "      <th></th>\n",
       "      <th>repo_id</th>\n",
       "      <th>user_id</th>\n",
       "      <th>created_at</th>\n",
       "      <th>ext_ref_id</th>\n",
       "    </tr>\n",
       "  </thead>\n",
       "  <tbody>\n",
       "    <tr>\n",
       "      <th>66</th>\n",
       "      <td>19</td>\n",
       "      <td>9245591</td>\n",
       "      <td>2020-06-17 19:28:17</td>\n",
       "      <td>NaN</td>\n",
       "    </tr>\n",
       "    <tr>\n",
       "      <th>68</th>\n",
       "      <td>19</td>\n",
       "      <td>33292409</td>\n",
       "      <td>2020-06-05 14:53:56</td>\n",
       "      <td>NaN</td>\n",
       "    </tr>\n",
       "    <tr>\n",
       "      <th>1475</th>\n",
       "      <td>346</td>\n",
       "      <td>32145570</td>\n",
       "      <td>2019-01-29 14:55:47</td>\n",
       "      <td>NaN</td>\n",
       "    </tr>\n",
       "    <tr>\n",
       "      <th>2199</th>\n",
       "      <td>499</td>\n",
       "      <td>87499</td>\n",
       "      <td>2019-01-10 18:12:44</td>\n",
       "      <td>NaN</td>\n",
       "    </tr>\n",
       "    <tr>\n",
       "      <th>2201</th>\n",
       "      <td>499</td>\n",
       "      <td>249763</td>\n",
       "      <td>2019-02-27 17:41:17</td>\n",
       "      <td>NaN</td>\n",
       "    </tr>\n",
       "    <tr>\n",
       "      <th>...</th>\n",
       "      <td>...</td>\n",
       "      <td>...</td>\n",
       "      <td>...</td>\n",
       "      <td>...</td>\n",
       "    </tr>\n",
       "    <tr>\n",
       "      <th>15524292</th>\n",
       "      <td>207159748</td>\n",
       "      <td>61113108</td>\n",
       "      <td>2021-03-06 17:14:58</td>\n",
       "      <td>NaN</td>\n",
       "    </tr>\n",
       "    <tr>\n",
       "      <th>15524293</th>\n",
       "      <td>207159748</td>\n",
       "      <td>61908309</td>\n",
       "      <td>2021-03-06 17:13:48</td>\n",
       "      <td>NaN</td>\n",
       "    </tr>\n",
       "    <tr>\n",
       "      <th>15524294</th>\n",
       "      <td>207159748</td>\n",
       "      <td>68016435</td>\n",
       "      <td>2021-03-06 16:52:38</td>\n",
       "      <td>NaN</td>\n",
       "    </tr>\n",
       "    <tr>\n",
       "      <th>15524295</th>\n",
       "      <td>207159748</td>\n",
       "      <td>68016479</td>\n",
       "      <td>2021-03-06 16:54:11</td>\n",
       "      <td>NaN</td>\n",
       "    </tr>\n",
       "    <tr>\n",
       "      <th>15524296</th>\n",
       "      <td>207159748</td>\n",
       "      <td>68016916</td>\n",
       "      <td>2021-03-06 17:13:48</td>\n",
       "      <td>NaN</td>\n",
       "    </tr>\n",
       "  </tbody>\n",
       "</table>\n",
       "<p>439082 rows × 4 columns</p>\n",
       "</div>"
      ],
      "text/plain": [
       "            repo_id   user_id           created_at  ext_ref_id\n",
       "66               19   9245591  2020-06-17 19:28:17         NaN\n",
       "68               19  33292409  2020-06-05 14:53:56         NaN\n",
       "1475            346  32145570  2019-01-29 14:55:47         NaN\n",
       "2199            499     87499  2019-01-10 18:12:44         NaN\n",
       "2201            499    249763  2019-02-27 17:41:17         NaN\n",
       "...             ...       ...                  ...         ...\n",
       "15524292  207159748  61113108  2021-03-06 17:14:58         NaN\n",
       "15524293  207159748  61908309  2021-03-06 17:13:48         NaN\n",
       "15524294  207159748  68016435  2021-03-06 16:52:38         NaN\n",
       "15524295  207159748  68016479  2021-03-06 16:54:11         NaN\n",
       "15524296  207159748  68016916  2021-03-06 17:13:48         NaN\n",
       "\n",
       "[439082 rows x 4 columns]"
      ]
     },
     "execution_count": 25,
     "metadata": {},
     "output_type": "execute_result"
    }
   ],
   "source": [
    "df_project_members"
   ]
  },
  {
   "cell_type": "markdown",
   "metadata": {},
   "source": [
    "# Dataframe alvo"
   ]
  },
  {
   "cell_type": "markdown",
   "metadata": {},
   "source": [
    "A partir do estudo Recommending GitHub Projects for Developer Onboarding podemos extrair alguns atributos a serem extraídos do dataset para que seja estudado o quão receptivo um repositório é, são eles:\n",
    "\n",
    "- Crescimento do Projeto: Quantidade de commits do projeto no momento de iniciação\n",
    "- Data de criação do projeto: Projetos mais novos tendem a atrair mais desenvolvedores\n",
    "- Momento de primeira contribuição: quando o projeto começa a receber contribuidores\n",
    "- Momento da última contribuição: se a equipe do projeto se manter estável significa que existe menos oportunidades de onboarding\n",
    "- Momento do primeiro commit: primeiro commit do projeto, a partir de quando passa a aceitar contribuições\n",
    "- Momento do último commit: se o projeto receber muitos commits, mas nao tiver tanto onboarding significa q esse projeto necessita de mais contribuintes"
   ]
  },
  {
   "cell_type": "code",
   "execution_count": 21,
   "metadata": {},
   "outputs": [
    {
     "data": {
      "text/html": [
       "<div>\n",
       "<style scoped>\n",
       "    .dataframe tbody tr th:only-of-type {\n",
       "        vertical-align: middle;\n",
       "    }\n",
       "\n",
       "    .dataframe tbody tr th {\n",
       "        vertical-align: top;\n",
       "    }\n",
       "\n",
       "    .dataframe thead th {\n",
       "        text-align: right;\n",
       "    }\n",
       "</style>\n",
       "<table border=\"1\" class=\"dataframe\">\n",
       "  <thead>\n",
       "    <tr style=\"text-align: right;\">\n",
       "      <th></th>\n",
       "      <th>repo_id</th>\n",
       "      <th>created_at</th>\n",
       "      <th>total_commits</th>\n",
       "      <th>first_onboarding</th>\n",
       "      <th>last_onboarding</th>\n",
       "      <th>first_commit</th>\n",
       "      <th>last_commit</th>\n",
       "      <th>user_id</th>\n",
       "      <th>onboarding_date</th>\n",
       "    </tr>\n",
       "  </thead>\n",
       "  <tbody>\n",
       "  </tbody>\n",
       "</table>\n",
       "</div>"
      ],
      "text/plain": [
       "Empty DataFrame\n",
       "Columns: [repo_id, created_at, total_commits, first_onboarding, last_onboarding, first_commit, last_commit, user_id, onboarding_date]\n",
       "Index: []"
      ]
     },
     "execution_count": 21,
     "metadata": {},
     "output_type": "execute_result"
    }
   ],
   "source": [
    "#objetivo final\n",
    "\n",
    "df_onboardings = pd.DataFrame({}, columns=[\"repo_id\", \"created_at\", \"total_commits\",\"first_onboarding\", \"last_onboarding\", \"first_commit\", \"last_commit\", \"user_id\", \"onboarding_date\"])\n",
    "\n",
    "df_onboardings"
   ]
  },
  {
   "cell_type": "code",
   "execution_count": 30,
   "metadata": {},
   "outputs": [],
   "source": [
    "chunks_commits = pd.read_csv(join(path, 'commits.csv'), names=[\"id\", \"sha\", \"author_id\", \"commiter_id\", \"project_id\", \"created_at\"], chunksize=5000000)"
   ]
  },
  {
   "cell_type": "markdown",
   "metadata": {},
   "source": [
    "Agora irei filtrar somente os commits dos projetos selecionados como open source após o ano de 2019"
   ]
  },
  {
   "cell_type": "markdown",
   "metadata": {},
   "source": [
    "# Pegando os commits referentes aos repositórios classificados como Open Source"
   ]
  },
  {
   "cell_type": "code",
   "execution_count": null,
   "metadata": {},
   "outputs": [],
   "source": [
    "\n",
    "i=0\n",
    "for chunk in chunks_commits:\n",
    "        df_commit = chunk[chunk['project_id'].isin(df_project_members['repo_id'])]\n",
    "        df_commit.to_csv(f'E:/dump/open_source/open_source_commits_{i}.csv')\n",
    "        i += 1\n"
   ]
  },
  {
   "cell_type": "code",
   "execution_count": null,
   "metadata": {},
   "outputs": [],
   "source": [
    "dump_open_source_files = listdir(join(path, 'open_source'))\n"
   ]
  },
  {
   "cell_type": "markdown",
   "metadata": {},
   "source": [
    "# Descobrindo usuários iniciantes"
   ]
  },
  {
   "cell_type": "markdown",
   "metadata": {},
   "source": [
    "Para determinar quais contribuições são referentes a iniciantes teremos que descobrir qual foi o primeiro commit de cada usuário e qual foi o repositório dele"
   ]
  },
  {
   "cell_type": "code",
   "execution_count": 51,
   "metadata": {},
   "outputs": [
    {
     "name": "stdout",
     "output_type": "stream",
     "text": [
      "lendo arquivo:  0\n"
     ]
    },
    {
     "name": "stderr",
     "output_type": "stream",
     "text": [
      "C:\\Users\\gusge\\AppData\\Local\\Temp\\ipykernel_8060\\2440456843.py:10: FutureWarning: The provided callable <function min at 0x0000024E7E93C790> is currently using SeriesGroupBy.min. In a future version of pandas, the provided callable will be used directly. To keep current behavior pass the string \"min\" instead.\n",
      "  first_user_commit_by_chunks.append( df_commit.groupby([\"author_id\"], as_index=False).agg({\"created_at\": np.min}))\n"
     ]
    },
    {
     "name": "stdout",
     "output_type": "stream",
     "text": [
      "lendo arquivo:  1\n"
     ]
    },
    {
     "name": "stderr",
     "output_type": "stream",
     "text": [
      "C:\\Users\\gusge\\AppData\\Local\\Temp\\ipykernel_8060\\2440456843.py:10: FutureWarning: The provided callable <function min at 0x0000024E7E93C790> is currently using SeriesGroupBy.min. In a future version of pandas, the provided callable will be used directly. To keep current behavior pass the string \"min\" instead.\n",
      "  first_user_commit_by_chunks.append( df_commit.groupby([\"author_id\"], as_index=False).agg({\"created_at\": np.min}))\n"
     ]
    },
    {
     "name": "stdout",
     "output_type": "stream",
     "text": [
      "lendo arquivo:  2\n"
     ]
    },
    {
     "name": "stderr",
     "output_type": "stream",
     "text": [
      "C:\\Users\\gusge\\AppData\\Local\\Temp\\ipykernel_8060\\2440456843.py:10: FutureWarning: The provided callable <function min at 0x0000024E7E93C790> is currently using SeriesGroupBy.min. In a future version of pandas, the provided callable will be used directly. To keep current behavior pass the string \"min\" instead.\n",
      "  first_user_commit_by_chunks.append( df_commit.groupby([\"author_id\"], as_index=False).agg({\"created_at\": np.min}))\n"
     ]
    },
    {
     "name": "stdout",
     "output_type": "stream",
     "text": [
      "lendo arquivo:  3\n"
     ]
    },
    {
     "name": "stderr",
     "output_type": "stream",
     "text": [
      "C:\\Users\\gusge\\AppData\\Local\\Temp\\ipykernel_8060\\2440456843.py:10: FutureWarning: The provided callable <function min at 0x0000024E7E93C790> is currently using SeriesGroupBy.min. In a future version of pandas, the provided callable will be used directly. To keep current behavior pass the string \"min\" instead.\n",
      "  first_user_commit_by_chunks.append( df_commit.groupby([\"author_id\"], as_index=False).agg({\"created_at\": np.min}))\n"
     ]
    },
    {
     "name": "stdout",
     "output_type": "stream",
     "text": [
      "lendo arquivo:  4\n"
     ]
    },
    {
     "name": "stderr",
     "output_type": "stream",
     "text": [
      "C:\\Users\\gusge\\AppData\\Local\\Temp\\ipykernel_8060\\2440456843.py:10: FutureWarning: The provided callable <function min at 0x0000024E7E93C790> is currently using SeriesGroupBy.min. In a future version of pandas, the provided callable will be used directly. To keep current behavior pass the string \"min\" instead.\n",
      "  first_user_commit_by_chunks.append( df_commit.groupby([\"author_id\"], as_index=False).agg({\"created_at\": np.min}))\n"
     ]
    },
    {
     "name": "stdout",
     "output_type": "stream",
     "text": [
      "lendo arquivo:  5\n"
     ]
    },
    {
     "name": "stderr",
     "output_type": "stream",
     "text": [
      "C:\\Users\\gusge\\AppData\\Local\\Temp\\ipykernel_8060\\2440456843.py:10: FutureWarning: The provided callable <function min at 0x0000024E7E93C790> is currently using SeriesGroupBy.min. In a future version of pandas, the provided callable will be used directly. To keep current behavior pass the string \"min\" instead.\n",
      "  first_user_commit_by_chunks.append( df_commit.groupby([\"author_id\"], as_index=False).agg({\"created_at\": np.min}))\n"
     ]
    },
    {
     "name": "stdout",
     "output_type": "stream",
     "text": [
      "lendo arquivo:  6\n"
     ]
    },
    {
     "name": "stderr",
     "output_type": "stream",
     "text": [
      "C:\\Users\\gusge\\AppData\\Local\\Temp\\ipykernel_8060\\2440456843.py:10: FutureWarning: The provided callable <function min at 0x0000024E7E93C790> is currently using SeriesGroupBy.min. In a future version of pandas, the provided callable will be used directly. To keep current behavior pass the string \"min\" instead.\n",
      "  first_user_commit_by_chunks.append( df_commit.groupby([\"author_id\"], as_index=False).agg({\"created_at\": np.min}))\n"
     ]
    },
    {
     "name": "stdout",
     "output_type": "stream",
     "text": [
      "lendo arquivo:  7\n"
     ]
    },
    {
     "name": "stderr",
     "output_type": "stream",
     "text": [
      "C:\\Users\\gusge\\AppData\\Local\\Temp\\ipykernel_8060\\2440456843.py:10: FutureWarning: The provided callable <function min at 0x0000024E7E93C790> is currently using SeriesGroupBy.min. In a future version of pandas, the provided callable will be used directly. To keep current behavior pass the string \"min\" instead.\n",
      "  first_user_commit_by_chunks.append( df_commit.groupby([\"author_id\"], as_index=False).agg({\"created_at\": np.min}))\n"
     ]
    },
    {
     "name": "stdout",
     "output_type": "stream",
     "text": [
      "lendo arquivo:  8\n"
     ]
    },
    {
     "name": "stderr",
     "output_type": "stream",
     "text": [
      "C:\\Users\\gusge\\AppData\\Local\\Temp\\ipykernel_8060\\2440456843.py:10: FutureWarning: The provided callable <function min at 0x0000024E7E93C790> is currently using SeriesGroupBy.min. In a future version of pandas, the provided callable will be used directly. To keep current behavior pass the string \"min\" instead.\n",
      "  first_user_commit_by_chunks.append( df_commit.groupby([\"author_id\"], as_index=False).agg({\"created_at\": np.min}))\n"
     ]
    },
    {
     "name": "stdout",
     "output_type": "stream",
     "text": [
      "lendo arquivo:  9\n"
     ]
    },
    {
     "name": "stderr",
     "output_type": "stream",
     "text": [
      "C:\\Users\\gusge\\AppData\\Local\\Temp\\ipykernel_8060\\2440456843.py:10: FutureWarning: The provided callable <function min at 0x0000024E7E93C790> is currently using SeriesGroupBy.min. In a future version of pandas, the provided callable will be used directly. To keep current behavior pass the string \"min\" instead.\n",
      "  first_user_commit_by_chunks.append( df_commit.groupby([\"author_id\"], as_index=False).agg({\"created_at\": np.min}))\n"
     ]
    },
    {
     "name": "stdout",
     "output_type": "stream",
     "text": [
      "lendo arquivo:  10\n"
     ]
    },
    {
     "name": "stderr",
     "output_type": "stream",
     "text": [
      "C:\\Users\\gusge\\AppData\\Local\\Temp\\ipykernel_8060\\2440456843.py:10: FutureWarning: The provided callable <function min at 0x0000024E7E93C790> is currently using SeriesGroupBy.min. In a future version of pandas, the provided callable will be used directly. To keep current behavior pass the string \"min\" instead.\n",
      "  first_user_commit_by_chunks.append( df_commit.groupby([\"author_id\"], as_index=False).agg({\"created_at\": np.min}))\n"
     ]
    },
    {
     "name": "stdout",
     "output_type": "stream",
     "text": [
      "lendo arquivo:  11\n"
     ]
    },
    {
     "name": "stderr",
     "output_type": "stream",
     "text": [
      "C:\\Users\\gusge\\AppData\\Local\\Temp\\ipykernel_8060\\2440456843.py:10: FutureWarning: The provided callable <function min at 0x0000024E7E93C790> is currently using SeriesGroupBy.min. In a future version of pandas, the provided callable will be used directly. To keep current behavior pass the string \"min\" instead.\n",
      "  first_user_commit_by_chunks.append( df_commit.groupby([\"author_id\"], as_index=False).agg({\"created_at\": np.min}))\n"
     ]
    },
    {
     "name": "stdout",
     "output_type": "stream",
     "text": [
      "lendo arquivo:  12\n"
     ]
    },
    {
     "name": "stderr",
     "output_type": "stream",
     "text": [
      "C:\\Users\\gusge\\AppData\\Local\\Temp\\ipykernel_8060\\2440456843.py:10: FutureWarning: The provided callable <function min at 0x0000024E7E93C790> is currently using SeriesGroupBy.min. In a future version of pandas, the provided callable will be used directly. To keep current behavior pass the string \"min\" instead.\n",
      "  first_user_commit_by_chunks.append( df_commit.groupby([\"author_id\"], as_index=False).agg({\"created_at\": np.min}))\n"
     ]
    },
    {
     "name": "stdout",
     "output_type": "stream",
     "text": [
      "lendo arquivo:  13\n"
     ]
    },
    {
     "name": "stderr",
     "output_type": "stream",
     "text": [
      "C:\\Users\\gusge\\AppData\\Local\\Temp\\ipykernel_8060\\2440456843.py:10: FutureWarning: The provided callable <function min at 0x0000024E7E93C790> is currently using SeriesGroupBy.min. In a future version of pandas, the provided callable will be used directly. To keep current behavior pass the string \"min\" instead.\n",
      "  first_user_commit_by_chunks.append( df_commit.groupby([\"author_id\"], as_index=False).agg({\"created_at\": np.min}))\n"
     ]
    },
    {
     "name": "stdout",
     "output_type": "stream",
     "text": [
      "lendo arquivo:  14\n"
     ]
    },
    {
     "name": "stderr",
     "output_type": "stream",
     "text": [
      "C:\\Users\\gusge\\AppData\\Local\\Temp\\ipykernel_8060\\2440456843.py:10: FutureWarning: The provided callable <function min at 0x0000024E7E93C790> is currently using SeriesGroupBy.min. In a future version of pandas, the provided callable will be used directly. To keep current behavior pass the string \"min\" instead.\n",
      "  first_user_commit_by_chunks.append( df_commit.groupby([\"author_id\"], as_index=False).agg({\"created_at\": np.min}))\n"
     ]
    },
    {
     "name": "stdout",
     "output_type": "stream",
     "text": [
      "lendo arquivo:  15\n"
     ]
    },
    {
     "name": "stderr",
     "output_type": "stream",
     "text": [
      "C:\\Users\\gusge\\AppData\\Local\\Temp\\ipykernel_8060\\2440456843.py:10: FutureWarning: The provided callable <function min at 0x0000024E7E93C790> is currently using SeriesGroupBy.min. In a future version of pandas, the provided callable will be used directly. To keep current behavior pass the string \"min\" instead.\n",
      "  first_user_commit_by_chunks.append( df_commit.groupby([\"author_id\"], as_index=False).agg({\"created_at\": np.min}))\n"
     ]
    },
    {
     "name": "stdout",
     "output_type": "stream",
     "text": [
      "lendo arquivo:  16\n"
     ]
    },
    {
     "name": "stderr",
     "output_type": "stream",
     "text": [
      "C:\\Users\\gusge\\AppData\\Local\\Temp\\ipykernel_8060\\2440456843.py:10: FutureWarning: The provided callable <function min at 0x0000024E7E93C790> is currently using SeriesGroupBy.min. In a future version of pandas, the provided callable will be used directly. To keep current behavior pass the string \"min\" instead.\n",
      "  first_user_commit_by_chunks.append( df_commit.groupby([\"author_id\"], as_index=False).agg({\"created_at\": np.min}))\n"
     ]
    },
    {
     "name": "stdout",
     "output_type": "stream",
     "text": [
      "lendo arquivo:  17\n"
     ]
    },
    {
     "name": "stderr",
     "output_type": "stream",
     "text": [
      "C:\\Users\\gusge\\AppData\\Local\\Temp\\ipykernel_8060\\2440456843.py:10: FutureWarning: The provided callable <function min at 0x0000024E7E93C790> is currently using SeriesGroupBy.min. In a future version of pandas, the provided callable will be used directly. To keep current behavior pass the string \"min\" instead.\n",
      "  first_user_commit_by_chunks.append( df_commit.groupby([\"author_id\"], as_index=False).agg({\"created_at\": np.min}))\n"
     ]
    },
    {
     "name": "stdout",
     "output_type": "stream",
     "text": [
      "lendo arquivo:  18\n"
     ]
    },
    {
     "name": "stderr",
     "output_type": "stream",
     "text": [
      "C:\\Users\\gusge\\AppData\\Local\\Temp\\ipykernel_8060\\2440456843.py:10: FutureWarning: The provided callable <function min at 0x0000024E7E93C790> is currently using SeriesGroupBy.min. In a future version of pandas, the provided callable will be used directly. To keep current behavior pass the string \"min\" instead.\n",
      "  first_user_commit_by_chunks.append( df_commit.groupby([\"author_id\"], as_index=False).agg({\"created_at\": np.min}))\n"
     ]
    },
    {
     "name": "stdout",
     "output_type": "stream",
     "text": [
      "lendo arquivo:  19\n"
     ]
    },
    {
     "name": "stderr",
     "output_type": "stream",
     "text": [
      "C:\\Users\\gusge\\AppData\\Local\\Temp\\ipykernel_8060\\2440456843.py:10: FutureWarning: The provided callable <function min at 0x0000024E7E93C790> is currently using SeriesGroupBy.min. In a future version of pandas, the provided callable will be used directly. To keep current behavior pass the string \"min\" instead.\n",
      "  first_user_commit_by_chunks.append( df_commit.groupby([\"author_id\"], as_index=False).agg({\"created_at\": np.min}))\n"
     ]
    },
    {
     "name": "stdout",
     "output_type": "stream",
     "text": [
      "lendo arquivo:  20\n"
     ]
    },
    {
     "name": "stderr",
     "output_type": "stream",
     "text": [
      "C:\\Users\\gusge\\AppData\\Local\\Temp\\ipykernel_8060\\2440456843.py:10: FutureWarning: The provided callable <function min at 0x0000024E7E93C790> is currently using SeriesGroupBy.min. In a future version of pandas, the provided callable will be used directly. To keep current behavior pass the string \"min\" instead.\n",
      "  first_user_commit_by_chunks.append( df_commit.groupby([\"author_id\"], as_index=False).agg({\"created_at\": np.min}))\n"
     ]
    },
    {
     "name": "stdout",
     "output_type": "stream",
     "text": [
      "lendo arquivo:  21\n"
     ]
    },
    {
     "name": "stderr",
     "output_type": "stream",
     "text": [
      "C:\\Users\\gusge\\AppData\\Local\\Temp\\ipykernel_8060\\2440456843.py:10: FutureWarning: The provided callable <function min at 0x0000024E7E93C790> is currently using SeriesGroupBy.min. In a future version of pandas, the provided callable will be used directly. To keep current behavior pass the string \"min\" instead.\n",
      "  first_user_commit_by_chunks.append( df_commit.groupby([\"author_id\"], as_index=False).agg({\"created_at\": np.min}))\n"
     ]
    },
    {
     "name": "stdout",
     "output_type": "stream",
     "text": [
      "lendo arquivo:  22\n"
     ]
    },
    {
     "name": "stderr",
     "output_type": "stream",
     "text": [
      "C:\\Users\\gusge\\AppData\\Local\\Temp\\ipykernel_8060\\2440456843.py:10: FutureWarning: The provided callable <function min at 0x0000024E7E93C790> is currently using SeriesGroupBy.min. In a future version of pandas, the provided callable will be used directly. To keep current behavior pass the string \"min\" instead.\n",
      "  first_user_commit_by_chunks.append( df_commit.groupby([\"author_id\"], as_index=False).agg({\"created_at\": np.min}))\n"
     ]
    },
    {
     "name": "stdout",
     "output_type": "stream",
     "text": [
      "lendo arquivo:  23\n"
     ]
    },
    {
     "name": "stderr",
     "output_type": "stream",
     "text": [
      "C:\\Users\\gusge\\AppData\\Local\\Temp\\ipykernel_8060\\2440456843.py:10: FutureWarning: The provided callable <function min at 0x0000024E7E93C790> is currently using SeriesGroupBy.min. In a future version of pandas, the provided callable will be used directly. To keep current behavior pass the string \"min\" instead.\n",
      "  first_user_commit_by_chunks.append( df_commit.groupby([\"author_id\"], as_index=False).agg({\"created_at\": np.min}))\n"
     ]
    },
    {
     "name": "stdout",
     "output_type": "stream",
     "text": [
      "lendo arquivo:  24\n"
     ]
    },
    {
     "name": "stderr",
     "output_type": "stream",
     "text": [
      "C:\\Users\\gusge\\AppData\\Local\\Temp\\ipykernel_8060\\2440456843.py:10: FutureWarning: The provided callable <function min at 0x0000024E7E93C790> is currently using SeriesGroupBy.min. In a future version of pandas, the provided callable will be used directly. To keep current behavior pass the string \"min\" instead.\n",
      "  first_user_commit_by_chunks.append( df_commit.groupby([\"author_id\"], as_index=False).agg({\"created_at\": np.min}))\n"
     ]
    },
    {
     "name": "stdout",
     "output_type": "stream",
     "text": [
      "lendo arquivo:  25\n"
     ]
    },
    {
     "name": "stderr",
     "output_type": "stream",
     "text": [
      "C:\\Users\\gusge\\AppData\\Local\\Temp\\ipykernel_8060\\2440456843.py:10: FutureWarning: The provided callable <function min at 0x0000024E7E93C790> is currently using SeriesGroupBy.min. In a future version of pandas, the provided callable will be used directly. To keep current behavior pass the string \"min\" instead.\n",
      "  first_user_commit_by_chunks.append( df_commit.groupby([\"author_id\"], as_index=False).agg({\"created_at\": np.min}))\n"
     ]
    },
    {
     "name": "stdout",
     "output_type": "stream",
     "text": [
      "lendo arquivo:  26\n"
     ]
    },
    {
     "name": "stderr",
     "output_type": "stream",
     "text": [
      "C:\\Users\\gusge\\AppData\\Local\\Temp\\ipykernel_8060\\2440456843.py:10: FutureWarning: The provided callable <function min at 0x0000024E7E93C790> is currently using SeriesGroupBy.min. In a future version of pandas, the provided callable will be used directly. To keep current behavior pass the string \"min\" instead.\n",
      "  first_user_commit_by_chunks.append( df_commit.groupby([\"author_id\"], as_index=False).agg({\"created_at\": np.min}))\n"
     ]
    },
    {
     "name": "stdout",
     "output_type": "stream",
     "text": [
      "lendo arquivo:  27\n"
     ]
    },
    {
     "name": "stderr",
     "output_type": "stream",
     "text": [
      "C:\\Users\\gusge\\AppData\\Local\\Temp\\ipykernel_8060\\2440456843.py:10: FutureWarning: The provided callable <function min at 0x0000024E7E93C790> is currently using SeriesGroupBy.min. In a future version of pandas, the provided callable will be used directly. To keep current behavior pass the string \"min\" instead.\n",
      "  first_user_commit_by_chunks.append( df_commit.groupby([\"author_id\"], as_index=False).agg({\"created_at\": np.min}))\n"
     ]
    },
    {
     "name": "stdout",
     "output_type": "stream",
     "text": [
      "lendo arquivo:  28\n"
     ]
    },
    {
     "name": "stderr",
     "output_type": "stream",
     "text": [
      "C:\\Users\\gusge\\AppData\\Local\\Temp\\ipykernel_8060\\2440456843.py:10: FutureWarning: The provided callable <function min at 0x0000024E7E93C790> is currently using SeriesGroupBy.min. In a future version of pandas, the provided callable will be used directly. To keep current behavior pass the string \"min\" instead.\n",
      "  first_user_commit_by_chunks.append( df_commit.groupby([\"author_id\"], as_index=False).agg({\"created_at\": np.min}))\n"
     ]
    },
    {
     "name": "stdout",
     "output_type": "stream",
     "text": [
      "lendo arquivo:  29\n"
     ]
    },
    {
     "name": "stderr",
     "output_type": "stream",
     "text": [
      "C:\\Users\\gusge\\AppData\\Local\\Temp\\ipykernel_8060\\2440456843.py:10: FutureWarning: The provided callable <function min at 0x0000024E7E93C790> is currently using SeriesGroupBy.min. In a future version of pandas, the provided callable will be used directly. To keep current behavior pass the string \"min\" instead.\n",
      "  first_user_commit_by_chunks.append( df_commit.groupby([\"author_id\"], as_index=False).agg({\"created_at\": np.min}))\n"
     ]
    },
    {
     "name": "stdout",
     "output_type": "stream",
     "text": [
      "lendo arquivo:  30\n"
     ]
    },
    {
     "name": "stderr",
     "output_type": "stream",
     "text": [
      "C:\\Users\\gusge\\AppData\\Local\\Temp\\ipykernel_8060\\2440456843.py:10: FutureWarning: The provided callable <function min at 0x0000024E7E93C790> is currently using SeriesGroupBy.min. In a future version of pandas, the provided callable will be used directly. To keep current behavior pass the string \"min\" instead.\n",
      "  first_user_commit_by_chunks.append( df_commit.groupby([\"author_id\"], as_index=False).agg({\"created_at\": np.min}))\n"
     ]
    },
    {
     "name": "stdout",
     "output_type": "stream",
     "text": [
      "lendo arquivo:  31\n"
     ]
    },
    {
     "name": "stderr",
     "output_type": "stream",
     "text": [
      "C:\\Users\\gusge\\AppData\\Local\\Temp\\ipykernel_8060\\2440456843.py:10: FutureWarning: The provided callable <function min at 0x0000024E7E93C790> is currently using SeriesGroupBy.min. In a future version of pandas, the provided callable will be used directly. To keep current behavior pass the string \"min\" instead.\n",
      "  first_user_commit_by_chunks.append( df_commit.groupby([\"author_id\"], as_index=False).agg({\"created_at\": np.min}))\n"
     ]
    },
    {
     "name": "stdout",
     "output_type": "stream",
     "text": [
      "lendo arquivo:  32\n"
     ]
    },
    {
     "name": "stderr",
     "output_type": "stream",
     "text": [
      "C:\\Users\\gusge\\AppData\\Local\\Temp\\ipykernel_8060\\2440456843.py:10: FutureWarning: The provided callable <function min at 0x0000024E7E93C790> is currently using SeriesGroupBy.min. In a future version of pandas, the provided callable will be used directly. To keep current behavior pass the string \"min\" instead.\n",
      "  first_user_commit_by_chunks.append( df_commit.groupby([\"author_id\"], as_index=False).agg({\"created_at\": np.min}))\n"
     ]
    },
    {
     "name": "stdout",
     "output_type": "stream",
     "text": [
      "lendo arquivo:  33\n"
     ]
    },
    {
     "name": "stderr",
     "output_type": "stream",
     "text": [
      "C:\\Users\\gusge\\AppData\\Local\\Temp\\ipykernel_8060\\2440456843.py:10: FutureWarning: The provided callable <function min at 0x0000024E7E93C790> is currently using SeriesGroupBy.min. In a future version of pandas, the provided callable will be used directly. To keep current behavior pass the string \"min\" instead.\n",
      "  first_user_commit_by_chunks.append( df_commit.groupby([\"author_id\"], as_index=False).agg({\"created_at\": np.min}))\n"
     ]
    },
    {
     "name": "stdout",
     "output_type": "stream",
     "text": [
      "lendo arquivo:  34\n"
     ]
    },
    {
     "name": "stderr",
     "output_type": "stream",
     "text": [
      "C:\\Users\\gusge\\AppData\\Local\\Temp\\ipykernel_8060\\2440456843.py:10: FutureWarning: The provided callable <function min at 0x0000024E7E93C790> is currently using SeriesGroupBy.min. In a future version of pandas, the provided callable will be used directly. To keep current behavior pass the string \"min\" instead.\n",
      "  first_user_commit_by_chunks.append( df_commit.groupby([\"author_id\"], as_index=False).agg({\"created_at\": np.min}))\n"
     ]
    },
    {
     "name": "stdout",
     "output_type": "stream",
     "text": [
      "lendo arquivo:  35\n"
     ]
    },
    {
     "name": "stderr",
     "output_type": "stream",
     "text": [
      "C:\\Users\\gusge\\AppData\\Local\\Temp\\ipykernel_8060\\2440456843.py:10: FutureWarning: The provided callable <function min at 0x0000024E7E93C790> is currently using SeriesGroupBy.min. In a future version of pandas, the provided callable will be used directly. To keep current behavior pass the string \"min\" instead.\n",
      "  first_user_commit_by_chunks.append( df_commit.groupby([\"author_id\"], as_index=False).agg({\"created_at\": np.min}))\n"
     ]
    },
    {
     "name": "stdout",
     "output_type": "stream",
     "text": [
      "lendo arquivo:  36\n"
     ]
    },
    {
     "name": "stderr",
     "output_type": "stream",
     "text": [
      "C:\\Users\\gusge\\AppData\\Local\\Temp\\ipykernel_8060\\2440456843.py:10: FutureWarning: The provided callable <function min at 0x0000024E7E93C790> is currently using SeriesGroupBy.min. In a future version of pandas, the provided callable will be used directly. To keep current behavior pass the string \"min\" instead.\n",
      "  first_user_commit_by_chunks.append( df_commit.groupby([\"author_id\"], as_index=False).agg({\"created_at\": np.min}))\n"
     ]
    },
    {
     "name": "stdout",
     "output_type": "stream",
     "text": [
      "lendo arquivo:  37\n"
     ]
    },
    {
     "name": "stderr",
     "output_type": "stream",
     "text": [
      "C:\\Users\\gusge\\AppData\\Local\\Temp\\ipykernel_8060\\2440456843.py:10: FutureWarning: The provided callable <function min at 0x0000024E7E93C790> is currently using SeriesGroupBy.min. In a future version of pandas, the provided callable will be used directly. To keep current behavior pass the string \"min\" instead.\n",
      "  first_user_commit_by_chunks.append( df_commit.groupby([\"author_id\"], as_index=False).agg({\"created_at\": np.min}))\n"
     ]
    },
    {
     "name": "stdout",
     "output_type": "stream",
     "text": [
      "lendo arquivo:  38\n"
     ]
    },
    {
     "name": "stderr",
     "output_type": "stream",
     "text": [
      "C:\\Users\\gusge\\AppData\\Local\\Temp\\ipykernel_8060\\2440456843.py:10: FutureWarning: The provided callable <function min at 0x0000024E7E93C790> is currently using SeriesGroupBy.min. In a future version of pandas, the provided callable will be used directly. To keep current behavior pass the string \"min\" instead.\n",
      "  first_user_commit_by_chunks.append( df_commit.groupby([\"author_id\"], as_index=False).agg({\"created_at\": np.min}))\n"
     ]
    },
    {
     "name": "stdout",
     "output_type": "stream",
     "text": [
      "lendo arquivo:  39\n"
     ]
    },
    {
     "name": "stderr",
     "output_type": "stream",
     "text": [
      "C:\\Users\\gusge\\AppData\\Local\\Temp\\ipykernel_8060\\2440456843.py:10: FutureWarning: The provided callable <function min at 0x0000024E7E93C790> is currently using SeriesGroupBy.min. In a future version of pandas, the provided callable will be used directly. To keep current behavior pass the string \"min\" instead.\n",
      "  first_user_commit_by_chunks.append( df_commit.groupby([\"author_id\"], as_index=False).agg({\"created_at\": np.min}))\n"
     ]
    },
    {
     "name": "stdout",
     "output_type": "stream",
     "text": [
      "lendo arquivo:  40\n"
     ]
    },
    {
     "name": "stderr",
     "output_type": "stream",
     "text": [
      "C:\\Users\\gusge\\AppData\\Local\\Temp\\ipykernel_8060\\2440456843.py:10: FutureWarning: The provided callable <function min at 0x0000024E7E93C790> is currently using SeriesGroupBy.min. In a future version of pandas, the provided callable will be used directly. To keep current behavior pass the string \"min\" instead.\n",
      "  first_user_commit_by_chunks.append( df_commit.groupby([\"author_id\"], as_index=False).agg({\"created_at\": np.min}))\n"
     ]
    },
    {
     "name": "stdout",
     "output_type": "stream",
     "text": [
      "lendo arquivo:  41\n"
     ]
    },
    {
     "name": "stderr",
     "output_type": "stream",
     "text": [
      "C:\\Users\\gusge\\AppData\\Local\\Temp\\ipykernel_8060\\2440456843.py:10: FutureWarning: The provided callable <function min at 0x0000024E7E93C790> is currently using SeriesGroupBy.min. In a future version of pandas, the provided callable will be used directly. To keep current behavior pass the string \"min\" instead.\n",
      "  first_user_commit_by_chunks.append( df_commit.groupby([\"author_id\"], as_index=False).agg({\"created_at\": np.min}))\n"
     ]
    },
    {
     "name": "stdout",
     "output_type": "stream",
     "text": [
      "lendo arquivo:  42\n"
     ]
    },
    {
     "name": "stderr",
     "output_type": "stream",
     "text": [
      "C:\\Users\\gusge\\AppData\\Local\\Temp\\ipykernel_8060\\2440456843.py:10: FutureWarning: The provided callable <function min at 0x0000024E7E93C790> is currently using SeriesGroupBy.min. In a future version of pandas, the provided callable will be used directly. To keep current behavior pass the string \"min\" instead.\n",
      "  first_user_commit_by_chunks.append( df_commit.groupby([\"author_id\"], as_index=False).agg({\"created_at\": np.min}))\n"
     ]
    },
    {
     "name": "stdout",
     "output_type": "stream",
     "text": [
      "lendo arquivo:  43\n"
     ]
    },
    {
     "name": "stderr",
     "output_type": "stream",
     "text": [
      "C:\\Users\\gusge\\AppData\\Local\\Temp\\ipykernel_8060\\2440456843.py:10: FutureWarning: The provided callable <function min at 0x0000024E7E93C790> is currently using SeriesGroupBy.min. In a future version of pandas, the provided callable will be used directly. To keep current behavior pass the string \"min\" instead.\n",
      "  first_user_commit_by_chunks.append( df_commit.groupby([\"author_id\"], as_index=False).agg({\"created_at\": np.min}))\n"
     ]
    },
    {
     "name": "stdout",
     "output_type": "stream",
     "text": [
      "lendo arquivo:  44\n"
     ]
    },
    {
     "name": "stderr",
     "output_type": "stream",
     "text": [
      "C:\\Users\\gusge\\AppData\\Local\\Temp\\ipykernel_8060\\2440456843.py:10: FutureWarning: The provided callable <function min at 0x0000024E7E93C790> is currently using SeriesGroupBy.min. In a future version of pandas, the provided callable will be used directly. To keep current behavior pass the string \"min\" instead.\n",
      "  first_user_commit_by_chunks.append( df_commit.groupby([\"author_id\"], as_index=False).agg({\"created_at\": np.min}))\n"
     ]
    },
    {
     "name": "stdout",
     "output_type": "stream",
     "text": [
      "lendo arquivo:  45\n"
     ]
    },
    {
     "name": "stderr",
     "output_type": "stream",
     "text": [
      "C:\\Users\\gusge\\AppData\\Local\\Temp\\ipykernel_8060\\2440456843.py:10: FutureWarning: The provided callable <function min at 0x0000024E7E93C790> is currently using SeriesGroupBy.min. In a future version of pandas, the provided callable will be used directly. To keep current behavior pass the string \"min\" instead.\n",
      "  first_user_commit_by_chunks.append( df_commit.groupby([\"author_id\"], as_index=False).agg({\"created_at\": np.min}))\n"
     ]
    },
    {
     "name": "stdout",
     "output_type": "stream",
     "text": [
      "lendo arquivo:  46\n"
     ]
    },
    {
     "name": "stderr",
     "output_type": "stream",
     "text": [
      "C:\\Users\\gusge\\AppData\\Local\\Temp\\ipykernel_8060\\2440456843.py:10: FutureWarning: The provided callable <function min at 0x0000024E7E93C790> is currently using SeriesGroupBy.min. In a future version of pandas, the provided callable will be used directly. To keep current behavior pass the string \"min\" instead.\n",
      "  first_user_commit_by_chunks.append( df_commit.groupby([\"author_id\"], as_index=False).agg({\"created_at\": np.min}))\n"
     ]
    },
    {
     "name": "stdout",
     "output_type": "stream",
     "text": [
      "lendo arquivo:  47\n"
     ]
    },
    {
     "name": "stderr",
     "output_type": "stream",
     "text": [
      "C:\\Users\\gusge\\AppData\\Local\\Temp\\ipykernel_8060\\2440456843.py:10: FutureWarning: The provided callable <function min at 0x0000024E7E93C790> is currently using SeriesGroupBy.min. In a future version of pandas, the provided callable will be used directly. To keep current behavior pass the string \"min\" instead.\n",
      "  first_user_commit_by_chunks.append( df_commit.groupby([\"author_id\"], as_index=False).agg({\"created_at\": np.min}))\n"
     ]
    },
    {
     "name": "stdout",
     "output_type": "stream",
     "text": [
      "lendo arquivo:  48\n"
     ]
    },
    {
     "name": "stderr",
     "output_type": "stream",
     "text": [
      "C:\\Users\\gusge\\AppData\\Local\\Temp\\ipykernel_8060\\2440456843.py:10: FutureWarning: The provided callable <function min at 0x0000024E7E93C790> is currently using SeriesGroupBy.min. In a future version of pandas, the provided callable will be used directly. To keep current behavior pass the string \"min\" instead.\n",
      "  first_user_commit_by_chunks.append( df_commit.groupby([\"author_id\"], as_index=False).agg({\"created_at\": np.min}))\n"
     ]
    },
    {
     "name": "stdout",
     "output_type": "stream",
     "text": [
      "lendo arquivo:  49\n"
     ]
    },
    {
     "name": "stderr",
     "output_type": "stream",
     "text": [
      "C:\\Users\\gusge\\AppData\\Local\\Temp\\ipykernel_8060\\2440456843.py:10: FutureWarning: The provided callable <function min at 0x0000024E7E93C790> is currently using SeriesGroupBy.min. In a future version of pandas, the provided callable will be used directly. To keep current behavior pass the string \"min\" instead.\n",
      "  first_user_commit_by_chunks.append( df_commit.groupby([\"author_id\"], as_index=False).agg({\"created_at\": np.min}))\n"
     ]
    },
    {
     "name": "stdout",
     "output_type": "stream",
     "text": [
      "lendo arquivo:  50\n"
     ]
    },
    {
     "name": "stderr",
     "output_type": "stream",
     "text": [
      "C:\\Users\\gusge\\AppData\\Local\\Temp\\ipykernel_8060\\2440456843.py:10: FutureWarning: The provided callable <function min at 0x0000024E7E93C790> is currently using SeriesGroupBy.min. In a future version of pandas, the provided callable will be used directly. To keep current behavior pass the string \"min\" instead.\n",
      "  first_user_commit_by_chunks.append( df_commit.groupby([\"author_id\"], as_index=False).agg({\"created_at\": np.min}))\n"
     ]
    },
    {
     "name": "stdout",
     "output_type": "stream",
     "text": [
      "lendo arquivo:  51\n"
     ]
    },
    {
     "name": "stderr",
     "output_type": "stream",
     "text": [
      "C:\\Users\\gusge\\AppData\\Local\\Temp\\ipykernel_8060\\2440456843.py:10: FutureWarning: The provided callable <function min at 0x0000024E7E93C790> is currently using SeriesGroupBy.min. In a future version of pandas, the provided callable will be used directly. To keep current behavior pass the string \"min\" instead.\n",
      "  first_user_commit_by_chunks.append( df_commit.groupby([\"author_id\"], as_index=False).agg({\"created_at\": np.min}))\n"
     ]
    },
    {
     "name": "stdout",
     "output_type": "stream",
     "text": [
      "lendo arquivo:  52\n"
     ]
    },
    {
     "name": "stderr",
     "output_type": "stream",
     "text": [
      "C:\\Users\\gusge\\AppData\\Local\\Temp\\ipykernel_8060\\2440456843.py:10: FutureWarning: The provided callable <function min at 0x0000024E7E93C790> is currently using SeriesGroupBy.min. In a future version of pandas, the provided callable will be used directly. To keep current behavior pass the string \"min\" instead.\n",
      "  first_user_commit_by_chunks.append( df_commit.groupby([\"author_id\"], as_index=False).agg({\"created_at\": np.min}))\n"
     ]
    },
    {
     "name": "stdout",
     "output_type": "stream",
     "text": [
      "lendo arquivo:  53\n"
     ]
    },
    {
     "name": "stderr",
     "output_type": "stream",
     "text": [
      "C:\\Users\\gusge\\AppData\\Local\\Temp\\ipykernel_8060\\2440456843.py:10: FutureWarning: The provided callable <function min at 0x0000024E7E93C790> is currently using SeriesGroupBy.min. In a future version of pandas, the provided callable will be used directly. To keep current behavior pass the string \"min\" instead.\n",
      "  first_user_commit_by_chunks.append( df_commit.groupby([\"author_id\"], as_index=False).agg({\"created_at\": np.min}))\n"
     ]
    },
    {
     "name": "stdout",
     "output_type": "stream",
     "text": [
      "lendo arquivo:  54\n"
     ]
    },
    {
     "name": "stderr",
     "output_type": "stream",
     "text": [
      "C:\\Users\\gusge\\AppData\\Local\\Temp\\ipykernel_8060\\2440456843.py:10: FutureWarning: The provided callable <function min at 0x0000024E7E93C790> is currently using SeriesGroupBy.min. In a future version of pandas, the provided callable will be used directly. To keep current behavior pass the string \"min\" instead.\n",
      "  first_user_commit_by_chunks.append( df_commit.groupby([\"author_id\"], as_index=False).agg({\"created_at\": np.min}))\n"
     ]
    },
    {
     "name": "stdout",
     "output_type": "stream",
     "text": [
      "lendo arquivo:  55\n"
     ]
    },
    {
     "name": "stderr",
     "output_type": "stream",
     "text": [
      "C:\\Users\\gusge\\AppData\\Local\\Temp\\ipykernel_8060\\2440456843.py:10: FutureWarning: The provided callable <function min at 0x0000024E7E93C790> is currently using SeriesGroupBy.min. In a future version of pandas, the provided callable will be used directly. To keep current behavior pass the string \"min\" instead.\n",
      "  first_user_commit_by_chunks.append( df_commit.groupby([\"author_id\"], as_index=False).agg({\"created_at\": np.min}))\n"
     ]
    },
    {
     "name": "stdout",
     "output_type": "stream",
     "text": [
      "lendo arquivo:  56\n"
     ]
    },
    {
     "name": "stderr",
     "output_type": "stream",
     "text": [
      "C:\\Users\\gusge\\AppData\\Local\\Temp\\ipykernel_8060\\2440456843.py:10: FutureWarning: The provided callable <function min at 0x0000024E7E93C790> is currently using SeriesGroupBy.min. In a future version of pandas, the provided callable will be used directly. To keep current behavior pass the string \"min\" instead.\n",
      "  first_user_commit_by_chunks.append( df_commit.groupby([\"author_id\"], as_index=False).agg({\"created_at\": np.min}))\n"
     ]
    },
    {
     "name": "stdout",
     "output_type": "stream",
     "text": [
      "lendo arquivo:  57\n"
     ]
    },
    {
     "name": "stderr",
     "output_type": "stream",
     "text": [
      "C:\\Users\\gusge\\AppData\\Local\\Temp\\ipykernel_8060\\2440456843.py:10: FutureWarning: The provided callable <function min at 0x0000024E7E93C790> is currently using SeriesGroupBy.min. In a future version of pandas, the provided callable will be used directly. To keep current behavior pass the string \"min\" instead.\n",
      "  first_user_commit_by_chunks.append( df_commit.groupby([\"author_id\"], as_index=False).agg({\"created_at\": np.min}))\n"
     ]
    },
    {
     "name": "stdout",
     "output_type": "stream",
     "text": [
      "lendo arquivo:  58\n"
     ]
    },
    {
     "name": "stderr",
     "output_type": "stream",
     "text": [
      "C:\\Users\\gusge\\AppData\\Local\\Temp\\ipykernel_8060\\2440456843.py:10: FutureWarning: The provided callable <function min at 0x0000024E7E93C790> is currently using SeriesGroupBy.min. In a future version of pandas, the provided callable will be used directly. To keep current behavior pass the string \"min\" instead.\n",
      "  first_user_commit_by_chunks.append( df_commit.groupby([\"author_id\"], as_index=False).agg({\"created_at\": np.min}))\n"
     ]
    },
    {
     "name": "stdout",
     "output_type": "stream",
     "text": [
      "lendo arquivo:  59\n"
     ]
    },
    {
     "name": "stderr",
     "output_type": "stream",
     "text": [
      "C:\\Users\\gusge\\AppData\\Local\\Temp\\ipykernel_8060\\2440456843.py:10: FutureWarning: The provided callable <function min at 0x0000024E7E93C790> is currently using SeriesGroupBy.min. In a future version of pandas, the provided callable will be used directly. To keep current behavior pass the string \"min\" instead.\n",
      "  first_user_commit_by_chunks.append( df_commit.groupby([\"author_id\"], as_index=False).agg({\"created_at\": np.min}))\n"
     ]
    },
    {
     "name": "stdout",
     "output_type": "stream",
     "text": [
      "lendo arquivo:  60\n"
     ]
    },
    {
     "name": "stderr",
     "output_type": "stream",
     "text": [
      "C:\\Users\\gusge\\AppData\\Local\\Temp\\ipykernel_8060\\2440456843.py:10: FutureWarning: The provided callable <function min at 0x0000024E7E93C790> is currently using SeriesGroupBy.min. In a future version of pandas, the provided callable will be used directly. To keep current behavior pass the string \"min\" instead.\n",
      "  first_user_commit_by_chunks.append( df_commit.groupby([\"author_id\"], as_index=False).agg({\"created_at\": np.min}))\n"
     ]
    },
    {
     "name": "stdout",
     "output_type": "stream",
     "text": [
      "lendo arquivo:  61\n"
     ]
    },
    {
     "name": "stderr",
     "output_type": "stream",
     "text": [
      "C:\\Users\\gusge\\AppData\\Local\\Temp\\ipykernel_8060\\2440456843.py:10: FutureWarning: The provided callable <function min at 0x0000024E7E93C790> is currently using SeriesGroupBy.min. In a future version of pandas, the provided callable will be used directly. To keep current behavior pass the string \"min\" instead.\n",
      "  first_user_commit_by_chunks.append( df_commit.groupby([\"author_id\"], as_index=False).agg({\"created_at\": np.min}))\n"
     ]
    },
    {
     "name": "stdout",
     "output_type": "stream",
     "text": [
      "lendo arquivo:  62\n"
     ]
    },
    {
     "name": "stderr",
     "output_type": "stream",
     "text": [
      "C:\\Users\\gusge\\AppData\\Local\\Temp\\ipykernel_8060\\2440456843.py:10: FutureWarning: The provided callable <function min at 0x0000024E7E93C790> is currently using SeriesGroupBy.min. In a future version of pandas, the provided callable will be used directly. To keep current behavior pass the string \"min\" instead.\n",
      "  first_user_commit_by_chunks.append( df_commit.groupby([\"author_id\"], as_index=False).agg({\"created_at\": np.min}))\n"
     ]
    },
    {
     "name": "stdout",
     "output_type": "stream",
     "text": [
      "lendo arquivo:  63\n"
     ]
    },
    {
     "name": "stderr",
     "output_type": "stream",
     "text": [
      "C:\\Users\\gusge\\AppData\\Local\\Temp\\ipykernel_8060\\2440456843.py:10: FutureWarning: The provided callable <function min at 0x0000024E7E93C790> is currently using SeriesGroupBy.min. In a future version of pandas, the provided callable will be used directly. To keep current behavior pass the string \"min\" instead.\n",
      "  first_user_commit_by_chunks.append( df_commit.groupby([\"author_id\"], as_index=False).agg({\"created_at\": np.min}))\n"
     ]
    },
    {
     "name": "stdout",
     "output_type": "stream",
     "text": [
      "lendo arquivo:  64\n"
     ]
    },
    {
     "name": "stderr",
     "output_type": "stream",
     "text": [
      "C:\\Users\\gusge\\AppData\\Local\\Temp\\ipykernel_8060\\2440456843.py:10: FutureWarning: The provided callable <function min at 0x0000024E7E93C790> is currently using SeriesGroupBy.min. In a future version of pandas, the provided callable will be used directly. To keep current behavior pass the string \"min\" instead.\n",
      "  first_user_commit_by_chunks.append( df_commit.groupby([\"author_id\"], as_index=False).agg({\"created_at\": np.min}))\n"
     ]
    },
    {
     "name": "stdout",
     "output_type": "stream",
     "text": [
      "lendo arquivo:  65\n"
     ]
    },
    {
     "name": "stderr",
     "output_type": "stream",
     "text": [
      "C:\\Users\\gusge\\AppData\\Local\\Temp\\ipykernel_8060\\2440456843.py:10: FutureWarning: The provided callable <function min at 0x0000024E7E93C790> is currently using SeriesGroupBy.min. In a future version of pandas, the provided callable will be used directly. To keep current behavior pass the string \"min\" instead.\n",
      "  first_user_commit_by_chunks.append( df_commit.groupby([\"author_id\"], as_index=False).agg({\"created_at\": np.min}))\n"
     ]
    },
    {
     "name": "stdout",
     "output_type": "stream",
     "text": [
      "lendo arquivo:  66\n"
     ]
    },
    {
     "name": "stderr",
     "output_type": "stream",
     "text": [
      "C:\\Users\\gusge\\AppData\\Local\\Temp\\ipykernel_8060\\2440456843.py:10: FutureWarning: The provided callable <function min at 0x0000024E7E93C790> is currently using SeriesGroupBy.min. In a future version of pandas, the provided callable will be used directly. To keep current behavior pass the string \"min\" instead.\n",
      "  first_user_commit_by_chunks.append( df_commit.groupby([\"author_id\"], as_index=False).agg({\"created_at\": np.min}))\n"
     ]
    },
    {
     "name": "stdout",
     "output_type": "stream",
     "text": [
      "lendo arquivo:  67\n"
     ]
    },
    {
     "name": "stderr",
     "output_type": "stream",
     "text": [
      "C:\\Users\\gusge\\AppData\\Local\\Temp\\ipykernel_8060\\2440456843.py:10: FutureWarning: The provided callable <function min at 0x0000024E7E93C790> is currently using SeriesGroupBy.min. In a future version of pandas, the provided callable will be used directly. To keep current behavior pass the string \"min\" instead.\n",
      "  first_user_commit_by_chunks.append( df_commit.groupby([\"author_id\"], as_index=False).agg({\"created_at\": np.min}))\n"
     ]
    },
    {
     "name": "stdout",
     "output_type": "stream",
     "text": [
      "lendo arquivo:  68\n"
     ]
    },
    {
     "name": "stderr",
     "output_type": "stream",
     "text": [
      "C:\\Users\\gusge\\AppData\\Local\\Temp\\ipykernel_8060\\2440456843.py:10: FutureWarning: The provided callable <function min at 0x0000024E7E93C790> is currently using SeriesGroupBy.min. In a future version of pandas, the provided callable will be used directly. To keep current behavior pass the string \"min\" instead.\n",
      "  first_user_commit_by_chunks.append( df_commit.groupby([\"author_id\"], as_index=False).agg({\"created_at\": np.min}))\n"
     ]
    },
    {
     "name": "stdout",
     "output_type": "stream",
     "text": [
      "lendo arquivo:  69\n"
     ]
    },
    {
     "name": "stderr",
     "output_type": "stream",
     "text": [
      "C:\\Users\\gusge\\AppData\\Local\\Temp\\ipykernel_8060\\2440456843.py:10: FutureWarning: The provided callable <function min at 0x0000024E7E93C790> is currently using SeriesGroupBy.min. In a future version of pandas, the provided callable will be used directly. To keep current behavior pass the string \"min\" instead.\n",
      "  first_user_commit_by_chunks.append( df_commit.groupby([\"author_id\"], as_index=False).agg({\"created_at\": np.min}))\n"
     ]
    },
    {
     "name": "stdout",
     "output_type": "stream",
     "text": [
      "lendo arquivo:  70\n"
     ]
    },
    {
     "name": "stderr",
     "output_type": "stream",
     "text": [
      "C:\\Users\\gusge\\AppData\\Local\\Temp\\ipykernel_8060\\2440456843.py:10: FutureWarning: The provided callable <function min at 0x0000024E7E93C790> is currently using SeriesGroupBy.min. In a future version of pandas, the provided callable will be used directly. To keep current behavior pass the string \"min\" instead.\n",
      "  first_user_commit_by_chunks.append( df_commit.groupby([\"author_id\"], as_index=False).agg({\"created_at\": np.min}))\n"
     ]
    },
    {
     "name": "stdout",
     "output_type": "stream",
     "text": [
      "lendo arquivo:  71\n"
     ]
    },
    {
     "name": "stderr",
     "output_type": "stream",
     "text": [
      "C:\\Users\\gusge\\AppData\\Local\\Temp\\ipykernel_8060\\2440456843.py:10: FutureWarning: The provided callable <function min at 0x0000024E7E93C790> is currently using SeriesGroupBy.min. In a future version of pandas, the provided callable will be used directly. To keep current behavior pass the string \"min\" instead.\n",
      "  first_user_commit_by_chunks.append( df_commit.groupby([\"author_id\"], as_index=False).agg({\"created_at\": np.min}))\n"
     ]
    },
    {
     "name": "stdout",
     "output_type": "stream",
     "text": [
      "lendo arquivo:  72\n"
     ]
    },
    {
     "name": "stderr",
     "output_type": "stream",
     "text": [
      "C:\\Users\\gusge\\AppData\\Local\\Temp\\ipykernel_8060\\2440456843.py:10: FutureWarning: The provided callable <function min at 0x0000024E7E93C790> is currently using SeriesGroupBy.min. In a future version of pandas, the provided callable will be used directly. To keep current behavior pass the string \"min\" instead.\n",
      "  first_user_commit_by_chunks.append( df_commit.groupby([\"author_id\"], as_index=False).agg({\"created_at\": np.min}))\n"
     ]
    },
    {
     "name": "stdout",
     "output_type": "stream",
     "text": [
      "lendo arquivo:  73\n"
     ]
    },
    {
     "name": "stderr",
     "output_type": "stream",
     "text": [
      "C:\\Users\\gusge\\AppData\\Local\\Temp\\ipykernel_8060\\2440456843.py:10: FutureWarning: The provided callable <function min at 0x0000024E7E93C790> is currently using SeriesGroupBy.min. In a future version of pandas, the provided callable will be used directly. To keep current behavior pass the string \"min\" instead.\n",
      "  first_user_commit_by_chunks.append( df_commit.groupby([\"author_id\"], as_index=False).agg({\"created_at\": np.min}))\n"
     ]
    },
    {
     "name": "stdout",
     "output_type": "stream",
     "text": [
      "lendo arquivo:  74\n"
     ]
    },
    {
     "name": "stderr",
     "output_type": "stream",
     "text": [
      "C:\\Users\\gusge\\AppData\\Local\\Temp\\ipykernel_8060\\2440456843.py:10: FutureWarning: The provided callable <function min at 0x0000024E7E93C790> is currently using SeriesGroupBy.min. In a future version of pandas, the provided callable will be used directly. To keep current behavior pass the string \"min\" instead.\n",
      "  first_user_commit_by_chunks.append( df_commit.groupby([\"author_id\"], as_index=False).agg({\"created_at\": np.min}))\n"
     ]
    },
    {
     "name": "stdout",
     "output_type": "stream",
     "text": [
      "lendo arquivo:  75\n"
     ]
    },
    {
     "name": "stderr",
     "output_type": "stream",
     "text": [
      "C:\\Users\\gusge\\AppData\\Local\\Temp\\ipykernel_8060\\2440456843.py:10: FutureWarning: The provided callable <function min at 0x0000024E7E93C790> is currently using SeriesGroupBy.min. In a future version of pandas, the provided callable will be used directly. To keep current behavior pass the string \"min\" instead.\n",
      "  first_user_commit_by_chunks.append( df_commit.groupby([\"author_id\"], as_index=False).agg({\"created_at\": np.min}))\n"
     ]
    },
    {
     "name": "stdout",
     "output_type": "stream",
     "text": [
      "lendo arquivo:  76\n"
     ]
    },
    {
     "name": "stderr",
     "output_type": "stream",
     "text": [
      "C:\\Users\\gusge\\AppData\\Local\\Temp\\ipykernel_8060\\2440456843.py:10: FutureWarning: The provided callable <function min at 0x0000024E7E93C790> is currently using SeriesGroupBy.min. In a future version of pandas, the provided callable will be used directly. To keep current behavior pass the string \"min\" instead.\n",
      "  first_user_commit_by_chunks.append( df_commit.groupby([\"author_id\"], as_index=False).agg({\"created_at\": np.min}))\n"
     ]
    },
    {
     "name": "stdout",
     "output_type": "stream",
     "text": [
      "lendo arquivo:  77\n"
     ]
    },
    {
     "name": "stderr",
     "output_type": "stream",
     "text": [
      "C:\\Users\\gusge\\AppData\\Local\\Temp\\ipykernel_8060\\2440456843.py:10: FutureWarning: The provided callable <function min at 0x0000024E7E93C790> is currently using SeriesGroupBy.min. In a future version of pandas, the provided callable will be used directly. To keep current behavior pass the string \"min\" instead.\n",
      "  first_user_commit_by_chunks.append( df_commit.groupby([\"author_id\"], as_index=False).agg({\"created_at\": np.min}))\n"
     ]
    },
    {
     "name": "stdout",
     "output_type": "stream",
     "text": [
      "lendo arquivo:  78\n"
     ]
    },
    {
     "name": "stderr",
     "output_type": "stream",
     "text": [
      "C:\\Users\\gusge\\AppData\\Local\\Temp\\ipykernel_8060\\2440456843.py:10: FutureWarning: The provided callable <function min at 0x0000024E7E93C790> is currently using SeriesGroupBy.min. In a future version of pandas, the provided callable will be used directly. To keep current behavior pass the string \"min\" instead.\n",
      "  first_user_commit_by_chunks.append( df_commit.groupby([\"author_id\"], as_index=False).agg({\"created_at\": np.min}))\n"
     ]
    },
    {
     "name": "stdout",
     "output_type": "stream",
     "text": [
      "lendo arquivo:  79\n"
     ]
    },
    {
     "name": "stderr",
     "output_type": "stream",
     "text": [
      "C:\\Users\\gusge\\AppData\\Local\\Temp\\ipykernel_8060\\2440456843.py:10: FutureWarning: The provided callable <function min at 0x0000024E7E93C790> is currently using SeriesGroupBy.min. In a future version of pandas, the provided callable will be used directly. To keep current behavior pass the string \"min\" instead.\n",
      "  first_user_commit_by_chunks.append( df_commit.groupby([\"author_id\"], as_index=False).agg({\"created_at\": np.min}))\n"
     ]
    },
    {
     "name": "stdout",
     "output_type": "stream",
     "text": [
      "lendo arquivo:  80\n"
     ]
    },
    {
     "name": "stderr",
     "output_type": "stream",
     "text": [
      "C:\\Users\\gusge\\AppData\\Local\\Temp\\ipykernel_8060\\2440456843.py:10: FutureWarning: The provided callable <function min at 0x0000024E7E93C790> is currently using SeriesGroupBy.min. In a future version of pandas, the provided callable will be used directly. To keep current behavior pass the string \"min\" instead.\n",
      "  first_user_commit_by_chunks.append( df_commit.groupby([\"author_id\"], as_index=False).agg({\"created_at\": np.min}))\n"
     ]
    },
    {
     "name": "stdout",
     "output_type": "stream",
     "text": [
      "lendo arquivo:  81\n"
     ]
    },
    {
     "name": "stderr",
     "output_type": "stream",
     "text": [
      "C:\\Users\\gusge\\AppData\\Local\\Temp\\ipykernel_8060\\2440456843.py:10: FutureWarning: The provided callable <function min at 0x0000024E7E93C790> is currently using SeriesGroupBy.min. In a future version of pandas, the provided callable will be used directly. To keep current behavior pass the string \"min\" instead.\n",
      "  first_user_commit_by_chunks.append( df_commit.groupby([\"author_id\"], as_index=False).agg({\"created_at\": np.min}))\n"
     ]
    },
    {
     "name": "stdout",
     "output_type": "stream",
     "text": [
      "lendo arquivo:  82\n"
     ]
    },
    {
     "name": "stderr",
     "output_type": "stream",
     "text": [
      "C:\\Users\\gusge\\AppData\\Local\\Temp\\ipykernel_8060\\2440456843.py:10: FutureWarning: The provided callable <function min at 0x0000024E7E93C790> is currently using SeriesGroupBy.min. In a future version of pandas, the provided callable will be used directly. To keep current behavior pass the string \"min\" instead.\n",
      "  first_user_commit_by_chunks.append( df_commit.groupby([\"author_id\"], as_index=False).agg({\"created_at\": np.min}))\n"
     ]
    },
    {
     "name": "stdout",
     "output_type": "stream",
     "text": [
      "lendo arquivo:  83\n"
     ]
    },
    {
     "name": "stderr",
     "output_type": "stream",
     "text": [
      "C:\\Users\\gusge\\AppData\\Local\\Temp\\ipykernel_8060\\2440456843.py:10: FutureWarning: The provided callable <function min at 0x0000024E7E93C790> is currently using SeriesGroupBy.min. In a future version of pandas, the provided callable will be used directly. To keep current behavior pass the string \"min\" instead.\n",
      "  first_user_commit_by_chunks.append( df_commit.groupby([\"author_id\"], as_index=False).agg({\"created_at\": np.min}))\n"
     ]
    },
    {
     "name": "stdout",
     "output_type": "stream",
     "text": [
      "lendo arquivo:  84\n"
     ]
    },
    {
     "name": "stderr",
     "output_type": "stream",
     "text": [
      "C:\\Users\\gusge\\AppData\\Local\\Temp\\ipykernel_8060\\2440456843.py:10: FutureWarning: The provided callable <function min at 0x0000024E7E93C790> is currently using SeriesGroupBy.min. In a future version of pandas, the provided callable will be used directly. To keep current behavior pass the string \"min\" instead.\n",
      "  first_user_commit_by_chunks.append( df_commit.groupby([\"author_id\"], as_index=False).agg({\"created_at\": np.min}))\n"
     ]
    },
    {
     "name": "stdout",
     "output_type": "stream",
     "text": [
      "lendo arquivo:  85\n"
     ]
    },
    {
     "name": "stderr",
     "output_type": "stream",
     "text": [
      "C:\\Users\\gusge\\AppData\\Local\\Temp\\ipykernel_8060\\2440456843.py:10: FutureWarning: The provided callable <function min at 0x0000024E7E93C790> is currently using SeriesGroupBy.min. In a future version of pandas, the provided callable will be used directly. To keep current behavior pass the string \"min\" instead.\n",
      "  first_user_commit_by_chunks.append( df_commit.groupby([\"author_id\"], as_index=False).agg({\"created_at\": np.min}))\n"
     ]
    },
    {
     "name": "stdout",
     "output_type": "stream",
     "text": [
      "lendo arquivo:  86\n"
     ]
    },
    {
     "name": "stderr",
     "output_type": "stream",
     "text": [
      "C:\\Users\\gusge\\AppData\\Local\\Temp\\ipykernel_8060\\2440456843.py:10: FutureWarning: The provided callable <function min at 0x0000024E7E93C790> is currently using SeriesGroupBy.min. In a future version of pandas, the provided callable will be used directly. To keep current behavior pass the string \"min\" instead.\n",
      "  first_user_commit_by_chunks.append( df_commit.groupby([\"author_id\"], as_index=False).agg({\"created_at\": np.min}))\n"
     ]
    },
    {
     "name": "stdout",
     "output_type": "stream",
     "text": [
      "lendo arquivo:  87\n"
     ]
    },
    {
     "name": "stderr",
     "output_type": "stream",
     "text": [
      "C:\\Users\\gusge\\AppData\\Local\\Temp\\ipykernel_8060\\2440456843.py:10: FutureWarning: The provided callable <function min at 0x0000024E7E93C790> is currently using SeriesGroupBy.min. In a future version of pandas, the provided callable will be used directly. To keep current behavior pass the string \"min\" instead.\n",
      "  first_user_commit_by_chunks.append( df_commit.groupby([\"author_id\"], as_index=False).agg({\"created_at\": np.min}))\n"
     ]
    },
    {
     "name": "stdout",
     "output_type": "stream",
     "text": [
      "lendo arquivo:  88\n"
     ]
    },
    {
     "name": "stderr",
     "output_type": "stream",
     "text": [
      "C:\\Users\\gusge\\AppData\\Local\\Temp\\ipykernel_8060\\2440456843.py:10: FutureWarning: The provided callable <function min at 0x0000024E7E93C790> is currently using SeriesGroupBy.min. In a future version of pandas, the provided callable will be used directly. To keep current behavior pass the string \"min\" instead.\n",
      "  first_user_commit_by_chunks.append( df_commit.groupby([\"author_id\"], as_index=False).agg({\"created_at\": np.min}))\n"
     ]
    },
    {
     "name": "stdout",
     "output_type": "stream",
     "text": [
      "lendo arquivo:  89\n"
     ]
    },
    {
     "name": "stderr",
     "output_type": "stream",
     "text": [
      "C:\\Users\\gusge\\AppData\\Local\\Temp\\ipykernel_8060\\2440456843.py:10: FutureWarning: The provided callable <function min at 0x0000024E7E93C790> is currently using SeriesGroupBy.min. In a future version of pandas, the provided callable will be used directly. To keep current behavior pass the string \"min\" instead.\n",
      "  first_user_commit_by_chunks.append( df_commit.groupby([\"author_id\"], as_index=False).agg({\"created_at\": np.min}))\n"
     ]
    },
    {
     "name": "stdout",
     "output_type": "stream",
     "text": [
      "lendo arquivo:  90\n"
     ]
    },
    {
     "name": "stderr",
     "output_type": "stream",
     "text": [
      "C:\\Users\\gusge\\AppData\\Local\\Temp\\ipykernel_8060\\2440456843.py:10: FutureWarning: The provided callable <function min at 0x0000024E7E93C790> is currently using SeriesGroupBy.min. In a future version of pandas, the provided callable will be used directly. To keep current behavior pass the string \"min\" instead.\n",
      "  first_user_commit_by_chunks.append( df_commit.groupby([\"author_id\"], as_index=False).agg({\"created_at\": np.min}))\n"
     ]
    },
    {
     "name": "stdout",
     "output_type": "stream",
     "text": [
      "lendo arquivo:  91\n"
     ]
    },
    {
     "name": "stderr",
     "output_type": "stream",
     "text": [
      "C:\\Users\\gusge\\AppData\\Local\\Temp\\ipykernel_8060\\2440456843.py:10: FutureWarning: The provided callable <function min at 0x0000024E7E93C790> is currently using SeriesGroupBy.min. In a future version of pandas, the provided callable will be used directly. To keep current behavior pass the string \"min\" instead.\n",
      "  first_user_commit_by_chunks.append( df_commit.groupby([\"author_id\"], as_index=False).agg({\"created_at\": np.min}))\n"
     ]
    },
    {
     "name": "stdout",
     "output_type": "stream",
     "text": [
      "lendo arquivo:  92\n"
     ]
    },
    {
     "name": "stderr",
     "output_type": "stream",
     "text": [
      "C:\\Users\\gusge\\AppData\\Local\\Temp\\ipykernel_8060\\2440456843.py:10: FutureWarning: The provided callable <function min at 0x0000024E7E93C790> is currently using SeriesGroupBy.min. In a future version of pandas, the provided callable will be used directly. To keep current behavior pass the string \"min\" instead.\n",
      "  first_user_commit_by_chunks.append( df_commit.groupby([\"author_id\"], as_index=False).agg({\"created_at\": np.min}))\n"
     ]
    },
    {
     "name": "stdout",
     "output_type": "stream",
     "text": [
      "lendo arquivo:  93\n"
     ]
    },
    {
     "name": "stderr",
     "output_type": "stream",
     "text": [
      "C:\\Users\\gusge\\AppData\\Local\\Temp\\ipykernel_8060\\2440456843.py:10: FutureWarning: The provided callable <function min at 0x0000024E7E93C790> is currently using SeriesGroupBy.min. In a future version of pandas, the provided callable will be used directly. To keep current behavior pass the string \"min\" instead.\n",
      "  first_user_commit_by_chunks.append( df_commit.groupby([\"author_id\"], as_index=False).agg({\"created_at\": np.min}))\n"
     ]
    },
    {
     "name": "stdout",
     "output_type": "stream",
     "text": [
      "lendo arquivo:  94\n"
     ]
    },
    {
     "name": "stderr",
     "output_type": "stream",
     "text": [
      "C:\\Users\\gusge\\AppData\\Local\\Temp\\ipykernel_8060\\2440456843.py:10: FutureWarning: The provided callable <function min at 0x0000024E7E93C790> is currently using SeriesGroupBy.min. In a future version of pandas, the provided callable will be used directly. To keep current behavior pass the string \"min\" instead.\n",
      "  first_user_commit_by_chunks.append( df_commit.groupby([\"author_id\"], as_index=False).agg({\"created_at\": np.min}))\n"
     ]
    },
    {
     "name": "stdout",
     "output_type": "stream",
     "text": [
      "lendo arquivo:  95\n"
     ]
    },
    {
     "name": "stderr",
     "output_type": "stream",
     "text": [
      "C:\\Users\\gusge\\AppData\\Local\\Temp\\ipykernel_8060\\2440456843.py:10: FutureWarning: The provided callable <function min at 0x0000024E7E93C790> is currently using SeriesGroupBy.min. In a future version of pandas, the provided callable will be used directly. To keep current behavior pass the string \"min\" instead.\n",
      "  first_user_commit_by_chunks.append( df_commit.groupby([\"author_id\"], as_index=False).agg({\"created_at\": np.min}))\n"
     ]
    },
    {
     "name": "stdout",
     "output_type": "stream",
     "text": [
      "lendo arquivo:  96\n"
     ]
    },
    {
     "name": "stderr",
     "output_type": "stream",
     "text": [
      "C:\\Users\\gusge\\AppData\\Local\\Temp\\ipykernel_8060\\2440456843.py:10: FutureWarning: The provided callable <function min at 0x0000024E7E93C790> is currently using SeriesGroupBy.min. In a future version of pandas, the provided callable will be used directly. To keep current behavior pass the string \"min\" instead.\n",
      "  first_user_commit_by_chunks.append( df_commit.groupby([\"author_id\"], as_index=False).agg({\"created_at\": np.min}))\n"
     ]
    },
    {
     "name": "stdout",
     "output_type": "stream",
     "text": [
      "lendo arquivo:  97\n"
     ]
    },
    {
     "name": "stderr",
     "output_type": "stream",
     "text": [
      "C:\\Users\\gusge\\AppData\\Local\\Temp\\ipykernel_8060\\2440456843.py:10: FutureWarning: The provided callable <function min at 0x0000024E7E93C790> is currently using SeriesGroupBy.min. In a future version of pandas, the provided callable will be used directly. To keep current behavior pass the string \"min\" instead.\n",
      "  first_user_commit_by_chunks.append( df_commit.groupby([\"author_id\"], as_index=False).agg({\"created_at\": np.min}))\n"
     ]
    },
    {
     "name": "stdout",
     "output_type": "stream",
     "text": [
      "lendo arquivo:  98\n"
     ]
    },
    {
     "name": "stderr",
     "output_type": "stream",
     "text": [
      "C:\\Users\\gusge\\AppData\\Local\\Temp\\ipykernel_8060\\2440456843.py:10: FutureWarning: The provided callable <function min at 0x0000024E7E93C790> is currently using SeriesGroupBy.min. In a future version of pandas, the provided callable will be used directly. To keep current behavior pass the string \"min\" instead.\n",
      "  first_user_commit_by_chunks.append( df_commit.groupby([\"author_id\"], as_index=False).agg({\"created_at\": np.min}))\n"
     ]
    },
    {
     "name": "stdout",
     "output_type": "stream",
     "text": [
      "lendo arquivo:  99\n"
     ]
    },
    {
     "name": "stderr",
     "output_type": "stream",
     "text": [
      "C:\\Users\\gusge\\AppData\\Local\\Temp\\ipykernel_8060\\2440456843.py:10: FutureWarning: The provided callable <function min at 0x0000024E7E93C790> is currently using SeriesGroupBy.min. In a future version of pandas, the provided callable will be used directly. To keep current behavior pass the string \"min\" instead.\n",
      "  first_user_commit_by_chunks.append( df_commit.groupby([\"author_id\"], as_index=False).agg({\"created_at\": np.min}))\n"
     ]
    },
    {
     "name": "stdout",
     "output_type": "stream",
     "text": [
      "lendo arquivo:  100\n"
     ]
    },
    {
     "name": "stderr",
     "output_type": "stream",
     "text": [
      "C:\\Users\\gusge\\AppData\\Local\\Temp\\ipykernel_8060\\2440456843.py:10: FutureWarning: The provided callable <function min at 0x0000024E7E93C790> is currently using SeriesGroupBy.min. In a future version of pandas, the provided callable will be used directly. To keep current behavior pass the string \"min\" instead.\n",
      "  first_user_commit_by_chunks.append( df_commit.groupby([\"author_id\"], as_index=False).agg({\"created_at\": np.min}))\n"
     ]
    },
    {
     "name": "stdout",
     "output_type": "stream",
     "text": [
      "lendo arquivo:  101\n"
     ]
    },
    {
     "name": "stderr",
     "output_type": "stream",
     "text": [
      "C:\\Users\\gusge\\AppData\\Local\\Temp\\ipykernel_8060\\2440456843.py:10: FutureWarning: The provided callable <function min at 0x0000024E7E93C790> is currently using SeriesGroupBy.min. In a future version of pandas, the provided callable will be used directly. To keep current behavior pass the string \"min\" instead.\n",
      "  first_user_commit_by_chunks.append( df_commit.groupby([\"author_id\"], as_index=False).agg({\"created_at\": np.min}))\n"
     ]
    },
    {
     "name": "stdout",
     "output_type": "stream",
     "text": [
      "lendo arquivo:  102\n"
     ]
    },
    {
     "name": "stderr",
     "output_type": "stream",
     "text": [
      "C:\\Users\\gusge\\AppData\\Local\\Temp\\ipykernel_8060\\2440456843.py:10: FutureWarning: The provided callable <function min at 0x0000024E7E93C790> is currently using SeriesGroupBy.min. In a future version of pandas, the provided callable will be used directly. To keep current behavior pass the string \"min\" instead.\n",
      "  first_user_commit_by_chunks.append( df_commit.groupby([\"author_id\"], as_index=False).agg({\"created_at\": np.min}))\n"
     ]
    },
    {
     "name": "stdout",
     "output_type": "stream",
     "text": [
      "lendo arquivo:  103\n"
     ]
    },
    {
     "name": "stderr",
     "output_type": "stream",
     "text": [
      "C:\\Users\\gusge\\AppData\\Local\\Temp\\ipykernel_8060\\2440456843.py:10: FutureWarning: The provided callable <function min at 0x0000024E7E93C790> is currently using SeriesGroupBy.min. In a future version of pandas, the provided callable will be used directly. To keep current behavior pass the string \"min\" instead.\n",
      "  first_user_commit_by_chunks.append( df_commit.groupby([\"author_id\"], as_index=False).agg({\"created_at\": np.min}))\n"
     ]
    },
    {
     "name": "stdout",
     "output_type": "stream",
     "text": [
      "lendo arquivo:  104\n"
     ]
    },
    {
     "name": "stderr",
     "output_type": "stream",
     "text": [
      "C:\\Users\\gusge\\AppData\\Local\\Temp\\ipykernel_8060\\2440456843.py:10: FutureWarning: The provided callable <function min at 0x0000024E7E93C790> is currently using SeriesGroupBy.min. In a future version of pandas, the provided callable will be used directly. To keep current behavior pass the string \"min\" instead.\n",
      "  first_user_commit_by_chunks.append( df_commit.groupby([\"author_id\"], as_index=False).agg({\"created_at\": np.min}))\n"
     ]
    },
    {
     "name": "stdout",
     "output_type": "stream",
     "text": [
      "lendo arquivo:  105\n"
     ]
    },
    {
     "name": "stderr",
     "output_type": "stream",
     "text": [
      "C:\\Users\\gusge\\AppData\\Local\\Temp\\ipykernel_8060\\2440456843.py:10: FutureWarning: The provided callable <function min at 0x0000024E7E93C790> is currently using SeriesGroupBy.min. In a future version of pandas, the provided callable will be used directly. To keep current behavior pass the string \"min\" instead.\n",
      "  first_user_commit_by_chunks.append( df_commit.groupby([\"author_id\"], as_index=False).agg({\"created_at\": np.min}))\n"
     ]
    },
    {
     "name": "stdout",
     "output_type": "stream",
     "text": [
      "lendo arquivo:  106\n"
     ]
    },
    {
     "name": "stderr",
     "output_type": "stream",
     "text": [
      "C:\\Users\\gusge\\AppData\\Local\\Temp\\ipykernel_8060\\2440456843.py:10: FutureWarning: The provided callable <function min at 0x0000024E7E93C790> is currently using SeriesGroupBy.min. In a future version of pandas, the provided callable will be used directly. To keep current behavior pass the string \"min\" instead.\n",
      "  first_user_commit_by_chunks.append( df_commit.groupby([\"author_id\"], as_index=False).agg({\"created_at\": np.min}))\n"
     ]
    },
    {
     "name": "stdout",
     "output_type": "stream",
     "text": [
      "lendo arquivo:  107\n"
     ]
    },
    {
     "name": "stderr",
     "output_type": "stream",
     "text": [
      "C:\\Users\\gusge\\AppData\\Local\\Temp\\ipykernel_8060\\2440456843.py:10: FutureWarning: The provided callable <function min at 0x0000024E7E93C790> is currently using SeriesGroupBy.min. In a future version of pandas, the provided callable will be used directly. To keep current behavior pass the string \"min\" instead.\n",
      "  first_user_commit_by_chunks.append( df_commit.groupby([\"author_id\"], as_index=False).agg({\"created_at\": np.min}))\n"
     ]
    },
    {
     "name": "stdout",
     "output_type": "stream",
     "text": [
      "lendo arquivo:  108\n"
     ]
    },
    {
     "name": "stderr",
     "output_type": "stream",
     "text": [
      "C:\\Users\\gusge\\AppData\\Local\\Temp\\ipykernel_8060\\2440456843.py:10: FutureWarning: The provided callable <function min at 0x0000024E7E93C790> is currently using SeriesGroupBy.min. In a future version of pandas, the provided callable will be used directly. To keep current behavior pass the string \"min\" instead.\n",
      "  first_user_commit_by_chunks.append( df_commit.groupby([\"author_id\"], as_index=False).agg({\"created_at\": np.min}))\n"
     ]
    },
    {
     "name": "stdout",
     "output_type": "stream",
     "text": [
      "lendo arquivo:  109\n"
     ]
    },
    {
     "name": "stderr",
     "output_type": "stream",
     "text": [
      "C:\\Users\\gusge\\AppData\\Local\\Temp\\ipykernel_8060\\2440456843.py:10: FutureWarning: The provided callable <function min at 0x0000024E7E93C790> is currently using SeriesGroupBy.min. In a future version of pandas, the provided callable will be used directly. To keep current behavior pass the string \"min\" instead.\n",
      "  first_user_commit_by_chunks.append( df_commit.groupby([\"author_id\"], as_index=False).agg({\"created_at\": np.min}))\n"
     ]
    },
    {
     "name": "stdout",
     "output_type": "stream",
     "text": [
      "lendo arquivo:  110\n"
     ]
    },
    {
     "name": "stderr",
     "output_type": "stream",
     "text": [
      "C:\\Users\\gusge\\AppData\\Local\\Temp\\ipykernel_8060\\2440456843.py:10: FutureWarning: The provided callable <function min at 0x0000024E7E93C790> is currently using SeriesGroupBy.min. In a future version of pandas, the provided callable will be used directly. To keep current behavior pass the string \"min\" instead.\n",
      "  first_user_commit_by_chunks.append( df_commit.groupby([\"author_id\"], as_index=False).agg({\"created_at\": np.min}))\n"
     ]
    },
    {
     "name": "stdout",
     "output_type": "stream",
     "text": [
      "lendo arquivo:  111\n"
     ]
    },
    {
     "name": "stderr",
     "output_type": "stream",
     "text": [
      "C:\\Users\\gusge\\AppData\\Local\\Temp\\ipykernel_8060\\2440456843.py:10: FutureWarning: The provided callable <function min at 0x0000024E7E93C790> is currently using SeriesGroupBy.min. In a future version of pandas, the provided callable will be used directly. To keep current behavior pass the string \"min\" instead.\n",
      "  first_user_commit_by_chunks.append( df_commit.groupby([\"author_id\"], as_index=False).agg({\"created_at\": np.min}))\n"
     ]
    },
    {
     "name": "stdout",
     "output_type": "stream",
     "text": [
      "lendo arquivo:  112\n"
     ]
    },
    {
     "name": "stderr",
     "output_type": "stream",
     "text": [
      "C:\\Users\\gusge\\AppData\\Local\\Temp\\ipykernel_8060\\2440456843.py:10: FutureWarning: The provided callable <function min at 0x0000024E7E93C790> is currently using SeriesGroupBy.min. In a future version of pandas, the provided callable will be used directly. To keep current behavior pass the string \"min\" instead.\n",
      "  first_user_commit_by_chunks.append( df_commit.groupby([\"author_id\"], as_index=False).agg({\"created_at\": np.min}))\n"
     ]
    },
    {
     "name": "stdout",
     "output_type": "stream",
     "text": [
      "lendo arquivo:  113\n"
     ]
    },
    {
     "name": "stderr",
     "output_type": "stream",
     "text": [
      "C:\\Users\\gusge\\AppData\\Local\\Temp\\ipykernel_8060\\2440456843.py:10: FutureWarning: The provided callable <function min at 0x0000024E7E93C790> is currently using SeriesGroupBy.min. In a future version of pandas, the provided callable will be used directly. To keep current behavior pass the string \"min\" instead.\n",
      "  first_user_commit_by_chunks.append( df_commit.groupby([\"author_id\"], as_index=False).agg({\"created_at\": np.min}))\n"
     ]
    },
    {
     "name": "stdout",
     "output_type": "stream",
     "text": [
      "lendo arquivo:  114\n"
     ]
    },
    {
     "name": "stderr",
     "output_type": "stream",
     "text": [
      "C:\\Users\\gusge\\AppData\\Local\\Temp\\ipykernel_8060\\2440456843.py:10: FutureWarning: The provided callable <function min at 0x0000024E7E93C790> is currently using SeriesGroupBy.min. In a future version of pandas, the provided callable will be used directly. To keep current behavior pass the string \"min\" instead.\n",
      "  first_user_commit_by_chunks.append( df_commit.groupby([\"author_id\"], as_index=False).agg({\"created_at\": np.min}))\n"
     ]
    },
    {
     "name": "stdout",
     "output_type": "stream",
     "text": [
      "lendo arquivo:  115\n"
     ]
    },
    {
     "name": "stderr",
     "output_type": "stream",
     "text": [
      "C:\\Users\\gusge\\AppData\\Local\\Temp\\ipykernel_8060\\2440456843.py:10: FutureWarning: The provided callable <function min at 0x0000024E7E93C790> is currently using SeriesGroupBy.min. In a future version of pandas, the provided callable will be used directly. To keep current behavior pass the string \"min\" instead.\n",
      "  first_user_commit_by_chunks.append( df_commit.groupby([\"author_id\"], as_index=False).agg({\"created_at\": np.min}))\n"
     ]
    },
    {
     "name": "stdout",
     "output_type": "stream",
     "text": [
      "lendo arquivo:  116\n"
     ]
    },
    {
     "name": "stderr",
     "output_type": "stream",
     "text": [
      "C:\\Users\\gusge\\AppData\\Local\\Temp\\ipykernel_8060\\2440456843.py:10: FutureWarning: The provided callable <function min at 0x0000024E7E93C790> is currently using SeriesGroupBy.min. In a future version of pandas, the provided callable will be used directly. To keep current behavior pass the string \"min\" instead.\n",
      "  first_user_commit_by_chunks.append( df_commit.groupby([\"author_id\"], as_index=False).agg({\"created_at\": np.min}))\n"
     ]
    },
    {
     "name": "stdout",
     "output_type": "stream",
     "text": [
      "lendo arquivo:  117\n"
     ]
    },
    {
     "name": "stderr",
     "output_type": "stream",
     "text": [
      "C:\\Users\\gusge\\AppData\\Local\\Temp\\ipykernel_8060\\2440456843.py:10: FutureWarning: The provided callable <function min at 0x0000024E7E93C790> is currently using SeriesGroupBy.min. In a future version of pandas, the provided callable will be used directly. To keep current behavior pass the string \"min\" instead.\n",
      "  first_user_commit_by_chunks.append( df_commit.groupby([\"author_id\"], as_index=False).agg({\"created_at\": np.min}))\n"
     ]
    },
    {
     "name": "stdout",
     "output_type": "stream",
     "text": [
      "lendo arquivo:  118\n"
     ]
    },
    {
     "name": "stderr",
     "output_type": "stream",
     "text": [
      "C:\\Users\\gusge\\AppData\\Local\\Temp\\ipykernel_8060\\2440456843.py:10: FutureWarning: The provided callable <function min at 0x0000024E7E93C790> is currently using SeriesGroupBy.min. In a future version of pandas, the provided callable will be used directly. To keep current behavior pass the string \"min\" instead.\n",
      "  first_user_commit_by_chunks.append( df_commit.groupby([\"author_id\"], as_index=False).agg({\"created_at\": np.min}))\n"
     ]
    },
    {
     "name": "stdout",
     "output_type": "stream",
     "text": [
      "lendo arquivo:  119\n"
     ]
    },
    {
     "name": "stderr",
     "output_type": "stream",
     "text": [
      "C:\\Users\\gusge\\AppData\\Local\\Temp\\ipykernel_8060\\2440456843.py:10: FutureWarning: The provided callable <function min at 0x0000024E7E93C790> is currently using SeriesGroupBy.min. In a future version of pandas, the provided callable will be used directly. To keep current behavior pass the string \"min\" instead.\n",
      "  first_user_commit_by_chunks.append( df_commit.groupby([\"author_id\"], as_index=False).agg({\"created_at\": np.min}))\n"
     ]
    },
    {
     "name": "stdout",
     "output_type": "stream",
     "text": [
      "lendo arquivo:  120\n"
     ]
    },
    {
     "name": "stderr",
     "output_type": "stream",
     "text": [
      "C:\\Users\\gusge\\AppData\\Local\\Temp\\ipykernel_8060\\2440456843.py:10: FutureWarning: The provided callable <function min at 0x0000024E7E93C790> is currently using SeriesGroupBy.min. In a future version of pandas, the provided callable will be used directly. To keep current behavior pass the string \"min\" instead.\n",
      "  first_user_commit_by_chunks.append( df_commit.groupby([\"author_id\"], as_index=False).agg({\"created_at\": np.min}))\n"
     ]
    },
    {
     "name": "stdout",
     "output_type": "stream",
     "text": [
      "lendo arquivo:  121\n"
     ]
    },
    {
     "name": "stderr",
     "output_type": "stream",
     "text": [
      "C:\\Users\\gusge\\AppData\\Local\\Temp\\ipykernel_8060\\2440456843.py:10: FutureWarning: The provided callable <function min at 0x0000024E7E93C790> is currently using SeriesGroupBy.min. In a future version of pandas, the provided callable will be used directly. To keep current behavior pass the string \"min\" instead.\n",
      "  first_user_commit_by_chunks.append( df_commit.groupby([\"author_id\"], as_index=False).agg({\"created_at\": np.min}))\n"
     ]
    },
    {
     "name": "stdout",
     "output_type": "stream",
     "text": [
      "lendo arquivo:  122\n"
     ]
    },
    {
     "name": "stderr",
     "output_type": "stream",
     "text": [
      "C:\\Users\\gusge\\AppData\\Local\\Temp\\ipykernel_8060\\2440456843.py:10: FutureWarning: The provided callable <function min at 0x0000024E7E93C790> is currently using SeriesGroupBy.min. In a future version of pandas, the provided callable will be used directly. To keep current behavior pass the string \"min\" instead.\n",
      "  first_user_commit_by_chunks.append( df_commit.groupby([\"author_id\"], as_index=False).agg({\"created_at\": np.min}))\n"
     ]
    },
    {
     "name": "stdout",
     "output_type": "stream",
     "text": [
      "lendo arquivo:  123\n"
     ]
    },
    {
     "name": "stderr",
     "output_type": "stream",
     "text": [
      "C:\\Users\\gusge\\AppData\\Local\\Temp\\ipykernel_8060\\2440456843.py:10: FutureWarning: The provided callable <function min at 0x0000024E7E93C790> is currently using SeriesGroupBy.min. In a future version of pandas, the provided callable will be used directly. To keep current behavior pass the string \"min\" instead.\n",
      "  first_user_commit_by_chunks.append( df_commit.groupby([\"author_id\"], as_index=False).agg({\"created_at\": np.min}))\n"
     ]
    },
    {
     "name": "stdout",
     "output_type": "stream",
     "text": [
      "lendo arquivo:  124\n"
     ]
    },
    {
     "name": "stderr",
     "output_type": "stream",
     "text": [
      "C:\\Users\\gusge\\AppData\\Local\\Temp\\ipykernel_8060\\2440456843.py:10: FutureWarning: The provided callable <function min at 0x0000024E7E93C790> is currently using SeriesGroupBy.min. In a future version of pandas, the provided callable will be used directly. To keep current behavior pass the string \"min\" instead.\n",
      "  first_user_commit_by_chunks.append( df_commit.groupby([\"author_id\"], as_index=False).agg({\"created_at\": np.min}))\n"
     ]
    },
    {
     "name": "stdout",
     "output_type": "stream",
     "text": [
      "lendo arquivo:  125\n"
     ]
    },
    {
     "name": "stderr",
     "output_type": "stream",
     "text": [
      "C:\\Users\\gusge\\AppData\\Local\\Temp\\ipykernel_8060\\2440456843.py:10: FutureWarning: The provided callable <function min at 0x0000024E7E93C790> is currently using SeriesGroupBy.min. In a future version of pandas, the provided callable will be used directly. To keep current behavior pass the string \"min\" instead.\n",
      "  first_user_commit_by_chunks.append( df_commit.groupby([\"author_id\"], as_index=False).agg({\"created_at\": np.min}))\n"
     ]
    },
    {
     "name": "stdout",
     "output_type": "stream",
     "text": [
      "lendo arquivo:  126\n"
     ]
    },
    {
     "name": "stderr",
     "output_type": "stream",
     "text": [
      "C:\\Users\\gusge\\AppData\\Local\\Temp\\ipykernel_8060\\2440456843.py:10: FutureWarning: The provided callable <function min at 0x0000024E7E93C790> is currently using SeriesGroupBy.min. In a future version of pandas, the provided callable will be used directly. To keep current behavior pass the string \"min\" instead.\n",
      "  first_user_commit_by_chunks.append( df_commit.groupby([\"author_id\"], as_index=False).agg({\"created_at\": np.min}))\n"
     ]
    },
    {
     "name": "stdout",
     "output_type": "stream",
     "text": [
      "lendo arquivo:  127\n"
     ]
    },
    {
     "name": "stderr",
     "output_type": "stream",
     "text": [
      "C:\\Users\\gusge\\AppData\\Local\\Temp\\ipykernel_8060\\2440456843.py:10: FutureWarning: The provided callable <function min at 0x0000024E7E93C790> is currently using SeriesGroupBy.min. In a future version of pandas, the provided callable will be used directly. To keep current behavior pass the string \"min\" instead.\n",
      "  first_user_commit_by_chunks.append( df_commit.groupby([\"author_id\"], as_index=False).agg({\"created_at\": np.min}))\n"
     ]
    },
    {
     "name": "stdout",
     "output_type": "stream",
     "text": [
      "lendo arquivo:  128\n"
     ]
    },
    {
     "name": "stderr",
     "output_type": "stream",
     "text": [
      "C:\\Users\\gusge\\AppData\\Local\\Temp\\ipykernel_8060\\2440456843.py:10: FutureWarning: The provided callable <function min at 0x0000024E7E93C790> is currently using SeriesGroupBy.min. In a future version of pandas, the provided callable will be used directly. To keep current behavior pass the string \"min\" instead.\n",
      "  first_user_commit_by_chunks.append( df_commit.groupby([\"author_id\"], as_index=False).agg({\"created_at\": np.min}))\n"
     ]
    },
    {
     "name": "stdout",
     "output_type": "stream",
     "text": [
      "lendo arquivo:  129\n"
     ]
    },
    {
     "name": "stderr",
     "output_type": "stream",
     "text": [
      "C:\\Users\\gusge\\AppData\\Local\\Temp\\ipykernel_8060\\2440456843.py:10: FutureWarning: The provided callable <function min at 0x0000024E7E93C790> is currently using SeriesGroupBy.min. In a future version of pandas, the provided callable will be used directly. To keep current behavior pass the string \"min\" instead.\n",
      "  first_user_commit_by_chunks.append( df_commit.groupby([\"author_id\"], as_index=False).agg({\"created_at\": np.min}))\n"
     ]
    },
    {
     "name": "stdout",
     "output_type": "stream",
     "text": [
      "lendo arquivo:  130\n"
     ]
    },
    {
     "name": "stderr",
     "output_type": "stream",
     "text": [
      "C:\\Users\\gusge\\AppData\\Local\\Temp\\ipykernel_8060\\2440456843.py:10: FutureWarning: The provided callable <function min at 0x0000024E7E93C790> is currently using SeriesGroupBy.min. In a future version of pandas, the provided callable will be used directly. To keep current behavior pass the string \"min\" instead.\n",
      "  first_user_commit_by_chunks.append( df_commit.groupby([\"author_id\"], as_index=False).agg({\"created_at\": np.min}))\n"
     ]
    },
    {
     "name": "stdout",
     "output_type": "stream",
     "text": [
      "lendo arquivo:  131\n"
     ]
    },
    {
     "name": "stderr",
     "output_type": "stream",
     "text": [
      "C:\\Users\\gusge\\AppData\\Local\\Temp\\ipykernel_8060\\2440456843.py:10: FutureWarning: The provided callable <function min at 0x0000024E7E93C790> is currently using SeriesGroupBy.min. In a future version of pandas, the provided callable will be used directly. To keep current behavior pass the string \"min\" instead.\n",
      "  first_user_commit_by_chunks.append( df_commit.groupby([\"author_id\"], as_index=False).agg({\"created_at\": np.min}))\n"
     ]
    },
    {
     "name": "stdout",
     "output_type": "stream",
     "text": [
      "lendo arquivo:  132\n"
     ]
    },
    {
     "name": "stderr",
     "output_type": "stream",
     "text": [
      "C:\\Users\\gusge\\AppData\\Local\\Temp\\ipykernel_8060\\2440456843.py:10: FutureWarning: The provided callable <function min at 0x0000024E7E93C790> is currently using SeriesGroupBy.min. In a future version of pandas, the provided callable will be used directly. To keep current behavior pass the string \"min\" instead.\n",
      "  first_user_commit_by_chunks.append( df_commit.groupby([\"author_id\"], as_index=False).agg({\"created_at\": np.min}))\n"
     ]
    },
    {
     "name": "stdout",
     "output_type": "stream",
     "text": [
      "lendo arquivo:  133\n"
     ]
    },
    {
     "name": "stderr",
     "output_type": "stream",
     "text": [
      "C:\\Users\\gusge\\AppData\\Local\\Temp\\ipykernel_8060\\2440456843.py:10: FutureWarning: The provided callable <function min at 0x0000024E7E93C790> is currently using SeriesGroupBy.min. In a future version of pandas, the provided callable will be used directly. To keep current behavior pass the string \"min\" instead.\n",
      "  first_user_commit_by_chunks.append( df_commit.groupby([\"author_id\"], as_index=False).agg({\"created_at\": np.min}))\n"
     ]
    },
    {
     "name": "stdout",
     "output_type": "stream",
     "text": [
      "lendo arquivo:  134\n"
     ]
    },
    {
     "name": "stderr",
     "output_type": "stream",
     "text": [
      "C:\\Users\\gusge\\AppData\\Local\\Temp\\ipykernel_8060\\2440456843.py:10: FutureWarning: The provided callable <function min at 0x0000024E7E93C790> is currently using SeriesGroupBy.min. In a future version of pandas, the provided callable will be used directly. To keep current behavior pass the string \"min\" instead.\n",
      "  first_user_commit_by_chunks.append( df_commit.groupby([\"author_id\"], as_index=False).agg({\"created_at\": np.min}))\n"
     ]
    },
    {
     "name": "stdout",
     "output_type": "stream",
     "text": [
      "lendo arquivo:  135\n"
     ]
    },
    {
     "name": "stderr",
     "output_type": "stream",
     "text": [
      "C:\\Users\\gusge\\AppData\\Local\\Temp\\ipykernel_8060\\2440456843.py:10: FutureWarning: The provided callable <function min at 0x0000024E7E93C790> is currently using SeriesGroupBy.min. In a future version of pandas, the provided callable will be used directly. To keep current behavior pass the string \"min\" instead.\n",
      "  first_user_commit_by_chunks.append( df_commit.groupby([\"author_id\"], as_index=False).agg({\"created_at\": np.min}))\n"
     ]
    },
    {
     "name": "stdout",
     "output_type": "stream",
     "text": [
      "lendo arquivo:  136\n"
     ]
    },
    {
     "name": "stderr",
     "output_type": "stream",
     "text": [
      "C:\\Users\\gusge\\AppData\\Local\\Temp\\ipykernel_8060\\2440456843.py:10: FutureWarning: The provided callable <function min at 0x0000024E7E93C790> is currently using SeriesGroupBy.min. In a future version of pandas, the provided callable will be used directly. To keep current behavior pass the string \"min\" instead.\n",
      "  first_user_commit_by_chunks.append( df_commit.groupby([\"author_id\"], as_index=False).agg({\"created_at\": np.min}))\n"
     ]
    },
    {
     "name": "stdout",
     "output_type": "stream",
     "text": [
      "lendo arquivo:  137\n"
     ]
    },
    {
     "name": "stderr",
     "output_type": "stream",
     "text": [
      "C:\\Users\\gusge\\AppData\\Local\\Temp\\ipykernel_8060\\2440456843.py:10: FutureWarning: The provided callable <function min at 0x0000024E7E93C790> is currently using SeriesGroupBy.min. In a future version of pandas, the provided callable will be used directly. To keep current behavior pass the string \"min\" instead.\n",
      "  first_user_commit_by_chunks.append( df_commit.groupby([\"author_id\"], as_index=False).agg({\"created_at\": np.min}))\n"
     ]
    },
    {
     "name": "stdout",
     "output_type": "stream",
     "text": [
      "lendo arquivo:  138\n"
     ]
    },
    {
     "name": "stderr",
     "output_type": "stream",
     "text": [
      "C:\\Users\\gusge\\AppData\\Local\\Temp\\ipykernel_8060\\2440456843.py:10: FutureWarning: The provided callable <function min at 0x0000024E7E93C790> is currently using SeriesGroupBy.min. In a future version of pandas, the provided callable will be used directly. To keep current behavior pass the string \"min\" instead.\n",
      "  first_user_commit_by_chunks.append( df_commit.groupby([\"author_id\"], as_index=False).agg({\"created_at\": np.min}))\n"
     ]
    },
    {
     "name": "stdout",
     "output_type": "stream",
     "text": [
      "lendo arquivo:  139\n"
     ]
    },
    {
     "name": "stderr",
     "output_type": "stream",
     "text": [
      "C:\\Users\\gusge\\AppData\\Local\\Temp\\ipykernel_8060\\2440456843.py:10: FutureWarning: The provided callable <function min at 0x0000024E7E93C790> is currently using SeriesGroupBy.min. In a future version of pandas, the provided callable will be used directly. To keep current behavior pass the string \"min\" instead.\n",
      "  first_user_commit_by_chunks.append( df_commit.groupby([\"author_id\"], as_index=False).agg({\"created_at\": np.min}))\n"
     ]
    },
    {
     "name": "stdout",
     "output_type": "stream",
     "text": [
      "lendo arquivo:  140\n"
     ]
    },
    {
     "name": "stderr",
     "output_type": "stream",
     "text": [
      "C:\\Users\\gusge\\AppData\\Local\\Temp\\ipykernel_8060\\2440456843.py:10: FutureWarning: The provided callable <function min at 0x0000024E7E93C790> is currently using SeriesGroupBy.min. In a future version of pandas, the provided callable will be used directly. To keep current behavior pass the string \"min\" instead.\n",
      "  first_user_commit_by_chunks.append( df_commit.groupby([\"author_id\"], as_index=False).agg({\"created_at\": np.min}))\n"
     ]
    },
    {
     "name": "stdout",
     "output_type": "stream",
     "text": [
      "lendo arquivo:  141\n"
     ]
    },
    {
     "name": "stderr",
     "output_type": "stream",
     "text": [
      "C:\\Users\\gusge\\AppData\\Local\\Temp\\ipykernel_8060\\2440456843.py:10: FutureWarning: The provided callable <function min at 0x0000024E7E93C790> is currently using SeriesGroupBy.min. In a future version of pandas, the provided callable will be used directly. To keep current behavior pass the string \"min\" instead.\n",
      "  first_user_commit_by_chunks.append( df_commit.groupby([\"author_id\"], as_index=False).agg({\"created_at\": np.min}))\n"
     ]
    },
    {
     "name": "stdout",
     "output_type": "stream",
     "text": [
      "lendo arquivo:  142\n"
     ]
    },
    {
     "name": "stderr",
     "output_type": "stream",
     "text": [
      "C:\\Users\\gusge\\AppData\\Local\\Temp\\ipykernel_8060\\2440456843.py:10: FutureWarning: The provided callable <function min at 0x0000024E7E93C790> is currently using SeriesGroupBy.min. In a future version of pandas, the provided callable will be used directly. To keep current behavior pass the string \"min\" instead.\n",
      "  first_user_commit_by_chunks.append( df_commit.groupby([\"author_id\"], as_index=False).agg({\"created_at\": np.min}))\n"
     ]
    },
    {
     "name": "stdout",
     "output_type": "stream",
     "text": [
      "lendo arquivo:  143\n"
     ]
    },
    {
     "name": "stderr",
     "output_type": "stream",
     "text": [
      "C:\\Users\\gusge\\AppData\\Local\\Temp\\ipykernel_8060\\2440456843.py:10: FutureWarning: The provided callable <function min at 0x0000024E7E93C790> is currently using SeriesGroupBy.min. In a future version of pandas, the provided callable will be used directly. To keep current behavior pass the string \"min\" instead.\n",
      "  first_user_commit_by_chunks.append( df_commit.groupby([\"author_id\"], as_index=False).agg({\"created_at\": np.min}))\n"
     ]
    },
    {
     "name": "stdout",
     "output_type": "stream",
     "text": [
      "lendo arquivo:  144\n"
     ]
    },
    {
     "name": "stderr",
     "output_type": "stream",
     "text": [
      "C:\\Users\\gusge\\AppData\\Local\\Temp\\ipykernel_8060\\2440456843.py:10: FutureWarning: The provided callable <function min at 0x0000024E7E93C790> is currently using SeriesGroupBy.min. In a future version of pandas, the provided callable will be used directly. To keep current behavior pass the string \"min\" instead.\n",
      "  first_user_commit_by_chunks.append( df_commit.groupby([\"author_id\"], as_index=False).agg({\"created_at\": np.min}))\n"
     ]
    },
    {
     "name": "stdout",
     "output_type": "stream",
     "text": [
      "lendo arquivo:  145\n"
     ]
    },
    {
     "name": "stderr",
     "output_type": "stream",
     "text": [
      "C:\\Users\\gusge\\AppData\\Local\\Temp\\ipykernel_8060\\2440456843.py:10: FutureWarning: The provided callable <function min at 0x0000024E7E93C790> is currently using SeriesGroupBy.min. In a future version of pandas, the provided callable will be used directly. To keep current behavior pass the string \"min\" instead.\n",
      "  first_user_commit_by_chunks.append( df_commit.groupby([\"author_id\"], as_index=False).agg({\"created_at\": np.min}))\n"
     ]
    },
    {
     "name": "stdout",
     "output_type": "stream",
     "text": [
      "lendo arquivo:  146\n"
     ]
    },
    {
     "name": "stderr",
     "output_type": "stream",
     "text": [
      "C:\\Users\\gusge\\AppData\\Local\\Temp\\ipykernel_8060\\2440456843.py:10: FutureWarning: The provided callable <function min at 0x0000024E7E93C790> is currently using SeriesGroupBy.min. In a future version of pandas, the provided callable will be used directly. To keep current behavior pass the string \"min\" instead.\n",
      "  first_user_commit_by_chunks.append( df_commit.groupby([\"author_id\"], as_index=False).agg({\"created_at\": np.min}))\n"
     ]
    },
    {
     "name": "stdout",
     "output_type": "stream",
     "text": [
      "lendo arquivo:  147\n"
     ]
    },
    {
     "name": "stderr",
     "output_type": "stream",
     "text": [
      "C:\\Users\\gusge\\AppData\\Local\\Temp\\ipykernel_8060\\2440456843.py:10: FutureWarning: The provided callable <function min at 0x0000024E7E93C790> is currently using SeriesGroupBy.min. In a future version of pandas, the provided callable will be used directly. To keep current behavior pass the string \"min\" instead.\n",
      "  first_user_commit_by_chunks.append( df_commit.groupby([\"author_id\"], as_index=False).agg({\"created_at\": np.min}))\n"
     ]
    },
    {
     "name": "stdout",
     "output_type": "stream",
     "text": [
      "lendo arquivo:  148\n"
     ]
    },
    {
     "name": "stderr",
     "output_type": "stream",
     "text": [
      "C:\\Users\\gusge\\AppData\\Local\\Temp\\ipykernel_8060\\2440456843.py:10: FutureWarning: The provided callable <function min at 0x0000024E7E93C790> is currently using SeriesGroupBy.min. In a future version of pandas, the provided callable will be used directly. To keep current behavior pass the string \"min\" instead.\n",
      "  first_user_commit_by_chunks.append( df_commit.groupby([\"author_id\"], as_index=False).agg({\"created_at\": np.min}))\n"
     ]
    },
    {
     "name": "stdout",
     "output_type": "stream",
     "text": [
      "lendo arquivo:  149\n"
     ]
    },
    {
     "name": "stderr",
     "output_type": "stream",
     "text": [
      "C:\\Users\\gusge\\AppData\\Local\\Temp\\ipykernel_8060\\2440456843.py:10: FutureWarning: The provided callable <function min at 0x0000024E7E93C790> is currently using SeriesGroupBy.min. In a future version of pandas, the provided callable will be used directly. To keep current behavior pass the string \"min\" instead.\n",
      "  first_user_commit_by_chunks.append( df_commit.groupby([\"author_id\"], as_index=False).agg({\"created_at\": np.min}))\n"
     ]
    },
    {
     "name": "stdout",
     "output_type": "stream",
     "text": [
      "lendo arquivo:  150\n"
     ]
    },
    {
     "name": "stderr",
     "output_type": "stream",
     "text": [
      "C:\\Users\\gusge\\AppData\\Local\\Temp\\ipykernel_8060\\2440456843.py:10: FutureWarning: The provided callable <function min at 0x0000024E7E93C790> is currently using SeriesGroupBy.min. In a future version of pandas, the provided callable will be used directly. To keep current behavior pass the string \"min\" instead.\n",
      "  first_user_commit_by_chunks.append( df_commit.groupby([\"author_id\"], as_index=False).agg({\"created_at\": np.min}))\n"
     ]
    },
    {
     "name": "stdout",
     "output_type": "stream",
     "text": [
      "lendo arquivo:  151\n"
     ]
    },
    {
     "name": "stderr",
     "output_type": "stream",
     "text": [
      "C:\\Users\\gusge\\AppData\\Local\\Temp\\ipykernel_8060\\2440456843.py:10: FutureWarning: The provided callable <function min at 0x0000024E7E93C790> is currently using SeriesGroupBy.min. In a future version of pandas, the provided callable will be used directly. To keep current behavior pass the string \"min\" instead.\n",
      "  first_user_commit_by_chunks.append( df_commit.groupby([\"author_id\"], as_index=False).agg({\"created_at\": np.min}))\n"
     ]
    },
    {
     "name": "stdout",
     "output_type": "stream",
     "text": [
      "lendo arquivo:  152\n"
     ]
    },
    {
     "name": "stderr",
     "output_type": "stream",
     "text": [
      "C:\\Users\\gusge\\AppData\\Local\\Temp\\ipykernel_8060\\2440456843.py:10: FutureWarning: The provided callable <function min at 0x0000024E7E93C790> is currently using SeriesGroupBy.min. In a future version of pandas, the provided callable will be used directly. To keep current behavior pass the string \"min\" instead.\n",
      "  first_user_commit_by_chunks.append( df_commit.groupby([\"author_id\"], as_index=False).agg({\"created_at\": np.min}))\n"
     ]
    },
    {
     "name": "stdout",
     "output_type": "stream",
     "text": [
      "lendo arquivo:  153\n"
     ]
    },
    {
     "name": "stderr",
     "output_type": "stream",
     "text": [
      "C:\\Users\\gusge\\AppData\\Local\\Temp\\ipykernel_8060\\2440456843.py:10: FutureWarning: The provided callable <function min at 0x0000024E7E93C790> is currently using SeriesGroupBy.min. In a future version of pandas, the provided callable will be used directly. To keep current behavior pass the string \"min\" instead.\n",
      "  first_user_commit_by_chunks.append( df_commit.groupby([\"author_id\"], as_index=False).agg({\"created_at\": np.min}))\n"
     ]
    },
    {
     "name": "stdout",
     "output_type": "stream",
     "text": [
      "lendo arquivo:  154\n"
     ]
    },
    {
     "name": "stderr",
     "output_type": "stream",
     "text": [
      "C:\\Users\\gusge\\AppData\\Local\\Temp\\ipykernel_8060\\2440456843.py:10: FutureWarning: The provided callable <function min at 0x0000024E7E93C790> is currently using SeriesGroupBy.min. In a future version of pandas, the provided callable will be used directly. To keep current behavior pass the string \"min\" instead.\n",
      "  first_user_commit_by_chunks.append( df_commit.groupby([\"author_id\"], as_index=False).agg({\"created_at\": np.min}))\n"
     ]
    },
    {
     "name": "stdout",
     "output_type": "stream",
     "text": [
      "lendo arquivo:  155\n"
     ]
    },
    {
     "name": "stderr",
     "output_type": "stream",
     "text": [
      "C:\\Users\\gusge\\AppData\\Local\\Temp\\ipykernel_8060\\2440456843.py:10: FutureWarning: The provided callable <function min at 0x0000024E7E93C790> is currently using SeriesGroupBy.min. In a future version of pandas, the provided callable will be used directly. To keep current behavior pass the string \"min\" instead.\n",
      "  first_user_commit_by_chunks.append( df_commit.groupby([\"author_id\"], as_index=False).agg({\"created_at\": np.min}))\n"
     ]
    },
    {
     "name": "stdout",
     "output_type": "stream",
     "text": [
      "lendo arquivo:  156\n"
     ]
    },
    {
     "name": "stderr",
     "output_type": "stream",
     "text": [
      "C:\\Users\\gusge\\AppData\\Local\\Temp\\ipykernel_8060\\2440456843.py:10: FutureWarning: The provided callable <function min at 0x0000024E7E93C790> is currently using SeriesGroupBy.min. In a future version of pandas, the provided callable will be used directly. To keep current behavior pass the string \"min\" instead.\n",
      "  first_user_commit_by_chunks.append( df_commit.groupby([\"author_id\"], as_index=False).agg({\"created_at\": np.min}))\n"
     ]
    },
    {
     "name": "stdout",
     "output_type": "stream",
     "text": [
      "lendo arquivo:  157\n"
     ]
    },
    {
     "name": "stderr",
     "output_type": "stream",
     "text": [
      "C:\\Users\\gusge\\AppData\\Local\\Temp\\ipykernel_8060\\2440456843.py:10: FutureWarning: The provided callable <function min at 0x0000024E7E93C790> is currently using SeriesGroupBy.min. In a future version of pandas, the provided callable will be used directly. To keep current behavior pass the string \"min\" instead.\n",
      "  first_user_commit_by_chunks.append( df_commit.groupby([\"author_id\"], as_index=False).agg({\"created_at\": np.min}))\n"
     ]
    },
    {
     "name": "stdout",
     "output_type": "stream",
     "text": [
      "lendo arquivo:  158\n"
     ]
    },
    {
     "name": "stderr",
     "output_type": "stream",
     "text": [
      "C:\\Users\\gusge\\AppData\\Local\\Temp\\ipykernel_8060\\2440456843.py:10: FutureWarning: The provided callable <function min at 0x0000024E7E93C790> is currently using SeriesGroupBy.min. In a future version of pandas, the provided callable will be used directly. To keep current behavior pass the string \"min\" instead.\n",
      "  first_user_commit_by_chunks.append( df_commit.groupby([\"author_id\"], as_index=False).agg({\"created_at\": np.min}))\n"
     ]
    },
    {
     "name": "stdout",
     "output_type": "stream",
     "text": [
      "lendo arquivo:  159\n"
     ]
    },
    {
     "name": "stderr",
     "output_type": "stream",
     "text": [
      "C:\\Users\\gusge\\AppData\\Local\\Temp\\ipykernel_8060\\2440456843.py:10: FutureWarning: The provided callable <function min at 0x0000024E7E93C790> is currently using SeriesGroupBy.min. In a future version of pandas, the provided callable will be used directly. To keep current behavior pass the string \"min\" instead.\n",
      "  first_user_commit_by_chunks.append( df_commit.groupby([\"author_id\"], as_index=False).agg({\"created_at\": np.min}))\n"
     ]
    },
    {
     "name": "stdout",
     "output_type": "stream",
     "text": [
      "lendo arquivo:  160\n"
     ]
    },
    {
     "name": "stderr",
     "output_type": "stream",
     "text": [
      "C:\\Users\\gusge\\AppData\\Local\\Temp\\ipykernel_8060\\2440456843.py:10: FutureWarning: The provided callable <function min at 0x0000024E7E93C790> is currently using SeriesGroupBy.min. In a future version of pandas, the provided callable will be used directly. To keep current behavior pass the string \"min\" instead.\n",
      "  first_user_commit_by_chunks.append( df_commit.groupby([\"author_id\"], as_index=False).agg({\"created_at\": np.min}))\n"
     ]
    },
    {
     "name": "stdout",
     "output_type": "stream",
     "text": [
      "lendo arquivo:  161\n"
     ]
    },
    {
     "name": "stderr",
     "output_type": "stream",
     "text": [
      "C:\\Users\\gusge\\AppData\\Local\\Temp\\ipykernel_8060\\2440456843.py:10: FutureWarning: The provided callable <function min at 0x0000024E7E93C790> is currently using SeriesGroupBy.min. In a future version of pandas, the provided callable will be used directly. To keep current behavior pass the string \"min\" instead.\n",
      "  first_user_commit_by_chunks.append( df_commit.groupby([\"author_id\"], as_index=False).agg({\"created_at\": np.min}))\n"
     ]
    },
    {
     "name": "stdout",
     "output_type": "stream",
     "text": [
      "lendo arquivo:  162\n"
     ]
    },
    {
     "name": "stderr",
     "output_type": "stream",
     "text": [
      "C:\\Users\\gusge\\AppData\\Local\\Temp\\ipykernel_8060\\2440456843.py:10: FutureWarning: The provided callable <function min at 0x0000024E7E93C790> is currently using SeriesGroupBy.min. In a future version of pandas, the provided callable will be used directly. To keep current behavior pass the string \"min\" instead.\n",
      "  first_user_commit_by_chunks.append( df_commit.groupby([\"author_id\"], as_index=False).agg({\"created_at\": np.min}))\n"
     ]
    },
    {
     "name": "stdout",
     "output_type": "stream",
     "text": [
      "lendo arquivo:  163\n"
     ]
    },
    {
     "name": "stderr",
     "output_type": "stream",
     "text": [
      "C:\\Users\\gusge\\AppData\\Local\\Temp\\ipykernel_8060\\2440456843.py:10: FutureWarning: The provided callable <function min at 0x0000024E7E93C790> is currently using SeriesGroupBy.min. In a future version of pandas, the provided callable will be used directly. To keep current behavior pass the string \"min\" instead.\n",
      "  first_user_commit_by_chunks.append( df_commit.groupby([\"author_id\"], as_index=False).agg({\"created_at\": np.min}))\n"
     ]
    },
    {
     "name": "stdout",
     "output_type": "stream",
     "text": [
      "lendo arquivo:  164\n"
     ]
    },
    {
     "name": "stderr",
     "output_type": "stream",
     "text": [
      "C:\\Users\\gusge\\AppData\\Local\\Temp\\ipykernel_8060\\2440456843.py:10: FutureWarning: The provided callable <function min at 0x0000024E7E93C790> is currently using SeriesGroupBy.min. In a future version of pandas, the provided callable will be used directly. To keep current behavior pass the string \"min\" instead.\n",
      "  first_user_commit_by_chunks.append( df_commit.groupby([\"author_id\"], as_index=False).agg({\"created_at\": np.min}))\n"
     ]
    },
    {
     "name": "stdout",
     "output_type": "stream",
     "text": [
      "lendo arquivo:  165\n"
     ]
    },
    {
     "name": "stderr",
     "output_type": "stream",
     "text": [
      "C:\\Users\\gusge\\AppData\\Local\\Temp\\ipykernel_8060\\2440456843.py:10: FutureWarning: The provided callable <function min at 0x0000024E7E93C790> is currently using SeriesGroupBy.min. In a future version of pandas, the provided callable will be used directly. To keep current behavior pass the string \"min\" instead.\n",
      "  first_user_commit_by_chunks.append( df_commit.groupby([\"author_id\"], as_index=False).agg({\"created_at\": np.min}))\n"
     ]
    },
    {
     "name": "stdout",
     "output_type": "stream",
     "text": [
      "lendo arquivo:  166\n"
     ]
    },
    {
     "name": "stderr",
     "output_type": "stream",
     "text": [
      "C:\\Users\\gusge\\AppData\\Local\\Temp\\ipykernel_8060\\2440456843.py:10: FutureWarning: The provided callable <function min at 0x0000024E7E93C790> is currently using SeriesGroupBy.min. In a future version of pandas, the provided callable will be used directly. To keep current behavior pass the string \"min\" instead.\n",
      "  first_user_commit_by_chunks.append( df_commit.groupby([\"author_id\"], as_index=False).agg({\"created_at\": np.min}))\n"
     ]
    },
    {
     "name": "stdout",
     "output_type": "stream",
     "text": [
      "lendo arquivo:  167\n"
     ]
    },
    {
     "name": "stderr",
     "output_type": "stream",
     "text": [
      "C:\\Users\\gusge\\AppData\\Local\\Temp\\ipykernel_8060\\2440456843.py:10: FutureWarning: The provided callable <function min at 0x0000024E7E93C790> is currently using SeriesGroupBy.min. In a future version of pandas, the provided callable will be used directly. To keep current behavior pass the string \"min\" instead.\n",
      "  first_user_commit_by_chunks.append( df_commit.groupby([\"author_id\"], as_index=False).agg({\"created_at\": np.min}))\n"
     ]
    },
    {
     "name": "stdout",
     "output_type": "stream",
     "text": [
      "lendo arquivo:  168\n"
     ]
    },
    {
     "name": "stderr",
     "output_type": "stream",
     "text": [
      "C:\\Users\\gusge\\AppData\\Local\\Temp\\ipykernel_8060\\2440456843.py:10: FutureWarning: The provided callable <function min at 0x0000024E7E93C790> is currently using SeriesGroupBy.min. In a future version of pandas, the provided callable will be used directly. To keep current behavior pass the string \"min\" instead.\n",
      "  first_user_commit_by_chunks.append( df_commit.groupby([\"author_id\"], as_index=False).agg({\"created_at\": np.min}))\n"
     ]
    },
    {
     "name": "stdout",
     "output_type": "stream",
     "text": [
      "lendo arquivo:  169\n"
     ]
    },
    {
     "name": "stderr",
     "output_type": "stream",
     "text": [
      "C:\\Users\\gusge\\AppData\\Local\\Temp\\ipykernel_8060\\2440456843.py:10: FutureWarning: The provided callable <function min at 0x0000024E7E93C790> is currently using SeriesGroupBy.min. In a future version of pandas, the provided callable will be used directly. To keep current behavior pass the string \"min\" instead.\n",
      "  first_user_commit_by_chunks.append( df_commit.groupby([\"author_id\"], as_index=False).agg({\"created_at\": np.min}))\n"
     ]
    },
    {
     "name": "stdout",
     "output_type": "stream",
     "text": [
      "lendo arquivo:  170\n"
     ]
    },
    {
     "name": "stderr",
     "output_type": "stream",
     "text": [
      "C:\\Users\\gusge\\AppData\\Local\\Temp\\ipykernel_8060\\2440456843.py:10: FutureWarning: The provided callable <function min at 0x0000024E7E93C790> is currently using SeriesGroupBy.min. In a future version of pandas, the provided callable will be used directly. To keep current behavior pass the string \"min\" instead.\n",
      "  first_user_commit_by_chunks.append( df_commit.groupby([\"author_id\"], as_index=False).agg({\"created_at\": np.min}))\n"
     ]
    },
    {
     "name": "stdout",
     "output_type": "stream",
     "text": [
      "lendo arquivo:  171\n"
     ]
    },
    {
     "name": "stderr",
     "output_type": "stream",
     "text": [
      "C:\\Users\\gusge\\AppData\\Local\\Temp\\ipykernel_8060\\2440456843.py:10: FutureWarning: The provided callable <function min at 0x0000024E7E93C790> is currently using SeriesGroupBy.min. In a future version of pandas, the provided callable will be used directly. To keep current behavior pass the string \"min\" instead.\n",
      "  first_user_commit_by_chunks.append( df_commit.groupby([\"author_id\"], as_index=False).agg({\"created_at\": np.min}))\n"
     ]
    },
    {
     "name": "stdout",
     "output_type": "stream",
     "text": [
      "lendo arquivo:  172\n"
     ]
    },
    {
     "name": "stderr",
     "output_type": "stream",
     "text": [
      "C:\\Users\\gusge\\AppData\\Local\\Temp\\ipykernel_8060\\2440456843.py:10: FutureWarning: The provided callable <function min at 0x0000024E7E93C790> is currently using SeriesGroupBy.min. In a future version of pandas, the provided callable will be used directly. To keep current behavior pass the string \"min\" instead.\n",
      "  first_user_commit_by_chunks.append( df_commit.groupby([\"author_id\"], as_index=False).agg({\"created_at\": np.min}))\n"
     ]
    },
    {
     "name": "stdout",
     "output_type": "stream",
     "text": [
      "lendo arquivo:  173\n"
     ]
    },
    {
     "name": "stderr",
     "output_type": "stream",
     "text": [
      "C:\\Users\\gusge\\AppData\\Local\\Temp\\ipykernel_8060\\2440456843.py:10: FutureWarning: The provided callable <function min at 0x0000024E7E93C790> is currently using SeriesGroupBy.min. In a future version of pandas, the provided callable will be used directly. To keep current behavior pass the string \"min\" instead.\n",
      "  first_user_commit_by_chunks.append( df_commit.groupby([\"author_id\"], as_index=False).agg({\"created_at\": np.min}))\n"
     ]
    },
    {
     "name": "stdout",
     "output_type": "stream",
     "text": [
      "lendo arquivo:  174\n"
     ]
    },
    {
     "name": "stderr",
     "output_type": "stream",
     "text": [
      "C:\\Users\\gusge\\AppData\\Local\\Temp\\ipykernel_8060\\2440456843.py:10: FutureWarning: The provided callable <function min at 0x0000024E7E93C790> is currently using SeriesGroupBy.min. In a future version of pandas, the provided callable will be used directly. To keep current behavior pass the string \"min\" instead.\n",
      "  first_user_commit_by_chunks.append( df_commit.groupby([\"author_id\"], as_index=False).agg({\"created_at\": np.min}))\n"
     ]
    },
    {
     "name": "stdout",
     "output_type": "stream",
     "text": [
      "lendo arquivo:  175\n"
     ]
    },
    {
     "name": "stderr",
     "output_type": "stream",
     "text": [
      "C:\\Users\\gusge\\AppData\\Local\\Temp\\ipykernel_8060\\2440456843.py:10: FutureWarning: The provided callable <function min at 0x0000024E7E93C790> is currently using SeriesGroupBy.min. In a future version of pandas, the provided callable will be used directly. To keep current behavior pass the string \"min\" instead.\n",
      "  first_user_commit_by_chunks.append( df_commit.groupby([\"author_id\"], as_index=False).agg({\"created_at\": np.min}))\n"
     ]
    },
    {
     "name": "stdout",
     "output_type": "stream",
     "text": [
      "lendo arquivo:  176\n"
     ]
    },
    {
     "name": "stderr",
     "output_type": "stream",
     "text": [
      "C:\\Users\\gusge\\AppData\\Local\\Temp\\ipykernel_8060\\2440456843.py:10: FutureWarning: The provided callable <function min at 0x0000024E7E93C790> is currently using SeriesGroupBy.min. In a future version of pandas, the provided callable will be used directly. To keep current behavior pass the string \"min\" instead.\n",
      "  first_user_commit_by_chunks.append( df_commit.groupby([\"author_id\"], as_index=False).agg({\"created_at\": np.min}))\n"
     ]
    },
    {
     "name": "stdout",
     "output_type": "stream",
     "text": [
      "lendo arquivo:  177\n"
     ]
    },
    {
     "name": "stderr",
     "output_type": "stream",
     "text": [
      "C:\\Users\\gusge\\AppData\\Local\\Temp\\ipykernel_8060\\2440456843.py:10: FutureWarning: The provided callable <function min at 0x0000024E7E93C790> is currently using SeriesGroupBy.min. In a future version of pandas, the provided callable will be used directly. To keep current behavior pass the string \"min\" instead.\n",
      "  first_user_commit_by_chunks.append( df_commit.groupby([\"author_id\"], as_index=False).agg({\"created_at\": np.min}))\n"
     ]
    },
    {
     "name": "stdout",
     "output_type": "stream",
     "text": [
      "lendo arquivo:  178\n"
     ]
    },
    {
     "name": "stderr",
     "output_type": "stream",
     "text": [
      "C:\\Users\\gusge\\AppData\\Local\\Temp\\ipykernel_8060\\2440456843.py:10: FutureWarning: The provided callable <function min at 0x0000024E7E93C790> is currently using SeriesGroupBy.min. In a future version of pandas, the provided callable will be used directly. To keep current behavior pass the string \"min\" instead.\n",
      "  first_user_commit_by_chunks.append( df_commit.groupby([\"author_id\"], as_index=False).agg({\"created_at\": np.min}))\n"
     ]
    },
    {
     "name": "stdout",
     "output_type": "stream",
     "text": [
      "lendo arquivo:  179\n"
     ]
    },
    {
     "name": "stderr",
     "output_type": "stream",
     "text": [
      "C:\\Users\\gusge\\AppData\\Local\\Temp\\ipykernel_8060\\2440456843.py:10: FutureWarning: The provided callable <function min at 0x0000024E7E93C790> is currently using SeriesGroupBy.min. In a future version of pandas, the provided callable will be used directly. To keep current behavior pass the string \"min\" instead.\n",
      "  first_user_commit_by_chunks.append( df_commit.groupby([\"author_id\"], as_index=False).agg({\"created_at\": np.min}))\n"
     ]
    },
    {
     "name": "stdout",
     "output_type": "stream",
     "text": [
      "lendo arquivo:  180\n"
     ]
    },
    {
     "name": "stderr",
     "output_type": "stream",
     "text": [
      "C:\\Users\\gusge\\AppData\\Local\\Temp\\ipykernel_8060\\2440456843.py:10: FutureWarning: The provided callable <function min at 0x0000024E7E93C790> is currently using SeriesGroupBy.min. In a future version of pandas, the provided callable will be used directly. To keep current behavior pass the string \"min\" instead.\n",
      "  first_user_commit_by_chunks.append( df_commit.groupby([\"author_id\"], as_index=False).agg({\"created_at\": np.min}))\n"
     ]
    },
    {
     "name": "stdout",
     "output_type": "stream",
     "text": [
      "lendo arquivo:  181\n"
     ]
    },
    {
     "name": "stderr",
     "output_type": "stream",
     "text": [
      "C:\\Users\\gusge\\AppData\\Local\\Temp\\ipykernel_8060\\2440456843.py:10: FutureWarning: The provided callable <function min at 0x0000024E7E93C790> is currently using SeriesGroupBy.min. In a future version of pandas, the provided callable will be used directly. To keep current behavior pass the string \"min\" instead.\n",
      "  first_user_commit_by_chunks.append( df_commit.groupby([\"author_id\"], as_index=False).agg({\"created_at\": np.min}))\n"
     ]
    },
    {
     "name": "stdout",
     "output_type": "stream",
     "text": [
      "lendo arquivo:  182\n"
     ]
    },
    {
     "name": "stderr",
     "output_type": "stream",
     "text": [
      "C:\\Users\\gusge\\AppData\\Local\\Temp\\ipykernel_8060\\2440456843.py:10: FutureWarning: The provided callable <function min at 0x0000024E7E93C790> is currently using SeriesGroupBy.min. In a future version of pandas, the provided callable will be used directly. To keep current behavior pass the string \"min\" instead.\n",
      "  first_user_commit_by_chunks.append( df_commit.groupby([\"author_id\"], as_index=False).agg({\"created_at\": np.min}))\n"
     ]
    },
    {
     "name": "stdout",
     "output_type": "stream",
     "text": [
      "lendo arquivo:  183\n"
     ]
    },
    {
     "name": "stderr",
     "output_type": "stream",
     "text": [
      "C:\\Users\\gusge\\AppData\\Local\\Temp\\ipykernel_8060\\2440456843.py:10: FutureWarning: The provided callable <function min at 0x0000024E7E93C790> is currently using SeriesGroupBy.min. In a future version of pandas, the provided callable will be used directly. To keep current behavior pass the string \"min\" instead.\n",
      "  first_user_commit_by_chunks.append( df_commit.groupby([\"author_id\"], as_index=False).agg({\"created_at\": np.min}))\n"
     ]
    },
    {
     "name": "stdout",
     "output_type": "stream",
     "text": [
      "lendo arquivo:  184\n"
     ]
    },
    {
     "name": "stderr",
     "output_type": "stream",
     "text": [
      "C:\\Users\\gusge\\AppData\\Local\\Temp\\ipykernel_8060\\2440456843.py:10: FutureWarning: The provided callable <function min at 0x0000024E7E93C790> is currently using SeriesGroupBy.min. In a future version of pandas, the provided callable will be used directly. To keep current behavior pass the string \"min\" instead.\n",
      "  first_user_commit_by_chunks.append( df_commit.groupby([\"author_id\"], as_index=False).agg({\"created_at\": np.min}))\n"
     ]
    },
    {
     "name": "stdout",
     "output_type": "stream",
     "text": [
      "lendo arquivo:  185\n"
     ]
    },
    {
     "name": "stderr",
     "output_type": "stream",
     "text": [
      "C:\\Users\\gusge\\AppData\\Local\\Temp\\ipykernel_8060\\2440456843.py:10: FutureWarning: The provided callable <function min at 0x0000024E7E93C790> is currently using SeriesGroupBy.min. In a future version of pandas, the provided callable will be used directly. To keep current behavior pass the string \"min\" instead.\n",
      "  first_user_commit_by_chunks.append( df_commit.groupby([\"author_id\"], as_index=False).agg({\"created_at\": np.min}))\n"
     ]
    },
    {
     "name": "stdout",
     "output_type": "stream",
     "text": [
      "lendo arquivo:  186\n"
     ]
    },
    {
     "name": "stderr",
     "output_type": "stream",
     "text": [
      "C:\\Users\\gusge\\AppData\\Local\\Temp\\ipykernel_8060\\2440456843.py:10: FutureWarning: The provided callable <function min at 0x0000024E7E93C790> is currently using SeriesGroupBy.min. In a future version of pandas, the provided callable will be used directly. To keep current behavior pass the string \"min\" instead.\n",
      "  first_user_commit_by_chunks.append( df_commit.groupby([\"author_id\"], as_index=False).agg({\"created_at\": np.min}))\n"
     ]
    },
    {
     "name": "stdout",
     "output_type": "stream",
     "text": [
      "lendo arquivo:  187\n"
     ]
    },
    {
     "name": "stderr",
     "output_type": "stream",
     "text": [
      "C:\\Users\\gusge\\AppData\\Local\\Temp\\ipykernel_8060\\2440456843.py:10: FutureWarning: The provided callable <function min at 0x0000024E7E93C790> is currently using SeriesGroupBy.min. In a future version of pandas, the provided callable will be used directly. To keep current behavior pass the string \"min\" instead.\n",
      "  first_user_commit_by_chunks.append( df_commit.groupby([\"author_id\"], as_index=False).agg({\"created_at\": np.min}))\n"
     ]
    },
    {
     "name": "stdout",
     "output_type": "stream",
     "text": [
      "lendo arquivo:  188\n"
     ]
    },
    {
     "name": "stderr",
     "output_type": "stream",
     "text": [
      "C:\\Users\\gusge\\AppData\\Local\\Temp\\ipykernel_8060\\2440456843.py:10: FutureWarning: The provided callable <function min at 0x0000024E7E93C790> is currently using SeriesGroupBy.min. In a future version of pandas, the provided callable will be used directly. To keep current behavior pass the string \"min\" instead.\n",
      "  first_user_commit_by_chunks.append( df_commit.groupby([\"author_id\"], as_index=False).agg({\"created_at\": np.min}))\n"
     ]
    },
    {
     "name": "stdout",
     "output_type": "stream",
     "text": [
      "lendo arquivo:  189\n"
     ]
    },
    {
     "name": "stderr",
     "output_type": "stream",
     "text": [
      "C:\\Users\\gusge\\AppData\\Local\\Temp\\ipykernel_8060\\2440456843.py:10: FutureWarning: The provided callable <function min at 0x0000024E7E93C790> is currently using SeriesGroupBy.min. In a future version of pandas, the provided callable will be used directly. To keep current behavior pass the string \"min\" instead.\n",
      "  first_user_commit_by_chunks.append( df_commit.groupby([\"author_id\"], as_index=False).agg({\"created_at\": np.min}))\n"
     ]
    },
    {
     "name": "stdout",
     "output_type": "stream",
     "text": [
      "lendo arquivo:  190\n"
     ]
    },
    {
     "name": "stderr",
     "output_type": "stream",
     "text": [
      "C:\\Users\\gusge\\AppData\\Local\\Temp\\ipykernel_8060\\2440456843.py:10: FutureWarning: The provided callable <function min at 0x0000024E7E93C790> is currently using SeriesGroupBy.min. In a future version of pandas, the provided callable will be used directly. To keep current behavior pass the string \"min\" instead.\n",
      "  first_user_commit_by_chunks.append( df_commit.groupby([\"author_id\"], as_index=False).agg({\"created_at\": np.min}))\n"
     ]
    },
    {
     "name": "stdout",
     "output_type": "stream",
     "text": [
      "lendo arquivo:  191\n"
     ]
    },
    {
     "name": "stderr",
     "output_type": "stream",
     "text": [
      "C:\\Users\\gusge\\AppData\\Local\\Temp\\ipykernel_8060\\2440456843.py:10: FutureWarning: The provided callable <function min at 0x0000024E7E93C790> is currently using SeriesGroupBy.min. In a future version of pandas, the provided callable will be used directly. To keep current behavior pass the string \"min\" instead.\n",
      "  first_user_commit_by_chunks.append( df_commit.groupby([\"author_id\"], as_index=False).agg({\"created_at\": np.min}))\n"
     ]
    },
    {
     "name": "stdout",
     "output_type": "stream",
     "text": [
      "lendo arquivo:  192\n"
     ]
    },
    {
     "name": "stderr",
     "output_type": "stream",
     "text": [
      "C:\\Users\\gusge\\AppData\\Local\\Temp\\ipykernel_8060\\2440456843.py:10: FutureWarning: The provided callable <function min at 0x0000024E7E93C790> is currently using SeriesGroupBy.min. In a future version of pandas, the provided callable will be used directly. To keep current behavior pass the string \"min\" instead.\n",
      "  first_user_commit_by_chunks.append( df_commit.groupby([\"author_id\"], as_index=False).agg({\"created_at\": np.min}))\n"
     ]
    },
    {
     "name": "stdout",
     "output_type": "stream",
     "text": [
      "lendo arquivo:  193\n"
     ]
    },
    {
     "name": "stderr",
     "output_type": "stream",
     "text": [
      "C:\\Users\\gusge\\AppData\\Local\\Temp\\ipykernel_8060\\2440456843.py:10: FutureWarning: The provided callable <function min at 0x0000024E7E93C790> is currently using SeriesGroupBy.min. In a future version of pandas, the provided callable will be used directly. To keep current behavior pass the string \"min\" instead.\n",
      "  first_user_commit_by_chunks.append( df_commit.groupby([\"author_id\"], as_index=False).agg({\"created_at\": np.min}))\n"
     ]
    },
    {
     "name": "stdout",
     "output_type": "stream",
     "text": [
      "lendo arquivo:  194\n"
     ]
    },
    {
     "name": "stderr",
     "output_type": "stream",
     "text": [
      "C:\\Users\\gusge\\AppData\\Local\\Temp\\ipykernel_8060\\2440456843.py:10: FutureWarning: The provided callable <function min at 0x0000024E7E93C790> is currently using SeriesGroupBy.min. In a future version of pandas, the provided callable will be used directly. To keep current behavior pass the string \"min\" instead.\n",
      "  first_user_commit_by_chunks.append( df_commit.groupby([\"author_id\"], as_index=False).agg({\"created_at\": np.min}))\n",
      "C:\\Users\\gusge\\AppData\\Local\\Temp\\ipykernel_8060\\2440456843.py:10: FutureWarning: The provided callable <function min at 0x0000024E7E93C790> is currently using SeriesGroupBy.min. In a future version of pandas, the provided callable will be used directly. To keep current behavior pass the string \"min\" instead.\n",
      "  first_user_commit_by_chunks.append( df_commit.groupby([\"author_id\"], as_index=False).agg({\"created_at\": np.min}))\n",
      "C:\\Users\\gusge\\AppData\\Local\\Temp\\ipykernel_8060\\2440456843.py:10: FutureWarning: The provided callable <function min at 0x0000024E7E93C790> is currently using SeriesGroupBy.min. In a future version of pandas, the provided callable will be used directly. To keep current behavior pass the string \"min\" instead.\n",
      "  first_user_commit_by_chunks.append( df_commit.groupby([\"author_id\"], as_index=False).agg({\"created_at\": np.min}))\n",
      "C:\\Users\\gusge\\AppData\\Local\\Temp\\ipykernel_8060\\2440456843.py:10: FutureWarning: The provided callable <function min at 0x0000024E7E93C790> is currently using SeriesGroupBy.min. In a future version of pandas, the provided callable will be used directly. To keep current behavior pass the string \"min\" instead.\n",
      "  first_user_commit_by_chunks.append( df_commit.groupby([\"author_id\"], as_index=False).agg({\"created_at\": np.min}))\n"
     ]
    },
    {
     "name": "stdout",
     "output_type": "stream",
     "text": [
      "lendo arquivo:  195\n",
      "lendo arquivo:  196\n",
      "lendo arquivo:  197\n",
      "lendo arquivo:  198\n"
     ]
    },
    {
     "name": "stderr",
     "output_type": "stream",
     "text": [
      "C:\\Users\\gusge\\AppData\\Local\\Temp\\ipykernel_8060\\2440456843.py:10: FutureWarning: The provided callable <function min at 0x0000024E7E93C790> is currently using SeriesGroupBy.min. In a future version of pandas, the provided callable will be used directly. To keep current behavior pass the string \"min\" instead.\n",
      "  first_user_commit_by_chunks.append( df_commit.groupby([\"author_id\"], as_index=False).agg({\"created_at\": np.min}))\n",
      "C:\\Users\\gusge\\AppData\\Local\\Temp\\ipykernel_8060\\2440456843.py:10: FutureWarning: The provided callable <function min at 0x0000024E7E93C790> is currently using SeriesGroupBy.min. In a future version of pandas, the provided callable will be used directly. To keep current behavior pass the string \"min\" instead.\n",
      "  first_user_commit_by_chunks.append( df_commit.groupby([\"author_id\"], as_index=False).agg({\"created_at\": np.min}))\n",
      "C:\\Users\\gusge\\AppData\\Local\\Temp\\ipykernel_8060\\2440456843.py:10: FutureWarning: The provided callable <function min at 0x0000024E7E93C790> is currently using SeriesGroupBy.min. In a future version of pandas, the provided callable will be used directly. To keep current behavior pass the string \"min\" instead.\n",
      "  first_user_commit_by_chunks.append( df_commit.groupby([\"author_id\"], as_index=False).agg({\"created_at\": np.min}))\n"
     ]
    },
    {
     "name": "stdout",
     "output_type": "stream",
     "text": [
      "lendo arquivo:  199\n",
      "lendo arquivo:  200\n",
      "lendo arquivo:  201\n"
     ]
    },
    {
     "name": "stderr",
     "output_type": "stream",
     "text": [
      "C:\\Users\\gusge\\AppData\\Local\\Temp\\ipykernel_8060\\2440456843.py:10: FutureWarning: The provided callable <function min at 0x0000024E7E93C790> is currently using SeriesGroupBy.min. In a future version of pandas, the provided callable will be used directly. To keep current behavior pass the string \"min\" instead.\n",
      "  first_user_commit_by_chunks.append( df_commit.groupby([\"author_id\"], as_index=False).agg({\"created_at\": np.min}))\n"
     ]
    },
    {
     "name": "stdout",
     "output_type": "stream",
     "text": [
      "lendo arquivo:  202\n",
      "lendo arquivo:  203\n"
     ]
    },
    {
     "name": "stderr",
     "output_type": "stream",
     "text": [
      "C:\\Users\\gusge\\AppData\\Local\\Temp\\ipykernel_8060\\2440456843.py:10: FutureWarning: The provided callable <function min at 0x0000024E7E93C790> is currently using SeriesGroupBy.min. In a future version of pandas, the provided callable will be used directly. To keep current behavior pass the string \"min\" instead.\n",
      "  first_user_commit_by_chunks.append( df_commit.groupby([\"author_id\"], as_index=False).agg({\"created_at\": np.min}))\n",
      "C:\\Users\\gusge\\AppData\\Local\\Temp\\ipykernel_8060\\2440456843.py:10: FutureWarning: The provided callable <function min at 0x0000024E7E93C790> is currently using SeriesGroupBy.min. In a future version of pandas, the provided callable will be used directly. To keep current behavior pass the string \"min\" instead.\n",
      "  first_user_commit_by_chunks.append( df_commit.groupby([\"author_id\"], as_index=False).agg({\"created_at\": np.min}))\n",
      "C:\\Users\\gusge\\AppData\\Local\\Temp\\ipykernel_8060\\2440456843.py:10: FutureWarning: The provided callable <function min at 0x0000024E7E93C790> is currently using SeriesGroupBy.min. In a future version of pandas, the provided callable will be used directly. To keep current behavior pass the string \"min\" instead.\n",
      "  first_user_commit_by_chunks.append( df_commit.groupby([\"author_id\"], as_index=False).agg({\"created_at\": np.min}))\n",
      "C:\\Users\\gusge\\AppData\\Local\\Temp\\ipykernel_8060\\2440456843.py:10: FutureWarning: The provided callable <function min at 0x0000024E7E93C790> is currently using SeriesGroupBy.min. In a future version of pandas, the provided callable will be used directly. To keep current behavior pass the string \"min\" instead.\n",
      "  first_user_commit_by_chunks.append( df_commit.groupby([\"author_id\"], as_index=False).agg({\"created_at\": np.min}))\n",
      "C:\\Users\\gusge\\AppData\\Local\\Temp\\ipykernel_8060\\2440456843.py:10: FutureWarning: The provided callable <function min at 0x0000024E7E93C790> is currently using SeriesGroupBy.min. In a future version of pandas, the provided callable will be used directly. To keep current behavior pass the string \"min\" instead.\n",
      "  first_user_commit_by_chunks.append( df_commit.groupby([\"author_id\"], as_index=False).agg({\"created_at\": np.min}))\n",
      "C:\\Users\\gusge\\AppData\\Local\\Temp\\ipykernel_8060\\2440456843.py:10: FutureWarning: The provided callable <function min at 0x0000024E7E93C790> is currently using SeriesGroupBy.min. In a future version of pandas, the provided callable will be used directly. To keep current behavior pass the string \"min\" instead.\n",
      "  first_user_commit_by_chunks.append( df_commit.groupby([\"author_id\"], as_index=False).agg({\"created_at\": np.min}))\n",
      "C:\\Users\\gusge\\AppData\\Local\\Temp\\ipykernel_8060\\2440456843.py:10: FutureWarning: The provided callable <function min at 0x0000024E7E93C790> is currently using SeriesGroupBy.min. In a future version of pandas, the provided callable will be used directly. To keep current behavior pass the string \"min\" instead.\n",
      "  first_user_commit_by_chunks.append( df_commit.groupby([\"author_id\"], as_index=False).agg({\"created_at\": np.min}))\n",
      "C:\\Users\\gusge\\AppData\\Local\\Temp\\ipykernel_8060\\2440456843.py:10: FutureWarning: The provided callable <function min at 0x0000024E7E93C790> is currently using SeriesGroupBy.min. In a future version of pandas, the provided callable will be used directly. To keep current behavior pass the string \"min\" instead.\n",
      "  first_user_commit_by_chunks.append( df_commit.groupby([\"author_id\"], as_index=False).agg({\"created_at\": np.min}))\n",
      "C:\\Users\\gusge\\AppData\\Local\\Temp\\ipykernel_8060\\2440456843.py:10: FutureWarning: The provided callable <function min at 0x0000024E7E93C790> is currently using SeriesGroupBy.min. In a future version of pandas, the provided callable will be used directly. To keep current behavior pass the string \"min\" instead.\n",
      "  first_user_commit_by_chunks.append( df_commit.groupby([\"author_id\"], as_index=False).agg({\"created_at\": np.min}))\n"
     ]
    },
    {
     "name": "stdout",
     "output_type": "stream",
     "text": [
      "lendo arquivo:  204\n",
      "lendo arquivo:  205\n",
      "lendo arquivo:  206\n",
      "lendo arquivo:  207\n",
      "lendo arquivo:  208\n",
      "lendo arquivo:  209\n",
      "lendo arquivo:  210\n",
      "lendo arquivo:  211\n",
      "lendo arquivo:  212\n"
     ]
    },
    {
     "name": "stderr",
     "output_type": "stream",
     "text": [
      "C:\\Users\\gusge\\AppData\\Local\\Temp\\ipykernel_8060\\2440456843.py:10: FutureWarning: The provided callable <function min at 0x0000024E7E93C790> is currently using SeriesGroupBy.min. In a future version of pandas, the provided callable will be used directly. To keep current behavior pass the string \"min\" instead.\n",
      "  first_user_commit_by_chunks.append( df_commit.groupby([\"author_id\"], as_index=False).agg({\"created_at\": np.min}))\n",
      "C:\\Users\\gusge\\AppData\\Local\\Temp\\ipykernel_8060\\2440456843.py:10: FutureWarning: The provided callable <function min at 0x0000024E7E93C790> is currently using SeriesGroupBy.min. In a future version of pandas, the provided callable will be used directly. To keep current behavior pass the string \"min\" instead.\n",
      "  first_user_commit_by_chunks.append( df_commit.groupby([\"author_id\"], as_index=False).agg({\"created_at\": np.min}))\n"
     ]
    },
    {
     "name": "stdout",
     "output_type": "stream",
     "text": [
      "lendo arquivo:  213\n"
     ]
    },
    {
     "name": "stderr",
     "output_type": "stream",
     "text": [
      "C:\\Users\\gusge\\AppData\\Local\\Temp\\ipykernel_8060\\2440456843.py:10: FutureWarning: The provided callable <function min at 0x0000024E7E93C790> is currently using SeriesGroupBy.min. In a future version of pandas, the provided callable will be used directly. To keep current behavior pass the string \"min\" instead.\n",
      "  first_user_commit_by_chunks.append( df_commit.groupby([\"author_id\"], as_index=False).agg({\"created_at\": np.min}))\n",
      "C:\\Users\\gusge\\AppData\\Local\\Temp\\ipykernel_8060\\2440456843.py:10: FutureWarning: The provided callable <function min at 0x0000024E7E93C790> is currently using SeriesGroupBy.min. In a future version of pandas, the provided callable will be used directly. To keep current behavior pass the string \"min\" instead.\n",
      "  first_user_commit_by_chunks.append( df_commit.groupby([\"author_id\"], as_index=False).agg({\"created_at\": np.min}))\n",
      "C:\\Users\\gusge\\AppData\\Local\\Temp\\ipykernel_8060\\2440456843.py:10: FutureWarning: The provided callable <function min at 0x0000024E7E93C790> is currently using SeriesGroupBy.min. In a future version of pandas, the provided callable will be used directly. To keep current behavior pass the string \"min\" instead.\n",
      "  first_user_commit_by_chunks.append( df_commit.groupby([\"author_id\"], as_index=False).agg({\"created_at\": np.min}))\n",
      "C:\\Users\\gusge\\AppData\\Local\\Temp\\ipykernel_8060\\2440456843.py:10: FutureWarning: The provided callable <function min at 0x0000024E7E93C790> is currently using SeriesGroupBy.min. In a future version of pandas, the provided callable will be used directly. To keep current behavior pass the string \"min\" instead.\n",
      "  first_user_commit_by_chunks.append( df_commit.groupby([\"author_id\"], as_index=False).agg({\"created_at\": np.min}))\n",
      "C:\\Users\\gusge\\AppData\\Local\\Temp\\ipykernel_8060\\2440456843.py:10: FutureWarning: The provided callable <function min at 0x0000024E7E93C790> is currently using SeriesGroupBy.min. In a future version of pandas, the provided callable will be used directly. To keep current behavior pass the string \"min\" instead.\n",
      "  first_user_commit_by_chunks.append( df_commit.groupby([\"author_id\"], as_index=False).agg({\"created_at\": np.min}))\n",
      "C:\\Users\\gusge\\AppData\\Local\\Temp\\ipykernel_8060\\2440456843.py:10: FutureWarning: The provided callable <function min at 0x0000024E7E93C790> is currently using SeriesGroupBy.min. In a future version of pandas, the provided callable will be used directly. To keep current behavior pass the string \"min\" instead.\n",
      "  first_user_commit_by_chunks.append( df_commit.groupby([\"author_id\"], as_index=False).agg({\"created_at\": np.min}))\n",
      "C:\\Users\\gusge\\AppData\\Local\\Temp\\ipykernel_8060\\2440456843.py:10: FutureWarning: The provided callable <function min at 0x0000024E7E93C790> is currently using SeriesGroupBy.min. In a future version of pandas, the provided callable will be used directly. To keep current behavior pass the string \"min\" instead.\n",
      "  first_user_commit_by_chunks.append( df_commit.groupby([\"author_id\"], as_index=False).agg({\"created_at\": np.min}))\n",
      "C:\\Users\\gusge\\AppData\\Local\\Temp\\ipykernel_8060\\2440456843.py:10: FutureWarning: The provided callable <function min at 0x0000024E7E93C790> is currently using SeriesGroupBy.min. In a future version of pandas, the provided callable will be used directly. To keep current behavior pass the string \"min\" instead.\n",
      "  first_user_commit_by_chunks.append( df_commit.groupby([\"author_id\"], as_index=False).agg({\"created_at\": np.min}))\n",
      "C:\\Users\\gusge\\AppData\\Local\\Temp\\ipykernel_8060\\2440456843.py:10: FutureWarning: The provided callable <function min at 0x0000024E7E93C790> is currently using SeriesGroupBy.min. In a future version of pandas, the provided callable will be used directly. To keep current behavior pass the string \"min\" instead.\n",
      "  first_user_commit_by_chunks.append( df_commit.groupby([\"author_id\"], as_index=False).agg({\"created_at\": np.min}))\n",
      "C:\\Users\\gusge\\AppData\\Local\\Temp\\ipykernel_8060\\2440456843.py:10: FutureWarning: The provided callable <function min at 0x0000024E7E93C790> is currently using SeriesGroupBy.min. In a future version of pandas, the provided callable will be used directly. To keep current behavior pass the string \"min\" instead.\n",
      "  first_user_commit_by_chunks.append( df_commit.groupby([\"author_id\"], as_index=False).agg({\"created_at\": np.min}))\n"
     ]
    },
    {
     "name": "stdout",
     "output_type": "stream",
     "text": [
      "lendo arquivo:  214\n",
      "lendo arquivo:  215\n",
      "lendo arquivo:  216\n",
      "lendo arquivo:  217\n",
      "lendo arquivo:  218\n",
      "lendo arquivo:  219\n",
      "lendo arquivo:  220\n",
      "lendo arquivo:  221\n",
      "lendo arquivo:  222\n",
      "lendo arquivo:  223\n"
     ]
    },
    {
     "name": "stderr",
     "output_type": "stream",
     "text": [
      "C:\\Users\\gusge\\AppData\\Local\\Temp\\ipykernel_8060\\2440456843.py:10: FutureWarning: The provided callable <function min at 0x0000024E7E93C790> is currently using SeriesGroupBy.min. In a future version of pandas, the provided callable will be used directly. To keep current behavior pass the string \"min\" instead.\n",
      "  first_user_commit_by_chunks.append( df_commit.groupby([\"author_id\"], as_index=False).agg({\"created_at\": np.min}))\n"
     ]
    },
    {
     "name": "stdout",
     "output_type": "stream",
     "text": [
      "lendo arquivo:  224\n"
     ]
    },
    {
     "name": "stderr",
     "output_type": "stream",
     "text": [
      "C:\\Users\\gusge\\AppData\\Local\\Temp\\ipykernel_8060\\2440456843.py:10: FutureWarning: The provided callable <function min at 0x0000024E7E93C790> is currently using SeriesGroupBy.min. In a future version of pandas, the provided callable will be used directly. To keep current behavior pass the string \"min\" instead.\n",
      "  first_user_commit_by_chunks.append( df_commit.groupby([\"author_id\"], as_index=False).agg({\"created_at\": np.min}))\n",
      "C:\\Users\\gusge\\AppData\\Local\\Temp\\ipykernel_8060\\2440456843.py:10: FutureWarning: The provided callable <function min at 0x0000024E7E93C790> is currently using SeriesGroupBy.min. In a future version of pandas, the provided callable will be used directly. To keep current behavior pass the string \"min\" instead.\n",
      "  first_user_commit_by_chunks.append( df_commit.groupby([\"author_id\"], as_index=False).agg({\"created_at\": np.min}))\n",
      "C:\\Users\\gusge\\AppData\\Local\\Temp\\ipykernel_8060\\2440456843.py:10: FutureWarning: The provided callable <function min at 0x0000024E7E93C790> is currently using SeriesGroupBy.min. In a future version of pandas, the provided callable will be used directly. To keep current behavior pass the string \"min\" instead.\n",
      "  first_user_commit_by_chunks.append( df_commit.groupby([\"author_id\"], as_index=False).agg({\"created_at\": np.min}))\n",
      "C:\\Users\\gusge\\AppData\\Local\\Temp\\ipykernel_8060\\2440456843.py:10: FutureWarning: The provided callable <function min at 0x0000024E7E93C790> is currently using SeriesGroupBy.min. In a future version of pandas, the provided callable will be used directly. To keep current behavior pass the string \"min\" instead.\n",
      "  first_user_commit_by_chunks.append( df_commit.groupby([\"author_id\"], as_index=False).agg({\"created_at\": np.min}))\n",
      "C:\\Users\\gusge\\AppData\\Local\\Temp\\ipykernel_8060\\2440456843.py:10: FutureWarning: The provided callable <function min at 0x0000024E7E93C790> is currently using SeriesGroupBy.min. In a future version of pandas, the provided callable will be used directly. To keep current behavior pass the string \"min\" instead.\n",
      "  first_user_commit_by_chunks.append( df_commit.groupby([\"author_id\"], as_index=False).agg({\"created_at\": np.min}))\n"
     ]
    },
    {
     "name": "stdout",
     "output_type": "stream",
     "text": [
      "lendo arquivo:  225\n",
      "lendo arquivo:  226\n",
      "lendo arquivo:  227\n",
      "lendo arquivo:  228\n",
      "lendo arquivo:  229\n",
      "lendo arquivo:  230\n",
      "lendo arquivo:  231\n",
      "lendo arquivo:  232\n",
      "lendo arquivo:  233\n",
      "lendo arquivo:  234\n",
      "lendo arquivo:  235\n"
     ]
    },
    {
     "name": "stderr",
     "output_type": "stream",
     "text": [
      "C:\\Users\\gusge\\AppData\\Local\\Temp\\ipykernel_8060\\2440456843.py:10: FutureWarning: The provided callable <function min at 0x0000024E7E93C790> is currently using SeriesGroupBy.min. In a future version of pandas, the provided callable will be used directly. To keep current behavior pass the string \"min\" instead.\n",
      "  first_user_commit_by_chunks.append( df_commit.groupby([\"author_id\"], as_index=False).agg({\"created_at\": np.min}))\n",
      "C:\\Users\\gusge\\AppData\\Local\\Temp\\ipykernel_8060\\2440456843.py:10: FutureWarning: The provided callable <function min at 0x0000024E7E93C790> is currently using SeriesGroupBy.min. In a future version of pandas, the provided callable will be used directly. To keep current behavior pass the string \"min\" instead.\n",
      "  first_user_commit_by_chunks.append( df_commit.groupby([\"author_id\"], as_index=False).agg({\"created_at\": np.min}))\n",
      "C:\\Users\\gusge\\AppData\\Local\\Temp\\ipykernel_8060\\2440456843.py:10: FutureWarning: The provided callable <function min at 0x0000024E7E93C790> is currently using SeriesGroupBy.min. In a future version of pandas, the provided callable will be used directly. To keep current behavior pass the string \"min\" instead.\n",
      "  first_user_commit_by_chunks.append( df_commit.groupby([\"author_id\"], as_index=False).agg({\"created_at\": np.min}))\n",
      "C:\\Users\\gusge\\AppData\\Local\\Temp\\ipykernel_8060\\2440456843.py:10: FutureWarning: The provided callable <function min at 0x0000024E7E93C790> is currently using SeriesGroupBy.min. In a future version of pandas, the provided callable will be used directly. To keep current behavior pass the string \"min\" instead.\n",
      "  first_user_commit_by_chunks.append( df_commit.groupby([\"author_id\"], as_index=False).agg({\"created_at\": np.min}))\n",
      "C:\\Users\\gusge\\AppData\\Local\\Temp\\ipykernel_8060\\2440456843.py:10: FutureWarning: The provided callable <function min at 0x0000024E7E93C790> is currently using SeriesGroupBy.min. In a future version of pandas, the provided callable will be used directly. To keep current behavior pass the string \"min\" instead.\n",
      "  first_user_commit_by_chunks.append( df_commit.groupby([\"author_id\"], as_index=False).agg({\"created_at\": np.min}))\n",
      "C:\\Users\\gusge\\AppData\\Local\\Temp\\ipykernel_8060\\2440456843.py:10: FutureWarning: The provided callable <function min at 0x0000024E7E93C790> is currently using SeriesGroupBy.min. In a future version of pandas, the provided callable will be used directly. To keep current behavior pass the string \"min\" instead.\n",
      "  first_user_commit_by_chunks.append( df_commit.groupby([\"author_id\"], as_index=False).agg({\"created_at\": np.min}))\n",
      "C:\\Users\\gusge\\AppData\\Local\\Temp\\ipykernel_8060\\2440456843.py:10: FutureWarning: The provided callable <function min at 0x0000024E7E93C790> is currently using SeriesGroupBy.min. In a future version of pandas, the provided callable will be used directly. To keep current behavior pass the string \"min\" instead.\n",
      "  first_user_commit_by_chunks.append( df_commit.groupby([\"author_id\"], as_index=False).agg({\"created_at\": np.min}))\n"
     ]
    },
    {
     "name": "stdout",
     "output_type": "stream",
     "text": [
      "lendo arquivo:  236\n",
      "lendo arquivo:  237\n",
      "lendo arquivo:  238\n",
      "lendo arquivo:  239\n",
      "lendo arquivo:  240\n",
      "lendo arquivo:  241\n",
      "lendo arquivo:  242\n",
      "lendo arquivo:  243\n",
      "lendo arquivo:  244\n",
      "lendo arquivo:  245\n",
      "lendo arquivo:  246\n"
     ]
    },
    {
     "name": "stderr",
     "output_type": "stream",
     "text": [
      "C:\\Users\\gusge\\AppData\\Local\\Temp\\ipykernel_8060\\2440456843.py:10: FutureWarning: The provided callable <function min at 0x0000024E7E93C790> is currently using SeriesGroupBy.min. In a future version of pandas, the provided callable will be used directly. To keep current behavior pass the string \"min\" instead.\n",
      "  first_user_commit_by_chunks.append( df_commit.groupby([\"author_id\"], as_index=False).agg({\"created_at\": np.min}))\n",
      "C:\\Users\\gusge\\AppData\\Local\\Temp\\ipykernel_8060\\2440456843.py:10: FutureWarning: The provided callable <function min at 0x0000024E7E93C790> is currently using SeriesGroupBy.min. In a future version of pandas, the provided callable will be used directly. To keep current behavior pass the string \"min\" instead.\n",
      "  first_user_commit_by_chunks.append( df_commit.groupby([\"author_id\"], as_index=False).agg({\"created_at\": np.min}))\n",
      "C:\\Users\\gusge\\AppData\\Local\\Temp\\ipykernel_8060\\2440456843.py:10: FutureWarning: The provided callable <function min at 0x0000024E7E93C790> is currently using SeriesGroupBy.min. In a future version of pandas, the provided callable will be used directly. To keep current behavior pass the string \"min\" instead.\n",
      "  first_user_commit_by_chunks.append( df_commit.groupby([\"author_id\"], as_index=False).agg({\"created_at\": np.min}))\n",
      "C:\\Users\\gusge\\AppData\\Local\\Temp\\ipykernel_8060\\2440456843.py:10: FutureWarning: The provided callable <function min at 0x0000024E7E93C790> is currently using SeriesGroupBy.min. In a future version of pandas, the provided callable will be used directly. To keep current behavior pass the string \"min\" instead.\n",
      "  first_user_commit_by_chunks.append( df_commit.groupby([\"author_id\"], as_index=False).agg({\"created_at\": np.min}))\n",
      "C:\\Users\\gusge\\AppData\\Local\\Temp\\ipykernel_8060\\2440456843.py:10: FutureWarning: The provided callable <function min at 0x0000024E7E93C790> is currently using SeriesGroupBy.min. In a future version of pandas, the provided callable will be used directly. To keep current behavior pass the string \"min\" instead.\n",
      "  first_user_commit_by_chunks.append( df_commit.groupby([\"author_id\"], as_index=False).agg({\"created_at\": np.min}))\n",
      "C:\\Users\\gusge\\AppData\\Local\\Temp\\ipykernel_8060\\2440456843.py:10: FutureWarning: The provided callable <function min at 0x0000024E7E93C790> is currently using SeriesGroupBy.min. In a future version of pandas, the provided callable will be used directly. To keep current behavior pass the string \"min\" instead.\n",
      "  first_user_commit_by_chunks.append( df_commit.groupby([\"author_id\"], as_index=False).agg({\"created_at\": np.min}))\n",
      "C:\\Users\\gusge\\AppData\\Local\\Temp\\ipykernel_8060\\2440456843.py:10: FutureWarning: The provided callable <function min at 0x0000024E7E93C790> is currently using SeriesGroupBy.min. In a future version of pandas, the provided callable will be used directly. To keep current behavior pass the string \"min\" instead.\n",
      "  first_user_commit_by_chunks.append( df_commit.groupby([\"author_id\"], as_index=False).agg({\"created_at\": np.min}))\n",
      "C:\\Users\\gusge\\AppData\\Local\\Temp\\ipykernel_8060\\2440456843.py:10: FutureWarning: The provided callable <function min at 0x0000024E7E93C790> is currently using SeriesGroupBy.min. In a future version of pandas, the provided callable will be used directly. To keep current behavior pass the string \"min\" instead.\n",
      "  first_user_commit_by_chunks.append( df_commit.groupby([\"author_id\"], as_index=False).agg({\"created_at\": np.min}))\n",
      "C:\\Users\\gusge\\AppData\\Local\\Temp\\ipykernel_8060\\2440456843.py:10: FutureWarning: The provided callable <function min at 0x0000024E7E93C790> is currently using SeriesGroupBy.min. In a future version of pandas, the provided callable will be used directly. To keep current behavior pass the string \"min\" instead.\n",
      "  first_user_commit_by_chunks.append( df_commit.groupby([\"author_id\"], as_index=False).agg({\"created_at\": np.min}))\n",
      "C:\\Users\\gusge\\AppData\\Local\\Temp\\ipykernel_8060\\2440456843.py:10: FutureWarning: The provided callable <function min at 0x0000024E7E93C790> is currently using SeriesGroupBy.min. In a future version of pandas, the provided callable will be used directly. To keep current behavior pass the string \"min\" instead.\n",
      "  first_user_commit_by_chunks.append( df_commit.groupby([\"author_id\"], as_index=False).agg({\"created_at\": np.min}))\n",
      "C:\\Users\\gusge\\AppData\\Local\\Temp\\ipykernel_8060\\2440456843.py:10: FutureWarning: The provided callable <function min at 0x0000024E7E93C790> is currently using SeriesGroupBy.min. In a future version of pandas, the provided callable will be used directly. To keep current behavior pass the string \"min\" instead.\n",
      "  first_user_commit_by_chunks.append( df_commit.groupby([\"author_id\"], as_index=False).agg({\"created_at\": np.min}))\n"
     ]
    },
    {
     "name": "stdout",
     "output_type": "stream",
     "text": [
      "lendo arquivo:  247\n",
      "lendo arquivo:  248\n",
      "lendo arquivo:  249\n",
      "lendo arquivo:  250\n",
      "lendo arquivo:  251\n"
     ]
    },
    {
     "name": "stderr",
     "output_type": "stream",
     "text": [
      "C:\\Users\\gusge\\AppData\\Local\\Temp\\ipykernel_8060\\2440456843.py:10: FutureWarning: The provided callable <function min at 0x0000024E7E93C790> is currently using SeriesGroupBy.min. In a future version of pandas, the provided callable will be used directly. To keep current behavior pass the string \"min\" instead.\n",
      "  first_user_commit_by_chunks.append( df_commit.groupby([\"author_id\"], as_index=False).agg({\"created_at\": np.min}))\n",
      "C:\\Users\\gusge\\AppData\\Local\\Temp\\ipykernel_8060\\2440456843.py:10: FutureWarning: The provided callable <function min at 0x0000024E7E93C790> is currently using SeriesGroupBy.min. In a future version of pandas, the provided callable will be used directly. To keep current behavior pass the string \"min\" instead.\n",
      "  first_user_commit_by_chunks.append( df_commit.groupby([\"author_id\"], as_index=False).agg({\"created_at\": np.min}))\n",
      "C:\\Users\\gusge\\AppData\\Local\\Temp\\ipykernel_8060\\2440456843.py:10: FutureWarning: The provided callable <function min at 0x0000024E7E93C790> is currently using SeriesGroupBy.min. In a future version of pandas, the provided callable will be used directly. To keep current behavior pass the string \"min\" instead.\n",
      "  first_user_commit_by_chunks.append( df_commit.groupby([\"author_id\"], as_index=False).agg({\"created_at\": np.min}))\n",
      "C:\\Users\\gusge\\AppData\\Local\\Temp\\ipykernel_8060\\2440456843.py:10: FutureWarning: The provided callable <function min at 0x0000024E7E93C790> is currently using SeriesGroupBy.min. In a future version of pandas, the provided callable will be used directly. To keep current behavior pass the string \"min\" instead.\n",
      "  first_user_commit_by_chunks.append( df_commit.groupby([\"author_id\"], as_index=False).agg({\"created_at\": np.min}))\n",
      "C:\\Users\\gusge\\AppData\\Local\\Temp\\ipykernel_8060\\2440456843.py:10: FutureWarning: The provided callable <function min at 0x0000024E7E93C790> is currently using SeriesGroupBy.min. In a future version of pandas, the provided callable will be used directly. To keep current behavior pass the string \"min\" instead.\n",
      "  first_user_commit_by_chunks.append( df_commit.groupby([\"author_id\"], as_index=False).agg({\"created_at\": np.min}))\n",
      "C:\\Users\\gusge\\AppData\\Local\\Temp\\ipykernel_8060\\2440456843.py:10: FutureWarning: The provided callable <function min at 0x0000024E7E93C790> is currently using SeriesGroupBy.min. In a future version of pandas, the provided callable will be used directly. To keep current behavior pass the string \"min\" instead.\n",
      "  first_user_commit_by_chunks.append( df_commit.groupby([\"author_id\"], as_index=False).agg({\"created_at\": np.min}))\n",
      "C:\\Users\\gusge\\AppData\\Local\\Temp\\ipykernel_8060\\2440456843.py:10: FutureWarning: The provided callable <function min at 0x0000024E7E93C790> is currently using SeriesGroupBy.min. In a future version of pandas, the provided callable will be used directly. To keep current behavior pass the string \"min\" instead.\n",
      "  first_user_commit_by_chunks.append( df_commit.groupby([\"author_id\"], as_index=False).agg({\"created_at\": np.min}))\n",
      "C:\\Users\\gusge\\AppData\\Local\\Temp\\ipykernel_8060\\2440456843.py:10: FutureWarning: The provided callable <function min at 0x0000024E7E93C790> is currently using SeriesGroupBy.min. In a future version of pandas, the provided callable will be used directly. To keep current behavior pass the string \"min\" instead.\n",
      "  first_user_commit_by_chunks.append( df_commit.groupby([\"author_id\"], as_index=False).agg({\"created_at\": np.min}))\n",
      "C:\\Users\\gusge\\AppData\\Local\\Temp\\ipykernel_8060\\2440456843.py:10: FutureWarning: The provided callable <function min at 0x0000024E7E93C790> is currently using SeriesGroupBy.min. In a future version of pandas, the provided callable will be used directly. To keep current behavior pass the string \"min\" instead.\n",
      "  first_user_commit_by_chunks.append( df_commit.groupby([\"author_id\"], as_index=False).agg({\"created_at\": np.min}))\n",
      "C:\\Users\\gusge\\AppData\\Local\\Temp\\ipykernel_8060\\2440456843.py:10: FutureWarning: The provided callable <function min at 0x0000024E7E93C790> is currently using SeriesGroupBy.min. In a future version of pandas, the provided callable will be used directly. To keep current behavior pass the string \"min\" instead.\n",
      "  first_user_commit_by_chunks.append( df_commit.groupby([\"author_id\"], as_index=False).agg({\"created_at\": np.min}))\n"
     ]
    },
    {
     "name": "stdout",
     "output_type": "stream",
     "text": [
      "lendo arquivo:  252\n",
      "lendo arquivo:  253\n",
      "lendo arquivo:  254\n",
      "lendo arquivo:  255\n",
      "lendo arquivo:  256\n",
      "lendo arquivo:  257\n"
     ]
    },
    {
     "name": "stderr",
     "output_type": "stream",
     "text": [
      "C:\\Users\\gusge\\AppData\\Local\\Temp\\ipykernel_8060\\2440456843.py:10: FutureWarning: The provided callable <function min at 0x0000024E7E93C790> is currently using SeriesGroupBy.min. In a future version of pandas, the provided callable will be used directly. To keep current behavior pass the string \"min\" instead.\n",
      "  first_user_commit_by_chunks.append( df_commit.groupby([\"author_id\"], as_index=False).agg({\"created_at\": np.min}))\n"
     ]
    },
    {
     "name": "stdout",
     "output_type": "stream",
     "text": [
      "lendo arquivo:  258\n"
     ]
    },
    {
     "name": "stderr",
     "output_type": "stream",
     "text": [
      "C:\\Users\\gusge\\AppData\\Local\\Temp\\ipykernel_8060\\2440456843.py:10: FutureWarning: The provided callable <function min at 0x0000024E7E93C790> is currently using SeriesGroupBy.min. In a future version of pandas, the provided callable will be used directly. To keep current behavior pass the string \"min\" instead.\n",
      "  first_user_commit_by_chunks.append( df_commit.groupby([\"author_id\"], as_index=False).agg({\"created_at\": np.min}))\n"
     ]
    },
    {
     "name": "stdout",
     "output_type": "stream",
     "text": [
      "lendo arquivo:  259\n"
     ]
    },
    {
     "name": "stderr",
     "output_type": "stream",
     "text": [
      "C:\\Users\\gusge\\AppData\\Local\\Temp\\ipykernel_8060\\2440456843.py:10: FutureWarning: The provided callable <function min at 0x0000024E7E93C790> is currently using SeriesGroupBy.min. In a future version of pandas, the provided callable will be used directly. To keep current behavior pass the string \"min\" instead.\n",
      "  first_user_commit_by_chunks.append( df_commit.groupby([\"author_id\"], as_index=False).agg({\"created_at\": np.min}))\n"
     ]
    },
    {
     "name": "stdout",
     "output_type": "stream",
     "text": [
      "lendo arquivo:  260\n"
     ]
    },
    {
     "name": "stderr",
     "output_type": "stream",
     "text": [
      "C:\\Users\\gusge\\AppData\\Local\\Temp\\ipykernel_8060\\2440456843.py:10: FutureWarning: The provided callable <function min at 0x0000024E7E93C790> is currently using SeriesGroupBy.min. In a future version of pandas, the provided callable will be used directly. To keep current behavior pass the string \"min\" instead.\n",
      "  first_user_commit_by_chunks.append( df_commit.groupby([\"author_id\"], as_index=False).agg({\"created_at\": np.min}))\n"
     ]
    },
    {
     "name": "stdout",
     "output_type": "stream",
     "text": [
      "lendo arquivo:  261\n"
     ]
    },
    {
     "name": "stderr",
     "output_type": "stream",
     "text": [
      "C:\\Users\\gusge\\AppData\\Local\\Temp\\ipykernel_8060\\2440456843.py:10: FutureWarning: The provided callable <function min at 0x0000024E7E93C790> is currently using SeriesGroupBy.min. In a future version of pandas, the provided callable will be used directly. To keep current behavior pass the string \"min\" instead.\n",
      "  first_user_commit_by_chunks.append( df_commit.groupby([\"author_id\"], as_index=False).agg({\"created_at\": np.min}))\n"
     ]
    },
    {
     "name": "stdout",
     "output_type": "stream",
     "text": [
      "lendo arquivo:  262\n"
     ]
    },
    {
     "name": "stderr",
     "output_type": "stream",
     "text": [
      "C:\\Users\\gusge\\AppData\\Local\\Temp\\ipykernel_8060\\2440456843.py:10: FutureWarning: The provided callable <function min at 0x0000024E7E93C790> is currently using SeriesGroupBy.min. In a future version of pandas, the provided callable will be used directly. To keep current behavior pass the string \"min\" instead.\n",
      "  first_user_commit_by_chunks.append( df_commit.groupby([\"author_id\"], as_index=False).agg({\"created_at\": np.min}))\n",
      "C:\\Users\\gusge\\AppData\\Local\\Temp\\ipykernel_8060\\2440456843.py:10: FutureWarning: The provided callable <function min at 0x0000024E7E93C790> is currently using SeriesGroupBy.min. In a future version of pandas, the provided callable will be used directly. To keep current behavior pass the string \"min\" instead.\n",
      "  first_user_commit_by_chunks.append( df_commit.groupby([\"author_id\"], as_index=False).agg({\"created_at\": np.min}))\n"
     ]
    },
    {
     "name": "stdout",
     "output_type": "stream",
     "text": [
      "lendo arquivo:  263\n",
      "lendo arquivo:  264\n"
     ]
    },
    {
     "name": "stderr",
     "output_type": "stream",
     "text": [
      "C:\\Users\\gusge\\AppData\\Local\\Temp\\ipykernel_8060\\2440456843.py:10: FutureWarning: The provided callable <function min at 0x0000024E7E93C790> is currently using SeriesGroupBy.min. In a future version of pandas, the provided callable will be used directly. To keep current behavior pass the string \"min\" instead.\n",
      "  first_user_commit_by_chunks.append( df_commit.groupby([\"author_id\"], as_index=False).agg({\"created_at\": np.min}))\n"
     ]
    },
    {
     "name": "stdout",
     "output_type": "stream",
     "text": [
      "lendo arquivo:  265\n"
     ]
    },
    {
     "name": "stderr",
     "output_type": "stream",
     "text": [
      "C:\\Users\\gusge\\AppData\\Local\\Temp\\ipykernel_8060\\2440456843.py:10: FutureWarning: The provided callable <function min at 0x0000024E7E93C790> is currently using SeriesGroupBy.min. In a future version of pandas, the provided callable will be used directly. To keep current behavior pass the string \"min\" instead.\n",
      "  first_user_commit_by_chunks.append( df_commit.groupby([\"author_id\"], as_index=False).agg({\"created_at\": np.min}))\n"
     ]
    },
    {
     "name": "stdout",
     "output_type": "stream",
     "text": [
      "lendo arquivo:  266\n"
     ]
    },
    {
     "name": "stderr",
     "output_type": "stream",
     "text": [
      "C:\\Users\\gusge\\AppData\\Local\\Temp\\ipykernel_8060\\2440456843.py:10: FutureWarning: The provided callable <function min at 0x0000024E7E93C790> is currently using SeriesGroupBy.min. In a future version of pandas, the provided callable will be used directly. To keep current behavior pass the string \"min\" instead.\n",
      "  first_user_commit_by_chunks.append( df_commit.groupby([\"author_id\"], as_index=False).agg({\"created_at\": np.min}))\n"
     ]
    },
    {
     "name": "stdout",
     "output_type": "stream",
     "text": [
      "lendo arquivo:  267\n"
     ]
    },
    {
     "name": "stderr",
     "output_type": "stream",
     "text": [
      "C:\\Users\\gusge\\AppData\\Local\\Temp\\ipykernel_8060\\2440456843.py:10: FutureWarning: The provided callable <function min at 0x0000024E7E93C790> is currently using SeriesGroupBy.min. In a future version of pandas, the provided callable will be used directly. To keep current behavior pass the string \"min\" instead.\n",
      "  first_user_commit_by_chunks.append( df_commit.groupby([\"author_id\"], as_index=False).agg({\"created_at\": np.min}))\n"
     ]
    },
    {
     "name": "stdout",
     "output_type": "stream",
     "text": [
      "lendo arquivo:  268\n"
     ]
    },
    {
     "name": "stderr",
     "output_type": "stream",
     "text": [
      "C:\\Users\\gusge\\AppData\\Local\\Temp\\ipykernel_8060\\2440456843.py:10: FutureWarning: The provided callable <function min at 0x0000024E7E93C790> is currently using SeriesGroupBy.min. In a future version of pandas, the provided callable will be used directly. To keep current behavior pass the string \"min\" instead.\n",
      "  first_user_commit_by_chunks.append( df_commit.groupby([\"author_id\"], as_index=False).agg({\"created_at\": np.min}))\n"
     ]
    },
    {
     "name": "stdout",
     "output_type": "stream",
     "text": [
      "lendo arquivo:  269\n"
     ]
    },
    {
     "name": "stderr",
     "output_type": "stream",
     "text": [
      "C:\\Users\\gusge\\AppData\\Local\\Temp\\ipykernel_8060\\2440456843.py:10: FutureWarning: The provided callable <function min at 0x0000024E7E93C790> is currently using SeriesGroupBy.min. In a future version of pandas, the provided callable will be used directly. To keep current behavior pass the string \"min\" instead.\n",
      "  first_user_commit_by_chunks.append( df_commit.groupby([\"author_id\"], as_index=False).agg({\"created_at\": np.min}))\n"
     ]
    },
    {
     "name": "stdout",
     "output_type": "stream",
     "text": [
      "lendo arquivo:  270\n"
     ]
    },
    {
     "name": "stderr",
     "output_type": "stream",
     "text": [
      "C:\\Users\\gusge\\AppData\\Local\\Temp\\ipykernel_8060\\2440456843.py:10: FutureWarning: The provided callable <function min at 0x0000024E7E93C790> is currently using SeriesGroupBy.min. In a future version of pandas, the provided callable will be used directly. To keep current behavior pass the string \"min\" instead.\n",
      "  first_user_commit_by_chunks.append( df_commit.groupby([\"author_id\"], as_index=False).agg({\"created_at\": np.min}))\n"
     ]
    },
    {
     "name": "stdout",
     "output_type": "stream",
     "text": [
      "lendo arquivo:  271\n"
     ]
    },
    {
     "name": "stderr",
     "output_type": "stream",
     "text": [
      "C:\\Users\\gusge\\AppData\\Local\\Temp\\ipykernel_8060\\2440456843.py:10: FutureWarning: The provided callable <function min at 0x0000024E7E93C790> is currently using SeriesGroupBy.min. In a future version of pandas, the provided callable will be used directly. To keep current behavior pass the string \"min\" instead.\n",
      "  first_user_commit_by_chunks.append( df_commit.groupby([\"author_id\"], as_index=False).agg({\"created_at\": np.min}))\n"
     ]
    },
    {
     "name": "stdout",
     "output_type": "stream",
     "text": [
      "lendo arquivo:  272\n"
     ]
    },
    {
     "name": "stderr",
     "output_type": "stream",
     "text": [
      "C:\\Users\\gusge\\AppData\\Local\\Temp\\ipykernel_8060\\2440456843.py:10: FutureWarning: The provided callable <function min at 0x0000024E7E93C790> is currently using SeriesGroupBy.min. In a future version of pandas, the provided callable will be used directly. To keep current behavior pass the string \"min\" instead.\n",
      "  first_user_commit_by_chunks.append( df_commit.groupby([\"author_id\"], as_index=False).agg({\"created_at\": np.min}))\n"
     ]
    },
    {
     "name": "stdout",
     "output_type": "stream",
     "text": [
      "lendo arquivo:  273\n"
     ]
    },
    {
     "name": "stderr",
     "output_type": "stream",
     "text": [
      "C:\\Users\\gusge\\AppData\\Local\\Temp\\ipykernel_8060\\2440456843.py:10: FutureWarning: The provided callable <function min at 0x0000024E7E93C790> is currently using SeriesGroupBy.min. In a future version of pandas, the provided callable will be used directly. To keep current behavior pass the string \"min\" instead.\n",
      "  first_user_commit_by_chunks.append( df_commit.groupby([\"author_id\"], as_index=False).agg({\"created_at\": np.min}))\n"
     ]
    },
    {
     "name": "stdout",
     "output_type": "stream",
     "text": [
      "lendo arquivo:  274\n"
     ]
    },
    {
     "name": "stderr",
     "output_type": "stream",
     "text": [
      "C:\\Users\\gusge\\AppData\\Local\\Temp\\ipykernel_8060\\2440456843.py:10: FutureWarning: The provided callable <function min at 0x0000024E7E93C790> is currently using SeriesGroupBy.min. In a future version of pandas, the provided callable will be used directly. To keep current behavior pass the string \"min\" instead.\n",
      "  first_user_commit_by_chunks.append( df_commit.groupby([\"author_id\"], as_index=False).agg({\"created_at\": np.min}))\n"
     ]
    },
    {
     "name": "stdout",
     "output_type": "stream",
     "text": [
      "lendo arquivo:  275\n"
     ]
    },
    {
     "name": "stderr",
     "output_type": "stream",
     "text": [
      "C:\\Users\\gusge\\AppData\\Local\\Temp\\ipykernel_8060\\2440456843.py:10: FutureWarning: The provided callable <function min at 0x0000024E7E93C790> is currently using SeriesGroupBy.min. In a future version of pandas, the provided callable will be used directly. To keep current behavior pass the string \"min\" instead.\n",
      "  first_user_commit_by_chunks.append( df_commit.groupby([\"author_id\"], as_index=False).agg({\"created_at\": np.min}))\n"
     ]
    },
    {
     "name": "stdout",
     "output_type": "stream",
     "text": [
      "lendo arquivo:  276\n"
     ]
    },
    {
     "name": "stderr",
     "output_type": "stream",
     "text": [
      "C:\\Users\\gusge\\AppData\\Local\\Temp\\ipykernel_8060\\2440456843.py:10: FutureWarning: The provided callable <function min at 0x0000024E7E93C790> is currently using SeriesGroupBy.min. In a future version of pandas, the provided callable will be used directly. To keep current behavior pass the string \"min\" instead.\n",
      "  first_user_commit_by_chunks.append( df_commit.groupby([\"author_id\"], as_index=False).agg({\"created_at\": np.min}))\n"
     ]
    },
    {
     "name": "stdout",
     "output_type": "stream",
     "text": [
      "lendo arquivo:  277\n"
     ]
    },
    {
     "name": "stderr",
     "output_type": "stream",
     "text": [
      "C:\\Users\\gusge\\AppData\\Local\\Temp\\ipykernel_8060\\2440456843.py:10: FutureWarning: The provided callable <function min at 0x0000024E7E93C790> is currently using SeriesGroupBy.min. In a future version of pandas, the provided callable will be used directly. To keep current behavior pass the string \"min\" instead.\n",
      "  first_user_commit_by_chunks.append( df_commit.groupby([\"author_id\"], as_index=False).agg({\"created_at\": np.min}))\n"
     ]
    },
    {
     "name": "stdout",
     "output_type": "stream",
     "text": [
      "lendo arquivo:  278\n"
     ]
    },
    {
     "name": "stderr",
     "output_type": "stream",
     "text": [
      "C:\\Users\\gusge\\AppData\\Local\\Temp\\ipykernel_8060\\2440456843.py:10: FutureWarning: The provided callable <function min at 0x0000024E7E93C790> is currently using SeriesGroupBy.min. In a future version of pandas, the provided callable will be used directly. To keep current behavior pass the string \"min\" instead.\n",
      "  first_user_commit_by_chunks.append( df_commit.groupby([\"author_id\"], as_index=False).agg({\"created_at\": np.min}))\n"
     ]
    },
    {
     "name": "stdout",
     "output_type": "stream",
     "text": [
      "lendo arquivo:  279\n"
     ]
    },
    {
     "name": "stderr",
     "output_type": "stream",
     "text": [
      "C:\\Users\\gusge\\AppData\\Local\\Temp\\ipykernel_8060\\2440456843.py:10: FutureWarning: The provided callable <function min at 0x0000024E7E93C790> is currently using SeriesGroupBy.min. In a future version of pandas, the provided callable will be used directly. To keep current behavior pass the string \"min\" instead.\n",
      "  first_user_commit_by_chunks.append( df_commit.groupby([\"author_id\"], as_index=False).agg({\"created_at\": np.min}))\n"
     ]
    },
    {
     "name": "stdout",
     "output_type": "stream",
     "text": [
      "lendo arquivo:  280\n"
     ]
    },
    {
     "name": "stderr",
     "output_type": "stream",
     "text": [
      "C:\\Users\\gusge\\AppData\\Local\\Temp\\ipykernel_8060\\2440456843.py:10: FutureWarning: The provided callable <function min at 0x0000024E7E93C790> is currently using SeriesGroupBy.min. In a future version of pandas, the provided callable will be used directly. To keep current behavior pass the string \"min\" instead.\n",
      "  first_user_commit_by_chunks.append( df_commit.groupby([\"author_id\"], as_index=False).agg({\"created_at\": np.min}))\n"
     ]
    },
    {
     "name": "stdout",
     "output_type": "stream",
     "text": [
      "lendo arquivo:  281\n"
     ]
    },
    {
     "name": "stderr",
     "output_type": "stream",
     "text": [
      "C:\\Users\\gusge\\AppData\\Local\\Temp\\ipykernel_8060\\2440456843.py:10: FutureWarning: The provided callable <function min at 0x0000024E7E93C790> is currently using SeriesGroupBy.min. In a future version of pandas, the provided callable will be used directly. To keep current behavior pass the string \"min\" instead.\n",
      "  first_user_commit_by_chunks.append( df_commit.groupby([\"author_id\"], as_index=False).agg({\"created_at\": np.min}))\n"
     ]
    },
    {
     "name": "stdout",
     "output_type": "stream",
     "text": [
      "lendo arquivo:  282\n"
     ]
    },
    {
     "name": "stderr",
     "output_type": "stream",
     "text": [
      "C:\\Users\\gusge\\AppData\\Local\\Temp\\ipykernel_8060\\2440456843.py:10: FutureWarning: The provided callable <function min at 0x0000024E7E93C790> is currently using SeriesGroupBy.min. In a future version of pandas, the provided callable will be used directly. To keep current behavior pass the string \"min\" instead.\n",
      "  first_user_commit_by_chunks.append( df_commit.groupby([\"author_id\"], as_index=False).agg({\"created_at\": np.min}))\n",
      "C:\\Users\\gusge\\AppData\\Local\\Temp\\ipykernel_8060\\2440456843.py:10: FutureWarning: The provided callable <function min at 0x0000024E7E93C790> is currently using SeriesGroupBy.min. In a future version of pandas, the provided callable will be used directly. To keep current behavior pass the string \"min\" instead.\n",
      "  first_user_commit_by_chunks.append( df_commit.groupby([\"author_id\"], as_index=False).agg({\"created_at\": np.min}))\n"
     ]
    },
    {
     "name": "stdout",
     "output_type": "stream",
     "text": [
      "lendo arquivo:  283\n",
      "lendo arquivo:  284\n"
     ]
    },
    {
     "name": "stderr",
     "output_type": "stream",
     "text": [
      "C:\\Users\\gusge\\AppData\\Local\\Temp\\ipykernel_8060\\2440456843.py:10: FutureWarning: The provided callable <function min at 0x0000024E7E93C790> is currently using SeriesGroupBy.min. In a future version of pandas, the provided callable will be used directly. To keep current behavior pass the string \"min\" instead.\n",
      "  first_user_commit_by_chunks.append( df_commit.groupby([\"author_id\"], as_index=False).agg({\"created_at\": np.min}))\n"
     ]
    },
    {
     "name": "stdout",
     "output_type": "stream",
     "text": [
      "lendo arquivo:  285\n"
     ]
    },
    {
     "name": "stderr",
     "output_type": "stream",
     "text": [
      "C:\\Users\\gusge\\AppData\\Local\\Temp\\ipykernel_8060\\2440456843.py:10: FutureWarning: The provided callable <function min at 0x0000024E7E93C790> is currently using SeriesGroupBy.min. In a future version of pandas, the provided callable will be used directly. To keep current behavior pass the string \"min\" instead.\n",
      "  first_user_commit_by_chunks.append( df_commit.groupby([\"author_id\"], as_index=False).agg({\"created_at\": np.min}))\n"
     ]
    },
    {
     "name": "stdout",
     "output_type": "stream",
     "text": [
      "lendo arquivo:  286\n"
     ]
    },
    {
     "name": "stderr",
     "output_type": "stream",
     "text": [
      "C:\\Users\\gusge\\AppData\\Local\\Temp\\ipykernel_8060\\2440456843.py:10: FutureWarning: The provided callable <function min at 0x0000024E7E93C790> is currently using SeriesGroupBy.min. In a future version of pandas, the provided callable will be used directly. To keep current behavior pass the string \"min\" instead.\n",
      "  first_user_commit_by_chunks.append( df_commit.groupby([\"author_id\"], as_index=False).agg({\"created_at\": np.min}))\n"
     ]
    },
    {
     "name": "stdout",
     "output_type": "stream",
     "text": [
      "lendo arquivo:  287\n"
     ]
    },
    {
     "name": "stderr",
     "output_type": "stream",
     "text": [
      "C:\\Users\\gusge\\AppData\\Local\\Temp\\ipykernel_8060\\2440456843.py:10: FutureWarning: The provided callable <function min at 0x0000024E7E93C790> is currently using SeriesGroupBy.min. In a future version of pandas, the provided callable will be used directly. To keep current behavior pass the string \"min\" instead.\n",
      "  first_user_commit_by_chunks.append( df_commit.groupby([\"author_id\"], as_index=False).agg({\"created_at\": np.min}))\n",
      "C:\\Users\\gusge\\AppData\\Local\\Temp\\ipykernel_8060\\2440456843.py:10: FutureWarning: The provided callable <function min at 0x0000024E7E93C790> is currently using SeriesGroupBy.min. In a future version of pandas, the provided callable will be used directly. To keep current behavior pass the string \"min\" instead.\n",
      "  first_user_commit_by_chunks.append( df_commit.groupby([\"author_id\"], as_index=False).agg({\"created_at\": np.min}))\n",
      "C:\\Users\\gusge\\AppData\\Local\\Temp\\ipykernel_8060\\2440456843.py:10: FutureWarning: The provided callable <function min at 0x0000024E7E93C790> is currently using SeriesGroupBy.min. In a future version of pandas, the provided callable will be used directly. To keep current behavior pass the string \"min\" instead.\n",
      "  first_user_commit_by_chunks.append( df_commit.groupby([\"author_id\"], as_index=False).agg({\"created_at\": np.min}))\n"
     ]
    },
    {
     "name": "stdout",
     "output_type": "stream",
     "text": [
      "lendo arquivo:  288\n",
      "lendo arquivo:  289\n",
      "lendo arquivo:  290\n"
     ]
    },
    {
     "name": "stderr",
     "output_type": "stream",
     "text": [
      "C:\\Users\\gusge\\AppData\\Local\\Temp\\ipykernel_8060\\2440456843.py:10: FutureWarning: The provided callable <function min at 0x0000024E7E93C790> is currently using SeriesGroupBy.min. In a future version of pandas, the provided callable will be used directly. To keep current behavior pass the string \"min\" instead.\n",
      "  first_user_commit_by_chunks.append( df_commit.groupby([\"author_id\"], as_index=False).agg({\"created_at\": np.min}))\n",
      "C:\\Users\\gusge\\AppData\\Local\\Temp\\ipykernel_8060\\2440456843.py:10: FutureWarning: The provided callable <function min at 0x0000024E7E93C790> is currently using SeriesGroupBy.min. In a future version of pandas, the provided callable will be used directly. To keep current behavior pass the string \"min\" instead.\n",
      "  first_user_commit_by_chunks.append( df_commit.groupby([\"author_id\"], as_index=False).agg({\"created_at\": np.min}))\n",
      "C:\\Users\\gusge\\AppData\\Local\\Temp\\ipykernel_8060\\2440456843.py:10: FutureWarning: The provided callable <function min at 0x0000024E7E93C790> is currently using SeriesGroupBy.min. In a future version of pandas, the provided callable will be used directly. To keep current behavior pass the string \"min\" instead.\n",
      "  first_user_commit_by_chunks.append( df_commit.groupby([\"author_id\"], as_index=False).agg({\"created_at\": np.min}))\n"
     ]
    },
    {
     "name": "stdout",
     "output_type": "stream",
     "text": [
      "lendo arquivo:  291\n",
      "lendo arquivo:  292\n",
      "lendo arquivo:  293\n"
     ]
    },
    {
     "name": "stderr",
     "output_type": "stream",
     "text": [
      "C:\\Users\\gusge\\AppData\\Local\\Temp\\ipykernel_8060\\2440456843.py:10: FutureWarning: The provided callable <function min at 0x0000024E7E93C790> is currently using SeriesGroupBy.min. In a future version of pandas, the provided callable will be used directly. To keep current behavior pass the string \"min\" instead.\n",
      "  first_user_commit_by_chunks.append( df_commit.groupby([\"author_id\"], as_index=False).agg({\"created_at\": np.min}))\n",
      "C:\\Users\\gusge\\AppData\\Local\\Temp\\ipykernel_8060\\2440456843.py:10: FutureWarning: The provided callable <function min at 0x0000024E7E93C790> is currently using SeriesGroupBy.min. In a future version of pandas, the provided callable will be used directly. To keep current behavior pass the string \"min\" instead.\n",
      "  first_user_commit_by_chunks.append( df_commit.groupby([\"author_id\"], as_index=False).agg({\"created_at\": np.min}))\n",
      "C:\\Users\\gusge\\AppData\\Local\\Temp\\ipykernel_8060\\2440456843.py:10: FutureWarning: The provided callable <function min at 0x0000024E7E93C790> is currently using SeriesGroupBy.min. In a future version of pandas, the provided callable will be used directly. To keep current behavior pass the string \"min\" instead.\n",
      "  first_user_commit_by_chunks.append( df_commit.groupby([\"author_id\"], as_index=False).agg({\"created_at\": np.min}))\n",
      "C:\\Users\\gusge\\AppData\\Local\\Temp\\ipykernel_8060\\2440456843.py:10: FutureWarning: The provided callable <function min at 0x0000024E7E93C790> is currently using SeriesGroupBy.min. In a future version of pandas, the provided callable will be used directly. To keep current behavior pass the string \"min\" instead.\n",
      "  first_user_commit_by_chunks.append( df_commit.groupby([\"author_id\"], as_index=False).agg({\"created_at\": np.min}))\n",
      "C:\\Users\\gusge\\AppData\\Local\\Temp\\ipykernel_8060\\2440456843.py:10: FutureWarning: The provided callable <function min at 0x0000024E7E93C790> is currently using SeriesGroupBy.min. In a future version of pandas, the provided callable will be used directly. To keep current behavior pass the string \"min\" instead.\n",
      "  first_user_commit_by_chunks.append( df_commit.groupby([\"author_id\"], as_index=False).agg({\"created_at\": np.min}))\n",
      "C:\\Users\\gusge\\AppData\\Local\\Temp\\ipykernel_8060\\2440456843.py:10: FutureWarning: The provided callable <function min at 0x0000024E7E93C790> is currently using SeriesGroupBy.min. In a future version of pandas, the provided callable will be used directly. To keep current behavior pass the string \"min\" instead.\n",
      "  first_user_commit_by_chunks.append( df_commit.groupby([\"author_id\"], as_index=False).agg({\"created_at\": np.min}))\n",
      "C:\\Users\\gusge\\AppData\\Local\\Temp\\ipykernel_8060\\2440456843.py:10: FutureWarning: The provided callable <function min at 0x0000024E7E93C790> is currently using SeriesGroupBy.min. In a future version of pandas, the provided callable will be used directly. To keep current behavior pass the string \"min\" instead.\n",
      "  first_user_commit_by_chunks.append( df_commit.groupby([\"author_id\"], as_index=False).agg({\"created_at\": np.min}))\n",
      "C:\\Users\\gusge\\AppData\\Local\\Temp\\ipykernel_8060\\2440456843.py:10: FutureWarning: The provided callable <function min at 0x0000024E7E93C790> is currently using SeriesGroupBy.min. In a future version of pandas, the provided callable will be used directly. To keep current behavior pass the string \"min\" instead.\n",
      "  first_user_commit_by_chunks.append( df_commit.groupby([\"author_id\"], as_index=False).agg({\"created_at\": np.min}))\n"
     ]
    },
    {
     "name": "stdout",
     "output_type": "stream",
     "text": [
      "lendo arquivo:  294\n",
      "lendo arquivo:  295\n",
      "lendo arquivo:  296\n",
      "lendo arquivo:  297\n",
      "lendo arquivo:  298\n",
      "lendo arquivo:  299\n",
      "lendo arquivo:  300\n",
      "lendo arquivo:  301\n"
     ]
    },
    {
     "name": "stderr",
     "output_type": "stream",
     "text": [
      "C:\\Users\\gusge\\AppData\\Local\\Temp\\ipykernel_8060\\2440456843.py:10: FutureWarning: The provided callable <function min at 0x0000024E7E93C790> is currently using SeriesGroupBy.min. In a future version of pandas, the provided callable will be used directly. To keep current behavior pass the string \"min\" instead.\n",
      "  first_user_commit_by_chunks.append( df_commit.groupby([\"author_id\"], as_index=False).agg({\"created_at\": np.min}))\n",
      "C:\\Users\\gusge\\AppData\\Local\\Temp\\ipykernel_8060\\2440456843.py:10: FutureWarning: The provided callable <function min at 0x0000024E7E93C790> is currently using SeriesGroupBy.min. In a future version of pandas, the provided callable will be used directly. To keep current behavior pass the string \"min\" instead.\n",
      "  first_user_commit_by_chunks.append( df_commit.groupby([\"author_id\"], as_index=False).agg({\"created_at\": np.min}))\n"
     ]
    },
    {
     "name": "stdout",
     "output_type": "stream",
     "text": [
      "lendo arquivo:  302\n",
      "lendo arquivo:  303\n",
      "lendo arquivo:  304\n",
      "lendo arquivo:  305\n",
      "lendo arquivo:  306\n",
      "lendo arquivo:  307\n",
      "lendo arquivo:  308\n"
     ]
    },
    {
     "name": "stderr",
     "output_type": "stream",
     "text": [
      "C:\\Users\\gusge\\AppData\\Local\\Temp\\ipykernel_8060\\2440456843.py:10: FutureWarning: The provided callable <function min at 0x0000024E7E93C790> is currently using SeriesGroupBy.min. In a future version of pandas, the provided callable will be used directly. To keep current behavior pass the string \"min\" instead.\n",
      "  first_user_commit_by_chunks.append( df_commit.groupby([\"author_id\"], as_index=False).agg({\"created_at\": np.min}))\n",
      "C:\\Users\\gusge\\AppData\\Local\\Temp\\ipykernel_8060\\2440456843.py:10: FutureWarning: The provided callable <function min at 0x0000024E7E93C790> is currently using SeriesGroupBy.min. In a future version of pandas, the provided callable will be used directly. To keep current behavior pass the string \"min\" instead.\n",
      "  first_user_commit_by_chunks.append( df_commit.groupby([\"author_id\"], as_index=False).agg({\"created_at\": np.min}))\n",
      "C:\\Users\\gusge\\AppData\\Local\\Temp\\ipykernel_8060\\2440456843.py:10: FutureWarning: The provided callable <function min at 0x0000024E7E93C790> is currently using SeriesGroupBy.min. In a future version of pandas, the provided callable will be used directly. To keep current behavior pass the string \"min\" instead.\n",
      "  first_user_commit_by_chunks.append( df_commit.groupby([\"author_id\"], as_index=False).agg({\"created_at\": np.min}))\n",
      "C:\\Users\\gusge\\AppData\\Local\\Temp\\ipykernel_8060\\2440456843.py:10: FutureWarning: The provided callable <function min at 0x0000024E7E93C790> is currently using SeriesGroupBy.min. In a future version of pandas, the provided callable will be used directly. To keep current behavior pass the string \"min\" instead.\n",
      "  first_user_commit_by_chunks.append( df_commit.groupby([\"author_id\"], as_index=False).agg({\"created_at\": np.min}))\n",
      "C:\\Users\\gusge\\AppData\\Local\\Temp\\ipykernel_8060\\2440456843.py:10: FutureWarning: The provided callable <function min at 0x0000024E7E93C790> is currently using SeriesGroupBy.min. In a future version of pandas, the provided callable will be used directly. To keep current behavior pass the string \"min\" instead.\n",
      "  first_user_commit_by_chunks.append( df_commit.groupby([\"author_id\"], as_index=False).agg({\"created_at\": np.min}))\n",
      "C:\\Users\\gusge\\AppData\\Local\\Temp\\ipykernel_8060\\2440456843.py:10: FutureWarning: The provided callable <function min at 0x0000024E7E93C790> is currently using SeriesGroupBy.min. In a future version of pandas, the provided callable will be used directly. To keep current behavior pass the string \"min\" instead.\n",
      "  first_user_commit_by_chunks.append( df_commit.groupby([\"author_id\"], as_index=False).agg({\"created_at\": np.min}))\n",
      "C:\\Users\\gusge\\AppData\\Local\\Temp\\ipykernel_8060\\2440456843.py:10: FutureWarning: The provided callable <function min at 0x0000024E7E93C790> is currently using SeriesGroupBy.min. In a future version of pandas, the provided callable will be used directly. To keep current behavior pass the string \"min\" instead.\n",
      "  first_user_commit_by_chunks.append( df_commit.groupby([\"author_id\"], as_index=False).agg({\"created_at\": np.min}))\n",
      "C:\\Users\\gusge\\AppData\\Local\\Temp\\ipykernel_8060\\2440456843.py:10: FutureWarning: The provided callable <function min at 0x0000024E7E93C790> is currently using SeriesGroupBy.min. In a future version of pandas, the provided callable will be used directly. To keep current behavior pass the string \"min\" instead.\n",
      "  first_user_commit_by_chunks.append( df_commit.groupby([\"author_id\"], as_index=False).agg({\"created_at\": np.min}))\n",
      "C:\\Users\\gusge\\AppData\\Local\\Temp\\ipykernel_8060\\2440456843.py:10: FutureWarning: The provided callable <function min at 0x0000024E7E93C790> is currently using SeriesGroupBy.min. In a future version of pandas, the provided callable will be used directly. To keep current behavior pass the string \"min\" instead.\n",
      "  first_user_commit_by_chunks.append( df_commit.groupby([\"author_id\"], as_index=False).agg({\"created_at\": np.min}))\n"
     ]
    },
    {
     "name": "stdout",
     "output_type": "stream",
     "text": [
      "lendo arquivo:  309\n",
      "lendo arquivo:  310\n",
      "lendo arquivo:  311\n",
      "lendo arquivo:  312\n"
     ]
    },
    {
     "name": "stderr",
     "output_type": "stream",
     "text": [
      "C:\\Users\\gusge\\AppData\\Local\\Temp\\ipykernel_8060\\2440456843.py:10: FutureWarning: The provided callable <function min at 0x0000024E7E93C790> is currently using SeriesGroupBy.min. In a future version of pandas, the provided callable will be used directly. To keep current behavior pass the string \"min\" instead.\n",
      "  first_user_commit_by_chunks.append( df_commit.groupby([\"author_id\"], as_index=False).agg({\"created_at\": np.min}))\n",
      "C:\\Users\\gusge\\AppData\\Local\\Temp\\ipykernel_8060\\2440456843.py:10: FutureWarning: The provided callable <function min at 0x0000024E7E93C790> is currently using SeriesGroupBy.min. In a future version of pandas, the provided callable will be used directly. To keep current behavior pass the string \"min\" instead.\n",
      "  first_user_commit_by_chunks.append( df_commit.groupby([\"author_id\"], as_index=False).agg({\"created_at\": np.min}))\n",
      "C:\\Users\\gusge\\AppData\\Local\\Temp\\ipykernel_8060\\2440456843.py:10: FutureWarning: The provided callable <function min at 0x0000024E7E93C790> is currently using SeriesGroupBy.min. In a future version of pandas, the provided callable will be used directly. To keep current behavior pass the string \"min\" instead.\n",
      "  first_user_commit_by_chunks.append( df_commit.groupby([\"author_id\"], as_index=False).agg({\"created_at\": np.min}))\n",
      "C:\\Users\\gusge\\AppData\\Local\\Temp\\ipykernel_8060\\2440456843.py:10: FutureWarning: The provided callable <function min at 0x0000024E7E93C790> is currently using SeriesGroupBy.min. In a future version of pandas, the provided callable will be used directly. To keep current behavior pass the string \"min\" instead.\n",
      "  first_user_commit_by_chunks.append( df_commit.groupby([\"author_id\"], as_index=False).agg({\"created_at\": np.min}))\n",
      "C:\\Users\\gusge\\AppData\\Local\\Temp\\ipykernel_8060\\2440456843.py:10: FutureWarning: The provided callable <function min at 0x0000024E7E93C790> is currently using SeriesGroupBy.min. In a future version of pandas, the provided callable will be used directly. To keep current behavior pass the string \"min\" instead.\n",
      "  first_user_commit_by_chunks.append( df_commit.groupby([\"author_id\"], as_index=False).agg({\"created_at\": np.min}))\n",
      "C:\\Users\\gusge\\AppData\\Local\\Temp\\ipykernel_8060\\2440456843.py:10: FutureWarning: The provided callable <function min at 0x0000024E7E93C790> is currently using SeriesGroupBy.min. In a future version of pandas, the provided callable will be used directly. To keep current behavior pass the string \"min\" instead.\n",
      "  first_user_commit_by_chunks.append( df_commit.groupby([\"author_id\"], as_index=False).agg({\"created_at\": np.min}))\n",
      "C:\\Users\\gusge\\AppData\\Local\\Temp\\ipykernel_8060\\2440456843.py:10: FutureWarning: The provided callable <function min at 0x0000024E7E93C790> is currently using SeriesGroupBy.min. In a future version of pandas, the provided callable will be used directly. To keep current behavior pass the string \"min\" instead.\n",
      "  first_user_commit_by_chunks.append( df_commit.groupby([\"author_id\"], as_index=False).agg({\"created_at\": np.min}))\n",
      "C:\\Users\\gusge\\AppData\\Local\\Temp\\ipykernel_8060\\2440456843.py:10: FutureWarning: The provided callable <function min at 0x0000024E7E93C790> is currently using SeriesGroupBy.min. In a future version of pandas, the provided callable will be used directly. To keep current behavior pass the string \"min\" instead.\n",
      "  first_user_commit_by_chunks.append( df_commit.groupby([\"author_id\"], as_index=False).agg({\"created_at\": np.min}))\n",
      "C:\\Users\\gusge\\AppData\\Local\\Temp\\ipykernel_8060\\2440456843.py:10: FutureWarning: The provided callable <function min at 0x0000024E7E93C790> is currently using SeriesGroupBy.min. In a future version of pandas, the provided callable will be used directly. To keep current behavior pass the string \"min\" instead.\n",
      "  first_user_commit_by_chunks.append( df_commit.groupby([\"author_id\"], as_index=False).agg({\"created_at\": np.min}))\n",
      "C:\\Users\\gusge\\AppData\\Local\\Temp\\ipykernel_8060\\2440456843.py:10: FutureWarning: The provided callable <function min at 0x0000024E7E93C790> is currently using SeriesGroupBy.min. In a future version of pandas, the provided callable will be used directly. To keep current behavior pass the string \"min\" instead.\n",
      "  first_user_commit_by_chunks.append( df_commit.groupby([\"author_id\"], as_index=False).agg({\"created_at\": np.min}))\n",
      "C:\\Users\\gusge\\AppData\\Local\\Temp\\ipykernel_8060\\2440456843.py:10: FutureWarning: The provided callable <function min at 0x0000024E7E93C790> is currently using SeriesGroupBy.min. In a future version of pandas, the provided callable will be used directly. To keep current behavior pass the string \"min\" instead.\n",
      "  first_user_commit_by_chunks.append( df_commit.groupby([\"author_id\"], as_index=False).agg({\"created_at\": np.min}))\n"
     ]
    },
    {
     "name": "stdout",
     "output_type": "stream",
     "text": [
      "lendo arquivo:  313\n",
      "lendo arquivo:  314\n",
      "lendo arquivo:  315\n",
      "lendo arquivo:  316\n",
      "lendo arquivo:  317\n",
      "lendo arquivo:  318\n",
      "lendo arquivo:  319\n",
      "lendo arquivo:  320\n",
      "lendo arquivo:  321\n",
      "lendo arquivo:  322\n",
      "lendo arquivo:  323\n"
     ]
    },
    {
     "name": "stderr",
     "output_type": "stream",
     "text": [
      "C:\\Users\\gusge\\AppData\\Local\\Temp\\ipykernel_8060\\2440456843.py:10: FutureWarning: The provided callable <function min at 0x0000024E7E93C790> is currently using SeriesGroupBy.min. In a future version of pandas, the provided callable will be used directly. To keep current behavior pass the string \"min\" instead.\n",
      "  first_user_commit_by_chunks.append( df_commit.groupby([\"author_id\"], as_index=False).agg({\"created_at\": np.min}))\n",
      "C:\\Users\\gusge\\AppData\\Local\\Temp\\ipykernel_8060\\2440456843.py:10: FutureWarning: The provided callable <function min at 0x0000024E7E93C790> is currently using SeriesGroupBy.min. In a future version of pandas, the provided callable will be used directly. To keep current behavior pass the string \"min\" instead.\n",
      "  first_user_commit_by_chunks.append( df_commit.groupby([\"author_id\"], as_index=False).agg({\"created_at\": np.min}))\n",
      "C:\\Users\\gusge\\AppData\\Local\\Temp\\ipykernel_8060\\2440456843.py:10: FutureWarning: The provided callable <function min at 0x0000024E7E93C790> is currently using SeriesGroupBy.min. In a future version of pandas, the provided callable will be used directly. To keep current behavior pass the string \"min\" instead.\n",
      "  first_user_commit_by_chunks.append( df_commit.groupby([\"author_id\"], as_index=False).agg({\"created_at\": np.min}))\n"
     ]
    },
    {
     "name": "stdout",
     "output_type": "stream",
     "text": [
      "lendo arquivo:  324\n",
      "lendo arquivo:  325\n",
      "lendo arquivo:  326\n"
     ]
    },
    {
     "name": "stderr",
     "output_type": "stream",
     "text": [
      "C:\\Users\\gusge\\AppData\\Local\\Temp\\ipykernel_8060\\2440456843.py:10: FutureWarning: The provided callable <function min at 0x0000024E7E93C790> is currently using SeriesGroupBy.min. In a future version of pandas, the provided callable will be used directly. To keep current behavior pass the string \"min\" instead.\n",
      "  first_user_commit_by_chunks.append( df_commit.groupby([\"author_id\"], as_index=False).agg({\"created_at\": np.min}))\n"
     ]
    },
    {
     "name": "stdout",
     "output_type": "stream",
     "text": [
      "lendo arquivo:  327\n"
     ]
    },
    {
     "name": "stderr",
     "output_type": "stream",
     "text": [
      "C:\\Users\\gusge\\AppData\\Local\\Temp\\ipykernel_8060\\2440456843.py:10: FutureWarning: The provided callable <function min at 0x0000024E7E93C790> is currently using SeriesGroupBy.min. In a future version of pandas, the provided callable will be used directly. To keep current behavior pass the string \"min\" instead.\n",
      "  first_user_commit_by_chunks.append( df_commit.groupby([\"author_id\"], as_index=False).agg({\"created_at\": np.min}))\n"
     ]
    },
    {
     "name": "stdout",
     "output_type": "stream",
     "text": [
      "lendo arquivo:  328\n"
     ]
    },
    {
     "name": "stderr",
     "output_type": "stream",
     "text": [
      "C:\\Users\\gusge\\AppData\\Local\\Temp\\ipykernel_8060\\2440456843.py:10: FutureWarning: The provided callable <function min at 0x0000024E7E93C790> is currently using SeriesGroupBy.min. In a future version of pandas, the provided callable will be used directly. To keep current behavior pass the string \"min\" instead.\n",
      "  first_user_commit_by_chunks.append( df_commit.groupby([\"author_id\"], as_index=False).agg({\"created_at\": np.min}))\n"
     ]
    },
    {
     "name": "stdout",
     "output_type": "stream",
     "text": [
      "lendo arquivo:  329\n"
     ]
    },
    {
     "name": "stderr",
     "output_type": "stream",
     "text": [
      "C:\\Users\\gusge\\AppData\\Local\\Temp\\ipykernel_8060\\2440456843.py:10: FutureWarning: The provided callable <function min at 0x0000024E7E93C790> is currently using SeriesGroupBy.min. In a future version of pandas, the provided callable will be used directly. To keep current behavior pass the string \"min\" instead.\n",
      "  first_user_commit_by_chunks.append( df_commit.groupby([\"author_id\"], as_index=False).agg({\"created_at\": np.min}))\n"
     ]
    },
    {
     "name": "stdout",
     "output_type": "stream",
     "text": [
      "lendo arquivo:  330\n"
     ]
    },
    {
     "name": "stderr",
     "output_type": "stream",
     "text": [
      "C:\\Users\\gusge\\AppData\\Local\\Temp\\ipykernel_8060\\2440456843.py:10: FutureWarning: The provided callable <function min at 0x0000024E7E93C790> is currently using SeriesGroupBy.min. In a future version of pandas, the provided callable will be used directly. To keep current behavior pass the string \"min\" instead.\n",
      "  first_user_commit_by_chunks.append( df_commit.groupby([\"author_id\"], as_index=False).agg({\"created_at\": np.min}))\n"
     ]
    },
    {
     "name": "stdout",
     "output_type": "stream",
     "text": [
      "lendo arquivo:  331\n"
     ]
    },
    {
     "name": "stderr",
     "output_type": "stream",
     "text": [
      "C:\\Users\\gusge\\AppData\\Local\\Temp\\ipykernel_8060\\2440456843.py:10: FutureWarning: The provided callable <function min at 0x0000024E7E93C790> is currently using SeriesGroupBy.min. In a future version of pandas, the provided callable will be used directly. To keep current behavior pass the string \"min\" instead.\n",
      "  first_user_commit_by_chunks.append( df_commit.groupby([\"author_id\"], as_index=False).agg({\"created_at\": np.min}))\n"
     ]
    },
    {
     "name": "stdout",
     "output_type": "stream",
     "text": [
      "lendo arquivo:  332\n"
     ]
    },
    {
     "name": "stderr",
     "output_type": "stream",
     "text": [
      "C:\\Users\\gusge\\AppData\\Local\\Temp\\ipykernel_8060\\2440456843.py:10: FutureWarning: The provided callable <function min at 0x0000024E7E93C790> is currently using SeriesGroupBy.min. In a future version of pandas, the provided callable will be used directly. To keep current behavior pass the string \"min\" instead.\n",
      "  first_user_commit_by_chunks.append( df_commit.groupby([\"author_id\"], as_index=False).agg({\"created_at\": np.min}))\n"
     ]
    },
    {
     "name": "stdout",
     "output_type": "stream",
     "text": [
      "lendo arquivo:  333\n"
     ]
    },
    {
     "name": "stderr",
     "output_type": "stream",
     "text": [
      "C:\\Users\\gusge\\AppData\\Local\\Temp\\ipykernel_8060\\2440456843.py:10: FutureWarning: The provided callable <function min at 0x0000024E7E93C790> is currently using SeriesGroupBy.min. In a future version of pandas, the provided callable will be used directly. To keep current behavior pass the string \"min\" instead.\n",
      "  first_user_commit_by_chunks.append( df_commit.groupby([\"author_id\"], as_index=False).agg({\"created_at\": np.min}))\n"
     ]
    },
    {
     "name": "stdout",
     "output_type": "stream",
     "text": [
      "lendo arquivo:  334\n"
     ]
    },
    {
     "name": "stderr",
     "output_type": "stream",
     "text": [
      "C:\\Users\\gusge\\AppData\\Local\\Temp\\ipykernel_8060\\2440456843.py:10: FutureWarning: The provided callable <function min at 0x0000024E7E93C790> is currently using SeriesGroupBy.min. In a future version of pandas, the provided callable will be used directly. To keep current behavior pass the string \"min\" instead.\n",
      "  first_user_commit_by_chunks.append( df_commit.groupby([\"author_id\"], as_index=False).agg({\"created_at\": np.min}))\n"
     ]
    },
    {
     "name": "stdout",
     "output_type": "stream",
     "text": [
      "lendo arquivo:  335\n"
     ]
    },
    {
     "name": "stderr",
     "output_type": "stream",
     "text": [
      "C:\\Users\\gusge\\AppData\\Local\\Temp\\ipykernel_8060\\2440456843.py:10: FutureWarning: The provided callable <function min at 0x0000024E7E93C790> is currently using SeriesGroupBy.min. In a future version of pandas, the provided callable will be used directly. To keep current behavior pass the string \"min\" instead.\n",
      "  first_user_commit_by_chunks.append( df_commit.groupby([\"author_id\"], as_index=False).agg({\"created_at\": np.min}))\n"
     ]
    },
    {
     "name": "stdout",
     "output_type": "stream",
     "text": [
      "lendo arquivo:  336\n"
     ]
    },
    {
     "name": "stderr",
     "output_type": "stream",
     "text": [
      "C:\\Users\\gusge\\AppData\\Local\\Temp\\ipykernel_8060\\2440456843.py:10: FutureWarning: The provided callable <function min at 0x0000024E7E93C790> is currently using SeriesGroupBy.min. In a future version of pandas, the provided callable will be used directly. To keep current behavior pass the string \"min\" instead.\n",
      "  first_user_commit_by_chunks.append( df_commit.groupby([\"author_id\"], as_index=False).agg({\"created_at\": np.min}))\n"
     ]
    },
    {
     "name": "stdout",
     "output_type": "stream",
     "text": [
      "lendo arquivo:  337\n"
     ]
    },
    {
     "name": "stderr",
     "output_type": "stream",
     "text": [
      "C:\\Users\\gusge\\AppData\\Local\\Temp\\ipykernel_8060\\2440456843.py:10: FutureWarning: The provided callable <function min at 0x0000024E7E93C790> is currently using SeriesGroupBy.min. In a future version of pandas, the provided callable will be used directly. To keep current behavior pass the string \"min\" instead.\n",
      "  first_user_commit_by_chunks.append( df_commit.groupby([\"author_id\"], as_index=False).agg({\"created_at\": np.min}))\n"
     ]
    },
    {
     "name": "stdout",
     "output_type": "stream",
     "text": [
      "lendo arquivo:  338\n"
     ]
    },
    {
     "name": "stderr",
     "output_type": "stream",
     "text": [
      "C:\\Users\\gusge\\AppData\\Local\\Temp\\ipykernel_8060\\2440456843.py:10: FutureWarning: The provided callable <function min at 0x0000024E7E93C790> is currently using SeriesGroupBy.min. In a future version of pandas, the provided callable will be used directly. To keep current behavior pass the string \"min\" instead.\n",
      "  first_user_commit_by_chunks.append( df_commit.groupby([\"author_id\"], as_index=False).agg({\"created_at\": np.min}))\n"
     ]
    },
    {
     "name": "stdout",
     "output_type": "stream",
     "text": [
      "lendo arquivo:  339\n"
     ]
    },
    {
     "name": "stderr",
     "output_type": "stream",
     "text": [
      "C:\\Users\\gusge\\AppData\\Local\\Temp\\ipykernel_8060\\2440456843.py:10: FutureWarning: The provided callable <function min at 0x0000024E7E93C790> is currently using SeriesGroupBy.min. In a future version of pandas, the provided callable will be used directly. To keep current behavior pass the string \"min\" instead.\n",
      "  first_user_commit_by_chunks.append( df_commit.groupby([\"author_id\"], as_index=False).agg({\"created_at\": np.min}))\n"
     ]
    },
    {
     "name": "stdout",
     "output_type": "stream",
     "text": [
      "lendo arquivo:  340\n"
     ]
    },
    {
     "name": "stderr",
     "output_type": "stream",
     "text": [
      "C:\\Users\\gusge\\AppData\\Local\\Temp\\ipykernel_8060\\2440456843.py:10: FutureWarning: The provided callable <function min at 0x0000024E7E93C790> is currently using SeriesGroupBy.min. In a future version of pandas, the provided callable will be used directly. To keep current behavior pass the string \"min\" instead.\n",
      "  first_user_commit_by_chunks.append( df_commit.groupby([\"author_id\"], as_index=False).agg({\"created_at\": np.min}))\n"
     ]
    },
    {
     "name": "stdout",
     "output_type": "stream",
     "text": [
      "lendo arquivo:  341\n"
     ]
    },
    {
     "name": "stderr",
     "output_type": "stream",
     "text": [
      "C:\\Users\\gusge\\AppData\\Local\\Temp\\ipykernel_8060\\2440456843.py:10: FutureWarning: The provided callable <function min at 0x0000024E7E93C790> is currently using SeriesGroupBy.min. In a future version of pandas, the provided callable will be used directly. To keep current behavior pass the string \"min\" instead.\n",
      "  first_user_commit_by_chunks.append( df_commit.groupby([\"author_id\"], as_index=False).agg({\"created_at\": np.min}))\n"
     ]
    },
    {
     "name": "stdout",
     "output_type": "stream",
     "text": [
      "lendo arquivo:  342\n"
     ]
    },
    {
     "name": "stderr",
     "output_type": "stream",
     "text": [
      "C:\\Users\\gusge\\AppData\\Local\\Temp\\ipykernel_8060\\2440456843.py:10: FutureWarning: The provided callable <function min at 0x0000024E7E93C790> is currently using SeriesGroupBy.min. In a future version of pandas, the provided callable will be used directly. To keep current behavior pass the string \"min\" instead.\n",
      "  first_user_commit_by_chunks.append( df_commit.groupby([\"author_id\"], as_index=False).agg({\"created_at\": np.min}))\n"
     ]
    },
    {
     "name": "stdout",
     "output_type": "stream",
     "text": [
      "lendo arquivo:  343\n"
     ]
    },
    {
     "name": "stderr",
     "output_type": "stream",
     "text": [
      "C:\\Users\\gusge\\AppData\\Local\\Temp\\ipykernel_8060\\2440456843.py:10: FutureWarning: The provided callable <function min at 0x0000024E7E93C790> is currently using SeriesGroupBy.min. In a future version of pandas, the provided callable will be used directly. To keep current behavior pass the string \"min\" instead.\n",
      "  first_user_commit_by_chunks.append( df_commit.groupby([\"author_id\"], as_index=False).agg({\"created_at\": np.min}))\n"
     ]
    },
    {
     "name": "stdout",
     "output_type": "stream",
     "text": [
      "lendo arquivo:  344\n"
     ]
    },
    {
     "name": "stderr",
     "output_type": "stream",
     "text": [
      "C:\\Users\\gusge\\AppData\\Local\\Temp\\ipykernel_8060\\2440456843.py:10: FutureWarning: The provided callable <function min at 0x0000024E7E93C790> is currently using SeriesGroupBy.min. In a future version of pandas, the provided callable will be used directly. To keep current behavior pass the string \"min\" instead.\n",
      "  first_user_commit_by_chunks.append( df_commit.groupby([\"author_id\"], as_index=False).agg({\"created_at\": np.min}))\n",
      "C:\\Users\\gusge\\AppData\\Local\\Temp\\ipykernel_8060\\2440456843.py:10: FutureWarning: The provided callable <function min at 0x0000024E7E93C790> is currently using SeriesGroupBy.min. In a future version of pandas, the provided callable will be used directly. To keep current behavior pass the string \"min\" instead.\n",
      "  first_user_commit_by_chunks.append( df_commit.groupby([\"author_id\"], as_index=False).agg({\"created_at\": np.min}))\n"
     ]
    },
    {
     "name": "stdout",
     "output_type": "stream",
     "text": [
      "lendo arquivo:  345\n",
      "lendo arquivo:  346\n"
     ]
    },
    {
     "name": "stderr",
     "output_type": "stream",
     "text": [
      "C:\\Users\\gusge\\AppData\\Local\\Temp\\ipykernel_8060\\2440456843.py:10: FutureWarning: The provided callable <function min at 0x0000024E7E93C790> is currently using SeriesGroupBy.min. In a future version of pandas, the provided callable will be used directly. To keep current behavior pass the string \"min\" instead.\n",
      "  first_user_commit_by_chunks.append( df_commit.groupby([\"author_id\"], as_index=False).agg({\"created_at\": np.min}))\n"
     ]
    },
    {
     "name": "stdout",
     "output_type": "stream",
     "text": [
      "lendo arquivo:  347\n"
     ]
    },
    {
     "name": "stderr",
     "output_type": "stream",
     "text": [
      "C:\\Users\\gusge\\AppData\\Local\\Temp\\ipykernel_8060\\2440456843.py:10: FutureWarning: The provided callable <function min at 0x0000024E7E93C790> is currently using SeriesGroupBy.min. In a future version of pandas, the provided callable will be used directly. To keep current behavior pass the string \"min\" instead.\n",
      "  first_user_commit_by_chunks.append( df_commit.groupby([\"author_id\"], as_index=False).agg({\"created_at\": np.min}))\n"
     ]
    },
    {
     "name": "stdout",
     "output_type": "stream",
     "text": [
      "lendo arquivo:  348\n"
     ]
    },
    {
     "name": "stderr",
     "output_type": "stream",
     "text": [
      "C:\\Users\\gusge\\AppData\\Local\\Temp\\ipykernel_8060\\2440456843.py:10: FutureWarning: The provided callable <function min at 0x0000024E7E93C790> is currently using SeriesGroupBy.min. In a future version of pandas, the provided callable will be used directly. To keep current behavior pass the string \"min\" instead.\n",
      "  first_user_commit_by_chunks.append( df_commit.groupby([\"author_id\"], as_index=False).agg({\"created_at\": np.min}))\n"
     ]
    },
    {
     "name": "stdout",
     "output_type": "stream",
     "text": [
      "lendo arquivo:  349\n"
     ]
    },
    {
     "name": "stderr",
     "output_type": "stream",
     "text": [
      "C:\\Users\\gusge\\AppData\\Local\\Temp\\ipykernel_8060\\2440456843.py:10: FutureWarning: The provided callable <function min at 0x0000024E7E93C790> is currently using SeriesGroupBy.min. In a future version of pandas, the provided callable will be used directly. To keep current behavior pass the string \"min\" instead.\n",
      "  first_user_commit_by_chunks.append( df_commit.groupby([\"author_id\"], as_index=False).agg({\"created_at\": np.min}))\n"
     ]
    },
    {
     "name": "stdout",
     "output_type": "stream",
     "text": [
      "lendo arquivo:  350\n"
     ]
    },
    {
     "name": "stderr",
     "output_type": "stream",
     "text": [
      "C:\\Users\\gusge\\AppData\\Local\\Temp\\ipykernel_8060\\2440456843.py:10: FutureWarning: The provided callable <function min at 0x0000024E7E93C790> is currently using SeriesGroupBy.min. In a future version of pandas, the provided callable will be used directly. To keep current behavior pass the string \"min\" instead.\n",
      "  first_user_commit_by_chunks.append( df_commit.groupby([\"author_id\"], as_index=False).agg({\"created_at\": np.min}))\n"
     ]
    },
    {
     "name": "stdout",
     "output_type": "stream",
     "text": [
      "lendo arquivo:  351\n"
     ]
    },
    {
     "name": "stderr",
     "output_type": "stream",
     "text": [
      "C:\\Users\\gusge\\AppData\\Local\\Temp\\ipykernel_8060\\2440456843.py:10: FutureWarning: The provided callable <function min at 0x0000024E7E93C790> is currently using SeriesGroupBy.min. In a future version of pandas, the provided callable will be used directly. To keep current behavior pass the string \"min\" instead.\n",
      "  first_user_commit_by_chunks.append( df_commit.groupby([\"author_id\"], as_index=False).agg({\"created_at\": np.min}))\n"
     ]
    },
    {
     "name": "stdout",
     "output_type": "stream",
     "text": [
      "lendo arquivo:  352\n"
     ]
    },
    {
     "name": "stderr",
     "output_type": "stream",
     "text": [
      "C:\\Users\\gusge\\AppData\\Local\\Temp\\ipykernel_8060\\2440456843.py:10: FutureWarning: The provided callable <function min at 0x0000024E7E93C790> is currently using SeriesGroupBy.min. In a future version of pandas, the provided callable will be used directly. To keep current behavior pass the string \"min\" instead.\n",
      "  first_user_commit_by_chunks.append( df_commit.groupby([\"author_id\"], as_index=False).agg({\"created_at\": np.min}))\n"
     ]
    },
    {
     "name": "stdout",
     "output_type": "stream",
     "text": [
      "lendo arquivo:  353\n"
     ]
    },
    {
     "name": "stderr",
     "output_type": "stream",
     "text": [
      "C:\\Users\\gusge\\AppData\\Local\\Temp\\ipykernel_8060\\2440456843.py:10: FutureWarning: The provided callable <function min at 0x0000024E7E93C790> is currently using SeriesGroupBy.min. In a future version of pandas, the provided callable will be used directly. To keep current behavior pass the string \"min\" instead.\n",
      "  first_user_commit_by_chunks.append( df_commit.groupby([\"author_id\"], as_index=False).agg({\"created_at\": np.min}))\n"
     ]
    },
    {
     "name": "stdout",
     "output_type": "stream",
     "text": [
      "lendo arquivo:  354\n"
     ]
    },
    {
     "name": "stderr",
     "output_type": "stream",
     "text": [
      "C:\\Users\\gusge\\AppData\\Local\\Temp\\ipykernel_8060\\2440456843.py:10: FutureWarning: The provided callable <function min at 0x0000024E7E93C790> is currently using SeriesGroupBy.min. In a future version of pandas, the provided callable will be used directly. To keep current behavior pass the string \"min\" instead.\n",
      "  first_user_commit_by_chunks.append( df_commit.groupby([\"author_id\"], as_index=False).agg({\"created_at\": np.min}))\n"
     ]
    },
    {
     "name": "stdout",
     "output_type": "stream",
     "text": [
      "lendo arquivo:  355\n"
     ]
    },
    {
     "name": "stderr",
     "output_type": "stream",
     "text": [
      "C:\\Users\\gusge\\AppData\\Local\\Temp\\ipykernel_8060\\2440456843.py:10: FutureWarning: The provided callable <function min at 0x0000024E7E93C790> is currently using SeriesGroupBy.min. In a future version of pandas, the provided callable will be used directly. To keep current behavior pass the string \"min\" instead.\n",
      "  first_user_commit_by_chunks.append( df_commit.groupby([\"author_id\"], as_index=False).agg({\"created_at\": np.min}))\n"
     ]
    },
    {
     "name": "stdout",
     "output_type": "stream",
     "text": [
      "lendo arquivo:  356\n"
     ]
    },
    {
     "name": "stderr",
     "output_type": "stream",
     "text": [
      "C:\\Users\\gusge\\AppData\\Local\\Temp\\ipykernel_8060\\2440456843.py:10: FutureWarning: The provided callable <function min at 0x0000024E7E93C790> is currently using SeriesGroupBy.min. In a future version of pandas, the provided callable will be used directly. To keep current behavior pass the string \"min\" instead.\n",
      "  first_user_commit_by_chunks.append( df_commit.groupby([\"author_id\"], as_index=False).agg({\"created_at\": np.min}))\n"
     ]
    },
    {
     "name": "stdout",
     "output_type": "stream",
     "text": [
      "lendo arquivo:  357\n"
     ]
    },
    {
     "name": "stderr",
     "output_type": "stream",
     "text": [
      "C:\\Users\\gusge\\AppData\\Local\\Temp\\ipykernel_8060\\2440456843.py:10: FutureWarning: The provided callable <function min at 0x0000024E7E93C790> is currently using SeriesGroupBy.min. In a future version of pandas, the provided callable will be used directly. To keep current behavior pass the string \"min\" instead.\n",
      "  first_user_commit_by_chunks.append( df_commit.groupby([\"author_id\"], as_index=False).agg({\"created_at\": np.min}))\n"
     ]
    },
    {
     "name": "stdout",
     "output_type": "stream",
     "text": [
      "lendo arquivo:  358\n"
     ]
    },
    {
     "name": "stderr",
     "output_type": "stream",
     "text": [
      "C:\\Users\\gusge\\AppData\\Local\\Temp\\ipykernel_8060\\2440456843.py:10: FutureWarning: The provided callable <function min at 0x0000024E7E93C790> is currently using SeriesGroupBy.min. In a future version of pandas, the provided callable will be used directly. To keep current behavior pass the string \"min\" instead.\n",
      "  first_user_commit_by_chunks.append( df_commit.groupby([\"author_id\"], as_index=False).agg({\"created_at\": np.min}))\n"
     ]
    },
    {
     "name": "stdout",
     "output_type": "stream",
     "text": [
      "lendo arquivo:  359\n"
     ]
    },
    {
     "name": "stderr",
     "output_type": "stream",
     "text": [
      "C:\\Users\\gusge\\AppData\\Local\\Temp\\ipykernel_8060\\2440456843.py:10: FutureWarning: The provided callable <function min at 0x0000024E7E93C790> is currently using SeriesGroupBy.min. In a future version of pandas, the provided callable will be used directly. To keep current behavior pass the string \"min\" instead.\n",
      "  first_user_commit_by_chunks.append( df_commit.groupby([\"author_id\"], as_index=False).agg({\"created_at\": np.min}))\n"
     ]
    },
    {
     "name": "stdout",
     "output_type": "stream",
     "text": [
      "lendo arquivo:  360\n"
     ]
    },
    {
     "name": "stderr",
     "output_type": "stream",
     "text": [
      "C:\\Users\\gusge\\AppData\\Local\\Temp\\ipykernel_8060\\2440456843.py:10: FutureWarning: The provided callable <function min at 0x0000024E7E93C790> is currently using SeriesGroupBy.min. In a future version of pandas, the provided callable will be used directly. To keep current behavior pass the string \"min\" instead.\n",
      "  first_user_commit_by_chunks.append( df_commit.groupby([\"author_id\"], as_index=False).agg({\"created_at\": np.min}))\n"
     ]
    },
    {
     "name": "stdout",
     "output_type": "stream",
     "text": [
      "lendo arquivo:  361\n"
     ]
    },
    {
     "name": "stderr",
     "output_type": "stream",
     "text": [
      "C:\\Users\\gusge\\AppData\\Local\\Temp\\ipykernel_8060\\2440456843.py:10: FutureWarning: The provided callable <function min at 0x0000024E7E93C790> is currently using SeriesGroupBy.min. In a future version of pandas, the provided callable will be used directly. To keep current behavior pass the string \"min\" instead.\n",
      "  first_user_commit_by_chunks.append( df_commit.groupby([\"author_id\"], as_index=False).agg({\"created_at\": np.min}))\n"
     ]
    },
    {
     "name": "stdout",
     "output_type": "stream",
     "text": [
      "lendo arquivo:  362\n"
     ]
    },
    {
     "name": "stderr",
     "output_type": "stream",
     "text": [
      "C:\\Users\\gusge\\AppData\\Local\\Temp\\ipykernel_8060\\2440456843.py:10: FutureWarning: The provided callable <function min at 0x0000024E7E93C790> is currently using SeriesGroupBy.min. In a future version of pandas, the provided callable will be used directly. To keep current behavior pass the string \"min\" instead.\n",
      "  first_user_commit_by_chunks.append( df_commit.groupby([\"author_id\"], as_index=False).agg({\"created_at\": np.min}))\n"
     ]
    },
    {
     "name": "stdout",
     "output_type": "stream",
     "text": [
      "lendo arquivo:  363\n"
     ]
    },
    {
     "name": "stderr",
     "output_type": "stream",
     "text": [
      "C:\\Users\\gusge\\AppData\\Local\\Temp\\ipykernel_8060\\2440456843.py:10: FutureWarning: The provided callable <function min at 0x0000024E7E93C790> is currently using SeriesGroupBy.min. In a future version of pandas, the provided callable will be used directly. To keep current behavior pass the string \"min\" instead.\n",
      "  first_user_commit_by_chunks.append( df_commit.groupby([\"author_id\"], as_index=False).agg({\"created_at\": np.min}))\n"
     ]
    },
    {
     "name": "stdout",
     "output_type": "stream",
     "text": [
      "lendo arquivo:  364\n"
     ]
    },
    {
     "name": "stderr",
     "output_type": "stream",
     "text": [
      "C:\\Users\\gusge\\AppData\\Local\\Temp\\ipykernel_8060\\2440456843.py:10: FutureWarning: The provided callable <function min at 0x0000024E7E93C790> is currently using SeriesGroupBy.min. In a future version of pandas, the provided callable will be used directly. To keep current behavior pass the string \"min\" instead.\n",
      "  first_user_commit_by_chunks.append( df_commit.groupby([\"author_id\"], as_index=False).agg({\"created_at\": np.min}))\n"
     ]
    },
    {
     "name": "stdout",
     "output_type": "stream",
     "text": [
      "lendo arquivo:  365\n"
     ]
    },
    {
     "name": "stderr",
     "output_type": "stream",
     "text": [
      "C:\\Users\\gusge\\AppData\\Local\\Temp\\ipykernel_8060\\2440456843.py:10: FutureWarning: The provided callable <function min at 0x0000024E7E93C790> is currently using SeriesGroupBy.min. In a future version of pandas, the provided callable will be used directly. To keep current behavior pass the string \"min\" instead.\n",
      "  first_user_commit_by_chunks.append( df_commit.groupby([\"author_id\"], as_index=False).agg({\"created_at\": np.min}))\n"
     ]
    },
    {
     "name": "stdout",
     "output_type": "stream",
     "text": [
      "lendo arquivo:  366\n"
     ]
    },
    {
     "name": "stderr",
     "output_type": "stream",
     "text": [
      "C:\\Users\\gusge\\AppData\\Local\\Temp\\ipykernel_8060\\2440456843.py:10: FutureWarning: The provided callable <function min at 0x0000024E7E93C790> is currently using SeriesGroupBy.min. In a future version of pandas, the provided callable will be used directly. To keep current behavior pass the string \"min\" instead.\n",
      "  first_user_commit_by_chunks.append( df_commit.groupby([\"author_id\"], as_index=False).agg({\"created_at\": np.min}))\n"
     ]
    },
    {
     "name": "stdout",
     "output_type": "stream",
     "text": [
      "lendo arquivo:  367\n"
     ]
    },
    {
     "name": "stderr",
     "output_type": "stream",
     "text": [
      "C:\\Users\\gusge\\AppData\\Local\\Temp\\ipykernel_8060\\2440456843.py:10: FutureWarning: The provided callable <function min at 0x0000024E7E93C790> is currently using SeriesGroupBy.min. In a future version of pandas, the provided callable will be used directly. To keep current behavior pass the string \"min\" instead.\n",
      "  first_user_commit_by_chunks.append( df_commit.groupby([\"author_id\"], as_index=False).agg({\"created_at\": np.min}))\n"
     ]
    },
    {
     "name": "stdout",
     "output_type": "stream",
     "text": [
      "lendo arquivo:  368\n"
     ]
    },
    {
     "name": "stderr",
     "output_type": "stream",
     "text": [
      "C:\\Users\\gusge\\AppData\\Local\\Temp\\ipykernel_8060\\2440456843.py:10: FutureWarning: The provided callable <function min at 0x0000024E7E93C790> is currently using SeriesGroupBy.min. In a future version of pandas, the provided callable will be used directly. To keep current behavior pass the string \"min\" instead.\n",
      "  first_user_commit_by_chunks.append( df_commit.groupby([\"author_id\"], as_index=False).agg({\"created_at\": np.min}))\n"
     ]
    },
    {
     "name": "stdout",
     "output_type": "stream",
     "text": [
      "lendo arquivo:  369\n"
     ]
    },
    {
     "name": "stderr",
     "output_type": "stream",
     "text": [
      "C:\\Users\\gusge\\AppData\\Local\\Temp\\ipykernel_8060\\2440456843.py:10: FutureWarning: The provided callable <function min at 0x0000024E7E93C790> is currently using SeriesGroupBy.min. In a future version of pandas, the provided callable will be used directly. To keep current behavior pass the string \"min\" instead.\n",
      "  first_user_commit_by_chunks.append( df_commit.groupby([\"author_id\"], as_index=False).agg({\"created_at\": np.min}))\n"
     ]
    },
    {
     "name": "stdout",
     "output_type": "stream",
     "text": [
      "lendo arquivo:  370\n"
     ]
    },
    {
     "name": "stderr",
     "output_type": "stream",
     "text": [
      "C:\\Users\\gusge\\AppData\\Local\\Temp\\ipykernel_8060\\2440456843.py:10: FutureWarning: The provided callable <function min at 0x0000024E7E93C790> is currently using SeriesGroupBy.min. In a future version of pandas, the provided callable will be used directly. To keep current behavior pass the string \"min\" instead.\n",
      "  first_user_commit_by_chunks.append( df_commit.groupby([\"author_id\"], as_index=False).agg({\"created_at\": np.min}))\n"
     ]
    },
    {
     "name": "stdout",
     "output_type": "stream",
     "text": [
      "lendo arquivo:  371\n"
     ]
    },
    {
     "name": "stderr",
     "output_type": "stream",
     "text": [
      "C:\\Users\\gusge\\AppData\\Local\\Temp\\ipykernel_8060\\2440456843.py:10: FutureWarning: The provided callable <function min at 0x0000024E7E93C790> is currently using SeriesGroupBy.min. In a future version of pandas, the provided callable will be used directly. To keep current behavior pass the string \"min\" instead.\n",
      "  first_user_commit_by_chunks.append( df_commit.groupby([\"author_id\"], as_index=False).agg({\"created_at\": np.min}))\n"
     ]
    },
    {
     "name": "stdout",
     "output_type": "stream",
     "text": [
      "lendo arquivo:  372\n"
     ]
    },
    {
     "name": "stderr",
     "output_type": "stream",
     "text": [
      "C:\\Users\\gusge\\AppData\\Local\\Temp\\ipykernel_8060\\2440456843.py:10: FutureWarning: The provided callable <function min at 0x0000024E7E93C790> is currently using SeriesGroupBy.min. In a future version of pandas, the provided callable will be used directly. To keep current behavior pass the string \"min\" instead.\n",
      "  first_user_commit_by_chunks.append( df_commit.groupby([\"author_id\"], as_index=False).agg({\"created_at\": np.min}))\n"
     ]
    },
    {
     "name": "stdout",
     "output_type": "stream",
     "text": [
      "lendo arquivo:  373\n"
     ]
    },
    {
     "name": "stderr",
     "output_type": "stream",
     "text": [
      "C:\\Users\\gusge\\AppData\\Local\\Temp\\ipykernel_8060\\2440456843.py:10: FutureWarning: The provided callable <function min at 0x0000024E7E93C790> is currently using SeriesGroupBy.min. In a future version of pandas, the provided callable will be used directly. To keep current behavior pass the string \"min\" instead.\n",
      "  first_user_commit_by_chunks.append( df_commit.groupby([\"author_id\"], as_index=False).agg({\"created_at\": np.min}))\n"
     ]
    },
    {
     "name": "stdout",
     "output_type": "stream",
     "text": [
      "lendo arquivo:  374\n"
     ]
    },
    {
     "name": "stderr",
     "output_type": "stream",
     "text": [
      "C:\\Users\\gusge\\AppData\\Local\\Temp\\ipykernel_8060\\2440456843.py:10: FutureWarning: The provided callable <function min at 0x0000024E7E93C790> is currently using SeriesGroupBy.min. In a future version of pandas, the provided callable will be used directly. To keep current behavior pass the string \"min\" instead.\n",
      "  first_user_commit_by_chunks.append( df_commit.groupby([\"author_id\"], as_index=False).agg({\"created_at\": np.min}))\n"
     ]
    },
    {
     "name": "stdout",
     "output_type": "stream",
     "text": [
      "lendo arquivo:  375\n"
     ]
    },
    {
     "name": "stderr",
     "output_type": "stream",
     "text": [
      "C:\\Users\\gusge\\AppData\\Local\\Temp\\ipykernel_8060\\2440456843.py:10: FutureWarning: The provided callable <function min at 0x0000024E7E93C790> is currently using SeriesGroupBy.min. In a future version of pandas, the provided callable will be used directly. To keep current behavior pass the string \"min\" instead.\n",
      "  first_user_commit_by_chunks.append( df_commit.groupby([\"author_id\"], as_index=False).agg({\"created_at\": np.min}))\n"
     ]
    },
    {
     "name": "stdout",
     "output_type": "stream",
     "text": [
      "lendo arquivo:  376\n"
     ]
    },
    {
     "name": "stderr",
     "output_type": "stream",
     "text": [
      "C:\\Users\\gusge\\AppData\\Local\\Temp\\ipykernel_8060\\2440456843.py:10: FutureWarning: The provided callable <function min at 0x0000024E7E93C790> is currently using SeriesGroupBy.min. In a future version of pandas, the provided callable will be used directly. To keep current behavior pass the string \"min\" instead.\n",
      "  first_user_commit_by_chunks.append( df_commit.groupby([\"author_id\"], as_index=False).agg({\"created_at\": np.min}))\n"
     ]
    },
    {
     "name": "stdout",
     "output_type": "stream",
     "text": [
      "lendo arquivo:  377\n"
     ]
    },
    {
     "name": "stderr",
     "output_type": "stream",
     "text": [
      "C:\\Users\\gusge\\AppData\\Local\\Temp\\ipykernel_8060\\2440456843.py:10: FutureWarning: The provided callable <function min at 0x0000024E7E93C790> is currently using SeriesGroupBy.min. In a future version of pandas, the provided callable will be used directly. To keep current behavior pass the string \"min\" instead.\n",
      "  first_user_commit_by_chunks.append( df_commit.groupby([\"author_id\"], as_index=False).agg({\"created_at\": np.min}))\n"
     ]
    },
    {
     "name": "stdout",
     "output_type": "stream",
     "text": [
      "lendo arquivo:  378\n"
     ]
    },
    {
     "name": "stderr",
     "output_type": "stream",
     "text": [
      "C:\\Users\\gusge\\AppData\\Local\\Temp\\ipykernel_8060\\2440456843.py:10: FutureWarning: The provided callable <function min at 0x0000024E7E93C790> is currently using SeriesGroupBy.min. In a future version of pandas, the provided callable will be used directly. To keep current behavior pass the string \"min\" instead.\n",
      "  first_user_commit_by_chunks.append( df_commit.groupby([\"author_id\"], as_index=False).agg({\"created_at\": np.min}))\n"
     ]
    },
    {
     "name": "stdout",
     "output_type": "stream",
     "text": [
      "lendo arquivo:  379\n"
     ]
    },
    {
     "name": "stderr",
     "output_type": "stream",
     "text": [
      "C:\\Users\\gusge\\AppData\\Local\\Temp\\ipykernel_8060\\2440456843.py:10: FutureWarning: The provided callable <function min at 0x0000024E7E93C790> is currently using SeriesGroupBy.min. In a future version of pandas, the provided callable will be used directly. To keep current behavior pass the string \"min\" instead.\n",
      "  first_user_commit_by_chunks.append( df_commit.groupby([\"author_id\"], as_index=False).agg({\"created_at\": np.min}))\n"
     ]
    },
    {
     "name": "stdout",
     "output_type": "stream",
     "text": [
      "lendo arquivo:  380\n"
     ]
    },
    {
     "name": "stderr",
     "output_type": "stream",
     "text": [
      "C:\\Users\\gusge\\AppData\\Local\\Temp\\ipykernel_8060\\2440456843.py:10: FutureWarning: The provided callable <function min at 0x0000024E7E93C790> is currently using SeriesGroupBy.min. In a future version of pandas, the provided callable will be used directly. To keep current behavior pass the string \"min\" instead.\n",
      "  first_user_commit_by_chunks.append( df_commit.groupby([\"author_id\"], as_index=False).agg({\"created_at\": np.min}))\n"
     ]
    },
    {
     "name": "stdout",
     "output_type": "stream",
     "text": [
      "lendo arquivo:  381\n"
     ]
    },
    {
     "name": "stderr",
     "output_type": "stream",
     "text": [
      "C:\\Users\\gusge\\AppData\\Local\\Temp\\ipykernel_8060\\2440456843.py:10: FutureWarning: The provided callable <function min at 0x0000024E7E93C790> is currently using SeriesGroupBy.min. In a future version of pandas, the provided callable will be used directly. To keep current behavior pass the string \"min\" instead.\n",
      "  first_user_commit_by_chunks.append( df_commit.groupby([\"author_id\"], as_index=False).agg({\"created_at\": np.min}))\n"
     ]
    },
    {
     "name": "stdout",
     "output_type": "stream",
     "text": [
      "lendo arquivo:  382\n"
     ]
    },
    {
     "name": "stderr",
     "output_type": "stream",
     "text": [
      "C:\\Users\\gusge\\AppData\\Local\\Temp\\ipykernel_8060\\2440456843.py:10: FutureWarning: The provided callable <function min at 0x0000024E7E93C790> is currently using SeriesGroupBy.min. In a future version of pandas, the provided callable will be used directly. To keep current behavior pass the string \"min\" instead.\n",
      "  first_user_commit_by_chunks.append( df_commit.groupby([\"author_id\"], as_index=False).agg({\"created_at\": np.min}))\n"
     ]
    },
    {
     "name": "stdout",
     "output_type": "stream",
     "text": [
      "lendo arquivo:  383\n"
     ]
    },
    {
     "name": "stderr",
     "output_type": "stream",
     "text": [
      "C:\\Users\\gusge\\AppData\\Local\\Temp\\ipykernel_8060\\2440456843.py:10: FutureWarning: The provided callable <function min at 0x0000024E7E93C790> is currently using SeriesGroupBy.min. In a future version of pandas, the provided callable will be used directly. To keep current behavior pass the string \"min\" instead.\n",
      "  first_user_commit_by_chunks.append( df_commit.groupby([\"author_id\"], as_index=False).agg({\"created_at\": np.min}))\n"
     ]
    },
    {
     "name": "stdout",
     "output_type": "stream",
     "text": [
      "lendo arquivo:  384\n"
     ]
    },
    {
     "name": "stderr",
     "output_type": "stream",
     "text": [
      "C:\\Users\\gusge\\AppData\\Local\\Temp\\ipykernel_8060\\2440456843.py:10: FutureWarning: The provided callable <function min at 0x0000024E7E93C790> is currently using SeriesGroupBy.min. In a future version of pandas, the provided callable will be used directly. To keep current behavior pass the string \"min\" instead.\n",
      "  first_user_commit_by_chunks.append( df_commit.groupby([\"author_id\"], as_index=False).agg({\"created_at\": np.min}))\n"
     ]
    },
    {
     "name": "stdout",
     "output_type": "stream",
     "text": [
      "lendo arquivo:  385\n"
     ]
    },
    {
     "name": "stderr",
     "output_type": "stream",
     "text": [
      "C:\\Users\\gusge\\AppData\\Local\\Temp\\ipykernel_8060\\2440456843.py:10: FutureWarning: The provided callable <function min at 0x0000024E7E93C790> is currently using SeriesGroupBy.min. In a future version of pandas, the provided callable will be used directly. To keep current behavior pass the string \"min\" instead.\n",
      "  first_user_commit_by_chunks.append( df_commit.groupby([\"author_id\"], as_index=False).agg({\"created_at\": np.min}))\n"
     ]
    },
    {
     "name": "stdout",
     "output_type": "stream",
     "text": [
      "lendo arquivo:  386\n"
     ]
    },
    {
     "name": "stderr",
     "output_type": "stream",
     "text": [
      "C:\\Users\\gusge\\AppData\\Local\\Temp\\ipykernel_8060\\2440456843.py:10: FutureWarning: The provided callable <function min at 0x0000024E7E93C790> is currently using SeriesGroupBy.min. In a future version of pandas, the provided callable will be used directly. To keep current behavior pass the string \"min\" instead.\n",
      "  first_user_commit_by_chunks.append( df_commit.groupby([\"author_id\"], as_index=False).agg({\"created_at\": np.min}))\n"
     ]
    },
    {
     "name": "stdout",
     "output_type": "stream",
     "text": [
      "lendo arquivo:  387\n"
     ]
    },
    {
     "name": "stderr",
     "output_type": "stream",
     "text": [
      "C:\\Users\\gusge\\AppData\\Local\\Temp\\ipykernel_8060\\2440456843.py:10: FutureWarning: The provided callable <function min at 0x0000024E7E93C790> is currently using SeriesGroupBy.min. In a future version of pandas, the provided callable will be used directly. To keep current behavior pass the string \"min\" instead.\n",
      "  first_user_commit_by_chunks.append( df_commit.groupby([\"author_id\"], as_index=False).agg({\"created_at\": np.min}))\n"
     ]
    },
    {
     "name": "stdout",
     "output_type": "stream",
     "text": [
      "lendo arquivo:  388\n"
     ]
    },
    {
     "name": "stderr",
     "output_type": "stream",
     "text": [
      "C:\\Users\\gusge\\AppData\\Local\\Temp\\ipykernel_8060\\2440456843.py:10: FutureWarning: The provided callable <function min at 0x0000024E7E93C790> is currently using SeriesGroupBy.min. In a future version of pandas, the provided callable will be used directly. To keep current behavior pass the string \"min\" instead.\n",
      "  first_user_commit_by_chunks.append( df_commit.groupby([\"author_id\"], as_index=False).agg({\"created_at\": np.min}))\n"
     ]
    },
    {
     "name": "stdout",
     "output_type": "stream",
     "text": [
      "lendo arquivo:  389\n"
     ]
    },
    {
     "name": "stderr",
     "output_type": "stream",
     "text": [
      "C:\\Users\\gusge\\AppData\\Local\\Temp\\ipykernel_8060\\2440456843.py:10: FutureWarning: The provided callable <function min at 0x0000024E7E93C790> is currently using SeriesGroupBy.min. In a future version of pandas, the provided callable will be used directly. To keep current behavior pass the string \"min\" instead.\n",
      "  first_user_commit_by_chunks.append( df_commit.groupby([\"author_id\"], as_index=False).agg({\"created_at\": np.min}))\n"
     ]
    },
    {
     "name": "stdout",
     "output_type": "stream",
     "text": [
      "lendo arquivo:  390\n"
     ]
    },
    {
     "name": "stderr",
     "output_type": "stream",
     "text": [
      "C:\\Users\\gusge\\AppData\\Local\\Temp\\ipykernel_8060\\2440456843.py:10: FutureWarning: The provided callable <function min at 0x0000024E7E93C790> is currently using SeriesGroupBy.min. In a future version of pandas, the provided callable will be used directly. To keep current behavior pass the string \"min\" instead.\n",
      "  first_user_commit_by_chunks.append( df_commit.groupby([\"author_id\"], as_index=False).agg({\"created_at\": np.min}))\n"
     ]
    },
    {
     "name": "stdout",
     "output_type": "stream",
     "text": [
      "lendo arquivo:  391\n"
     ]
    },
    {
     "name": "stderr",
     "output_type": "stream",
     "text": [
      "C:\\Users\\gusge\\AppData\\Local\\Temp\\ipykernel_8060\\2440456843.py:10: FutureWarning: The provided callable <function min at 0x0000024E7E93C790> is currently using SeriesGroupBy.min. In a future version of pandas, the provided callable will be used directly. To keep current behavior pass the string \"min\" instead.\n",
      "  first_user_commit_by_chunks.append( df_commit.groupby([\"author_id\"], as_index=False).agg({\"created_at\": np.min}))\n"
     ]
    },
    {
     "name": "stdout",
     "output_type": "stream",
     "text": [
      "lendo arquivo:  392\n"
     ]
    },
    {
     "name": "stderr",
     "output_type": "stream",
     "text": [
      "C:\\Users\\gusge\\AppData\\Local\\Temp\\ipykernel_8060\\2440456843.py:10: FutureWarning: The provided callable <function min at 0x0000024E7E93C790> is currently using SeriesGroupBy.min. In a future version of pandas, the provided callable will be used directly. To keep current behavior pass the string \"min\" instead.\n",
      "  first_user_commit_by_chunks.append( df_commit.groupby([\"author_id\"], as_index=False).agg({\"created_at\": np.min}))\n"
     ]
    },
    {
     "name": "stdout",
     "output_type": "stream",
     "text": [
      "lendo arquivo:  393\n"
     ]
    },
    {
     "name": "stderr",
     "output_type": "stream",
     "text": [
      "C:\\Users\\gusge\\AppData\\Local\\Temp\\ipykernel_8060\\2440456843.py:10: FutureWarning: The provided callable <function min at 0x0000024E7E93C790> is currently using SeriesGroupBy.min. In a future version of pandas, the provided callable will be used directly. To keep current behavior pass the string \"min\" instead.\n",
      "  first_user_commit_by_chunks.append( df_commit.groupby([\"author_id\"], as_index=False).agg({\"created_at\": np.min}))\n"
     ]
    },
    {
     "name": "stdout",
     "output_type": "stream",
     "text": [
      "lendo arquivo:  394\n"
     ]
    },
    {
     "name": "stderr",
     "output_type": "stream",
     "text": [
      "C:\\Users\\gusge\\AppData\\Local\\Temp\\ipykernel_8060\\2440456843.py:10: FutureWarning: The provided callable <function min at 0x0000024E7E93C790> is currently using SeriesGroupBy.min. In a future version of pandas, the provided callable will be used directly. To keep current behavior pass the string \"min\" instead.\n",
      "  first_user_commit_by_chunks.append( df_commit.groupby([\"author_id\"], as_index=False).agg({\"created_at\": np.min}))\n"
     ]
    },
    {
     "name": "stdout",
     "output_type": "stream",
     "text": [
      "lendo arquivo:  395\n"
     ]
    },
    {
     "name": "stderr",
     "output_type": "stream",
     "text": [
      "C:\\Users\\gusge\\AppData\\Local\\Temp\\ipykernel_8060\\2440456843.py:10: FutureWarning: The provided callable <function min at 0x0000024E7E93C790> is currently using SeriesGroupBy.min. In a future version of pandas, the provided callable will be used directly. To keep current behavior pass the string \"min\" instead.\n",
      "  first_user_commit_by_chunks.append( df_commit.groupby([\"author_id\"], as_index=False).agg({\"created_at\": np.min}))\n"
     ]
    },
    {
     "name": "stdout",
     "output_type": "stream",
     "text": [
      "lendo arquivo:  396\n"
     ]
    },
    {
     "name": "stderr",
     "output_type": "stream",
     "text": [
      "C:\\Users\\gusge\\AppData\\Local\\Temp\\ipykernel_8060\\2440456843.py:10: FutureWarning: The provided callable <function min at 0x0000024E7E93C790> is currently using SeriesGroupBy.min. In a future version of pandas, the provided callable will be used directly. To keep current behavior pass the string \"min\" instead.\n",
      "  first_user_commit_by_chunks.append( df_commit.groupby([\"author_id\"], as_index=False).agg({\"created_at\": np.min}))\n"
     ]
    },
    {
     "name": "stdout",
     "output_type": "stream",
     "text": [
      "lendo arquivo:  397\n"
     ]
    },
    {
     "name": "stderr",
     "output_type": "stream",
     "text": [
      "C:\\Users\\gusge\\AppData\\Local\\Temp\\ipykernel_8060\\2440456843.py:10: FutureWarning: The provided callable <function min at 0x0000024E7E93C790> is currently using SeriesGroupBy.min. In a future version of pandas, the provided callable will be used directly. To keep current behavior pass the string \"min\" instead.\n",
      "  first_user_commit_by_chunks.append( df_commit.groupby([\"author_id\"], as_index=False).agg({\"created_at\": np.min}))\n"
     ]
    },
    {
     "name": "stdout",
     "output_type": "stream",
     "text": [
      "lendo arquivo:  398\n"
     ]
    },
    {
     "name": "stderr",
     "output_type": "stream",
     "text": [
      "C:\\Users\\gusge\\AppData\\Local\\Temp\\ipykernel_8060\\2440456843.py:10: FutureWarning: The provided callable <function min at 0x0000024E7E93C790> is currently using SeriesGroupBy.min. In a future version of pandas, the provided callable will be used directly. To keep current behavior pass the string \"min\" instead.\n",
      "  first_user_commit_by_chunks.append( df_commit.groupby([\"author_id\"], as_index=False).agg({\"created_at\": np.min}))\n"
     ]
    },
    {
     "name": "stdout",
     "output_type": "stream",
     "text": [
      "lendo arquivo:  399\n"
     ]
    },
    {
     "name": "stderr",
     "output_type": "stream",
     "text": [
      "C:\\Users\\gusge\\AppData\\Local\\Temp\\ipykernel_8060\\2440456843.py:10: FutureWarning: The provided callable <function min at 0x0000024E7E93C790> is currently using SeriesGroupBy.min. In a future version of pandas, the provided callable will be used directly. To keep current behavior pass the string \"min\" instead.\n",
      "  first_user_commit_by_chunks.append( df_commit.groupby([\"author_id\"], as_index=False).agg({\"created_at\": np.min}))\n"
     ]
    },
    {
     "name": "stdout",
     "output_type": "stream",
     "text": [
      "lendo arquivo:  400\n"
     ]
    },
    {
     "name": "stderr",
     "output_type": "stream",
     "text": [
      "C:\\Users\\gusge\\AppData\\Local\\Temp\\ipykernel_8060\\2440456843.py:10: FutureWarning: The provided callable <function min at 0x0000024E7E93C790> is currently using SeriesGroupBy.min. In a future version of pandas, the provided callable will be used directly. To keep current behavior pass the string \"min\" instead.\n",
      "  first_user_commit_by_chunks.append( df_commit.groupby([\"author_id\"], as_index=False).agg({\"created_at\": np.min}))\n"
     ]
    },
    {
     "name": "stdout",
     "output_type": "stream",
     "text": [
      "lendo arquivo:  401\n"
     ]
    },
    {
     "name": "stderr",
     "output_type": "stream",
     "text": [
      "C:\\Users\\gusge\\AppData\\Local\\Temp\\ipykernel_8060\\2440456843.py:10: FutureWarning: The provided callable <function min at 0x0000024E7E93C790> is currently using SeriesGroupBy.min. In a future version of pandas, the provided callable will be used directly. To keep current behavior pass the string \"min\" instead.\n",
      "  first_user_commit_by_chunks.append( df_commit.groupby([\"author_id\"], as_index=False).agg({\"created_at\": np.min}))\n"
     ]
    },
    {
     "name": "stdout",
     "output_type": "stream",
     "text": [
      "lendo arquivo:  402\n"
     ]
    },
    {
     "name": "stderr",
     "output_type": "stream",
     "text": [
      "C:\\Users\\gusge\\AppData\\Local\\Temp\\ipykernel_8060\\2440456843.py:10: FutureWarning: The provided callable <function min at 0x0000024E7E93C790> is currently using SeriesGroupBy.min. In a future version of pandas, the provided callable will be used directly. To keep current behavior pass the string \"min\" instead.\n",
      "  first_user_commit_by_chunks.append( df_commit.groupby([\"author_id\"], as_index=False).agg({\"created_at\": np.min}))\n"
     ]
    },
    {
     "name": "stdout",
     "output_type": "stream",
     "text": [
      "lendo arquivo:  403\n"
     ]
    },
    {
     "name": "stderr",
     "output_type": "stream",
     "text": [
      "C:\\Users\\gusge\\AppData\\Local\\Temp\\ipykernel_8060\\2440456843.py:10: FutureWarning: The provided callable <function min at 0x0000024E7E93C790> is currently using SeriesGroupBy.min. In a future version of pandas, the provided callable will be used directly. To keep current behavior pass the string \"min\" instead.\n",
      "  first_user_commit_by_chunks.append( df_commit.groupby([\"author_id\"], as_index=False).agg({\"created_at\": np.min}))\n"
     ]
    },
    {
     "name": "stdout",
     "output_type": "stream",
     "text": [
      "lendo arquivo:  404\n"
     ]
    },
    {
     "name": "stderr",
     "output_type": "stream",
     "text": [
      "C:\\Users\\gusge\\AppData\\Local\\Temp\\ipykernel_8060\\2440456843.py:10: FutureWarning: The provided callable <function min at 0x0000024E7E93C790> is currently using SeriesGroupBy.min. In a future version of pandas, the provided callable will be used directly. To keep current behavior pass the string \"min\" instead.\n",
      "  first_user_commit_by_chunks.append( df_commit.groupby([\"author_id\"], as_index=False).agg({\"created_at\": np.min}))\n"
     ]
    },
    {
     "name": "stdout",
     "output_type": "stream",
     "text": [
      "lendo arquivo:  405\n"
     ]
    },
    {
     "name": "stderr",
     "output_type": "stream",
     "text": [
      "C:\\Users\\gusge\\AppData\\Local\\Temp\\ipykernel_8060\\2440456843.py:10: FutureWarning: The provided callable <function min at 0x0000024E7E93C790> is currently using SeriesGroupBy.min. In a future version of pandas, the provided callable will be used directly. To keep current behavior pass the string \"min\" instead.\n",
      "  first_user_commit_by_chunks.append( df_commit.groupby([\"author_id\"], as_index=False).agg({\"created_at\": np.min}))\n"
     ]
    },
    {
     "name": "stdout",
     "output_type": "stream",
     "text": [
      "lendo arquivo:  406\n"
     ]
    },
    {
     "name": "stderr",
     "output_type": "stream",
     "text": [
      "C:\\Users\\gusge\\AppData\\Local\\Temp\\ipykernel_8060\\2440456843.py:10: FutureWarning: The provided callable <function min at 0x0000024E7E93C790> is currently using SeriesGroupBy.min. In a future version of pandas, the provided callable will be used directly. To keep current behavior pass the string \"min\" instead.\n",
      "  first_user_commit_by_chunks.append( df_commit.groupby([\"author_id\"], as_index=False).agg({\"created_at\": np.min}))\n"
     ]
    },
    {
     "name": "stdout",
     "output_type": "stream",
     "text": [
      "lendo arquivo:  407\n"
     ]
    },
    {
     "name": "stderr",
     "output_type": "stream",
     "text": [
      "C:\\Users\\gusge\\AppData\\Local\\Temp\\ipykernel_8060\\2440456843.py:10: FutureWarning: The provided callable <function min at 0x0000024E7E93C790> is currently using SeriesGroupBy.min. In a future version of pandas, the provided callable will be used directly. To keep current behavior pass the string \"min\" instead.\n",
      "  first_user_commit_by_chunks.append( df_commit.groupby([\"author_id\"], as_index=False).agg({\"created_at\": np.min}))\n"
     ]
    },
    {
     "name": "stdout",
     "output_type": "stream",
     "text": [
      "lendo arquivo:  408\n"
     ]
    },
    {
     "name": "stderr",
     "output_type": "stream",
     "text": [
      "C:\\Users\\gusge\\AppData\\Local\\Temp\\ipykernel_8060\\2440456843.py:10: FutureWarning: The provided callable <function min at 0x0000024E7E93C790> is currently using SeriesGroupBy.min. In a future version of pandas, the provided callable will be used directly. To keep current behavior pass the string \"min\" instead.\n",
      "  first_user_commit_by_chunks.append( df_commit.groupby([\"author_id\"], as_index=False).agg({\"created_at\": np.min}))\n"
     ]
    },
    {
     "name": "stdout",
     "output_type": "stream",
     "text": [
      "lendo arquivo:  409\n"
     ]
    },
    {
     "name": "stderr",
     "output_type": "stream",
     "text": [
      "C:\\Users\\gusge\\AppData\\Local\\Temp\\ipykernel_8060\\2440456843.py:10: FutureWarning: The provided callable <function min at 0x0000024E7E93C790> is currently using SeriesGroupBy.min. In a future version of pandas, the provided callable will be used directly. To keep current behavior pass the string \"min\" instead.\n",
      "  first_user_commit_by_chunks.append( df_commit.groupby([\"author_id\"], as_index=False).agg({\"created_at\": np.min}))\n"
     ]
    }
   ],
   "source": [
    "unique_users = df_project_members['user_id'].unique()\n",
    "\n",
    "first_user_commit_by_chunks = []\n",
    "\n",
    "i=0\n",
    "for file in dump_open_source_files:\n",
    "    print(\"lendo arquivo: \", i)\n",
    "    df_commit = pd.read_csv(join(path,'open_source',file))\n",
    "    df_commit[\"created_at\"] = pd.to_datetime(df_commit[\"created_at\"])\n",
    "    first_user_commit_by_chunks.append( df_commit.groupby([\"author_id\"], as_index=False).agg({\"created_at\": np.min}))\n",
    "    i += 1"
   ]
  },
  {
   "cell_type": "code",
   "execution_count": 54,
   "metadata": {},
   "outputs": [
    {
     "name": "stderr",
     "output_type": "stream",
     "text": [
      "C:\\Users\\gusge\\AppData\\Local\\Temp\\ipykernel_8060\\3485976874.py:3: FutureWarning: The provided callable <function min at 0x0000024E7E93C790> is currently using SeriesGroupBy.min. In a future version of pandas, the provided callable will be used directly. To keep current behavior pass the string \"min\" instead.\n",
      "  df_first_user_commit = df_first_user_commit.groupby(\"author_id\", as_index=False).agg({\"created_at\": np.min})\n"
     ]
    }
   ],
   "source": [
    "df_first_user_commit = pd.concat(first_user_commit_by_chunks)\n",
    "\n",
    "df_first_user_commit = df_first_user_commit.groupby(\"author_id\", as_index=False).agg({\"created_at\": np.min})"
   ]
  },
  {
   "cell_type": "code",
   "execution_count": 55,
   "metadata": {},
   "outputs": [
    {
     "data": {
      "text/html": [
       "<div>\n",
       "<style scoped>\n",
       "    .dataframe tbody tr th:only-of-type {\n",
       "        vertical-align: middle;\n",
       "    }\n",
       "\n",
       "    .dataframe tbody tr th {\n",
       "        vertical-align: top;\n",
       "    }\n",
       "\n",
       "    .dataframe thead th {\n",
       "        text-align: right;\n",
       "    }\n",
       "</style>\n",
       "<table border=\"1\" class=\"dataframe\">\n",
       "  <thead>\n",
       "    <tr style=\"text-align: right;\">\n",
       "      <th></th>\n",
       "      <th>author_id</th>\n",
       "      <th>created_at</th>\n",
       "    </tr>\n",
       "  </thead>\n",
       "  <tbody>\n",
       "    <tr>\n",
       "      <th>0</th>\n",
       "      <td>1</td>\n",
       "      <td>2007-10-14 12:58:15</td>\n",
       "    </tr>\n",
       "    <tr>\n",
       "      <th>1</th>\n",
       "      <td>2</td>\n",
       "      <td>2008-04-07 00:09:13</td>\n",
       "    </tr>\n",
       "    <tr>\n",
       "      <th>2</th>\n",
       "      <td>3</td>\n",
       "      <td>2010-12-03 21:46:12</td>\n",
       "    </tr>\n",
       "    <tr>\n",
       "      <th>3</th>\n",
       "      <td>4</td>\n",
       "      <td>2008-06-12 17:21:44</td>\n",
       "    </tr>\n",
       "    <tr>\n",
       "      <th>4</th>\n",
       "      <td>5</td>\n",
       "      <td>2008-05-11 13:16:20</td>\n",
       "    </tr>\n",
       "    <tr>\n",
       "      <th>...</th>\n",
       "      <td>...</td>\n",
       "      <td>...</td>\n",
       "    </tr>\n",
       "    <tr>\n",
       "      <th>6901775</th>\n",
       "      <td>67994955</td>\n",
       "      <td>2021-03-05 01:03:21</td>\n",
       "    </tr>\n",
       "    <tr>\n",
       "      <th>6901776</th>\n",
       "      <td>67995186</td>\n",
       "      <td>2021-03-05 11:28:14</td>\n",
       "    </tr>\n",
       "    <tr>\n",
       "      <th>6901777</th>\n",
       "      <td>67995216</td>\n",
       "      <td>2021-03-05 12:22:52</td>\n",
       "    </tr>\n",
       "    <tr>\n",
       "      <th>6901778</th>\n",
       "      <td>67995268</td>\n",
       "      <td>2021-03-05 12:23:22</td>\n",
       "    </tr>\n",
       "    <tr>\n",
       "      <th>6901779</th>\n",
       "      <td>67995365</td>\n",
       "      <td>2021-03-05 04:53:21</td>\n",
       "    </tr>\n",
       "  </tbody>\n",
       "</table>\n",
       "<p>6901780 rows × 2 columns</p>\n",
       "</div>"
      ],
      "text/plain": [
       "        author_id          created_at\n",
       "0               1 2007-10-14 12:58:15\n",
       "1               2 2008-04-07 00:09:13\n",
       "2               3 2010-12-03 21:46:12\n",
       "3               4 2008-06-12 17:21:44\n",
       "4               5 2008-05-11 13:16:20\n",
       "...           ...                 ...\n",
       "6901775  67994955 2021-03-05 01:03:21\n",
       "6901776  67995186 2021-03-05 11:28:14\n",
       "6901777  67995216 2021-03-05 12:22:52\n",
       "6901778  67995268 2021-03-05 12:23:22\n",
       "6901779  67995365 2021-03-05 04:53:21\n",
       "\n",
       "[6901780 rows x 2 columns]"
      ]
     },
     "execution_count": 55,
     "metadata": {},
     "output_type": "execute_result"
    }
   ],
   "source": [
    "df_first_user_commit"
   ]
  },
  {
   "cell_type": "markdown",
   "metadata": {},
   "source": [
    "Agora que temos os projetos que possuem contribuidores podemos utilizar para filtrar a relação projetos"
   ]
  },
  {
   "cell_type": "code",
   "execution_count": null,
   "metadata": {},
   "outputs": [],
   "source": [
    "df_first_commit_user = pd.DataFrame(first_commit_user)\n",
    "\n",
    "df_first_commit_user"
   ]
  },
  {
   "cell_type": "markdown",
   "metadata": {},
   "source": [
    "Obtemos 26183 primeiras contribuições desde 2019. A partir disso vamos obter os demais dados importantes para contribuições"
   ]
  },
  {
   "cell_type": "code",
   "execution_count": null,
   "metadata": {},
   "outputs": [],
   "source": [
    "repo_done = []\n",
    "\n",
    "from IPython.display import clear_output"
   ]
  },
  {
   "cell_type": "markdown",
   "metadata": {},
   "source": [
    "Agora calculamos quantos commits cada projeto possui no momento de onboard do dev"
   ]
  },
  {
   "cell_type": "code",
   "execution_count": 34,
   "metadata": {},
   "outputs": [],
   "source": [
    "\n",
    "def get_total_commits(row):\n",
    "    repo_id = row['project_id']\n",
    "    date = row['created_at']\n",
    "    total_commits = 0\n",
    "    for file in dump_open_source_files:\n",
    "        chunk = pd.read_csv(dump_open_source_files)\n",
    "        total_commits += chunk.loc[(chunk['project_id'] == repo_id) & (pd.to_datetime(chunk['created_at']) <= pd.to_datetime(date))].shape[0]\n",
    "\n",
    "    return total_commits"
   ]
  },
  {
   "cell_type": "code",
   "execution_count": null,
   "metadata": {},
   "outputs": [],
   "source": [
    "\n",
    "['total_commits'] = df_first_commit_user.apply(get_total_commits, axis=1)   "
   ]
  },
  {
   "cell_type": "markdown",
   "metadata": {},
   "source": [
    "Pegar os detalhes do projeto"
   ]
  },
  {
   "cell_type": "code",
   "execution_count": null,
   "metadata": {},
   "outputs": [],
   "source": [
    "df_projetos = pd.read_csv(join(path, \"projects.csv\"), names=[\"id\", \"url\", \"owner_id\", \"name\", \"descriptor\", \"language\", \"created_at\", \"forked_from\", \"deleted\", \"updated_at\"], na_values=\"not available\", on_bad_lines='warn', chunksize=5000000)"
   ]
  }
 ],
 "metadata": {
  "kernelspec": {
   "display_name": "Python 3",
   "language": "python",
   "name": "python3"
  },
  "language_info": {
   "codemirror_mode": {
    "name": "ipython",
    "version": 3
   },
   "file_extension": ".py",
   "mimetype": "text/x-python",
   "name": "python",
   "nbconvert_exporter": "python",
   "pygments_lexer": "ipython3",
   "version": "3.10.7"
  }
 },
 "nbformat": 4,
 "nbformat_minor": 2
}

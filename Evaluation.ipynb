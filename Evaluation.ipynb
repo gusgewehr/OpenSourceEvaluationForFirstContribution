{
 "cells": [
  {
   "cell_type": "markdown",
   "metadata": {},
   "source": [
    "Testando se o ambiente está funcionando"
   ]
  },
  {
   "cell_type": "code",
   "execution_count": 1,
   "metadata": {},
   "outputs": [
    {
     "name": "stdout",
     "output_type": "stream",
     "text": [
      "teste\n"
     ]
    }
   ],
   "source": [
    "print('teste')"
   ]
  },
  {
   "cell_type": "markdown",
   "metadata": {},
   "source": [
    "Importando bibliotecas para explorar os diretórios do computador"
   ]
  },
  {
   "cell_type": "code",
   "execution_count": 2,
   "metadata": {},
   "outputs": [],
   "source": [
    "from os import listdir\n",
    "from os.path import isfile, join"
   ]
  },
  {
   "cell_type": "markdown",
   "metadata": {},
   "source": [
    "Verificando todos os arquivos obtidos da fonta de dados"
   ]
  },
  {
   "cell_type": "code",
   "execution_count": 3,
   "metadata": {},
   "outputs": [],
   "source": [
    "path = \"E://dump\"\n",
    "\n",
    "dump_files = listdir(path)"
   ]
  },
  {
   "cell_type": "code",
   "execution_count": 4,
   "metadata": {},
   "outputs": [],
   "source": [
    "import pandas as pd\n",
    "import numpy as np"
   ]
  },
  {
   "cell_type": "markdown",
   "metadata": {},
   "source": [
    "Tendo certeza que é possível ler os dados do GHtorrent."
   ]
  },
  {
   "cell_type": "code",
   "execution_count": 6,
   "metadata": {},
   "outputs": [],
   "source": [
    "#pd.read_csv(join(path, 'project_languages.csv'))"
   ]
  },
  {
   "cell_type": "markdown",
   "metadata": {},
   "source": [
    "Acredito que será possível partir dos pullrequest para observar quais repositórios possuem contribuições ou não. Além disso, após pesquisar (https://levelup.gitconnected.com/how-to-mine-github-data-in-2022-e9c70b3f61d3) parece que os dados de 2015 possuem uma estrutura diferente. Então irei tentar filtrar eles fora do meu dataset"
   ]
  },
  {
   "cell_type": "code",
   "execution_count": 7,
   "metadata": {},
   "outputs": [],
   "source": [
    "#df_pullrequests = pd.read_csv(join(path, 'pull_requests.csv'))"
   ]
  },
  {
   "cell_type": "code",
   "execution_count": 8,
   "metadata": {},
   "outputs": [],
   "source": [
    "#df_pullrequests"
   ]
  },
  {
   "cell_type": "markdown",
   "metadata": {},
   "source": [
    "Um artigo que mostra a estrutura dos arquivos do GHtorrent https://gousios.org/pub/ghtorrent-dataset-toolsuite.pdf\n",
    "misturando com esse aqui também https://github.com/ghtorrent/ghtorrent.org/blob/master/files/schema.pdf\n",
    "Então irei adicionar o nome nas colunas, acabei retirando a coluna pullrequest_id pois ela não fazia sentido no contexto"
   ]
  },
  {
   "cell_type": "code",
   "execution_count": 9,
   "metadata": {},
   "outputs": [],
   "source": [
    "#df_pullrequests.columns = [\"id\", \"head_repo_id\", \"base_repo_id\", \"head_commit_id\", \"base_commit_id\", \"intra_branch_id\",\"merged\"]"
   ]
  },
  {
   "cell_type": "markdown",
   "metadata": {},
   "source": [
    "Como os pull requests não possuem data de criação tentarei filtrar através dos commits que eles estão ligados."
   ]
  },
  {
   "cell_type": "code",
   "execution_count": 10,
   "metadata": {},
   "outputs": [],
   "source": [
    "# # Função para calcular o número total de chunks\n",
    "# def get_total_chunks(filename, chunksize):\n",
    "#     # Contar o número total de linhas no arquivo\n",
    "#     total_lines = sum(1 for _ in open(filename)) - 1  # Subtrai 1 por causa do cabeçalho\n",
    "#     # Calcular o número total de chunks\n",
    "#     total_chunks = (total_lines // chunksize) + (1 if total_lines % chunksize != 0 else 0)\n",
    "#     return total_chunks\n",
    "\n",
    "# # Exemplo de uso\n",
    "# filename = join(path, 'commits.csv')\n",
    "# chunksize = 5000000\n",
    "# total_chunks = get_total_chunks(filename, chunksize)\n",
    "# print(f\"Total de chunks: {total_chunks}\")"
   ]
  },
  {
   "cell_type": "code",
   "execution_count": 11,
   "metadata": {},
   "outputs": [],
   "source": [
    "#df_commits_19 = pd.DataFrame({},columns=[\"id\", \"sha\", \"author_id\", \"commiter_id\", \"project_id\", \"created_at\"])\n",
    "\n"
   ]
  },
  {
   "cell_type": "code",
   "execution_count": 12,
   "metadata": {},
   "outputs": [],
   "source": [
    "#def checkDate(df):\n",
    "#   return pd.to_datetime(df.iloc[0]['created_at']) > pd.to_datetime('2019-01-01') or pd.to_datetime(df.iloc[-1]['created_at']) > pd.to_datetime('2019-01-01')\n",
    "\n",
    "\n"
   ]
  },
  {
   "cell_type": "code",
   "execution_count": 13,
   "metadata": {},
   "outputs": [],
   "source": [
    "# for chunk in df_commits:\n",
    "#     chunk.map(lambda row: chechRowDate(row))"
   ]
  },
  {
   "cell_type": "code",
   "execution_count": 14,
   "metadata": {},
   "outputs": [],
   "source": [
    "# i=0\n",
    "\n",
    "# for chunk in df_commits:\n",
    "#     if checkDate(chunk):\n",
    "#         chunk.to_csv(f'E:/dump/commits_greater_than_2k19_{i}')\n",
    "\n",
    "#     i += 1"
   ]
  },
  {
   "cell_type": "markdown",
   "metadata": {},
   "source": [
    "# Filtrando os repositórios Open Source"
   ]
  },
  {
   "cell_type": "markdown",
   "metadata": {},
   "source": [
    "Devido a grande quantidade de commits, não foi possível os utilizar como filtro de projetos open-source. Nesse caso, iremos utilizar a relação project_members para encontrar quais projetos são relevantes, ou seja, que possuem contribuintes além do dono."
   ]
  },
  {
   "cell_type": "code",
   "execution_count": 7,
   "metadata": {},
   "outputs": [],
   "source": [
    "df_project_members = pd.read_csv(join(path, 'project_members.csv'), names=[\"repo_id\", \"user_id\", \"created_at\"])"
   ]
  },
  {
   "cell_type": "code",
   "execution_count": 8,
   "metadata": {},
   "outputs": [
    {
     "data": {
      "text/html": [
       "<div>\n",
       "<style scoped>\n",
       "    .dataframe tbody tr th:only-of-type {\n",
       "        vertical-align: middle;\n",
       "    }\n",
       "\n",
       "    .dataframe tbody tr th {\n",
       "        vertical-align: top;\n",
       "    }\n",
       "\n",
       "    .dataframe thead th {\n",
       "        text-align: right;\n",
       "    }\n",
       "</style>\n",
       "<table border=\"1\" class=\"dataframe\">\n",
       "  <thead>\n",
       "    <tr style=\"text-align: right;\">\n",
       "      <th></th>\n",
       "      <th>repo_id</th>\n",
       "      <th>user_id</th>\n",
       "      <th>created_at</th>\n",
       "    </tr>\n",
       "  </thead>\n",
       "  <tbody>\n",
       "    <tr>\n",
       "      <th>0</th>\n",
       "      <td>1</td>\n",
       "      <td>1</td>\n",
       "      <td>2009-12-08 10:17:27</td>\n",
       "    </tr>\n",
       "    <tr>\n",
       "      <th>1</th>\n",
       "      <td>1</td>\n",
       "      <td>2</td>\n",
       "      <td>2009-12-08 10:17:27</td>\n",
       "    </tr>\n",
       "    <tr>\n",
       "      <th>2</th>\n",
       "      <td>1</td>\n",
       "      <td>4</td>\n",
       "      <td>2009-12-08 10:17:27</td>\n",
       "    </tr>\n",
       "    <tr>\n",
       "      <th>3</th>\n",
       "      <td>3</td>\n",
       "      <td>24</td>\n",
       "      <td>2011-02-19 01:58:42</td>\n",
       "    </tr>\n",
       "    <tr>\n",
       "      <th>4</th>\n",
       "      <td>3</td>\n",
       "      <td>5465</td>\n",
       "      <td>2011-02-19 01:58:42</td>\n",
       "    </tr>\n",
       "    <tr>\n",
       "      <th>...</th>\n",
       "      <td>...</td>\n",
       "      <td>...</td>\n",
       "      <td>...</td>\n",
       "    </tr>\n",
       "    <tr>\n",
       "      <th>15525047</th>\n",
       "      <td>207191305</td>\n",
       "      <td>221488</td>\n",
       "      <td>2021-03-06 22:46:40</td>\n",
       "    </tr>\n",
       "    <tr>\n",
       "      <th>15525048</th>\n",
       "      <td>207191367</td>\n",
       "      <td>54196484</td>\n",
       "      <td>2021-03-06 22:51:54</td>\n",
       "    </tr>\n",
       "    <tr>\n",
       "      <th>15525049</th>\n",
       "      <td>207191455</td>\n",
       "      <td>54204581</td>\n",
       "      <td>2021-03-06 22:50:39</td>\n",
       "    </tr>\n",
       "    <tr>\n",
       "      <th>15525050</th>\n",
       "      <td>207191498</td>\n",
       "      <td>3518100</td>\n",
       "      <td>2021-03-06 22:45:27</td>\n",
       "    </tr>\n",
       "    <tr>\n",
       "      <th>15525051</th>\n",
       "      <td>207192080</td>\n",
       "      <td>56706217</td>\n",
       "      <td>2021-03-06 22:55:19</td>\n",
       "    </tr>\n",
       "  </tbody>\n",
       "</table>\n",
       "<p>15525052 rows × 3 columns</p>\n",
       "</div>"
      ],
      "text/plain": [
       "            repo_id   user_id           created_at\n",
       "0                 1         1  2009-12-08 10:17:27\n",
       "1                 1         2  2009-12-08 10:17:27\n",
       "2                 1         4  2009-12-08 10:17:27\n",
       "3                 3        24  2011-02-19 01:58:42\n",
       "4                 3      5465  2011-02-19 01:58:42\n",
       "...             ...       ...                  ...\n",
       "15525047  207191305    221488  2021-03-06 22:46:40\n",
       "15525048  207191367  54196484  2021-03-06 22:51:54\n",
       "15525049  207191455  54204581  2021-03-06 22:50:39\n",
       "15525050  207191498   3518100  2021-03-06 22:45:27\n",
       "15525051  207192080  56706217  2021-03-06 22:55:19\n",
       "\n",
       "[15525052 rows x 3 columns]"
      ]
     },
     "execution_count": 8,
     "metadata": {},
     "output_type": "execute_result"
    }
   ],
   "source": [
    "df_project_members"
   ]
  },
  {
   "cell_type": "code",
   "execution_count": 9,
   "metadata": {},
   "outputs": [],
   "source": [
    "df_count_members = df_project_members.groupby(\"repo_id\", as_index=False)[\"user_id\"].count()"
   ]
  },
  {
   "cell_type": "code",
   "execution_count": 11,
   "metadata": {},
   "outputs": [],
   "source": [
    "df_open_source_members = df_count_members[df_count_members[\"user_id\"]>10]"
   ]
  },
  {
   "cell_type": "code",
   "execution_count": 12,
   "metadata": {},
   "outputs": [
    {
     "data": {
      "text/html": [
       "<div>\n",
       "<style scoped>\n",
       "    .dataframe tbody tr th:only-of-type {\n",
       "        vertical-align: middle;\n",
       "    }\n",
       "\n",
       "    .dataframe tbody tr th {\n",
       "        vertical-align: top;\n",
       "    }\n",
       "\n",
       "    .dataframe thead th {\n",
       "        text-align: right;\n",
       "    }\n",
       "</style>\n",
       "<table border=\"1\" class=\"dataframe\">\n",
       "  <thead>\n",
       "    <tr style=\"text-align: right;\">\n",
       "      <th></th>\n",
       "      <th>repo_id</th>\n",
       "      <th>user_id</th>\n",
       "    </tr>\n",
       "  </thead>\n",
       "  <tbody>\n",
       "    <tr>\n",
       "      <th>1</th>\n",
       "      <td>3</td>\n",
       "      <td>19</td>\n",
       "    </tr>\n",
       "    <tr>\n",
       "      <th>4</th>\n",
       "      <td>8</td>\n",
       "      <td>16</td>\n",
       "    </tr>\n",
       "    <tr>\n",
       "      <th>14</th>\n",
       "      <td>19</td>\n",
       "      <td>14</td>\n",
       "    </tr>\n",
       "    <tr>\n",
       "      <th>26</th>\n",
       "      <td>34</td>\n",
       "      <td>38</td>\n",
       "    </tr>\n",
       "    <tr>\n",
       "      <th>27</th>\n",
       "      <td>37</td>\n",
       "      <td>42</td>\n",
       "    </tr>\n",
       "    <tr>\n",
       "      <th>...</th>\n",
       "      <td>...</td>\n",
       "      <td>...</td>\n",
       "    </tr>\n",
       "    <tr>\n",
       "      <th>9544854</th>\n",
       "      <td>206859445</td>\n",
       "      <td>12</td>\n",
       "    </tr>\n",
       "    <tr>\n",
       "      <th>9545989</th>\n",
       "      <td>206918002</td>\n",
       "      <td>12</td>\n",
       "    </tr>\n",
       "    <tr>\n",
       "      <th>9546379</th>\n",
       "      <td>206955864</td>\n",
       "      <td>17</td>\n",
       "    </tr>\n",
       "    <tr>\n",
       "      <th>9547045</th>\n",
       "      <td>206997704</td>\n",
       "      <td>19</td>\n",
       "    </tr>\n",
       "    <tr>\n",
       "      <th>9549231</th>\n",
       "      <td>207159748</td>\n",
       "      <td>27</td>\n",
       "    </tr>\n",
       "  </tbody>\n",
       "</table>\n",
       "<p>57075 rows × 2 columns</p>\n",
       "</div>"
      ],
      "text/plain": [
       "           repo_id  user_id\n",
       "1                3       19\n",
       "4                8       16\n",
       "14              19       14\n",
       "26              34       38\n",
       "27              37       42\n",
       "...            ...      ...\n",
       "9544854  206859445       12\n",
       "9545989  206918002       12\n",
       "9546379  206955864       17\n",
       "9547045  206997704       19\n",
       "9549231  207159748       27\n",
       "\n",
       "[57075 rows x 2 columns]"
      ]
     },
     "execution_count": 12,
     "metadata": {},
     "output_type": "execute_result"
    }
   ],
   "source": [
    "df_open_source_members"
   ]
  },
  {
   "cell_type": "markdown",
   "metadata": {},
   "source": [
    "Devivo a datação dos dados iremos filtrar somente os membros a partir de 2019"
   ]
  },
  {
   "cell_type": "code",
   "execution_count": 13,
   "metadata": {},
   "outputs": [],
   "source": [
    "df_project_members = df_project_members.loc[\n",
    "    (pd.to_datetime(df_project_members['created_at']) > pd.to_datetime(\"01-01-2019\")) & \n",
    "    (df_project_members['repo_id'].isin(df_open_source_members['repo_id']))\n",
    "    ]"
   ]
  },
  {
   "cell_type": "code",
   "execution_count": 14,
   "metadata": {},
   "outputs": [
    {
     "name": "stderr",
     "output_type": "stream",
     "text": [
      "C:\\Users\\gusge\\AppData\\Local\\Temp\\ipykernel_21700\\3971203305.py:3: SettingWithCopyWarning: \n",
      "A value is trying to be set on a copy of a slice from a DataFrame.\n",
      "Try using .loc[row_indexer,col_indexer] = value instead\n",
      "\n",
      "See the caveats in the documentation: https://pandas.pydata.org/pandas-docs/stable/user_guide/indexing.html#returning-a-view-versus-a-copy\n",
      "  df_project_members['created_at'] = pd.to_datetime(df_project_members['created_at'])\n"
     ]
    }
   ],
   "source": [
    "#transforma o campo de data em data\n",
    "\n",
    "df_project_members['created_at'] = pd.to_datetime(df_project_members['created_at'])"
   ]
  },
  {
   "cell_type": "code",
   "execution_count": 15,
   "metadata": {},
   "outputs": [
    {
     "data": {
      "text/html": [
       "<div>\n",
       "<style scoped>\n",
       "    .dataframe tbody tr th:only-of-type {\n",
       "        vertical-align: middle;\n",
       "    }\n",
       "\n",
       "    .dataframe tbody tr th {\n",
       "        vertical-align: top;\n",
       "    }\n",
       "\n",
       "    .dataframe thead th {\n",
       "        text-align: right;\n",
       "    }\n",
       "</style>\n",
       "<table border=\"1\" class=\"dataframe\">\n",
       "  <thead>\n",
       "    <tr style=\"text-align: right;\">\n",
       "      <th></th>\n",
       "      <th>repo_id</th>\n",
       "      <th>user_id</th>\n",
       "      <th>created_at</th>\n",
       "    </tr>\n",
       "  </thead>\n",
       "  <tbody>\n",
       "    <tr>\n",
       "      <th>66</th>\n",
       "      <td>19</td>\n",
       "      <td>9245591</td>\n",
       "      <td>2020-06-17 19:28:17</td>\n",
       "    </tr>\n",
       "    <tr>\n",
       "      <th>68</th>\n",
       "      <td>19</td>\n",
       "      <td>33292409</td>\n",
       "      <td>2020-06-05 14:53:56</td>\n",
       "    </tr>\n",
       "    <tr>\n",
       "      <th>1475</th>\n",
       "      <td>346</td>\n",
       "      <td>32145570</td>\n",
       "      <td>2019-01-29 14:55:47</td>\n",
       "    </tr>\n",
       "    <tr>\n",
       "      <th>2199</th>\n",
       "      <td>499</td>\n",
       "      <td>87499</td>\n",
       "      <td>2019-01-10 18:12:44</td>\n",
       "    </tr>\n",
       "    <tr>\n",
       "      <th>2201</th>\n",
       "      <td>499</td>\n",
       "      <td>249763</td>\n",
       "      <td>2019-02-27 17:41:17</td>\n",
       "    </tr>\n",
       "    <tr>\n",
       "      <th>...</th>\n",
       "      <td>...</td>\n",
       "      <td>...</td>\n",
       "      <td>...</td>\n",
       "    </tr>\n",
       "    <tr>\n",
       "      <th>15524292</th>\n",
       "      <td>207159748</td>\n",
       "      <td>61113108</td>\n",
       "      <td>2021-03-06 17:14:58</td>\n",
       "    </tr>\n",
       "    <tr>\n",
       "      <th>15524293</th>\n",
       "      <td>207159748</td>\n",
       "      <td>61908309</td>\n",
       "      <td>2021-03-06 17:13:48</td>\n",
       "    </tr>\n",
       "    <tr>\n",
       "      <th>15524294</th>\n",
       "      <td>207159748</td>\n",
       "      <td>68016435</td>\n",
       "      <td>2021-03-06 16:52:38</td>\n",
       "    </tr>\n",
       "    <tr>\n",
       "      <th>15524295</th>\n",
       "      <td>207159748</td>\n",
       "      <td>68016479</td>\n",
       "      <td>2021-03-06 16:54:11</td>\n",
       "    </tr>\n",
       "    <tr>\n",
       "      <th>15524296</th>\n",
       "      <td>207159748</td>\n",
       "      <td>68016916</td>\n",
       "      <td>2021-03-06 17:13:48</td>\n",
       "    </tr>\n",
       "  </tbody>\n",
       "</table>\n",
       "<p>439082 rows × 3 columns</p>\n",
       "</div>"
      ],
      "text/plain": [
       "            repo_id   user_id          created_at\n",
       "66               19   9245591 2020-06-17 19:28:17\n",
       "68               19  33292409 2020-06-05 14:53:56\n",
       "1475            346  32145570 2019-01-29 14:55:47\n",
       "2199            499     87499 2019-01-10 18:12:44\n",
       "2201            499    249763 2019-02-27 17:41:17\n",
       "...             ...       ...                 ...\n",
       "15524292  207159748  61113108 2021-03-06 17:14:58\n",
       "15524293  207159748  61908309 2021-03-06 17:13:48\n",
       "15524294  207159748  68016435 2021-03-06 16:52:38\n",
       "15524295  207159748  68016479 2021-03-06 16:54:11\n",
       "15524296  207159748  68016916 2021-03-06 17:13:48\n",
       "\n",
       "[439082 rows x 3 columns]"
      ]
     },
     "execution_count": 15,
     "metadata": {},
     "output_type": "execute_result"
    }
   ],
   "source": [
    "df_project_members"
   ]
  },
  {
   "cell_type": "markdown",
   "metadata": {},
   "source": [
    "# Dataframe alvo"
   ]
  },
  {
   "cell_type": "markdown",
   "metadata": {},
   "source": [
    "A partir do estudo Recommending GitHub Projects for Developer Onboarding podemos extrair alguns atributos a serem extraídos do dataset para que seja estudado o quão receptivo um repositório é, são eles:\n",
    "\n",
    "- Crescimento do Projeto: Quantidade de commits do projeto no momento de iniciação\n",
    "- Data de criação do projeto: Projetos mais novos tendem a atrair mais desenvolvedores\n",
    "- Momento de primeira contribuição: quando o projeto começa a receber contribuidores\n",
    "- Momento da última contribuição: se a equipe do projeto se manter estável significa que existe menos oportunidades de onboarding\n",
    "- Momento do primeiro commit: primeiro commit do projeto, a partir de quando passa a aceitar contribuições\n",
    "- Momento do último commit: se o projeto receber muitos commits, mas nao tiver tanto onboarding significa q esse projeto necessita de mais contribuintes"
   ]
  },
  {
   "cell_type": "code",
   "execution_count": 37,
   "metadata": {},
   "outputs": [
    {
     "data": {
      "text/html": [
       "<div>\n",
       "<style scoped>\n",
       "    .dataframe tbody tr th:only-of-type {\n",
       "        vertical-align: middle;\n",
       "    }\n",
       "\n",
       "    .dataframe tbody tr th {\n",
       "        vertical-align: top;\n",
       "    }\n",
       "\n",
       "    .dataframe thead th {\n",
       "        text-align: right;\n",
       "    }\n",
       "</style>\n",
       "<table border=\"1\" class=\"dataframe\">\n",
       "  <thead>\n",
       "    <tr style=\"text-align: right;\">\n",
       "      <th></th>\n",
       "      <th>repo_id</th>\n",
       "      <th>user_id</th>\n",
       "      <th>onboarding_date</th>\n",
       "      <th>project_created_at</th>\n",
       "      <th>total_commits</th>\n",
       "      <th>first_onboarding</th>\n",
       "      <th>last_onboarding</th>\n",
       "      <th>first_commit</th>\n",
       "      <th>last_commit</th>\n",
       "    </tr>\n",
       "  </thead>\n",
       "  <tbody>\n",
       "  </tbody>\n",
       "</table>\n",
       "</div>"
      ],
      "text/plain": [
       "Empty DataFrame\n",
       "Columns: [repo_id, user_id, onboarding_date, project_created_at, total_commits, first_onboarding, last_onboarding, first_commit, last_commit]\n",
       "Index: []"
      ]
     },
     "execution_count": 37,
     "metadata": {},
     "output_type": "execute_result"
    }
   ],
   "source": [
    "#objetivo final\n",
    "\n",
    "df_onboardings = pd.DataFrame({}, columns=[\"repo_id\", \"user_id\", \"onboarding_date\", \"project_created_at\", \"total_commits\",\"first_onboarding\", \"last_onboarding\", \"first_commit\", \"last_commit\"])\n",
    "\n",
    "df_onboardings"
   ]
  },
  {
   "cell_type": "code",
   "execution_count": 17,
   "metadata": {},
   "outputs": [],
   "source": [
    "chunks_commits = pd.read_csv(join(path, 'commits.csv'), names=[\"id\", \"sha\", \"author_id\", \"commiter_id\", \"project_id\", \"created_at\"], chunksize=5000000)"
   ]
  },
  {
   "cell_type": "markdown",
   "metadata": {},
   "source": [
    "Agora irei filtrar somente os commits dos projetos selecionados como open source após o ano de 2019"
   ]
  },
  {
   "cell_type": "markdown",
   "metadata": {},
   "source": [
    "# Pegando os commits referentes aos repositórios classificados como Open Source"
   ]
  },
  {
   "cell_type": "code",
   "execution_count": 26,
   "metadata": {},
   "outputs": [],
   "source": [
    "\n",
    "#i=0\n",
    "#for chunk in chunks_commits:\n",
    "#        df_commit = chunk[chunk['project_id'].isin(df_project_members['repo_id'])]\n",
    "#        df_commit.to_csv(f'E:/dump/open_source/open_source_commits_{i}.csv')\n",
    "#        i += 1\n"
   ]
  },
  {
   "cell_type": "code",
   "execution_count": 18,
   "metadata": {},
   "outputs": [],
   "source": [
    "dump_open_source_files = listdir(join(path, 'open_source'))\n"
   ]
  },
  {
   "cell_type": "markdown",
   "metadata": {},
   "source": [
    "# Descobrindo usuários iniciantes"
   ]
  },
  {
   "cell_type": "markdown",
   "metadata": {},
   "source": [
    "Para determinar quais contribuições são referentes a iniciantes teremos que descobrir qual foi o primeiro commit de cada usuário e qual foi o repositório dele"
   ]
  },
  {
   "cell_type": "markdown",
   "metadata": {},
   "source": [
    "testando um método de filtrar os primeiros commits em repositórios open source de cada usuário sem q o ID e o repo_id sejam abstraídos"
   ]
  },
  {
   "cell_type": "code",
   "execution_count": 19,
   "metadata": {},
   "outputs": [],
   "source": [
    "def get_min_date_row(group):\n",
    "    min_row = group.loc[group['created_at'].idxmin()]\n",
    "    return min_row\n",
    "\n"
   ]
  },
  {
   "cell_type": "code",
   "execution_count": 32,
   "metadata": {},
   "outputs": [],
   "source": [
    "# first_user_commit_by_chunks2 = []\n",
    "\n",
    "# i=0\n",
    "# for file in dump_open_source_files:\n",
    "#     print(\"lendo arquivo: \", i)\n",
    "#     df_commit = pd.read_csv(join(path,'open_source',file))\n",
    "#     df_commit[\"created_at\"] = pd.to_datetime(df_commit[\"created_at\"])\n",
    "#     first_user_commit_by_chunks2.append(df_commit.groupby('author_id').apply(get_min_date_row).reset_index(drop=True))\n",
    "#     i += 1"
   ]
  },
  {
   "cell_type": "code",
   "execution_count": 33,
   "metadata": {},
   "outputs": [],
   "source": [
    "# df_first_user_commit2 = pd.concat(first_user_commit_by_chunks2)\n",
    "\n",
    "# df_first_user_commit2"
   ]
  },
  {
   "cell_type": "code",
   "execution_count": 34,
   "metadata": {},
   "outputs": [],
   "source": [
    "# df_first_user_commit2.drop('Unnamed: 0', axis=1)\n",
    "\n",
    "# df_first_user_commit2.to_csv('first_user_commit.csv')"
   ]
  },
  {
   "cell_type": "code",
   "execution_count": 35,
   "metadata": {},
   "outputs": [],
   "source": [
    "#df_first_user_commit2 = pd.read_csv('first_user_commit.csv')"
   ]
  },
  {
   "cell_type": "code",
   "execution_count": 36,
   "metadata": {},
   "outputs": [
    {
     "data": {
      "text/html": [
       "<div>\n",
       "<style scoped>\n",
       "    .dataframe tbody tr th:only-of-type {\n",
       "        vertical-align: middle;\n",
       "    }\n",
       "\n",
       "    .dataframe tbody tr th {\n",
       "        vertical-align: top;\n",
       "    }\n",
       "\n",
       "    .dataframe thead th {\n",
       "        text-align: right;\n",
       "    }\n",
       "</style>\n",
       "<table border=\"1\" class=\"dataframe\">\n",
       "  <thead>\n",
       "    <tr style=\"text-align: right;\">\n",
       "      <th></th>\n",
       "      <th>Unnamed: 0.1</th>\n",
       "      <th>Unnamed: 0</th>\n",
       "      <th>id</th>\n",
       "      <th>sha</th>\n",
       "      <th>author_id</th>\n",
       "      <th>commiter_id</th>\n",
       "      <th>project_id</th>\n",
       "      <th>created_at</th>\n",
       "    </tr>\n",
       "  </thead>\n",
       "  <tbody>\n",
       "    <tr>\n",
       "      <th>0</th>\n",
       "      <td>0</td>\n",
       "      <td>1811535861</td>\n",
       "      <td>1883483709</td>\n",
       "      <td>b8ceafa8f487426af00dac5c50639560559df343</td>\n",
       "      <td>1</td>\n",
       "      <td>1</td>\n",
       "      <td>5049</td>\n",
       "      <td>2007-10-14 12:58:15</td>\n",
       "    </tr>\n",
       "    <tr>\n",
       "      <th>1</th>\n",
       "      <td>0</td>\n",
       "      <td>20724408</td>\n",
       "      <td>22521551</td>\n",
       "      <td>b44d3b0015b271c84aca4bc9f0168968cb850a0c</td>\n",
       "      <td>2</td>\n",
       "      <td>2</td>\n",
       "      <td>1724197</td>\n",
       "      <td>2008-04-07 00:09:13</td>\n",
       "    </tr>\n",
       "    <tr>\n",
       "      <th>2</th>\n",
       "      <td>0</td>\n",
       "      <td>76288056</td>\n",
       "      <td>79129981</td>\n",
       "      <td>31b817bf40eb9c9439e0f40823ba29421af889ed</td>\n",
       "      <td>3</td>\n",
       "      <td>121679</td>\n",
       "      <td>45316</td>\n",
       "      <td>2010-12-03 21:46:12</td>\n",
       "    </tr>\n",
       "    <tr>\n",
       "      <th>3</th>\n",
       "      <td>1</td>\n",
       "      <td>21950245</td>\n",
       "      <td>23772038</td>\n",
       "      <td>57423bcd43b6038b2673bc4451749cefb35728db</td>\n",
       "      <td>4</td>\n",
       "      <td>4</td>\n",
       "      <td>1867516</td>\n",
       "      <td>2008-06-12 17:21:44</td>\n",
       "    </tr>\n",
       "    <tr>\n",
       "      <th>4</th>\n",
       "      <td>3</td>\n",
       "      <td>11511319</td>\n",
       "      <td>12856279</td>\n",
       "      <td>88345134f57cfa026fda2bddd6548f73c2641467</td>\n",
       "      <td>5</td>\n",
       "      <td>5</td>\n",
       "      <td>913123</td>\n",
       "      <td>2008-05-11 13:16:20</td>\n",
       "    </tr>\n",
       "    <tr>\n",
       "      <th>...</th>\n",
       "      <td>...</td>\n",
       "      <td>...</td>\n",
       "      <td>...</td>\n",
       "      <td>...</td>\n",
       "      <td>...</td>\n",
       "      <td>...</td>\n",
       "      <td>...</td>\n",
       "      <td>...</td>\n",
       "    </tr>\n",
       "    <tr>\n",
       "      <th>6901775</th>\n",
       "      <td>19973</td>\n",
       "      <td>2046565013</td>\n",
       "      <td>2132218602</td>\n",
       "      <td>71b525eec9a1bd4f02ed41aaae8ed067add9ee0a</td>\n",
       "      <td>67994955</td>\n",
       "      <td>67994955</td>\n",
       "      <td>205036147</td>\n",
       "      <td>2021-03-05 01:03:21</td>\n",
       "    </tr>\n",
       "    <tr>\n",
       "      <th>6901776</th>\n",
       "      <td>19974</td>\n",
       "      <td>2046568897</td>\n",
       "      <td>2132222532</td>\n",
       "      <td>8277df669a3a07058784177fe0cbb7bf863bca48</td>\n",
       "      <td>67995186</td>\n",
       "      <td>67995186</td>\n",
       "      <td>206941146</td>\n",
       "      <td>2021-03-05 11:28:14</td>\n",
       "    </tr>\n",
       "    <tr>\n",
       "      <th>6901777</th>\n",
       "      <td>19975</td>\n",
       "      <td>2046569344</td>\n",
       "      <td>2132222983</td>\n",
       "      <td>9891835b6e35014a62bb3e8bc9f58bd1daeb6cc5</td>\n",
       "      <td>67995216</td>\n",
       "      <td>67995216</td>\n",
       "      <td>204201846</td>\n",
       "      <td>2021-03-05 12:22:52</td>\n",
       "    </tr>\n",
       "    <tr>\n",
       "      <th>6901778</th>\n",
       "      <td>19976</td>\n",
       "      <td>2046570260</td>\n",
       "      <td>2132223910</td>\n",
       "      <td>9a5ee877d0dd347be3e3fac425aef4fc05485bda</td>\n",
       "      <td>67995268</td>\n",
       "      <td>67995268</td>\n",
       "      <td>206861821</td>\n",
       "      <td>2021-03-05 12:23:22</td>\n",
       "    </tr>\n",
       "    <tr>\n",
       "      <th>6901779</th>\n",
       "      <td>19977</td>\n",
       "      <td>2046571513</td>\n",
       "      <td>2132225180</td>\n",
       "      <td>b580047f502d4eefa70a790fb2e53cb3380b19ec</td>\n",
       "      <td>67995365</td>\n",
       "      <td>67995365</td>\n",
       "      <td>203148603</td>\n",
       "      <td>2021-03-05 04:53:21</td>\n",
       "    </tr>\n",
       "  </tbody>\n",
       "</table>\n",
       "<p>6901780 rows × 8 columns</p>\n",
       "</div>"
      ],
      "text/plain": [
       "         Unnamed: 0.1  Unnamed: 0          id  \\\n",
       "0                   0  1811535861  1883483709   \n",
       "1                   0    20724408    22521551   \n",
       "2                   0    76288056    79129981   \n",
       "3                   1    21950245    23772038   \n",
       "4                   3    11511319    12856279   \n",
       "...               ...         ...         ...   \n",
       "6901775         19973  2046565013  2132218602   \n",
       "6901776         19974  2046568897  2132222532   \n",
       "6901777         19975  2046569344  2132222983   \n",
       "6901778         19976  2046570260  2132223910   \n",
       "6901779         19977  2046571513  2132225180   \n",
       "\n",
       "                                              sha  author_id  commiter_id  \\\n",
       "0        b8ceafa8f487426af00dac5c50639560559df343          1            1   \n",
       "1        b44d3b0015b271c84aca4bc9f0168968cb850a0c          2            2   \n",
       "2        31b817bf40eb9c9439e0f40823ba29421af889ed          3       121679   \n",
       "3        57423bcd43b6038b2673bc4451749cefb35728db          4            4   \n",
       "4        88345134f57cfa026fda2bddd6548f73c2641467          5            5   \n",
       "...                                           ...        ...          ...   \n",
       "6901775  71b525eec9a1bd4f02ed41aaae8ed067add9ee0a   67994955     67994955   \n",
       "6901776  8277df669a3a07058784177fe0cbb7bf863bca48   67995186     67995186   \n",
       "6901777  9891835b6e35014a62bb3e8bc9f58bd1daeb6cc5   67995216     67995216   \n",
       "6901778  9a5ee877d0dd347be3e3fac425aef4fc05485bda   67995268     67995268   \n",
       "6901779  b580047f502d4eefa70a790fb2e53cb3380b19ec   67995365     67995365   \n",
       "\n",
       "         project_id           created_at  \n",
       "0              5049  2007-10-14 12:58:15  \n",
       "1           1724197  2008-04-07 00:09:13  \n",
       "2             45316  2010-12-03 21:46:12  \n",
       "3           1867516  2008-06-12 17:21:44  \n",
       "4            913123  2008-05-11 13:16:20  \n",
       "...             ...                  ...  \n",
       "6901775   205036147  2021-03-05 01:03:21  \n",
       "6901776   206941146  2021-03-05 11:28:14  \n",
       "6901777   204201846  2021-03-05 12:22:52  \n",
       "6901778   206861821  2021-03-05 12:23:22  \n",
       "6901779   203148603  2021-03-05 04:53:21  \n",
       "\n",
       "[6901780 rows x 8 columns]"
      ]
     },
     "execution_count": 36,
     "metadata": {},
     "output_type": "execute_result"
    }
   ],
   "source": [
    "#df_first_user_contrib = df_first_user_commit2.groupby('author_id').apply(get_min_date_row).reset_index(drop=True)\n",
    "\n"
   ]
  },
  {
   "cell_type": "code",
   "execution_count": null,
   "metadata": {},
   "outputs": [],
   "source": [
    "#df_first_user_contrib = df_first_user_contrib.drop('Unnamed: 0', axis=1)\n",
    "#df_first_user_contrib = df_first_user_contrib.drop('Unnamed: 0.1', axis=1)"
   ]
  },
  {
   "cell_type": "code",
   "execution_count": 41,
   "metadata": {},
   "outputs": [],
   "source": [
    "#df_first_user_contrib.to_csv('first_user_contrib.csv')"
   ]
  },
  {
   "cell_type": "code",
   "execution_count": 20,
   "metadata": {},
   "outputs": [],
   "source": [
    "df_first_user_contrib = pd.read_csv(\"first_user_contrib.csv\")"
   ]
  },
  {
   "cell_type": "markdown",
   "metadata": {},
   "source": [
    "Agora iremos filtrar somente as primeiras contribuições de cada pessoa, já que estamos focando em pessoas iniciantes"
   ]
  },
  {
   "cell_type": "code",
   "execution_count": 30,
   "metadata": {},
   "outputs": [],
   "source": [
    "df_first_user_contrib = df_first_user_contrib.drop('Unnamed: 0', axis=1)\n",
    "df_first_user_contrib = df_first_user_contrib[pd.to_datetime(df_first_user_contrib['created_at']) > pd.to_datetime('01-01-2019')]"
   ]
  },
  {
   "cell_type": "code",
   "execution_count": 31,
   "metadata": {},
   "outputs": [
    {
     "data": {
      "text/html": [
       "<div>\n",
       "<style scoped>\n",
       "    .dataframe tbody tr th:only-of-type {\n",
       "        vertical-align: middle;\n",
       "    }\n",
       "\n",
       "    .dataframe tbody tr th {\n",
       "        vertical-align: top;\n",
       "    }\n",
       "\n",
       "    .dataframe thead th {\n",
       "        text-align: right;\n",
       "    }\n",
       "</style>\n",
       "<table border=\"1\" class=\"dataframe\">\n",
       "  <thead>\n",
       "    <tr style=\"text-align: right;\">\n",
       "      <th></th>\n",
       "      <th>id</th>\n",
       "      <th>sha</th>\n",
       "      <th>author_id</th>\n",
       "      <th>commiter_id</th>\n",
       "      <th>project_id</th>\n",
       "      <th>created_at</th>\n",
       "    </tr>\n",
       "  </thead>\n",
       "  <tbody>\n",
       "    <tr>\n",
       "      <th>391</th>\n",
       "      <td>1368679517</td>\n",
       "      <td>b31d4edd720ccbe73c41524443cff2aad99e9e63</td>\n",
       "      <td>522</td>\n",
       "      <td>4880649</td>\n",
       "      <td>94155879</td>\n",
       "      <td>2019-04-21 09:52:05</td>\n",
       "    </tr>\n",
       "    <tr>\n",
       "      <th>770</th>\n",
       "      <td>1361915567</td>\n",
       "      <td>8a17770a7f55378cdfdfc834c78b52979577e659</td>\n",
       "      <td>1002</td>\n",
       "      <td>28994</td>\n",
       "      <td>19962242</td>\n",
       "      <td>2019-04-12 10:05:09</td>\n",
       "    </tr>\n",
       "    <tr>\n",
       "      <th>1071</th>\n",
       "      <td>1265257924</td>\n",
       "      <td>55251aa89099358c040d38f3af48e3699d67bab2</td>\n",
       "      <td>1409</td>\n",
       "      <td>1006514</td>\n",
       "      <td>67114901</td>\n",
       "      <td>2019-01-10 17:24:38</td>\n",
       "    </tr>\n",
       "    <tr>\n",
       "      <th>1078</th>\n",
       "      <td>1884682839</td>\n",
       "      <td>2371e8d2041c2d647d23edf5e073b4a0521cf059</td>\n",
       "      <td>1417</td>\n",
       "      <td>36421502</td>\n",
       "      <td>21624052</td>\n",
       "      <td>2019-07-18 04:43:05</td>\n",
       "    </tr>\n",
       "    <tr>\n",
       "      <th>2074</th>\n",
       "      <td>1808726819</td>\n",
       "      <td>2a24064bb220d90277d975b26411a626c47f822c</td>\n",
       "      <td>2686</td>\n",
       "      <td>2686</td>\n",
       "      <td>114639466</td>\n",
       "      <td>2020-08-27 19:59:39</td>\n",
       "    </tr>\n",
       "    <tr>\n",
       "      <th>...</th>\n",
       "      <td>...</td>\n",
       "      <td>...</td>\n",
       "      <td>...</td>\n",
       "      <td>...</td>\n",
       "      <td>...</td>\n",
       "      <td>...</td>\n",
       "    </tr>\n",
       "    <tr>\n",
       "      <th>6901775</th>\n",
       "      <td>2132218602</td>\n",
       "      <td>71b525eec9a1bd4f02ed41aaae8ed067add9ee0a</td>\n",
       "      <td>67994955</td>\n",
       "      <td>67994955</td>\n",
       "      <td>205036147</td>\n",
       "      <td>2021-03-05 01:03:21</td>\n",
       "    </tr>\n",
       "    <tr>\n",
       "      <th>6901776</th>\n",
       "      <td>2132222532</td>\n",
       "      <td>8277df669a3a07058784177fe0cbb7bf863bca48</td>\n",
       "      <td>67995186</td>\n",
       "      <td>67995186</td>\n",
       "      <td>206941146</td>\n",
       "      <td>2021-03-05 11:28:14</td>\n",
       "    </tr>\n",
       "    <tr>\n",
       "      <th>6901777</th>\n",
       "      <td>2132222983</td>\n",
       "      <td>9891835b6e35014a62bb3e8bc9f58bd1daeb6cc5</td>\n",
       "      <td>67995216</td>\n",
       "      <td>67995216</td>\n",
       "      <td>204201846</td>\n",
       "      <td>2021-03-05 12:22:52</td>\n",
       "    </tr>\n",
       "    <tr>\n",
       "      <th>6901778</th>\n",
       "      <td>2132223910</td>\n",
       "      <td>9a5ee877d0dd347be3e3fac425aef4fc05485bda</td>\n",
       "      <td>67995268</td>\n",
       "      <td>67995268</td>\n",
       "      <td>206861821</td>\n",
       "      <td>2021-03-05 12:23:22</td>\n",
       "    </tr>\n",
       "    <tr>\n",
       "      <th>6901779</th>\n",
       "      <td>2132225180</td>\n",
       "      <td>b580047f502d4eefa70a790fb2e53cb3380b19ec</td>\n",
       "      <td>67995365</td>\n",
       "      <td>67995365</td>\n",
       "      <td>203148603</td>\n",
       "      <td>2021-03-05 04:53:21</td>\n",
       "    </tr>\n",
       "  </tbody>\n",
       "</table>\n",
       "<p>960858 rows × 6 columns</p>\n",
       "</div>"
      ],
      "text/plain": [
       "                 id                                       sha  author_id  \\\n",
       "391      1368679517  b31d4edd720ccbe73c41524443cff2aad99e9e63        522   \n",
       "770      1361915567  8a17770a7f55378cdfdfc834c78b52979577e659       1002   \n",
       "1071     1265257924  55251aa89099358c040d38f3af48e3699d67bab2       1409   \n",
       "1078     1884682839  2371e8d2041c2d647d23edf5e073b4a0521cf059       1417   \n",
       "2074     1808726819  2a24064bb220d90277d975b26411a626c47f822c       2686   \n",
       "...             ...                                       ...        ...   \n",
       "6901775  2132218602  71b525eec9a1bd4f02ed41aaae8ed067add9ee0a   67994955   \n",
       "6901776  2132222532  8277df669a3a07058784177fe0cbb7bf863bca48   67995186   \n",
       "6901777  2132222983  9891835b6e35014a62bb3e8bc9f58bd1daeb6cc5   67995216   \n",
       "6901778  2132223910  9a5ee877d0dd347be3e3fac425aef4fc05485bda   67995268   \n",
       "6901779  2132225180  b580047f502d4eefa70a790fb2e53cb3380b19ec   67995365   \n",
       "\n",
       "         commiter_id  project_id           created_at  \n",
       "391          4880649    94155879  2019-04-21 09:52:05  \n",
       "770            28994    19962242  2019-04-12 10:05:09  \n",
       "1071         1006514    67114901  2019-01-10 17:24:38  \n",
       "1078        36421502    21624052  2019-07-18 04:43:05  \n",
       "2074            2686   114639466  2020-08-27 19:59:39  \n",
       "...              ...         ...                  ...  \n",
       "6901775     67994955   205036147  2021-03-05 01:03:21  \n",
       "6901776     67995186   206941146  2021-03-05 11:28:14  \n",
       "6901777     67995216   204201846  2021-03-05 12:22:52  \n",
       "6901778     67995268   206861821  2021-03-05 12:23:22  \n",
       "6901779     67995365   203148603  2021-03-05 04:53:21  \n",
       "\n",
       "[960858 rows x 6 columns]"
      ]
     },
     "execution_count": 31,
     "metadata": {},
     "output_type": "execute_result"
    }
   ],
   "source": [
    "df_first_user_contrib"
   ]
  },
  {
   "cell_type": "code",
   "execution_count": 24,
   "metadata": {},
   "outputs": [
    {
     "data": {
      "text/html": [
       "<div>\n",
       "<style scoped>\n",
       "    .dataframe tbody tr th:only-of-type {\n",
       "        vertical-align: middle;\n",
       "    }\n",
       "\n",
       "    .dataframe tbody tr th {\n",
       "        vertical-align: top;\n",
       "    }\n",
       "\n",
       "    .dataframe thead th {\n",
       "        text-align: right;\n",
       "    }\n",
       "</style>\n",
       "<table border=\"1\" class=\"dataframe\">\n",
       "  <thead>\n",
       "    <tr style=\"text-align: right;\">\n",
       "      <th></th>\n",
       "      <th>repo_id</th>\n",
       "      <th>user_id</th>\n",
       "      <th>created_at</th>\n",
       "    </tr>\n",
       "  </thead>\n",
       "  <tbody>\n",
       "    <tr>\n",
       "      <th>66</th>\n",
       "      <td>19</td>\n",
       "      <td>9245591</td>\n",
       "      <td>2020-06-17 19:28:17</td>\n",
       "    </tr>\n",
       "    <tr>\n",
       "      <th>68</th>\n",
       "      <td>19</td>\n",
       "      <td>33292409</td>\n",
       "      <td>2020-06-05 14:53:56</td>\n",
       "    </tr>\n",
       "    <tr>\n",
       "      <th>1475</th>\n",
       "      <td>346</td>\n",
       "      <td>32145570</td>\n",
       "      <td>2019-01-29 14:55:47</td>\n",
       "    </tr>\n",
       "    <tr>\n",
       "      <th>2199</th>\n",
       "      <td>499</td>\n",
       "      <td>87499</td>\n",
       "      <td>2019-01-10 18:12:44</td>\n",
       "    </tr>\n",
       "    <tr>\n",
       "      <th>2201</th>\n",
       "      <td>499</td>\n",
       "      <td>249763</td>\n",
       "      <td>2019-02-27 17:41:17</td>\n",
       "    </tr>\n",
       "    <tr>\n",
       "      <th>...</th>\n",
       "      <td>...</td>\n",
       "      <td>...</td>\n",
       "      <td>...</td>\n",
       "    </tr>\n",
       "    <tr>\n",
       "      <th>15524292</th>\n",
       "      <td>207159748</td>\n",
       "      <td>61113108</td>\n",
       "      <td>2021-03-06 17:14:58</td>\n",
       "    </tr>\n",
       "    <tr>\n",
       "      <th>15524293</th>\n",
       "      <td>207159748</td>\n",
       "      <td>61908309</td>\n",
       "      <td>2021-03-06 17:13:48</td>\n",
       "    </tr>\n",
       "    <tr>\n",
       "      <th>15524294</th>\n",
       "      <td>207159748</td>\n",
       "      <td>68016435</td>\n",
       "      <td>2021-03-06 16:52:38</td>\n",
       "    </tr>\n",
       "    <tr>\n",
       "      <th>15524295</th>\n",
       "      <td>207159748</td>\n",
       "      <td>68016479</td>\n",
       "      <td>2021-03-06 16:54:11</td>\n",
       "    </tr>\n",
       "    <tr>\n",
       "      <th>15524296</th>\n",
       "      <td>207159748</td>\n",
       "      <td>68016916</td>\n",
       "      <td>2021-03-06 17:13:48</td>\n",
       "    </tr>\n",
       "  </tbody>\n",
       "</table>\n",
       "<p>439082 rows × 3 columns</p>\n",
       "</div>"
      ],
      "text/plain": [
       "            repo_id   user_id          created_at\n",
       "66               19   9245591 2020-06-17 19:28:17\n",
       "68               19  33292409 2020-06-05 14:53:56\n",
       "1475            346  32145570 2019-01-29 14:55:47\n",
       "2199            499     87499 2019-01-10 18:12:44\n",
       "2201            499    249763 2019-02-27 17:41:17\n",
       "...             ...       ...                 ...\n",
       "15524292  207159748  61113108 2021-03-06 17:14:58\n",
       "15524293  207159748  61908309 2021-03-06 17:13:48\n",
       "15524294  207159748  68016435 2021-03-06 16:52:38\n",
       "15524295  207159748  68016479 2021-03-06 16:54:11\n",
       "15524296  207159748  68016916 2021-03-06 17:13:48\n",
       "\n",
       "[439082 rows x 3 columns]"
      ]
     },
     "execution_count": 24,
     "metadata": {},
     "output_type": "execute_result"
    }
   ],
   "source": [
    "df_project_members"
   ]
  },
  {
   "cell_type": "code",
   "execution_count": 34,
   "metadata": {},
   "outputs": [],
   "source": [
    "\n",
    "df_contrib_x_commits = df_project_members.merge(df_first_user_contrib, left_on=['repo_id', 'user_id'], right_on=['project_id', 'author_id'],  how='inner', suffixes=['_members', '_commits'])\n"
   ]
  },
  {
   "cell_type": "code",
   "execution_count": 38,
   "metadata": {},
   "outputs": [
    {
     "data": {
      "text/html": [
       "<div>\n",
       "<style scoped>\n",
       "    .dataframe tbody tr th:only-of-type {\n",
       "        vertical-align: middle;\n",
       "    }\n",
       "\n",
       "    .dataframe tbody tr th {\n",
       "        vertical-align: top;\n",
       "    }\n",
       "\n",
       "    .dataframe thead th {\n",
       "        text-align: right;\n",
       "    }\n",
       "</style>\n",
       "<table border=\"1\" class=\"dataframe\">\n",
       "  <thead>\n",
       "    <tr style=\"text-align: right;\">\n",
       "      <th></th>\n",
       "      <th>repo_id</th>\n",
       "      <th>user_id</th>\n",
       "      <th>onboarding_date</th>\n",
       "      <th>project_created_at</th>\n",
       "      <th>total_commits</th>\n",
       "      <th>first_onboarding</th>\n",
       "      <th>last_onboarding</th>\n",
       "      <th>first_commit</th>\n",
       "      <th>last_commit</th>\n",
       "    </tr>\n",
       "  </thead>\n",
       "  <tbody>\n",
       "    <tr>\n",
       "      <th>0</th>\n",
       "      <td>19</td>\n",
       "      <td>9245591</td>\n",
       "      <td>2020-06-17 19:28:17</td>\n",
       "      <td>NaN</td>\n",
       "      <td>NaN</td>\n",
       "      <td>NaN</td>\n",
       "      <td>NaN</td>\n",
       "      <td>NaN</td>\n",
       "      <td>NaN</td>\n",
       "    </tr>\n",
       "    <tr>\n",
       "      <th>1</th>\n",
       "      <td>19</td>\n",
       "      <td>33292409</td>\n",
       "      <td>2020-06-05 14:53:56</td>\n",
       "      <td>NaN</td>\n",
       "      <td>NaN</td>\n",
       "      <td>NaN</td>\n",
       "      <td>NaN</td>\n",
       "      <td>NaN</td>\n",
       "      <td>NaN</td>\n",
       "    </tr>\n",
       "    <tr>\n",
       "      <th>2</th>\n",
       "      <td>4567</td>\n",
       "      <td>32547120</td>\n",
       "      <td>2020-01-04 17:08:41</td>\n",
       "      <td>NaN</td>\n",
       "      <td>NaN</td>\n",
       "      <td>NaN</td>\n",
       "      <td>NaN</td>\n",
       "      <td>NaN</td>\n",
       "      <td>NaN</td>\n",
       "    </tr>\n",
       "    <tr>\n",
       "      <th>3</th>\n",
       "      <td>6830</td>\n",
       "      <td>44244864</td>\n",
       "      <td>2019-04-19 01:58:41</td>\n",
       "      <td>NaN</td>\n",
       "      <td>NaN</td>\n",
       "      <td>NaN</td>\n",
       "      <td>NaN</td>\n",
       "      <td>NaN</td>\n",
       "      <td>NaN</td>\n",
       "    </tr>\n",
       "    <tr>\n",
       "      <th>4</th>\n",
       "      <td>8373</td>\n",
       "      <td>30552107</td>\n",
       "      <td>2020-06-05 20:09:57</td>\n",
       "      <td>NaN</td>\n",
       "      <td>NaN</td>\n",
       "      <td>NaN</td>\n",
       "      <td>NaN</td>\n",
       "      <td>NaN</td>\n",
       "      <td>NaN</td>\n",
       "    </tr>\n",
       "    <tr>\n",
       "      <th>...</th>\n",
       "      <td>...</td>\n",
       "      <td>...</td>\n",
       "      <td>...</td>\n",
       "      <td>...</td>\n",
       "      <td>...</td>\n",
       "      <td>...</td>\n",
       "      <td>...</td>\n",
       "      <td>...</td>\n",
       "      <td>...</td>\n",
       "    </tr>\n",
       "    <tr>\n",
       "      <th>16626</th>\n",
       "      <td>206997704</td>\n",
       "      <td>66799493</td>\n",
       "      <td>2021-03-05 18:06:24</td>\n",
       "      <td>NaN</td>\n",
       "      <td>NaN</td>\n",
       "      <td>NaN</td>\n",
       "      <td>NaN</td>\n",
       "      <td>NaN</td>\n",
       "      <td>NaN</td>\n",
       "    </tr>\n",
       "    <tr>\n",
       "      <th>16627</th>\n",
       "      <td>206997704</td>\n",
       "      <td>66965962</td>\n",
       "      <td>2021-03-05 18:08:01</td>\n",
       "      <td>NaN</td>\n",
       "      <td>NaN</td>\n",
       "      <td>NaN</td>\n",
       "      <td>NaN</td>\n",
       "      <td>NaN</td>\n",
       "      <td>NaN</td>\n",
       "    </tr>\n",
       "    <tr>\n",
       "      <th>16628</th>\n",
       "      <td>206997704</td>\n",
       "      <td>66994499</td>\n",
       "      <td>2021-03-05 18:10:13</td>\n",
       "      <td>NaN</td>\n",
       "      <td>NaN</td>\n",
       "      <td>NaN</td>\n",
       "      <td>NaN</td>\n",
       "      <td>NaN</td>\n",
       "      <td>NaN</td>\n",
       "    </tr>\n",
       "    <tr>\n",
       "      <th>16629</th>\n",
       "      <td>206997704</td>\n",
       "      <td>67981477</td>\n",
       "      <td>2021-03-05 18:08:24</td>\n",
       "      <td>NaN</td>\n",
       "      <td>NaN</td>\n",
       "      <td>NaN</td>\n",
       "      <td>NaN</td>\n",
       "      <td>NaN</td>\n",
       "      <td>NaN</td>\n",
       "    </tr>\n",
       "    <tr>\n",
       "      <th>16630</th>\n",
       "      <td>206997704</td>\n",
       "      <td>67982813</td>\n",
       "      <td>2021-03-05 18:40:18</td>\n",
       "      <td>NaN</td>\n",
       "      <td>NaN</td>\n",
       "      <td>NaN</td>\n",
       "      <td>NaN</td>\n",
       "      <td>NaN</td>\n",
       "      <td>NaN</td>\n",
       "    </tr>\n",
       "  </tbody>\n",
       "</table>\n",
       "<p>16631 rows × 9 columns</p>\n",
       "</div>"
      ],
      "text/plain": [
       "         repo_id   user_id     onboarding_date project_created_at  \\\n",
       "0             19   9245591 2020-06-17 19:28:17                NaN   \n",
       "1             19  33292409 2020-06-05 14:53:56                NaN   \n",
       "2           4567  32547120 2020-01-04 17:08:41                NaN   \n",
       "3           6830  44244864 2019-04-19 01:58:41                NaN   \n",
       "4           8373  30552107 2020-06-05 20:09:57                NaN   \n",
       "...          ...       ...                 ...                ...   \n",
       "16626  206997704  66799493 2021-03-05 18:06:24                NaN   \n",
       "16627  206997704  66965962 2021-03-05 18:08:01                NaN   \n",
       "16628  206997704  66994499 2021-03-05 18:10:13                NaN   \n",
       "16629  206997704  67981477 2021-03-05 18:08:24                NaN   \n",
       "16630  206997704  67982813 2021-03-05 18:40:18                NaN   \n",
       "\n",
       "      total_commits first_onboarding last_onboarding first_commit last_commit  \n",
       "0               NaN              NaN             NaN          NaN         NaN  \n",
       "1               NaN              NaN             NaN          NaN         NaN  \n",
       "2               NaN              NaN             NaN          NaN         NaN  \n",
       "3               NaN              NaN             NaN          NaN         NaN  \n",
       "4               NaN              NaN             NaN          NaN         NaN  \n",
       "...             ...              ...             ...          ...         ...  \n",
       "16626           NaN              NaN             NaN          NaN         NaN  \n",
       "16627           NaN              NaN             NaN          NaN         NaN  \n",
       "16628           NaN              NaN             NaN          NaN         NaN  \n",
       "16629           NaN              NaN             NaN          NaN         NaN  \n",
       "16630           NaN              NaN             NaN          NaN         NaN  \n",
       "\n",
       "[16631 rows x 9 columns]"
      ]
     },
     "execution_count": 38,
     "metadata": {},
     "output_type": "execute_result"
    }
   ],
   "source": [
    "df_onboardings['repo_id'] = df_contrib_x_commits['repo_id']\n",
    "df_onboardings['user_id'] = df_contrib_x_commits['author_id']\n",
    "df_onboardings['onboarding_date'] = df_contrib_x_commits['created_at_members']\n",
    "\n",
    "df_onboardings"
   ]
  },
  {
   "cell_type": "code",
   "execution_count": null,
   "metadata": {},
   "outputs": [],
   "source": []
  },
  {
   "cell_type": "markdown",
   "metadata": {},
   "source": [
    "filtrando somente as contribuições posteriores a 2019"
   ]
  },
  {
   "cell_type": "code",
   "execution_count": 37,
   "metadata": {},
   "outputs": [
    {
     "ename": "NameError",
     "evalue": "name 'df_first_user_commit' is not defined",
     "output_type": "error",
     "traceback": [
      "\u001b[1;31m---------------------------------------------------------------------------\u001b[0m",
      "\u001b[1;31mNameError\u001b[0m                                 Traceback (most recent call last)",
      "Cell \u001b[1;32mIn[37], line 1\u001b[0m\n\u001b[1;32m----> 1\u001b[0m df_first_user_commit \u001b[38;5;241m=\u001b[39m \u001b[43mdf_first_user_commit\u001b[49m\u001b[38;5;241m.\u001b[39mloc[df_first_user_commit[\u001b[38;5;124m'\u001b[39m\u001b[38;5;124mcreated_at\u001b[39m\u001b[38;5;124m'\u001b[39m] \u001b[38;5;241m>\u001b[39m pd\u001b[38;5;241m.\u001b[39mto_datetime(\u001b[38;5;124m'\u001b[39m\u001b[38;5;124m2019-01-01\u001b[39m\u001b[38;5;124m'\u001b[39m)]\n",
      "\u001b[1;31mNameError\u001b[0m: name 'df_first_user_commit' is not defined"
     ]
    }
   ],
   "source": [
    "df_first_user_commit = df_first_user_commit.loc[df_first_user_commit['created_at'] > pd.to_datetime('2019-01-01')]"
   ]
  },
  {
   "cell_type": "markdown",
   "metadata": {},
   "source": [
    "Agora calculamos quantos commits cada projeto possui no momento de onboard do dev"
   ]
  },
  {
   "cell_type": "code",
   "execution_count": null,
   "metadata": {},
   "outputs": [],
   "source": [
    "\n",
    "def get_total_commits(row):\n",
    "    repo_id = row['project_id']\n",
    "    date = row['created_at']\n",
    "    total_commits = 0\n",
    "    for file in dump_open_source_files:\n",
    "        chunk = pd.read_csv(dump_open_source_files)\n",
    "        total_commits += chunk.loc[(chunk['project_id'] == repo_id) & (pd.to_datetime(chunk['created_at']) <= pd.to_datetime(date))].shape[0]\n",
    "\n",
    "    return total_commits"
   ]
  },
  {
   "cell_type": "code",
   "execution_count": null,
   "metadata": {},
   "outputs": [],
   "source": [
    "\n",
    "['total_commits'] = df_first_commit_user.apply(get_total_commits, axis=1)   "
   ]
  },
  {
   "cell_type": "markdown",
   "metadata": {},
   "source": [
    "Pegar os detalhes do projeto"
   ]
  },
  {
   "cell_type": "code",
   "execution_count": null,
   "metadata": {},
   "outputs": [],
   "source": [
    "df_projetos = pd.read_csv(join(path, \"projects.csv\"), names=[\"id\", \"url\", \"owner_id\", \"name\", \"descriptor\", \"language\", \"created_at\", \"forked_from\", \"deleted\", \"updated_at\"], na_values=\"not available\", on_bad_lines='warn', chunksize=5000000)"
   ]
  }
 ],
 "metadata": {
  "kernelspec": {
   "display_name": "Python 3",
   "language": "python",
   "name": "python3"
  },
  "language_info": {
   "codemirror_mode": {
    "name": "ipython",
    "version": 3
   },
   "file_extension": ".py",
   "mimetype": "text/x-python",
   "name": "python",
   "nbconvert_exporter": "python",
   "pygments_lexer": "ipython3",
   "version": "3.10.7"
  }
 },
 "nbformat": 4,
 "nbformat_minor": 2
}

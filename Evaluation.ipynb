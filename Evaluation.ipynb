{
 "cells": [
  {
   "cell_type": "markdown",
   "metadata": {},
   "source": [
    "Testando se o ambiente está funcionando"
   ]
  },
  {
   "cell_type": "code",
   "execution_count": 2,
   "metadata": {},
   "outputs": [
    {
     "name": "stdout",
     "output_type": "stream",
     "text": [
      "teste\n"
     ]
    }
   ],
   "source": [
    "print('teste')"
   ]
  },
  {
   "cell_type": "markdown",
   "metadata": {},
   "source": [
    "Importando bibliotecas para explorar os diretórios do computador"
   ]
  },
  {
   "cell_type": "code",
   "execution_count": 3,
   "metadata": {},
   "outputs": [],
   "source": [
    "from os import listdir\n",
    "from os.path import isfile, join"
   ]
  },
  {
   "cell_type": "markdown",
   "metadata": {},
   "source": [
    "Verificando todos os arquivos obtidos da fonta de dados"
   ]
  },
  {
   "cell_type": "code",
   "execution_count": 32,
   "metadata": {},
   "outputs": [],
   "source": [
    "path = \"E://dump\"\n",
    "\n",
    "dump_files = listdir(path)"
   ]
  },
  {
   "cell_type": "code",
   "execution_count": 5,
   "metadata": {},
   "outputs": [],
   "source": [
    "import pandas as pd"
   ]
  },
  {
   "cell_type": "markdown",
   "metadata": {},
   "source": [
    "Tendo certeza que é possível ler os dados do GHtorrent."
   ]
  },
  {
   "cell_type": "code",
   "execution_count": 6,
   "metadata": {},
   "outputs": [],
   "source": [
    "#pd.read_csv(join(path, 'project_languages.csv'))"
   ]
  },
  {
   "cell_type": "markdown",
   "metadata": {},
   "source": [
    "Acredito que será possível partir dos pullrequest para observar quais repositórios possuem contribuições ou não. Além disso, após pesquisar (https://levelup.gitconnected.com/how-to-mine-github-data-in-2022-e9c70b3f61d3) parece que os dados de 2015 possuem uma estrutura diferente. Então irei tentar filtrar eles fora do meu dataset"
   ]
  },
  {
   "cell_type": "code",
   "execution_count": 7,
   "metadata": {},
   "outputs": [],
   "source": [
    "#df_pullrequests = pd.read_csv(join(path, 'pull_requests.csv'))"
   ]
  },
  {
   "cell_type": "code",
   "execution_count": 8,
   "metadata": {},
   "outputs": [],
   "source": [
    "#df_pullrequests"
   ]
  },
  {
   "cell_type": "markdown",
   "metadata": {},
   "source": [
    "Um artigo que mostra a estrutura dos arquivos do GHtorrent https://gousios.org/pub/ghtorrent-dataset-toolsuite.pdf\n",
    "misturando com esse aqui também https://github.com/ghtorrent/ghtorrent.org/blob/master/files/schema.pdf\n",
    "Então irei adicionar o nome nas colunas, acabei retirando a coluna pullrequest_id pois ela não fazia sentido no contexto"
   ]
  },
  {
   "cell_type": "code",
   "execution_count": 9,
   "metadata": {},
   "outputs": [],
   "source": [
    "#df_pullrequests.columns = [\"id\", \"head_repo_id\", \"base_repo_id\", \"head_commit_id\", \"base_commit_id\", \"intra_branch_id\",\"merged\"]"
   ]
  },
  {
   "cell_type": "markdown",
   "metadata": {},
   "source": [
    "Como os pull requests não possuem data de criação tentarei filtrar através dos commits que eles estão ligados."
   ]
  },
  {
   "cell_type": "code",
   "execution_count": 10,
   "metadata": {},
   "outputs": [],
   "source": [
    "df_commits = pd.read_csv(join(path, 'commits.csv'), names=[\"id\", \"sha\", \"author_id\", \"commiter_id\", \"project_id\", \"created_at\"], chunksize=5000000)"
   ]
  },
  {
   "cell_type": "code",
   "execution_count": 11,
   "metadata": {},
   "outputs": [],
   "source": [
    "# # Função para calcular o número total de chunks\n",
    "# def get_total_chunks(filename, chunksize):\n",
    "#     # Contar o número total de linhas no arquivo\n",
    "#     total_lines = sum(1 for _ in open(filename)) - 1  # Subtrai 1 por causa do cabeçalho\n",
    "#     # Calcular o número total de chunks\n",
    "#     total_chunks = (total_lines // chunksize) + (1 if total_lines % chunksize != 0 else 0)\n",
    "#     return total_chunks\n",
    "\n",
    "# # Exemplo de uso\n",
    "# filename = join(path, 'commits.csv')\n",
    "# chunksize = 5000000\n",
    "# total_chunks = get_total_chunks(filename, chunksize)\n",
    "# print(f\"Total de chunks: {total_chunks}\")"
   ]
  },
  {
   "cell_type": "code",
   "execution_count": 12,
   "metadata": {},
   "outputs": [],
   "source": [
    "df_commits_19 = pd.DataFrame({},columns=[\"id\", \"sha\", \"author_id\", \"commiter_id\", \"project_id\", \"created_at\"])\n",
    "\n"
   ]
  },
  {
   "cell_type": "code",
   "execution_count": 13,
   "metadata": {},
   "outputs": [],
   "source": [
    "def checkDate(df):\n",
    "   return pd.to_datetime(df.iloc[0]['created_at']) > pd.to_datetime('2019-01-01') or pd.to_datetime(df.iloc[-1]['created_at']) > pd.to_datetime('2019-01-01')\n",
    "\n",
    "\n"
   ]
  },
  {
   "cell_type": "code",
   "execution_count": 14,
   "metadata": {},
   "outputs": [],
   "source": [
    "# for chunk in df_commits:\n",
    "#     chunk.map(lambda row: chechRowDate(row))"
   ]
  },
  {
   "cell_type": "code",
   "execution_count": 15,
   "metadata": {},
   "outputs": [],
   "source": [
    "# i=0\n",
    "\n",
    "# for chunk in df_commits:\n",
    "#     if checkDate(chunk):\n",
    "#         chunk.to_csv(f'E:/dump/commits_greater_than_2k19_{i}')\n",
    "\n",
    "#     i += 1"
   ]
  },
  {
   "cell_type": "code",
   "execution_count": 16,
   "metadata": {},
   "outputs": [
    {
     "data": {
      "text/html": [
       "<div>\n",
       "<style scoped>\n",
       "    .dataframe tbody tr th:only-of-type {\n",
       "        vertical-align: middle;\n",
       "    }\n",
       "\n",
       "    .dataframe tbody tr th {\n",
       "        vertical-align: top;\n",
       "    }\n",
       "\n",
       "    .dataframe thead th {\n",
       "        text-align: right;\n",
       "    }\n",
       "</style>\n",
       "<table border=\"1\" class=\"dataframe\">\n",
       "  <thead>\n",
       "    <tr style=\"text-align: right;\">\n",
       "      <th></th>\n",
       "      <th>id</th>\n",
       "      <th>sha</th>\n",
       "      <th>author_id</th>\n",
       "      <th>commiter_id</th>\n",
       "      <th>project_id</th>\n",
       "      <th>created_at</th>\n",
       "    </tr>\n",
       "  </thead>\n",
       "  <tbody>\n",
       "  </tbody>\n",
       "</table>\n",
       "</div>"
      ],
      "text/plain": [
       "Empty DataFrame\n",
       "Columns: [id, sha, author_id, commiter_id, project_id, created_at]\n",
       "Index: []"
      ]
     },
     "execution_count": 16,
     "metadata": {},
     "output_type": "execute_result"
    }
   ],
   "source": [
    "df_commits_19"
   ]
  },
  {
   "cell_type": "markdown",
   "metadata": {},
   "source": [
    "Devido a grande quantidade de commits, não foi possível os utilizar como filtro de projetos open-source. Nesse caso, iremos utilizar a relação project_members para encontrar quais projetos são relevantes, ou seja, que possuem contribuintes além do dono."
   ]
  },
  {
   "cell_type": "code",
   "execution_count": 17,
   "metadata": {},
   "outputs": [],
   "source": [
    "df_project_members = pd.read_csv(join(path, 'project_members.csv'), names=[\"repo_id\", \"user_id\", \"created_at\", \"ext_ref_id\"])"
   ]
  },
  {
   "cell_type": "code",
   "execution_count": 18,
   "metadata": {},
   "outputs": [
    {
     "data": {
      "text/html": [
       "<div>\n",
       "<style scoped>\n",
       "    .dataframe tbody tr th:only-of-type {\n",
       "        vertical-align: middle;\n",
       "    }\n",
       "\n",
       "    .dataframe tbody tr th {\n",
       "        vertical-align: top;\n",
       "    }\n",
       "\n",
       "    .dataframe thead th {\n",
       "        text-align: right;\n",
       "    }\n",
       "</style>\n",
       "<table border=\"1\" class=\"dataframe\">\n",
       "  <thead>\n",
       "    <tr style=\"text-align: right;\">\n",
       "      <th></th>\n",
       "      <th>repo_id</th>\n",
       "      <th>user_id</th>\n",
       "      <th>created_at</th>\n",
       "      <th>ext_ref_id</th>\n",
       "    </tr>\n",
       "  </thead>\n",
       "  <tbody>\n",
       "    <tr>\n",
       "      <th>0</th>\n",
       "      <td>1</td>\n",
       "      <td>1</td>\n",
       "      <td>2009-12-08 10:17:27</td>\n",
       "      <td>NaN</td>\n",
       "    </tr>\n",
       "    <tr>\n",
       "      <th>1</th>\n",
       "      <td>1</td>\n",
       "      <td>2</td>\n",
       "      <td>2009-12-08 10:17:27</td>\n",
       "      <td>NaN</td>\n",
       "    </tr>\n",
       "    <tr>\n",
       "      <th>2</th>\n",
       "      <td>1</td>\n",
       "      <td>4</td>\n",
       "      <td>2009-12-08 10:17:27</td>\n",
       "      <td>NaN</td>\n",
       "    </tr>\n",
       "    <tr>\n",
       "      <th>3</th>\n",
       "      <td>3</td>\n",
       "      <td>24</td>\n",
       "      <td>2011-02-19 01:58:42</td>\n",
       "      <td>NaN</td>\n",
       "    </tr>\n",
       "    <tr>\n",
       "      <th>4</th>\n",
       "      <td>3</td>\n",
       "      <td>5465</td>\n",
       "      <td>2011-02-19 01:58:42</td>\n",
       "      <td>NaN</td>\n",
       "    </tr>\n",
       "    <tr>\n",
       "      <th>...</th>\n",
       "      <td>...</td>\n",
       "      <td>...</td>\n",
       "      <td>...</td>\n",
       "      <td>...</td>\n",
       "    </tr>\n",
       "    <tr>\n",
       "      <th>15525047</th>\n",
       "      <td>207191305</td>\n",
       "      <td>221488</td>\n",
       "      <td>2021-03-06 22:46:40</td>\n",
       "      <td>NaN</td>\n",
       "    </tr>\n",
       "    <tr>\n",
       "      <th>15525048</th>\n",
       "      <td>207191367</td>\n",
       "      <td>54196484</td>\n",
       "      <td>2021-03-06 22:51:54</td>\n",
       "      <td>NaN</td>\n",
       "    </tr>\n",
       "    <tr>\n",
       "      <th>15525049</th>\n",
       "      <td>207191455</td>\n",
       "      <td>54204581</td>\n",
       "      <td>2021-03-06 22:50:39</td>\n",
       "      <td>NaN</td>\n",
       "    </tr>\n",
       "    <tr>\n",
       "      <th>15525050</th>\n",
       "      <td>207191498</td>\n",
       "      <td>3518100</td>\n",
       "      <td>2021-03-06 22:45:27</td>\n",
       "      <td>NaN</td>\n",
       "    </tr>\n",
       "    <tr>\n",
       "      <th>15525051</th>\n",
       "      <td>207192080</td>\n",
       "      <td>56706217</td>\n",
       "      <td>2021-03-06 22:55:19</td>\n",
       "      <td>NaN</td>\n",
       "    </tr>\n",
       "  </tbody>\n",
       "</table>\n",
       "<p>15525052 rows × 4 columns</p>\n",
       "</div>"
      ],
      "text/plain": [
       "            repo_id   user_id           created_at  ext_ref_id\n",
       "0                 1         1  2009-12-08 10:17:27         NaN\n",
       "1                 1         2  2009-12-08 10:17:27         NaN\n",
       "2                 1         4  2009-12-08 10:17:27         NaN\n",
       "3                 3        24  2011-02-19 01:58:42         NaN\n",
       "4                 3      5465  2011-02-19 01:58:42         NaN\n",
       "...             ...       ...                  ...         ...\n",
       "15525047  207191305    221488  2021-03-06 22:46:40         NaN\n",
       "15525048  207191367  54196484  2021-03-06 22:51:54         NaN\n",
       "15525049  207191455  54204581  2021-03-06 22:50:39         NaN\n",
       "15525050  207191498   3518100  2021-03-06 22:45:27         NaN\n",
       "15525051  207192080  56706217  2021-03-06 22:55:19         NaN\n",
       "\n",
       "[15525052 rows x 4 columns]"
      ]
     },
     "execution_count": 18,
     "metadata": {},
     "output_type": "execute_result"
    }
   ],
   "source": [
    "df_project_members"
   ]
  },
  {
   "cell_type": "code",
   "execution_count": 19,
   "metadata": {},
   "outputs": [],
   "source": [
    "df_count_members = df_project_members.groupby(\"repo_id\", as_index=False)[\"user_id\"].count()"
   ]
  },
  {
   "cell_type": "code",
   "execution_count": 20,
   "metadata": {},
   "outputs": [
    {
     "data": {
      "text/html": [
       "<div>\n",
       "<style scoped>\n",
       "    .dataframe tbody tr th:only-of-type {\n",
       "        vertical-align: middle;\n",
       "    }\n",
       "\n",
       "    .dataframe tbody tr th {\n",
       "        vertical-align: top;\n",
       "    }\n",
       "\n",
       "    .dataframe thead th {\n",
       "        text-align: right;\n",
       "    }\n",
       "</style>\n",
       "<table border=\"1\" class=\"dataframe\">\n",
       "  <thead>\n",
       "    <tr style=\"text-align: right;\">\n",
       "      <th></th>\n",
       "      <th>repo_id</th>\n",
       "      <th>user_id</th>\n",
       "    </tr>\n",
       "  </thead>\n",
       "  <tbody>\n",
       "    <tr>\n",
       "      <th>0</th>\n",
       "      <td>1</td>\n",
       "      <td>3</td>\n",
       "    </tr>\n",
       "    <tr>\n",
       "      <th>1</th>\n",
       "      <td>3</td>\n",
       "      <td>19</td>\n",
       "    </tr>\n",
       "    <tr>\n",
       "      <th>2</th>\n",
       "      <td>5</td>\n",
       "      <td>1</td>\n",
       "    </tr>\n",
       "    <tr>\n",
       "      <th>3</th>\n",
       "      <td>6</td>\n",
       "      <td>6</td>\n",
       "    </tr>\n",
       "    <tr>\n",
       "      <th>4</th>\n",
       "      <td>8</td>\n",
       "      <td>16</td>\n",
       "    </tr>\n",
       "    <tr>\n",
       "      <th>...</th>\n",
       "      <td>...</td>\n",
       "      <td>...</td>\n",
       "    </tr>\n",
       "    <tr>\n",
       "      <th>9549778</th>\n",
       "      <td>207191305</td>\n",
       "      <td>1</td>\n",
       "    </tr>\n",
       "    <tr>\n",
       "      <th>9549779</th>\n",
       "      <td>207191367</td>\n",
       "      <td>1</td>\n",
       "    </tr>\n",
       "    <tr>\n",
       "      <th>9549780</th>\n",
       "      <td>207191455</td>\n",
       "      <td>1</td>\n",
       "    </tr>\n",
       "    <tr>\n",
       "      <th>9549781</th>\n",
       "      <td>207191498</td>\n",
       "      <td>1</td>\n",
       "    </tr>\n",
       "    <tr>\n",
       "      <th>9549782</th>\n",
       "      <td>207192080</td>\n",
       "      <td>1</td>\n",
       "    </tr>\n",
       "  </tbody>\n",
       "</table>\n",
       "<p>9549783 rows × 2 columns</p>\n",
       "</div>"
      ],
      "text/plain": [
       "           repo_id  user_id\n",
       "0                1        3\n",
       "1                3       19\n",
       "2                5        1\n",
       "3                6        6\n",
       "4                8       16\n",
       "...            ...      ...\n",
       "9549778  207191305        1\n",
       "9549779  207191367        1\n",
       "9549780  207191455        1\n",
       "9549781  207191498        1\n",
       "9549782  207192080        1\n",
       "\n",
       "[9549783 rows x 2 columns]"
      ]
     },
     "execution_count": 20,
     "metadata": {},
     "output_type": "execute_result"
    }
   ],
   "source": [
    "df_count_members"
   ]
  },
  {
   "cell_type": "code",
   "execution_count": 24,
   "metadata": {},
   "outputs": [],
   "source": [
    "df_open_source = df_count_members[df_count_members[\"user_id\"]>10]"
   ]
  },
  {
   "cell_type": "code",
   "execution_count": 25,
   "metadata": {},
   "outputs": [
    {
     "data": {
      "text/html": [
       "<div>\n",
       "<style scoped>\n",
       "    .dataframe tbody tr th:only-of-type {\n",
       "        vertical-align: middle;\n",
       "    }\n",
       "\n",
       "    .dataframe tbody tr th {\n",
       "        vertical-align: top;\n",
       "    }\n",
       "\n",
       "    .dataframe thead th {\n",
       "        text-align: right;\n",
       "    }\n",
       "</style>\n",
       "<table border=\"1\" class=\"dataframe\">\n",
       "  <thead>\n",
       "    <tr style=\"text-align: right;\">\n",
       "      <th></th>\n",
       "      <th>repo_id</th>\n",
       "      <th>user_id</th>\n",
       "    </tr>\n",
       "  </thead>\n",
       "  <tbody>\n",
       "    <tr>\n",
       "      <th>1</th>\n",
       "      <td>3</td>\n",
       "      <td>19</td>\n",
       "    </tr>\n",
       "    <tr>\n",
       "      <th>4</th>\n",
       "      <td>8</td>\n",
       "      <td>16</td>\n",
       "    </tr>\n",
       "    <tr>\n",
       "      <th>14</th>\n",
       "      <td>19</td>\n",
       "      <td>14</td>\n",
       "    </tr>\n",
       "    <tr>\n",
       "      <th>26</th>\n",
       "      <td>34</td>\n",
       "      <td>38</td>\n",
       "    </tr>\n",
       "    <tr>\n",
       "      <th>27</th>\n",
       "      <td>37</td>\n",
       "      <td>42</td>\n",
       "    </tr>\n",
       "    <tr>\n",
       "      <th>...</th>\n",
       "      <td>...</td>\n",
       "      <td>...</td>\n",
       "    </tr>\n",
       "    <tr>\n",
       "      <th>9544854</th>\n",
       "      <td>206859445</td>\n",
       "      <td>12</td>\n",
       "    </tr>\n",
       "    <tr>\n",
       "      <th>9545989</th>\n",
       "      <td>206918002</td>\n",
       "      <td>12</td>\n",
       "    </tr>\n",
       "    <tr>\n",
       "      <th>9546379</th>\n",
       "      <td>206955864</td>\n",
       "      <td>17</td>\n",
       "    </tr>\n",
       "    <tr>\n",
       "      <th>9547045</th>\n",
       "      <td>206997704</td>\n",
       "      <td>19</td>\n",
       "    </tr>\n",
       "    <tr>\n",
       "      <th>9549231</th>\n",
       "      <td>207159748</td>\n",
       "      <td>27</td>\n",
       "    </tr>\n",
       "  </tbody>\n",
       "</table>\n",
       "<p>57075 rows × 2 columns</p>\n",
       "</div>"
      ],
      "text/plain": [
       "           repo_id  user_id\n",
       "1                3       19\n",
       "4                8       16\n",
       "14              19       14\n",
       "26              34       38\n",
       "27              37       42\n",
       "...            ...      ...\n",
       "9544854  206859445       12\n",
       "9545989  206918002       12\n",
       "9546379  206955864       17\n",
       "9547045  206997704       19\n",
       "9549231  207159748       27\n",
       "\n",
       "[57075 rows x 2 columns]"
      ]
     },
     "execution_count": 25,
     "metadata": {},
     "output_type": "execute_result"
    }
   ],
   "source": [
    "df_open_source"
   ]
  },
  {
   "cell_type": "markdown",
   "metadata": {},
   "source": [
    "A partir do estudo Recommending GitHub Projects for Developer Onboarding podemos extrair alguns atributos a serem extraídos do dataset para que seja estudado o quão receptivo um repositório é, são eles:\n",
    "\n",
    "- Crescimento do Projeto: Quantidade de commits do projeto no momento de iniciação\n",
    "- Data de criação do projeto: Projetos mais novos tendem a atrair mais desenvolvedores\n",
    "- Momento de primeira contribuição: quando o projeto começa a receber contribuidores\n",
    "- Momento da última contribuição: se a equipe do projeto se manter estável significa que existe menos oportunidades de onboarding\n",
    "- Momento do primeiro commit: primeiro commit do projeto, a partir de quando passa a aceitar contribuições\n",
    "- Momento do último commit: se o projeto receber muitos commits, mas nao tiver tanto onboarding significa q esse projeto necessita de mais contribuintes"
   ]
  },
  {
   "cell_type": "code",
   "execution_count": 101,
   "metadata": {},
   "outputs": [
    {
     "data": {
      "text/html": [
       "<div>\n",
       "<style scoped>\n",
       "    .dataframe tbody tr th:only-of-type {\n",
       "        vertical-align: middle;\n",
       "    }\n",
       "\n",
       "    .dataframe tbody tr th {\n",
       "        vertical-align: top;\n",
       "    }\n",
       "\n",
       "    .dataframe thead th {\n",
       "        text-align: right;\n",
       "    }\n",
       "</style>\n",
       "<table border=\"1\" class=\"dataframe\">\n",
       "  <thead>\n",
       "    <tr style=\"text-align: right;\">\n",
       "      <th></th>\n",
       "      <th>repo_id</th>\n",
       "      <th>created_at</th>\n",
       "      <th>total_commits</th>\n",
       "      <th>first_onboarding</th>\n",
       "      <th>last_onboarding</th>\n",
       "      <th>first_commit</th>\n",
       "      <th>last_commit</th>\n",
       "      <th>user_id</th>\n",
       "      <th>onboarding_date</th>\n",
       "    </tr>\n",
       "  </thead>\n",
       "  <tbody>\n",
       "  </tbody>\n",
       "</table>\n",
       "</div>"
      ],
      "text/plain": [
       "Empty DataFrame\n",
       "Columns: [repo_id, created_at, total_commits, first_onboarding, last_onboarding, first_commit, last_commit, user_id, onboarding_date]\n",
       "Index: []"
      ]
     },
     "execution_count": 101,
     "metadata": {},
     "output_type": "execute_result"
    }
   ],
   "source": [
    "#objetivo final\n",
    "\n",
    "df_onboardings = pd.DataFrame({}, columns=[\"repo_id\", \"created_at\", \"total_commits\",\"first_onboarding\", \"last_onboarding\", \"first_commit\", \"last_commit\", \"user_id\", \"onboarding_date\"])\n",
    "\n",
    "df_onboardings"
   ]
  },
  {
   "cell_type": "markdown",
   "metadata": {},
   "source": [
    "Aqui irei obter todos os usuários que já contribuiram pra algum projeto open-source"
   ]
  },
  {
   "cell_type": "code",
   "execution_count": 27,
   "metadata": {},
   "outputs": [],
   "source": [
    "df_project_members = df_project_members[ df_project_members['repo_id'].isin(df_open_source['repo_id'])]"
   ]
  },
  {
   "cell_type": "markdown",
   "metadata": {},
   "source": [
    "Devivo a datação dos dados iremos filtrar somente os membros a partir de 2019"
   ]
  },
  {
   "cell_type": "code",
   "execution_count": 30,
   "metadata": {},
   "outputs": [],
   "source": [
    "df_project_members = df_project_members[pd.to_datetime(df_project_members['created_at']) > pd.to_datetime(\"01-01-2019\")]"
   ]
  },
  {
   "cell_type": "markdown",
   "metadata": {},
   "source": [
    "Agora obtemos todos os commits referentes aos projetos filtrados anteriormente"
   ]
  },
  {
   "cell_type": "code",
   "execution_count": null,
   "metadata": {},
   "outputs": [],
   "source": [
    "all_open_source_commits = []\n",
    "\n",
    "for file in dump_files:\n",
    "    if \"greater\" in file:\n",
    "        df_commit = pd.read_csv(join(path,file))\n",
    "        df_commit = df_commit[df_commit['project_id'].isin(df_project_members[\"repo_id\"])]\n",
    "\n",
    "        all_open_source_commits.append(df_commit)\n",
    "\n",
    "df_commits_open_source = pd.concat(all_open_source_commits)"
   ]
  },
  {
   "cell_type": "markdown",
   "metadata": {},
   "source": [
    "acho que vou ter q inverter a ordem das coisas: primeiro pegar os commits de projetos open source, depois filtrar as primeiras contribuições dos projetos e só então filtrar por 2019"
   ]
  },
  {
   "cell_type": "code",
   "execution_count": 76,
   "metadata": {},
   "outputs": [],
   "source": [
    "df_commits_open_source = df_commits_open_source.drop('Unnamed: 0', axis=1)\n",
    "\n",
    "df_commits_open_source.to_csv(join(path,\"df_commits_open_source.csv\"))"
   ]
  },
  {
   "cell_type": "code",
   "execution_count": 87,
   "metadata": {},
   "outputs": [],
   "source": [
    "#transforma o campo de data em data\n",
    "\n",
    "df_commits_open_source['created_at'] = pd.to_datetime(df_commits_open_source['created_at'])"
   ]
  },
  {
   "cell_type": "code",
   "execution_count": 88,
   "metadata": {},
   "outputs": [
    {
     "data": {
      "text/html": [
       "<div>\n",
       "<style scoped>\n",
       "    .dataframe tbody tr th:only-of-type {\n",
       "        vertical-align: middle;\n",
       "    }\n",
       "\n",
       "    .dataframe tbody tr th {\n",
       "        vertical-align: top;\n",
       "    }\n",
       "\n",
       "    .dataframe thead th {\n",
       "        text-align: right;\n",
       "    }\n",
       "</style>\n",
       "<table border=\"1\" class=\"dataframe\">\n",
       "  <thead>\n",
       "    <tr style=\"text-align: right;\">\n",
       "      <th></th>\n",
       "      <th>id</th>\n",
       "      <th>sha</th>\n",
       "      <th>author_id</th>\n",
       "      <th>commiter_id</th>\n",
       "      <th>project_id</th>\n",
       "      <th>created_at</th>\n",
       "    </tr>\n",
       "  </thead>\n",
       "  <tbody>\n",
       "    <tr>\n",
       "      <th>4980791</th>\n",
       "      <td>1949661766</td>\n",
       "      <td>1d773837d4bd4f0da0a224eb8dac8208ab2d84fd</td>\n",
       "      <td>10658540</td>\n",
       "      <td>10658540</td>\n",
       "      <td>75015574</td>\n",
       "      <td>2020-11-10 08:36:16</td>\n",
       "    </tr>\n",
       "    <tr>\n",
       "      <th>4981125</th>\n",
       "      <td>1949662107</td>\n",
       "      <td>52aed20c41c4027a49be6a1be136ddb3e3bb9d38</td>\n",
       "      <td>58131281</td>\n",
       "      <td>30351173</td>\n",
       "      <td>187678775</td>\n",
       "      <td>2020-11-18 08:14:18</td>\n",
       "    </tr>\n",
       "    <tr>\n",
       "      <th>4981143</th>\n",
       "      <td>1949662126</td>\n",
       "      <td>58be51c3a4139a0982b2e1f8b74d29d19ccb8fc1</td>\n",
       "      <td>63737388</td>\n",
       "      <td>39254391</td>\n",
       "      <td>187678775</td>\n",
       "      <td>2020-11-18 07:39:45</td>\n",
       "    </tr>\n",
       "    <tr>\n",
       "      <th>4981157</th>\n",
       "      <td>1949662140</td>\n",
       "      <td>e8e29f547a81dd59d07e6246ff4a97448fc4cfaf</td>\n",
       "      <td>58131281</td>\n",
       "      <td>58131281</td>\n",
       "      <td>187678775</td>\n",
       "      <td>2020-11-18 08:13:52</td>\n",
       "    </tr>\n",
       "    <tr>\n",
       "      <th>4981178</th>\n",
       "      <td>1949662161</td>\n",
       "      <td>0e62dc652d27a9b1ab00577cee3e8869f44850e4</td>\n",
       "      <td>58880882</td>\n",
       "      <td>58880882</td>\n",
       "      <td>187678775</td>\n",
       "      <td>2020-11-18 16:33:04</td>\n",
       "    </tr>\n",
       "    <tr>\n",
       "      <th>...</th>\n",
       "      <td>...</td>\n",
       "      <td>...</td>\n",
       "      <td>...</td>\n",
       "      <td>...</td>\n",
       "      <td>...</td>\n",
       "      <td>...</td>\n",
       "    </tr>\n",
       "    <tr>\n",
       "      <th>4999409</th>\n",
       "      <td>1944555635</td>\n",
       "      <td>b2f62024dd828820d92fee49707d4f293a5a10d3</td>\n",
       "      <td>63582454</td>\n",
       "      <td>30351173</td>\n",
       "      <td>189590167</td>\n",
       "      <td>2020-11-11 16:33:19</td>\n",
       "    </tr>\n",
       "    <tr>\n",
       "      <th>4999419</th>\n",
       "      <td>1944555645</td>\n",
       "      <td>0779e438143ed221db28f53d77057d9318950060</td>\n",
       "      <td>64203951</td>\n",
       "      <td>30351173</td>\n",
       "      <td>189590167</td>\n",
       "      <td>2020-11-11 16:26:54</td>\n",
       "    </tr>\n",
       "    <tr>\n",
       "      <th>4999938</th>\n",
       "      <td>1944556174</td>\n",
       "      <td>af0d2085d456f697eb462b1e0bf6ce5ddfe14e99</td>\n",
       "      <td>40002355</td>\n",
       "      <td>30351173</td>\n",
       "      <td>7975648</td>\n",
       "      <td>2020-11-23 11:25:40</td>\n",
       "    </tr>\n",
       "    <tr>\n",
       "      <th>4999941</th>\n",
       "      <td>1944556177</td>\n",
       "      <td>e3e8e1dca222c23778c28ea6a3fc8081b7d5612d</td>\n",
       "      <td>40002355</td>\n",
       "      <td>40002355</td>\n",
       "      <td>7975648</td>\n",
       "      <td>2020-11-16 15:41:16</td>\n",
       "    </tr>\n",
       "    <tr>\n",
       "      <th>4999946</th>\n",
       "      <td>1944556182</td>\n",
       "      <td>e64579ce1014d2c8feea2e04070352647219c676</td>\n",
       "      <td>12236071</td>\n",
       "      <td>30351173</td>\n",
       "      <td>7975648</td>\n",
       "      <td>2020-11-23 06:26:52</td>\n",
       "    </tr>\n",
       "  </tbody>\n",
       "</table>\n",
       "<p>390807 rows × 6 columns</p>\n",
       "</div>"
      ],
      "text/plain": [
       "                 id                                       sha  author_id  \\\n",
       "4980791  1949661766  1d773837d4bd4f0da0a224eb8dac8208ab2d84fd   10658540   \n",
       "4981125  1949662107  52aed20c41c4027a49be6a1be136ddb3e3bb9d38   58131281   \n",
       "4981143  1949662126  58be51c3a4139a0982b2e1f8b74d29d19ccb8fc1   63737388   \n",
       "4981157  1949662140  e8e29f547a81dd59d07e6246ff4a97448fc4cfaf   58131281   \n",
       "4981178  1949662161  0e62dc652d27a9b1ab00577cee3e8869f44850e4   58880882   \n",
       "...             ...                                       ...        ...   \n",
       "4999409  1944555635  b2f62024dd828820d92fee49707d4f293a5a10d3   63582454   \n",
       "4999419  1944555645  0779e438143ed221db28f53d77057d9318950060   64203951   \n",
       "4999938  1944556174  af0d2085d456f697eb462b1e0bf6ce5ddfe14e99   40002355   \n",
       "4999941  1944556177  e3e8e1dca222c23778c28ea6a3fc8081b7d5612d   40002355   \n",
       "4999946  1944556182  e64579ce1014d2c8feea2e04070352647219c676   12236071   \n",
       "\n",
       "         commiter_id project_id          created_at  \n",
       "4980791     10658540   75015574 2020-11-10 08:36:16  \n",
       "4981125     30351173  187678775 2020-11-18 08:14:18  \n",
       "4981143     39254391  187678775 2020-11-18 07:39:45  \n",
       "4981157     58131281  187678775 2020-11-18 08:13:52  \n",
       "4981178     58880882  187678775 2020-11-18 16:33:04  \n",
       "...              ...        ...                 ...  \n",
       "4999409     30351173  189590167 2020-11-11 16:33:19  \n",
       "4999419     30351173  189590167 2020-11-11 16:26:54  \n",
       "4999938     30351173    7975648 2020-11-23 11:25:40  \n",
       "4999941     40002355    7975648 2020-11-16 15:41:16  \n",
       "4999946     30351173    7975648 2020-11-23 06:26:52  \n",
       "\n",
       "[390807 rows x 6 columns]"
      ]
     },
     "execution_count": 88,
     "metadata": {},
     "output_type": "execute_result"
    }
   ],
   "source": [
    "df_commits_open_source"
   ]
  },
  {
   "cell_type": "markdown",
   "metadata": {},
   "source": [
    "Agora iremos obter o resultado o primeiro commit de cada usuário"
   ]
  },
  {
   "cell_type": "code",
   "execution_count": null,
   "metadata": {},
   "outputs": [],
   "source": [
    "def get_first_user_commit(row):\n",
    "    df_commits_open_source[df_commits_open_source['author_id'] == row['user_id']]"
   ]
  },
  {
   "cell_type": "code",
   "execution_count": 94,
   "metadata": {},
   "outputs": [],
   "source": [
    "unique_users = df_commits_open_source['author_id'].unique()\n",
    "\n",
    "first_commit_user = []\n",
    "last_commit_user = []\n",
    "\n",
    "\n",
    "for user in unique_users:\n",
    "    df_user_commit = df_commits_open_source[df_commits_open_source['author_id'] == user]\n",
    "    first_commit_user.append(df_user_commit.iloc[df_user_commit['created_at'].argmin()])\n",
    "    last_commit_user.append(df_user_commit.iloc[df_user_commit['created_at'].argmax()])"
   ]
  },
  {
   "cell_type": "markdown",
   "metadata": {},
   "source": [
    "Agora que temos os projetos que possuem contribuidores podemos utilizar para filtrar a relação projetos"
   ]
  },
  {
   "cell_type": "code",
   "execution_count": 98,
   "metadata": {},
   "outputs": [
    {
     "data": {
      "text/html": [
       "<div>\n",
       "<style scoped>\n",
       "    .dataframe tbody tr th:only-of-type {\n",
       "        vertical-align: middle;\n",
       "    }\n",
       "\n",
       "    .dataframe tbody tr th {\n",
       "        vertical-align: top;\n",
       "    }\n",
       "\n",
       "    .dataframe thead th {\n",
       "        text-align: right;\n",
       "    }\n",
       "</style>\n",
       "<table border=\"1\" class=\"dataframe\">\n",
       "  <thead>\n",
       "    <tr style=\"text-align: right;\">\n",
       "      <th></th>\n",
       "      <th>id</th>\n",
       "      <th>sha</th>\n",
       "      <th>author_id</th>\n",
       "      <th>commiter_id</th>\n",
       "      <th>project_id</th>\n",
       "      <th>created_at</th>\n",
       "    </tr>\n",
       "  </thead>\n",
       "  <tbody>\n",
       "    <tr>\n",
       "      <th>3018822</th>\n",
       "      <td>1732535513</td>\n",
       "      <td>cede9aa633d7ad7b608ea27a19de24b9709e0d9f</td>\n",
       "      <td>10658540</td>\n",
       "      <td>10658540</td>\n",
       "      <td>68148053</td>\n",
       "      <td>2019-05-12 03:21:28</td>\n",
       "    </tr>\n",
       "    <tr>\n",
       "      <th>4981157</th>\n",
       "      <td>1949662140</td>\n",
       "      <td>e8e29f547a81dd59d07e6246ff4a97448fc4cfaf</td>\n",
       "      <td>58131281</td>\n",
       "      <td>58131281</td>\n",
       "      <td>187678775</td>\n",
       "      <td>2020-11-18 08:13:52</td>\n",
       "    </tr>\n",
       "    <tr>\n",
       "      <th>4981143</th>\n",
       "      <td>1949662126</td>\n",
       "      <td>58be51c3a4139a0982b2e1f8b74d29d19ccb8fc1</td>\n",
       "      <td>63737388</td>\n",
       "      <td>39254391</td>\n",
       "      <td>187678775</td>\n",
       "      <td>2020-11-18 07:39:45</td>\n",
       "    </tr>\n",
       "    <tr>\n",
       "      <th>4355831</th>\n",
       "      <td>1933778312</td>\n",
       "      <td>efdd3f4e4cf001c4dc983c11f62fec524c6b6c37</td>\n",
       "      <td>58880882</td>\n",
       "      <td>58880882</td>\n",
       "      <td>187678775</td>\n",
       "      <td>2020-11-04 23:23:42</td>\n",
       "    </tr>\n",
       "    <tr>\n",
       "      <th>536676</th>\n",
       "      <td>1714119731</td>\n",
       "      <td>ed7b09ecdefdb870495b88275b0346267eed7e97</td>\n",
       "      <td>31387939</td>\n",
       "      <td>31387939</td>\n",
       "      <td>57395751</td>\n",
       "      <td>2020-07-01 14:04:04</td>\n",
       "    </tr>\n",
       "    <tr>\n",
       "      <th>...</th>\n",
       "      <td>...</td>\n",
       "      <td>...</td>\n",
       "      <td>...</td>\n",
       "      <td>...</td>\n",
       "      <td>...</td>\n",
       "      <td>...</td>\n",
       "    </tr>\n",
       "    <tr>\n",
       "      <th>4996312</th>\n",
       "      <td>1944552472</td>\n",
       "      <td>292ee700dd47991d565136c7f9c833084e908b67</td>\n",
       "      <td>64250705</td>\n",
       "      <td>30351173</td>\n",
       "      <td>87128207</td>\n",
       "      <td>2020-11-16 10:35:28</td>\n",
       "    </tr>\n",
       "    <tr>\n",
       "      <th>4998845</th>\n",
       "      <td>1944555054</td>\n",
       "      <td>4abcd70a283158c43aa420fe31a8283ad281a7d3</td>\n",
       "      <td>12323404</td>\n",
       "      <td>12323404</td>\n",
       "      <td>188986753</td>\n",
       "      <td>2020-11-05 21:48:59</td>\n",
       "    </tr>\n",
       "    <tr>\n",
       "      <th>4999380</th>\n",
       "      <td>1944555606</td>\n",
       "      <td>f3f14b65313e6f8ed7dc6790c9a2df3c2086a299</td>\n",
       "      <td>64062281</td>\n",
       "      <td>30351173</td>\n",
       "      <td>189590167</td>\n",
       "      <td>2020-11-11 16:24:25</td>\n",
       "    </tr>\n",
       "    <tr>\n",
       "      <th>4999409</th>\n",
       "      <td>1944555635</td>\n",
       "      <td>b2f62024dd828820d92fee49707d4f293a5a10d3</td>\n",
       "      <td>63582454</td>\n",
       "      <td>30351173</td>\n",
       "      <td>189590167</td>\n",
       "      <td>2020-11-11 16:33:19</td>\n",
       "    </tr>\n",
       "    <tr>\n",
       "      <th>4999419</th>\n",
       "      <td>1944555645</td>\n",
       "      <td>0779e438143ed221db28f53d77057d9318950060</td>\n",
       "      <td>64203951</td>\n",
       "      <td>30351173</td>\n",
       "      <td>189590167</td>\n",
       "      <td>2020-11-11 16:26:54</td>\n",
       "    </tr>\n",
       "  </tbody>\n",
       "</table>\n",
       "<p>26183 rows × 6 columns</p>\n",
       "</div>"
      ],
      "text/plain": [
       "                 id                                       sha  author_id  \\\n",
       "3018822  1732535513  cede9aa633d7ad7b608ea27a19de24b9709e0d9f   10658540   \n",
       "4981157  1949662140  e8e29f547a81dd59d07e6246ff4a97448fc4cfaf   58131281   \n",
       "4981143  1949662126  58be51c3a4139a0982b2e1f8b74d29d19ccb8fc1   63737388   \n",
       "4355831  1933778312  efdd3f4e4cf001c4dc983c11f62fec524c6b6c37   58880882   \n",
       "536676   1714119731  ed7b09ecdefdb870495b88275b0346267eed7e97   31387939   \n",
       "...             ...                                       ...        ...   \n",
       "4996312  1944552472  292ee700dd47991d565136c7f9c833084e908b67   64250705   \n",
       "4998845  1944555054  4abcd70a283158c43aa420fe31a8283ad281a7d3   12323404   \n",
       "4999380  1944555606  f3f14b65313e6f8ed7dc6790c9a2df3c2086a299   64062281   \n",
       "4999409  1944555635  b2f62024dd828820d92fee49707d4f293a5a10d3   63582454   \n",
       "4999419  1944555645  0779e438143ed221db28f53d77057d9318950060   64203951   \n",
       "\n",
       "         commiter_id  project_id          created_at  \n",
       "3018822     10658540    68148053 2019-05-12 03:21:28  \n",
       "4981157     58131281   187678775 2020-11-18 08:13:52  \n",
       "4981143     39254391   187678775 2020-11-18 07:39:45  \n",
       "4355831     58880882   187678775 2020-11-04 23:23:42  \n",
       "536676      31387939    57395751 2020-07-01 14:04:04  \n",
       "...              ...         ...                 ...  \n",
       "4996312     30351173    87128207 2020-11-16 10:35:28  \n",
       "4998845     12323404   188986753 2020-11-05 21:48:59  \n",
       "4999380     30351173   189590167 2020-11-11 16:24:25  \n",
       "4999409     30351173   189590167 2020-11-11 16:33:19  \n",
       "4999419     30351173   189590167 2020-11-11 16:26:54  \n",
       "\n",
       "[26183 rows x 6 columns]"
      ]
     },
     "execution_count": 98,
     "metadata": {},
     "output_type": "execute_result"
    }
   ],
   "source": [
    "df_first_commit_user = pd.DataFrame(first_commit_user)\n",
    "\n",
    "df_first_commit_user"
   ]
  },
  {
   "cell_type": "markdown",
   "metadata": {},
   "source": [
    "Obtemos 26183 primeiras contribuições desde 2019. A partir disso vamos obter os demais dados importantes para contribuições"
   ]
  },
  {
   "cell_type": "code",
   "execution_count": 127,
   "metadata": {},
   "outputs": [],
   "source": [
    "def get_total_commits(row):\n",
    "    repo_id = row['project_id']\n",
    "    date = row['created_at']\n",
    "    total_commits = 0\n",
    "    for chunk in df_commits:\n",
    "        total_commits += chunk.loc[(chunk['project_id'] == repo_id) & (pd.to_datetime(chunk['created_at']) <= pd.to_datetime(date))].shape[0]\n",
    "\n",
    "    return total_commits"
   ]
  },
  {
   "cell_type": "code",
   "execution_count": 128,
   "metadata": {},
   "outputs": [
    {
     "name": "stderr",
     "output_type": "stream",
     "text": [
      "C:\\Users\\gusge\\AppData\\Local\\Temp\\ipykernel_14952\\2902815896.py:5: DtypeWarning: Columns (4) have mixed types. Specify dtype option on import or set low_memory=False.\n",
      "  for chunk in df_commits:\n",
      "C:\\Users\\gusge\\AppData\\Local\\Temp\\ipykernel_14952\\2902815896.py:5: DtypeWarning: Columns (4) have mixed types. Specify dtype option on import or set low_memory=False.\n",
      "  for chunk in df_commits:\n",
      "C:\\Users\\gusge\\AppData\\Local\\Temp\\ipykernel_14952\\2902815896.py:5: DtypeWarning: Columns (4) have mixed types. Specify dtype option on import or set low_memory=False.\n",
      "  for chunk in df_commits:\n",
      "C:\\Users\\gusge\\AppData\\Local\\Temp\\ipykernel_14952\\2902815896.py:5: DtypeWarning: Columns (4) have mixed types. Specify dtype option on import or set low_memory=False.\n",
      "  for chunk in df_commits:\n",
      "C:\\Users\\gusge\\AppData\\Local\\Temp\\ipykernel_14952\\2902815896.py:5: DtypeWarning: Columns (4) have mixed types. Specify dtype option on import or set low_memory=False.\n",
      "  for chunk in df_commits:\n",
      "C:\\Users\\gusge\\AppData\\Local\\Temp\\ipykernel_14952\\2902815896.py:5: DtypeWarning: Columns (4) have mixed types. Specify dtype option on import or set low_memory=False.\n",
      "  for chunk in df_commits:\n",
      "C:\\Users\\gusge\\AppData\\Local\\Temp\\ipykernel_14952\\2902815896.py:5: DtypeWarning: Columns (4) have mixed types. Specify dtype option on import or set low_memory=False.\n",
      "  for chunk in df_commits:\n",
      "C:\\Users\\gusge\\AppData\\Local\\Temp\\ipykernel_14952\\2902815896.py:5: DtypeWarning: Columns (4) have mixed types. Specify dtype option on import or set low_memory=False.\n",
      "  for chunk in df_commits:\n",
      "C:\\Users\\gusge\\AppData\\Local\\Temp\\ipykernel_14952\\2902815896.py:5: DtypeWarning: Columns (4) have mixed types. Specify dtype option on import or set low_memory=False.\n",
      "  for chunk in df_commits:\n",
      "C:\\Users\\gusge\\AppData\\Local\\Temp\\ipykernel_14952\\2902815896.py:5: DtypeWarning: Columns (4) have mixed types. Specify dtype option on import or set low_memory=False.\n",
      "  for chunk in df_commits:\n",
      "C:\\Users\\gusge\\AppData\\Local\\Temp\\ipykernel_14952\\2902815896.py:5: DtypeWarning: Columns (4) have mixed types. Specify dtype option on import or set low_memory=False.\n",
      "  for chunk in df_commits:\n",
      "C:\\Users\\gusge\\AppData\\Local\\Temp\\ipykernel_14952\\2902815896.py:5: DtypeWarning: Columns (4) have mixed types. Specify dtype option on import or set low_memory=False.\n",
      "  for chunk in df_commits:\n",
      "C:\\Users\\gusge\\AppData\\Local\\Temp\\ipykernel_14952\\2902815896.py:5: DtypeWarning: Columns (4) have mixed types. Specify dtype option on import or set low_memory=False.\n",
      "  for chunk in df_commits:\n",
      "C:\\Users\\gusge\\AppData\\Local\\Temp\\ipykernel_14952\\2902815896.py:5: DtypeWarning: Columns (4) have mixed types. Specify dtype option on import or set low_memory=False.\n",
      "  for chunk in df_commits:\n",
      "C:\\Users\\gusge\\AppData\\Local\\Temp\\ipykernel_14952\\2902815896.py:5: DtypeWarning: Columns (4) have mixed types. Specify dtype option on import or set low_memory=False.\n",
      "  for chunk in df_commits:\n",
      "C:\\Users\\gusge\\AppData\\Local\\Temp\\ipykernel_14952\\2902815896.py:5: DtypeWarning: Columns (4) have mixed types. Specify dtype option on import or set low_memory=False.\n",
      "  for chunk in df_commits:\n",
      "C:\\Users\\gusge\\AppData\\Local\\Temp\\ipykernel_14952\\2902815896.py:5: DtypeWarning: Columns (4) have mixed types. Specify dtype option on import or set low_memory=False.\n",
      "  for chunk in df_commits:\n",
      "C:\\Users\\gusge\\AppData\\Local\\Temp\\ipykernel_14952\\2902815896.py:5: DtypeWarning: Columns (4) have mixed types. Specify dtype option on import or set low_memory=False.\n",
      "  for chunk in df_commits:\n",
      "C:\\Users\\gusge\\AppData\\Local\\Temp\\ipykernel_14952\\2902815896.py:5: DtypeWarning: Columns (4) have mixed types. Specify dtype option on import or set low_memory=False.\n",
      "  for chunk in df_commits:\n",
      "C:\\Users\\gusge\\AppData\\Local\\Temp\\ipykernel_14952\\2902815896.py:5: DtypeWarning: Columns (4) have mixed types. Specify dtype option on import or set low_memory=False.\n",
      "  for chunk in df_commits:\n",
      "C:\\Users\\gusge\\AppData\\Local\\Temp\\ipykernel_14952\\2902815896.py:5: DtypeWarning: Columns (4) have mixed types. Specify dtype option on import or set low_memory=False.\n",
      "  for chunk in df_commits:\n",
      "C:\\Users\\gusge\\AppData\\Local\\Temp\\ipykernel_14952\\2902815896.py:5: DtypeWarning: Columns (4) have mixed types. Specify dtype option on import or set low_memory=False.\n",
      "  for chunk in df_commits:\n",
      "C:\\Users\\gusge\\AppData\\Local\\Temp\\ipykernel_14952\\2902815896.py:5: DtypeWarning: Columns (4) have mixed types. Specify dtype option on import or set low_memory=False.\n",
      "  for chunk in df_commits:\n",
      "C:\\Users\\gusge\\AppData\\Local\\Temp\\ipykernel_14952\\2902815896.py:5: DtypeWarning: Columns (4) have mixed types. Specify dtype option on import or set low_memory=False.\n",
      "  for chunk in df_commits:\n",
      "C:\\Users\\gusge\\AppData\\Local\\Temp\\ipykernel_14952\\2902815896.py:5: DtypeWarning: Columns (4) have mixed types. Specify dtype option on import or set low_memory=False.\n",
      "  for chunk in df_commits:\n",
      "C:\\Users\\gusge\\AppData\\Local\\Temp\\ipykernel_14952\\2902815896.py:5: DtypeWarning: Columns (4) have mixed types. Specify dtype option on import or set low_memory=False.\n",
      "  for chunk in df_commits:\n",
      "C:\\Users\\gusge\\AppData\\Local\\Temp\\ipykernel_14952\\2902815896.py:5: DtypeWarning: Columns (4) have mixed types. Specify dtype option on import or set low_memory=False.\n",
      "  for chunk in df_commits:\n",
      "C:\\Users\\gusge\\AppData\\Local\\Temp\\ipykernel_14952\\2902815896.py:5: DtypeWarning: Columns (4) have mixed types. Specify dtype option on import or set low_memory=False.\n",
      "  for chunk in df_commits:\n",
      "C:\\Users\\gusge\\AppData\\Local\\Temp\\ipykernel_14952\\2902815896.py:5: DtypeWarning: Columns (4) have mixed types. Specify dtype option on import or set low_memory=False.\n",
      "  for chunk in df_commits:\n",
      "C:\\Users\\gusge\\AppData\\Local\\Temp\\ipykernel_14952\\2902815896.py:5: DtypeWarning: Columns (4) have mixed types. Specify dtype option on import or set low_memory=False.\n",
      "  for chunk in df_commits:\n",
      "C:\\Users\\gusge\\AppData\\Local\\Temp\\ipykernel_14952\\2902815896.py:5: DtypeWarning: Columns (4) have mixed types. Specify dtype option on import or set low_memory=False.\n",
      "  for chunk in df_commits:\n",
      "C:\\Users\\gusge\\AppData\\Local\\Temp\\ipykernel_14952\\2902815896.py:5: DtypeWarning: Columns (4) have mixed types. Specify dtype option on import or set low_memory=False.\n",
      "  for chunk in df_commits:\n",
      "C:\\Users\\gusge\\AppData\\Local\\Temp\\ipykernel_14952\\2902815896.py:5: DtypeWarning: Columns (4) have mixed types. Specify dtype option on import or set low_memory=False.\n",
      "  for chunk in df_commits:\n",
      "C:\\Users\\gusge\\AppData\\Local\\Temp\\ipykernel_14952\\2902815896.py:5: DtypeWarning: Columns (4) have mixed types. Specify dtype option on import or set low_memory=False.\n",
      "  for chunk in df_commits:\n",
      "C:\\Users\\gusge\\AppData\\Local\\Temp\\ipykernel_14952\\2902815896.py:5: DtypeWarning: Columns (4) have mixed types. Specify dtype option on import or set low_memory=False.\n",
      "  for chunk in df_commits:\n",
      "C:\\Users\\gusge\\AppData\\Local\\Temp\\ipykernel_14952\\2902815896.py:5: DtypeWarning: Columns (4) have mixed types. Specify dtype option on import or set low_memory=False.\n",
      "  for chunk in df_commits:\n",
      "C:\\Users\\gusge\\AppData\\Local\\Temp\\ipykernel_14952\\2902815896.py:5: DtypeWarning: Columns (4) have mixed types. Specify dtype option on import or set low_memory=False.\n",
      "  for chunk in df_commits:\n",
      "C:\\Users\\gusge\\AppData\\Local\\Temp\\ipykernel_14952\\2902815896.py:5: DtypeWarning: Columns (4) have mixed types. Specify dtype option on import or set low_memory=False.\n",
      "  for chunk in df_commits:\n",
      "C:\\Users\\gusge\\AppData\\Local\\Temp\\ipykernel_14952\\2902815896.py:5: DtypeWarning: Columns (4) have mixed types. Specify dtype option on import or set low_memory=False.\n",
      "  for chunk in df_commits:\n",
      "C:\\Users\\gusge\\AppData\\Local\\Temp\\ipykernel_14952\\2902815896.py:5: DtypeWarning: Columns (4) have mixed types. Specify dtype option on import or set low_memory=False.\n",
      "  for chunk in df_commits:\n",
      "C:\\Users\\gusge\\AppData\\Local\\Temp\\ipykernel_14952\\2902815896.py:5: DtypeWarning: Columns (4) have mixed types. Specify dtype option on import or set low_memory=False.\n",
      "  for chunk in df_commits:\n",
      "C:\\Users\\gusge\\AppData\\Local\\Temp\\ipykernel_14952\\2902815896.py:5: DtypeWarning: Columns (4) have mixed types. Specify dtype option on import or set low_memory=False.\n",
      "  for chunk in df_commits:\n",
      "C:\\Users\\gusge\\AppData\\Local\\Temp\\ipykernel_14952\\2902815896.py:5: DtypeWarning: Columns (4) have mixed types. Specify dtype option on import or set low_memory=False.\n",
      "  for chunk in df_commits:\n",
      "C:\\Users\\gusge\\AppData\\Local\\Temp\\ipykernel_14952\\2902815896.py:5: DtypeWarning: Columns (4) have mixed types. Specify dtype option on import or set low_memory=False.\n",
      "  for chunk in df_commits:\n",
      "C:\\Users\\gusge\\AppData\\Local\\Temp\\ipykernel_14952\\2902815896.py:5: DtypeWarning: Columns (4) have mixed types. Specify dtype option on import or set low_memory=False.\n",
      "  for chunk in df_commits:\n",
      "C:\\Users\\gusge\\AppData\\Local\\Temp\\ipykernel_14952\\2902815896.py:5: DtypeWarning: Columns (4) have mixed types. Specify dtype option on import or set low_memory=False.\n",
      "  for chunk in df_commits:\n",
      "C:\\Users\\gusge\\AppData\\Local\\Temp\\ipykernel_14952\\2902815896.py:5: DtypeWarning: Columns (4) have mixed types. Specify dtype option on import or set low_memory=False.\n",
      "  for chunk in df_commits:\n",
      "C:\\Users\\gusge\\AppData\\Local\\Temp\\ipykernel_14952\\2902815896.py:5: DtypeWarning: Columns (4) have mixed types. Specify dtype option on import or set low_memory=False.\n",
      "  for chunk in df_commits:\n",
      "C:\\Users\\gusge\\AppData\\Local\\Temp\\ipykernel_14952\\2902815896.py:5: DtypeWarning: Columns (4) have mixed types. Specify dtype option on import or set low_memory=False.\n",
      "  for chunk in df_commits:\n",
      "C:\\Users\\gusge\\AppData\\Local\\Temp\\ipykernel_14952\\2902815896.py:5: DtypeWarning: Columns (4) have mixed types. Specify dtype option on import or set low_memory=False.\n",
      "  for chunk in df_commits:\n",
      "C:\\Users\\gusge\\AppData\\Local\\Temp\\ipykernel_14952\\2902815896.py:5: DtypeWarning: Columns (4) have mixed types. Specify dtype option on import or set low_memory=False.\n",
      "  for chunk in df_commits:\n",
      "C:\\Users\\gusge\\AppData\\Local\\Temp\\ipykernel_14952\\2902815896.py:5: DtypeWarning: Columns (4) have mixed types. Specify dtype option on import or set low_memory=False.\n",
      "  for chunk in df_commits:\n",
      "C:\\Users\\gusge\\AppData\\Local\\Temp\\ipykernel_14952\\2902815896.py:5: DtypeWarning: Columns (4) have mixed types. Specify dtype option on import or set low_memory=False.\n",
      "  for chunk in df_commits:\n",
      "C:\\Users\\gusge\\AppData\\Local\\Temp\\ipykernel_14952\\2902815896.py:5: DtypeWarning: Columns (4) have mixed types. Specify dtype option on import or set low_memory=False.\n",
      "  for chunk in df_commits:\n",
      "C:\\Users\\gusge\\AppData\\Local\\Temp\\ipykernel_14952\\2902815896.py:5: DtypeWarning: Columns (4) have mixed types. Specify dtype option on import or set low_memory=False.\n",
      "  for chunk in df_commits:\n",
      "C:\\Users\\gusge\\AppData\\Local\\Temp\\ipykernel_14952\\2902815896.py:5: DtypeWarning: Columns (4) have mixed types. Specify dtype option on import or set low_memory=False.\n",
      "  for chunk in df_commits:\n",
      "C:\\Users\\gusge\\AppData\\Local\\Temp\\ipykernel_14952\\2902815896.py:5: DtypeWarning: Columns (4) have mixed types. Specify dtype option on import or set low_memory=False.\n",
      "  for chunk in df_commits:\n",
      "C:\\Users\\gusge\\AppData\\Local\\Temp\\ipykernel_14952\\2902815896.py:5: DtypeWarning: Columns (4) have mixed types. Specify dtype option on import or set low_memory=False.\n",
      "  for chunk in df_commits:\n",
      "C:\\Users\\gusge\\AppData\\Local\\Temp\\ipykernel_14952\\2902815896.py:5: DtypeWarning: Columns (4) have mixed types. Specify dtype option on import or set low_memory=False.\n",
      "  for chunk in df_commits:\n",
      "C:\\Users\\gusge\\AppData\\Local\\Temp\\ipykernel_14952\\2902815896.py:5: DtypeWarning: Columns (4) have mixed types. Specify dtype option on import or set low_memory=False.\n",
      "  for chunk in df_commits:\n",
      "C:\\Users\\gusge\\AppData\\Local\\Temp\\ipykernel_14952\\2902815896.py:5: DtypeWarning: Columns (4) have mixed types. Specify dtype option on import or set low_memory=False.\n",
      "  for chunk in df_commits:\n",
      "C:\\Users\\gusge\\AppData\\Local\\Temp\\ipykernel_14952\\2902815896.py:5: DtypeWarning: Columns (4) have mixed types. Specify dtype option on import or set low_memory=False.\n",
      "  for chunk in df_commits:\n",
      "C:\\Users\\gusge\\AppData\\Local\\Temp\\ipykernel_14952\\2902815896.py:5: DtypeWarning: Columns (4) have mixed types. Specify dtype option on import or set low_memory=False.\n",
      "  for chunk in df_commits:\n",
      "C:\\Users\\gusge\\AppData\\Local\\Temp\\ipykernel_14952\\2902815896.py:5: DtypeWarning: Columns (4) have mixed types. Specify dtype option on import or set low_memory=False.\n",
      "  for chunk in df_commits:\n",
      "C:\\Users\\gusge\\AppData\\Local\\Temp\\ipykernel_14952\\2902815896.py:5: DtypeWarning: Columns (4) have mixed types. Specify dtype option on import or set low_memory=False.\n",
      "  for chunk in df_commits:\n",
      "C:\\Users\\gusge\\AppData\\Local\\Temp\\ipykernel_14952\\2902815896.py:5: DtypeWarning: Columns (4) have mixed types. Specify dtype option on import or set low_memory=False.\n",
      "  for chunk in df_commits:\n",
      "C:\\Users\\gusge\\AppData\\Local\\Temp\\ipykernel_14952\\2902815896.py:5: DtypeWarning: Columns (4) have mixed types. Specify dtype option on import or set low_memory=False.\n",
      "  for chunk in df_commits:\n",
      "C:\\Users\\gusge\\AppData\\Local\\Temp\\ipykernel_14952\\2902815896.py:5: DtypeWarning: Columns (4) have mixed types. Specify dtype option on import or set low_memory=False.\n",
      "  for chunk in df_commits:\n",
      "C:\\Users\\gusge\\AppData\\Local\\Temp\\ipykernel_14952\\2902815896.py:5: DtypeWarning: Columns (4) have mixed types. Specify dtype option on import or set low_memory=False.\n",
      "  for chunk in df_commits:\n",
      "C:\\Users\\gusge\\AppData\\Local\\Temp\\ipykernel_14952\\2902815896.py:5: DtypeWarning: Columns (4) have mixed types. Specify dtype option on import or set low_memory=False.\n",
      "  for chunk in df_commits:\n"
     ]
    }
   ],
   "source": [
    "df_first_commit_user['total_commits'] = df_first_commit_user.apply(get_total_commits, axis=1)   "
   ]
  },
  {
   "cell_type": "markdown",
   "metadata": {},
   "source": [
    "Pegar os detalhes do projeto"
   ]
  },
  {
   "cell_type": "code",
   "execution_count": 23,
   "metadata": {},
   "outputs": [],
   "source": [
    "df_projetos = pd.read_csv(join(path, \"projects.csv\"), names=[\"id\", \"url\", \"owner_id\", \"name\", \"descriptor\", \"language\", \"created_at\", \"forked_from\", \"deleted\", \"updated_at\"], na_values=\"not available\", on_bad_lines='warn', chunksize=5000000)"
   ]
  }
 ],
 "metadata": {
  "kernelspec": {
   "display_name": "Python 3",
   "language": "python",
   "name": "python3"
  },
  "language_info": {
   "codemirror_mode": {
    "name": "ipython",
    "version": 3
   },
   "file_extension": ".py",
   "mimetype": "text/x-python",
   "name": "python",
   "nbconvert_exporter": "python",
   "pygments_lexer": "ipython3",
   "version": "3.10.7"
  }
 },
 "nbformat": 4,
 "nbformat_minor": 2
}

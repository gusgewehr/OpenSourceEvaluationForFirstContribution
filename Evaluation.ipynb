{
 "cells": [
  {
   "cell_type": "markdown",
   "metadata": {},
   "source": [
    "Testando se o ambiente está funcionando"
   ]
  },
  {
   "cell_type": "code",
   "execution_count": 2,
   "metadata": {},
   "outputs": [
    {
     "name": "stdout",
     "output_type": "stream",
     "text": [
      "teste\n"
     ]
    }
   ],
   "source": [
    "print('teste')"
   ]
  },
  {
   "cell_type": "markdown",
   "metadata": {},
   "source": [
    "Importando bibliotecas para explorar os diretórios do computador"
   ]
  },
  {
   "cell_type": "code",
   "execution_count": 3,
   "metadata": {},
   "outputs": [],
   "source": [
    "from os import listdir\n",
    "from os.path import isfile, join"
   ]
  },
  {
   "cell_type": "markdown",
   "metadata": {},
   "source": [
    "Verificando todos os arquivos obtidos da fonta de dados"
   ]
  },
  {
   "cell_type": "code",
   "execution_count": 4,
   "metadata": {},
   "outputs": [
    {
     "ename": "FileNotFoundError",
     "evalue": "[Errno 2] No such file or directory: 'E://dump'",
     "output_type": "error",
     "traceback": [
      "\u001b[0;31m---------------------------------------------------------------------------\u001b[0m",
      "\u001b[0;31mFileNotFoundError\u001b[0m                         Traceback (most recent call last)",
      "Cell \u001b[0;32mIn[4], line 3\u001b[0m\n\u001b[1;32m      1\u001b[0m path \u001b[38;5;241m=\u001b[39m \u001b[38;5;124m\"\u001b[39m\u001b[38;5;124mE://dump\u001b[39m\u001b[38;5;124m\"\u001b[39m\n\u001b[0;32m----> 3\u001b[0m dump_files \u001b[38;5;241m=\u001b[39m \u001b[43mlistdir\u001b[49m\u001b[43m(\u001b[49m\u001b[43mpath\u001b[49m\u001b[43m)\u001b[49m\n",
      "\u001b[0;31mFileNotFoundError\u001b[0m: [Errno 2] No such file or directory: 'E://dump'"
     ]
    }
   ],
   "source": [
    "path = \"E://dump\"\n",
    "\n",
    "dump_files = listdir(path)"
   ]
  },
  {
   "cell_type": "code",
   "execution_count": 5,
   "metadata": {},
   "outputs": [],
   "source": [
    "import pandas as pd\n",
    "import numpy as np"
   ]
  },
  {
   "cell_type": "markdown",
   "metadata": {},
   "source": [
    "Tendo certeza que é possível ler os dados do GHtorrent."
   ]
  },
  {
   "cell_type": "code",
   "execution_count": null,
   "metadata": {},
   "outputs": [],
   "source": [
    "#pd.read_csv(join(path, 'project_languages.csv'))"
   ]
  },
  {
   "cell_type": "markdown",
   "metadata": {},
   "source": [
    "Um artigo que mostra a estrutura dos arquivos do GHtorrent https://gousios.org/pub/ghtorrent-dataset-toolsuite.pdf\n",
    "misturando com esse aqui também https://github.com/ghtorrent/ghtorrent.org/blob/master/files/schema.pdf\n",
    "Então irei adicionar o nome nas colunas, acabei retirando a coluna pullrequest_id pois ela não fazia sentido no contexto"
   ]
  },
  {
   "cell_type": "markdown",
   "metadata": {},
   "source": [
    "# Filtrando os repositórios Open Source"
   ]
  },
  {
   "cell_type": "markdown",
   "metadata": {},
   "source": [
    "Devido a grande quantidade de commits, não foi possível os utilizar como filtro de projetos open-source. Nesse caso, iremos utilizar a relação project_members para encontrar quais projetos são relevantes, ou seja, que possuem contribuintes além do dono."
   ]
  },
  {
   "cell_type": "code",
   "execution_count": 6,
   "metadata": {},
   "outputs": [],
   "source": [
    "df_project_members = pd.read_csv(join(path, 'project_members.csv'), names=[\"repo_id\", \"user_id\", \"created_at\"])"
   ]
  },
  {
   "cell_type": "code",
   "execution_count": null,
   "metadata": {},
   "outputs": [],
   "source": [
    "df_project_members"
   ]
  },
  {
   "cell_type": "code",
   "execution_count": null,
   "metadata": {},
   "outputs": [],
   "source": [
    "df_count_members = df_project_members.groupby(\"repo_id\", as_index=False)[\"user_id\"].count()"
   ]
  },
  {
   "cell_type": "code",
   "execution_count": null,
   "metadata": {},
   "outputs": [],
   "source": [
    "df_open_source_members = df_count_members[df_count_members[\"user_id\"]>10]"
   ]
  },
  {
   "cell_type": "code",
   "execution_count": null,
   "metadata": {},
   "outputs": [],
   "source": [
    "df_open_source_members"
   ]
  },
  {
   "cell_type": "markdown",
   "metadata": {},
   "source": [
    "Devivo a datação dos dados iremos filtrar somente os membros a partir de 2019"
   ]
  },
  {
   "cell_type": "code",
   "execution_count": null,
   "metadata": {},
   "outputs": [],
   "source": [
    "df_project_members = df_project_members.loc[\n",
    "    (pd.to_datetime(df_project_members['created_at']) > pd.to_datetime(\"01-01-2019\")) & \n",
    "    (df_project_members['repo_id'].isin(df_open_source_members['repo_id']))\n",
    "    ]"
   ]
  },
  {
   "cell_type": "code",
   "execution_count": null,
   "metadata": {},
   "outputs": [],
   "source": [
    "#transforma o campo de data em data\n",
    "\n",
    "df_project_members['created_at'] = pd.to_datetime(df_project_members['created_at'])"
   ]
  },
  {
   "cell_type": "code",
   "execution_count": null,
   "metadata": {},
   "outputs": [],
   "source": [
    "df_project_members"
   ]
  },
  {
   "cell_type": "markdown",
   "metadata": {},
   "source": [
    "# Dataframe alvo"
   ]
  },
  {
   "cell_type": "markdown",
   "metadata": {},
   "source": [
    "A partir do estudo Recommending GitHub Projects for Developer Onboarding podemos extrair alguns atributos a serem extraídos do dataset para que seja estudado o quão receptivo um repositório é, são eles:\n",
    "\n",
    "- Crescimento do Projeto: Quantidade de commits do projeto no momento de iniciação\n",
    "- Data de criação do projeto: Projetos mais novos tendem a atrair mais desenvolvedores\n",
    "- Momento de primeira contribuição: quando o projeto começa a receber contribuidores\n",
    "- Momento da última contribuição: se a equipe do projeto se manter estável significa que existe menos oportunidades de onboarding\n",
    "- Momento do primeiro commit: primeiro commit do projeto, a partir de quando passa a aceitar contribuições\n",
    "- Momento do último commit: se o projeto receber muitos commits, mas nao tiver tanto onboarding significa q esse projeto necessita de mais contribuintes"
   ]
  },
  {
   "cell_type": "code",
   "execution_count": 13,
   "metadata": {},
   "outputs": [
    {
     "data": {
      "text/html": [
       "<div>\n",
       "<style scoped>\n",
       "    .dataframe tbody tr th:only-of-type {\n",
       "        vertical-align: middle;\n",
       "    }\n",
       "\n",
       "    .dataframe tbody tr th {\n",
       "        vertical-align: top;\n",
       "    }\n",
       "\n",
       "    .dataframe thead th {\n",
       "        text-align: right;\n",
       "    }\n",
       "</style>\n",
       "<table border=\"1\" class=\"dataframe\">\n",
       "  <thead>\n",
       "    <tr style=\"text-align: right;\">\n",
       "      <th></th>\n",
       "      <th>repo_id</th>\n",
       "      <th>user_id</th>\n",
       "      <th>onboarding_date</th>\n",
       "      <th>project_author_id</th>\n",
       "      <th>project_created_at</th>\n",
       "      <th>total_commits</th>\n",
       "      <th>first_onboarding</th>\n",
       "      <th>last_onboarding</th>\n",
       "      <th>first_commit</th>\n",
       "      <th>last_commit</th>\n",
       "    </tr>\n",
       "  </thead>\n",
       "  <tbody>\n",
       "  </tbody>\n",
       "</table>\n",
       "</div>"
      ],
      "text/plain": [
       "Empty DataFrame\n",
       "Columns: [repo_id, user_id, onboarding_date, project_author_id, project_created_at, total_commits, first_onboarding, last_onboarding, first_commit, last_commit]\n",
       "Index: []"
      ]
     },
     "execution_count": 13,
     "metadata": {},
     "output_type": "execute_result"
    }
   ],
   "source": [
    "#objetivo final\n",
    "\n",
    "df_onboardings = pd.DataFrame({}, columns=[\"repo_id\", \"user_id\", \"onboarding_date\", \"project_author_id\", \"project_created_at\", \"total_commits\",\"first_onboarding\", \"last_onboarding\", \"first_commit\", \"last_commit\"])\n",
    "\n",
    "df_onboardings"
   ]
  },
  {
   "cell_type": "code",
   "execution_count": null,
   "metadata": {},
   "outputs": [],
   "source": [
    "chunks_commits = pd.read_csv(join(path, 'commits.csv'), names=[\"id\", \"sha\", \"author_id\", \"commiter_id\", \"project_id\", \"created_at\"], chunksize=5000000)"
   ]
  },
  {
   "cell_type": "markdown",
   "metadata": {},
   "source": [
    "Agora irei filtrar somente os commits dos projetos selecionados como open source após o ano de 2019"
   ]
  },
  {
   "cell_type": "markdown",
   "metadata": {},
   "source": [
    "# Pegando os commits referentes aos repositórios classificados como Open Source"
   ]
  },
  {
   "cell_type": "code",
   "execution_count": null,
   "metadata": {},
   "outputs": [],
   "source": [
    "\n",
    "#i=0\n",
    "#for chunk in chunks_commits:\n",
    "#        df_commit = chunk[chunk['project_id'].isin(df_project_members['repo_id'])]\n",
    "#        df_commit.to_csv(f'E:/dump/open_source/open_source_commits_{i}.csv')\n",
    "#        i += 1\n"
   ]
  },
  {
   "cell_type": "code",
   "execution_count": null,
   "metadata": {},
   "outputs": [],
   "source": [
    "dump_open_source_files = listdir(join(path, 'open_source'))\n"
   ]
  },
  {
   "cell_type": "markdown",
   "metadata": {},
   "source": [
    "# Descobrindo usuários iniciantes"
   ]
  },
  {
   "cell_type": "markdown",
   "metadata": {},
   "source": [
    "Para determinar quais contribuições são referentes a iniciantes teremos que descobrir qual foi o primeiro commit de cada usuário e qual foi o repositório dele"
   ]
  },
  {
   "cell_type": "markdown",
   "metadata": {},
   "source": [
    "testando um método de filtrar os primeiros commits em repositórios open source de cada usuário sem q o ID e o repo_id sejam abstraídos"
   ]
  },
  {
   "cell_type": "code",
   "execution_count": null,
   "metadata": {},
   "outputs": [],
   "source": [
    "def get_min_date_row(group):\n",
    "    min_row = group.loc[group['created_at'].idxmin()]\n",
    "    return min_row\n",
    "\n"
   ]
  },
  {
   "cell_type": "code",
   "execution_count": null,
   "metadata": {},
   "outputs": [],
   "source": [
    "# first_user_commit_by_chunks2 = []\n",
    "\n",
    "# i=0\n",
    "# for file in dump_open_source_files:\n",
    "#     print(\"lendo arquivo: \", i)\n",
    "#     df_commit = pd.read_csv(join(path,'open_source',file))\n",
    "#     df_commit[\"created_at\"] = pd.to_datetime(df_commit[\"created_at\"])\n",
    "#     first_user_commit_by_chunks2.append(df_commit.groupby('author_id').apply(get_min_date_row).reset_index(drop=True))\n",
    "#     i += 1"
   ]
  },
  {
   "cell_type": "code",
   "execution_count": null,
   "metadata": {},
   "outputs": [],
   "source": [
    "# df_first_user_commit2 = pd.concat(first_user_commit_by_chunks2)\n",
    "\n",
    "# df_first_user_commit2"
   ]
  },
  {
   "cell_type": "code",
   "execution_count": null,
   "metadata": {},
   "outputs": [],
   "source": [
    "# df_first_user_commit2.drop('Unnamed: 0', axis=1)\n",
    "\n",
    "# df_first_user_commit2.to_csv('first_user_commit.csv')"
   ]
  },
  {
   "cell_type": "code",
   "execution_count": null,
   "metadata": {},
   "outputs": [],
   "source": [
    "#df_first_user_commit2 = pd.read_csv('first_user_commit.csv')"
   ]
  },
  {
   "cell_type": "code",
   "execution_count": null,
   "metadata": {},
   "outputs": [],
   "source": [
    "#df_first_user_contrib = df_first_user_commit2.groupby('author_id').apply(get_min_date_row).reset_index(drop=True)\n",
    "\n"
   ]
  },
  {
   "cell_type": "code",
   "execution_count": null,
   "metadata": {},
   "outputs": [],
   "source": [
    "#df_first_user_contrib = df_first_user_contrib.drop('Unnamed: 0', axis=1)\n",
    "#df_first_user_contrib = df_first_user_contrib.drop('Unnamed: 0.1', axis=1)"
   ]
  },
  {
   "cell_type": "code",
   "execution_count": null,
   "metadata": {},
   "outputs": [],
   "source": [
    "#df_first_user_contrib.to_csv('first_user_contrib.csv')"
   ]
  },
  {
   "cell_type": "code",
   "execution_count": null,
   "metadata": {},
   "outputs": [],
   "source": [
    "df_first_user_contrib = pd.read_csv(\"first_user_contrib.csv\")"
   ]
  },
  {
   "cell_type": "markdown",
   "metadata": {},
   "source": [
    "Agora iremos filtrar somente as primeiras contribuições de cada pessoa, já que estamos focando em pessoas iniciantes"
   ]
  },
  {
   "cell_type": "code",
   "execution_count": null,
   "metadata": {},
   "outputs": [],
   "source": [
    "df_first_user_contrib = df_first_user_contrib.drop('Unnamed: 0', axis=1)\n",
    "df_first_user_contrib = df_first_user_contrib[pd.to_datetime(df_first_user_contrib['created_at']) > pd.to_datetime('01-01-2019')]"
   ]
  },
  {
   "cell_type": "code",
   "execution_count": null,
   "metadata": {},
   "outputs": [],
   "source": [
    "df_first_user_contrib"
   ]
  },
  {
   "cell_type": "code",
   "execution_count": null,
   "metadata": {},
   "outputs": [],
   "source": [
    "df_project_members"
   ]
  },
  {
   "cell_type": "code",
   "execution_count": null,
   "metadata": {},
   "outputs": [],
   "source": [
    "\n",
    "df_contrib_x_commits = df_project_members.merge(df_first_user_contrib, left_on=['repo_id', 'user_id'], right_on=['project_id', 'author_id'],  how='inner', suffixes=['_members', '_commits'])\n"
   ]
  },
  {
   "cell_type": "code",
   "execution_count": null,
   "metadata": {},
   "outputs": [],
   "source": [
    "df_onboardings['repo_id'] = df_contrib_x_commits['repo_id']\n",
    "df_onboardings['user_id'] = df_contrib_x_commits['author_id']\n",
    "df_onboardings['onboarding_date'] = df_contrib_x_commits['created_at_members']\n",
    "\n",
    "df_onboardings"
   ]
  },
  {
   "cell_type": "code",
   "execution_count": null,
   "metadata": {},
   "outputs": [],
   "source": [
    "df_onboardings.to_csv(\"onboarding.csv\")"
   ]
  },
  {
   "cell_type": "markdown",
   "metadata": {},
   "source": [
    "# Pegando os detalhes do projeto"
   ]
  },
  {
   "cell_type": "code",
   "execution_count": 16,
   "metadata": {},
   "outputs": [],
   "source": [
    "df_onboardings = pd.read_csv(\"onboarding.csv\")"
   ]
  },
  {
   "cell_type": "code",
   "execution_count": 6,
   "metadata": {},
   "outputs": [],
   "source": [
    "chunk_projects = pd.read_csv(join(path, \"projects.csv\"), index_col=False, chunksize=5000000  ,escapechar='\\\\', header=None, sep=\",\", quotechar='\"',encoding=\"utf-8\", names=[\"id\", \"url\", \"owner_id\", \"name\", \"descriptor\", \"language\", \"created_at\", \"forked_from\", \"deleted\", \"updated_at\"], na_values=\"not available\", on_bad_lines=\"warn\") #, engine=\"python\")"
   ]
  },
  {
   "cell_type": "code",
   "execution_count": 7,
   "metadata": {},
   "outputs": [
    {
     "name": "stderr",
     "output_type": "stream",
     "text": [
      "C:\\Users\\gusge\\AppData\\Local\\Temp\\ipykernel_25484\\4076905464.py:5: ParserWarning: Length of header or names does not match length of data. This leads to a loss of data with index_col=False.\n",
      "  for chunk in chunk_projects:\n"
     ]
    },
    {
     "name": "stdout",
     "output_type": "stream",
     "text": [
      "chunk  0\n"
     ]
    },
    {
     "name": "stderr",
     "output_type": "stream",
     "text": [
      "C:\\Users\\gusge\\AppData\\Local\\Temp\\ipykernel_25484\\4076905464.py:5: ParserWarning: Length of header or names does not match length of data. This leads to a loss of data with index_col=False.\n",
      "  for chunk in chunk_projects:\n"
     ]
    },
    {
     "name": "stdout",
     "output_type": "stream",
     "text": [
      "chunk  1\n"
     ]
    },
    {
     "name": "stderr",
     "output_type": "stream",
     "text": [
      "C:\\Users\\gusge\\AppData\\Local\\Temp\\ipykernel_25484\\4076905464.py:5: ParserWarning: Length of header or names does not match length of data. This leads to a loss of data with index_col=False.\n",
      "  for chunk in chunk_projects:\n"
     ]
    },
    {
     "name": "stdout",
     "output_type": "stream",
     "text": [
      "chunk  2\n"
     ]
    },
    {
     "name": "stderr",
     "output_type": "stream",
     "text": [
      "C:\\Users\\gusge\\AppData\\Local\\Temp\\ipykernel_25484\\4076905464.py:5: ParserWarning: Length of header or names does not match length of data. This leads to a loss of data with index_col=False.\n",
      "  for chunk in chunk_projects:\n"
     ]
    },
    {
     "name": "stdout",
     "output_type": "stream",
     "text": [
      "chunk  3\n"
     ]
    },
    {
     "name": "stderr",
     "output_type": "stream",
     "text": [
      "C:\\Users\\gusge\\AppData\\Local\\Temp\\ipykernel_25484\\4076905464.py:5: ParserWarning: Length of header or names does not match length of data. This leads to a loss of data with index_col=False.\n",
      "  for chunk in chunk_projects:\n"
     ]
    },
    {
     "name": "stdout",
     "output_type": "stream",
     "text": [
      "chunk  4\n"
     ]
    },
    {
     "name": "stderr",
     "output_type": "stream",
     "text": [
      "C:\\Users\\gusge\\AppData\\Local\\Temp\\ipykernel_25484\\4076905464.py:5: ParserWarning: Length of header or names does not match length of data. This leads to a loss of data with index_col=False.\n",
      "  for chunk in chunk_projects:\n"
     ]
    },
    {
     "name": "stdout",
     "output_type": "stream",
     "text": [
      "chunk  5\n"
     ]
    },
    {
     "name": "stderr",
     "output_type": "stream",
     "text": [
      "C:\\Users\\gusge\\AppData\\Local\\Temp\\ipykernel_25484\\4076905464.py:5: ParserWarning: Length of header or names does not match length of data. This leads to a loss of data with index_col=False.\n",
      "  for chunk in chunk_projects:\n"
     ]
    },
    {
     "name": "stdout",
     "output_type": "stream",
     "text": [
      "chunk  6\n"
     ]
    },
    {
     "name": "stderr",
     "output_type": "stream",
     "text": [
      "C:\\Users\\gusge\\AppData\\Local\\Temp\\ipykernel_25484\\4076905464.py:5: ParserWarning: Length of header or names does not match length of data. This leads to a loss of data with index_col=False.\n",
      "  for chunk in chunk_projects:\n"
     ]
    },
    {
     "name": "stdout",
     "output_type": "stream",
     "text": [
      "chunk  7\n"
     ]
    },
    {
     "name": "stderr",
     "output_type": "stream",
     "text": [
      "C:\\Users\\gusge\\AppData\\Local\\Temp\\ipykernel_25484\\4076905464.py:5: ParserWarning: Length of header or names does not match length of data. This leads to a loss of data with index_col=False.\n",
      "  for chunk in chunk_projects:\n"
     ]
    },
    {
     "name": "stdout",
     "output_type": "stream",
     "text": [
      "chunk  8\n"
     ]
    },
    {
     "name": "stderr",
     "output_type": "stream",
     "text": [
      "C:\\Users\\gusge\\AppData\\Local\\Temp\\ipykernel_25484\\4076905464.py:5: ParserWarning: Length of header or names does not match length of data. This leads to a loss of data with index_col=False.\n",
      "  for chunk in chunk_projects:\n"
     ]
    },
    {
     "name": "stdout",
     "output_type": "stream",
     "text": [
      "chunk  9\n"
     ]
    },
    {
     "name": "stderr",
     "output_type": "stream",
     "text": [
      "C:\\Users\\gusge\\AppData\\Local\\Temp\\ipykernel_25484\\4076905464.py:5: ParserWarning: Length of header or names does not match length of data. This leads to a loss of data with index_col=False.\n",
      "  for chunk in chunk_projects:\n"
     ]
    },
    {
     "name": "stdout",
     "output_type": "stream",
     "text": [
      "chunk  10\n"
     ]
    },
    {
     "name": "stderr",
     "output_type": "stream",
     "text": [
      "C:\\Users\\gusge\\AppData\\Local\\Temp\\ipykernel_25484\\4076905464.py:5: ParserWarning: Length of header or names does not match length of data. This leads to a loss of data with index_col=False.\n",
      "  for chunk in chunk_projects:\n"
     ]
    },
    {
     "name": "stdout",
     "output_type": "stream",
     "text": [
      "chunk  11\n"
     ]
    },
    {
     "name": "stderr",
     "output_type": "stream",
     "text": [
      "C:\\Users\\gusge\\AppData\\Local\\Temp\\ipykernel_25484\\4076905464.py:5: ParserWarning: Length of header or names does not match length of data. This leads to a loss of data with index_col=False.\n",
      "  for chunk in chunk_projects:\n"
     ]
    },
    {
     "name": "stdout",
     "output_type": "stream",
     "text": [
      "chunk  12\n"
     ]
    },
    {
     "name": "stderr",
     "output_type": "stream",
     "text": [
      "C:\\Users\\gusge\\AppData\\Local\\Temp\\ipykernel_25484\\4076905464.py:5: ParserWarning: Length of header or names does not match length of data. This leads to a loss of data with index_col=False.\n",
      "  for chunk in chunk_projects:\n"
     ]
    },
    {
     "name": "stdout",
     "output_type": "stream",
     "text": [
      "chunk  13\n"
     ]
    },
    {
     "name": "stderr",
     "output_type": "stream",
     "text": [
      "C:\\Users\\gusge\\AppData\\Local\\Temp\\ipykernel_25484\\4076905464.py:5: ParserWarning: Length of header or names does not match length of data. This leads to a loss of data with index_col=False.\n",
      "  for chunk in chunk_projects:\n"
     ]
    },
    {
     "name": "stdout",
     "output_type": "stream",
     "text": [
      "chunk  14\n"
     ]
    },
    {
     "name": "stderr",
     "output_type": "stream",
     "text": [
      "C:\\Users\\gusge\\AppData\\Local\\Temp\\ipykernel_25484\\4076905464.py:5: ParserWarning: Length of header or names does not match length of data. This leads to a loss of data with index_col=False.\n",
      "  for chunk in chunk_projects:\n"
     ]
    },
    {
     "name": "stdout",
     "output_type": "stream",
     "text": [
      "chunk  15\n"
     ]
    },
    {
     "name": "stderr",
     "output_type": "stream",
     "text": [
      "C:\\Users\\gusge\\AppData\\Local\\Temp\\ipykernel_25484\\4076905464.py:5: ParserWarning: Length of header or names does not match length of data. This leads to a loss of data with index_col=False.\n",
      "  for chunk in chunk_projects:\n"
     ]
    },
    {
     "name": "stdout",
     "output_type": "stream",
     "text": [
      "chunk  16\n"
     ]
    },
    {
     "name": "stderr",
     "output_type": "stream",
     "text": [
      "C:\\Users\\gusge\\AppData\\Local\\Temp\\ipykernel_25484\\4076905464.py:5: ParserWarning: Length of header or names does not match length of data. This leads to a loss of data with index_col=False.\n",
      "  for chunk in chunk_projects:\n"
     ]
    },
    {
     "name": "stdout",
     "output_type": "stream",
     "text": [
      "chunk  17\n"
     ]
    },
    {
     "name": "stderr",
     "output_type": "stream",
     "text": [
      "C:\\Users\\gusge\\AppData\\Local\\Temp\\ipykernel_25484\\4076905464.py:5: ParserWarning: Length of header or names does not match length of data. This leads to a loss of data with index_col=False.\n",
      "  for chunk in chunk_projects:\n"
     ]
    },
    {
     "name": "stdout",
     "output_type": "stream",
     "text": [
      "chunk  18\n"
     ]
    },
    {
     "name": "stderr",
     "output_type": "stream",
     "text": [
      "C:\\Users\\gusge\\AppData\\Local\\Temp\\ipykernel_25484\\4076905464.py:5: ParserWarning: Length of header or names does not match length of data. This leads to a loss of data with index_col=False.\n",
      "  for chunk in chunk_projects:\n"
     ]
    },
    {
     "name": "stdout",
     "output_type": "stream",
     "text": [
      "chunk  19\n"
     ]
    },
    {
     "name": "stderr",
     "output_type": "stream",
     "text": [
      "C:\\Users\\gusge\\AppData\\Local\\Temp\\ipykernel_25484\\4076905464.py:5: ParserWarning: Length of header or names does not match length of data. This leads to a loss of data with index_col=False.\n",
      "  for chunk in chunk_projects:\n"
     ]
    },
    {
     "name": "stdout",
     "output_type": "stream",
     "text": [
      "chunk  20\n"
     ]
    },
    {
     "name": "stderr",
     "output_type": "stream",
     "text": [
      "C:\\Users\\gusge\\AppData\\Local\\Temp\\ipykernel_25484\\4076905464.py:5: ParserWarning: Length of header or names does not match length of data. This leads to a loss of data with index_col=False.\n",
      "  for chunk in chunk_projects:\n"
     ]
    },
    {
     "name": "stdout",
     "output_type": "stream",
     "text": [
      "chunk  21\n"
     ]
    },
    {
     "name": "stderr",
     "output_type": "stream",
     "text": [
      "C:\\Users\\gusge\\AppData\\Local\\Temp\\ipykernel_25484\\4076905464.py:5: ParserWarning: Length of header or names does not match length of data. This leads to a loss of data with index_col=False.\n",
      "  for chunk in chunk_projects:\n"
     ]
    },
    {
     "name": "stdout",
     "output_type": "stream",
     "text": [
      "chunk  22\n"
     ]
    },
    {
     "name": "stderr",
     "output_type": "stream",
     "text": [
      "C:\\Users\\gusge\\AppData\\Local\\Temp\\ipykernel_25484\\4076905464.py:5: ParserWarning: Length of header or names does not match length of data. This leads to a loss of data with index_col=False.\n",
      "  for chunk in chunk_projects:\n"
     ]
    },
    {
     "name": "stdout",
     "output_type": "stream",
     "text": [
      "chunk  23\n"
     ]
    },
    {
     "name": "stderr",
     "output_type": "stream",
     "text": [
      "C:\\Users\\gusge\\AppData\\Local\\Temp\\ipykernel_25484\\4076905464.py:5: ParserWarning: Length of header or names does not match length of data. This leads to a loss of data with index_col=False.\n",
      "  for chunk in chunk_projects:\n"
     ]
    },
    {
     "name": "stdout",
     "output_type": "stream",
     "text": [
      "chunk  24\n"
     ]
    },
    {
     "name": "stderr",
     "output_type": "stream",
     "text": [
      "C:\\Users\\gusge\\AppData\\Local\\Temp\\ipykernel_25484\\4076905464.py:5: ParserWarning: Length of header or names does not match length of data. This leads to a loss of data with index_col=False.\n",
      "  for chunk in chunk_projects:\n"
     ]
    },
    {
     "name": "stdout",
     "output_type": "stream",
     "text": [
      "chunk  25\n"
     ]
    },
    {
     "name": "stderr",
     "output_type": "stream",
     "text": [
      "C:\\Users\\gusge\\AppData\\Local\\Temp\\ipykernel_25484\\4076905464.py:5: ParserWarning: Length of header or names does not match length of data. This leads to a loss of data with index_col=False.\n",
      "  for chunk in chunk_projects:\n"
     ]
    },
    {
     "name": "stdout",
     "output_type": "stream",
     "text": [
      "chunk  26\n"
     ]
    },
    {
     "name": "stderr",
     "output_type": "stream",
     "text": [
      "C:\\Users\\gusge\\AppData\\Local\\Temp\\ipykernel_25484\\4076905464.py:5: ParserWarning: Length of header or names does not match length of data. This leads to a loss of data with index_col=False.\n",
      "  for chunk in chunk_projects:\n"
     ]
    },
    {
     "name": "stdout",
     "output_type": "stream",
     "text": [
      "chunk  27\n"
     ]
    },
    {
     "name": "stderr",
     "output_type": "stream",
     "text": [
      "C:\\Users\\gusge\\AppData\\Local\\Temp\\ipykernel_25484\\4076905464.py:5: ParserWarning: Length of header or names does not match length of data. This leads to a loss of data with index_col=False.\n",
      "  for chunk in chunk_projects:\n"
     ]
    },
    {
     "name": "stdout",
     "output_type": "stream",
     "text": [
      "chunk  28\n"
     ]
    },
    {
     "name": "stderr",
     "output_type": "stream",
     "text": [
      "C:\\Users\\gusge\\AppData\\Local\\Temp\\ipykernel_25484\\4076905464.py:5: ParserWarning: Length of header or names does not match length of data. This leads to a loss of data with index_col=False.\n",
      "  for chunk in chunk_projects:\n"
     ]
    },
    {
     "name": "stdout",
     "output_type": "stream",
     "text": [
      "chunk  29\n"
     ]
    },
    {
     "name": "stderr",
     "output_type": "stream",
     "text": [
      "C:\\Users\\gusge\\AppData\\Local\\Temp\\ipykernel_25484\\4076905464.py:5: ParserWarning: Length of header or names does not match length of data. This leads to a loss of data with index_col=False.\n",
      "  for chunk in chunk_projects:\n"
     ]
    },
    {
     "name": "stdout",
     "output_type": "stream",
     "text": [
      "chunk  30\n"
     ]
    },
    {
     "name": "stderr",
     "output_type": "stream",
     "text": [
      "C:\\Users\\gusge\\AppData\\Local\\Temp\\ipykernel_25484\\4076905464.py:5: ParserWarning: Length of header or names does not match length of data. This leads to a loss of data with index_col=False.\n",
      "  for chunk in chunk_projects:\n"
     ]
    },
    {
     "name": "stdout",
     "output_type": "stream",
     "text": [
      "chunk  31\n"
     ]
    },
    {
     "name": "stderr",
     "output_type": "stream",
     "text": [
      "C:\\Users\\gusge\\AppData\\Local\\Temp\\ipykernel_25484\\4076905464.py:5: ParserWarning: Length of header or names does not match length of data. This leads to a loss of data with index_col=False.\n",
      "  for chunk in chunk_projects:\n"
     ]
    },
    {
     "name": "stdout",
     "output_type": "stream",
     "text": [
      "chunk  32\n"
     ]
    },
    {
     "name": "stderr",
     "output_type": "stream",
     "text": [
      "C:\\Users\\gusge\\AppData\\Local\\Temp\\ipykernel_25484\\4076905464.py:5: ParserWarning: Length of header or names does not match length of data. This leads to a loss of data with index_col=False.\n",
      "  for chunk in chunk_projects:\n"
     ]
    },
    {
     "name": "stdout",
     "output_type": "stream",
     "text": [
      "chunk  33\n"
     ]
    },
    {
     "name": "stderr",
     "output_type": "stream",
     "text": [
      "C:\\Users\\gusge\\AppData\\Local\\Temp\\ipykernel_25484\\4076905464.py:5: ParserWarning: Length of header or names does not match length of data. This leads to a loss of data with index_col=False.\n",
      "  for chunk in chunk_projects:\n"
     ]
    },
    {
     "name": "stdout",
     "output_type": "stream",
     "text": [
      "chunk  34\n"
     ]
    },
    {
     "name": "stderr",
     "output_type": "stream",
     "text": [
      "C:\\Users\\gusge\\AppData\\Local\\Temp\\ipykernel_25484\\4076905464.py:5: ParserWarning: Length of header or names does not match length of data. This leads to a loss of data with index_col=False.\n",
      "  for chunk in chunk_projects:\n"
     ]
    },
    {
     "name": "stdout",
     "output_type": "stream",
     "text": [
      "chunk  35\n"
     ]
    },
    {
     "name": "stderr",
     "output_type": "stream",
     "text": [
      "C:\\Users\\gusge\\AppData\\Local\\Temp\\ipykernel_25484\\4076905464.py:5: ParserWarning: Length of header or names does not match length of data. This leads to a loss of data with index_col=False.\n",
      "  for chunk in chunk_projects:\n"
     ]
    },
    {
     "name": "stdout",
     "output_type": "stream",
     "text": [
      "chunk  36\n"
     ]
    },
    {
     "name": "stderr",
     "output_type": "stream",
     "text": [
      "C:\\Users\\gusge\\AppData\\Local\\Temp\\ipykernel_25484\\4076905464.py:5: ParserWarning: Length of header or names does not match length of data. This leads to a loss of data with index_col=False.\n",
      "  for chunk in chunk_projects:\n"
     ]
    },
    {
     "name": "stdout",
     "output_type": "stream",
     "text": [
      "chunk  37\n"
     ]
    }
   ],
   "source": [
    "unique_projects = df_onboardings['repo_id'].unique()\n",
    "projects = []\n",
    "\n",
    "i=0\n",
    "for chunk in chunk_projects:\n",
    "    print(\"chunk \", i)\n",
    "    projects.append(chunk[chunk['id'].isin(unique_projects)])\n",
    "    i += 1\n",
    "    \n",
    "    "
   ]
  },
  {
   "cell_type": "code",
   "execution_count": 8,
   "metadata": {},
   "outputs": [],
   "source": [
    "df_projects = pd.concat(projects)"
   ]
  },
  {
   "cell_type": "code",
   "execution_count": 19,
   "metadata": {},
   "outputs": [],
   "source": [
    "df_onboarding_x_projects = df_onboardings.merge(df_projects[['id', 'owner_id', 'language', 'created_at']], left_on='repo_id', right_on='id', suffixes=['', '_project'])\n",
    "\n"
   ]
  },
  {
   "cell_type": "code",
   "execution_count": 24,
   "metadata": {},
   "outputs": [],
   "source": [
    "\n",
    "df_onboardings['project_author_id'] = df_onboarding_x_projects['owner_id']\n",
    "df_onboardings['project_language'] = df_onboarding_x_projects['language']\n",
    "df_onboardings['project_created_at'] = df_onboarding_x_projects['created_at']\n",
    "#df_onboardings = df_onboardings.drop('Unnamed: 0', axis=1)\n",
    "\n"
   ]
  },
  {
   "cell_type": "code",
   "execution_count": 26,
   "metadata": {},
   "outputs": [],
   "source": [
    "df_onboardings.to_csv('onboarding.csv')"
   ]
  },
  {
   "cell_type": "code",
   "execution_count": 27,
   "metadata": {},
   "outputs": [
    {
     "data": {
      "text/html": [
       "<div>\n",
       "<style scoped>\n",
       "    .dataframe tbody tr th:only-of-type {\n",
       "        vertical-align: middle;\n",
       "    }\n",
       "\n",
       "    .dataframe tbody tr th {\n",
       "        vertical-align: top;\n",
       "    }\n",
       "\n",
       "    .dataframe thead th {\n",
       "        text-align: right;\n",
       "    }\n",
       "</style>\n",
       "<table border=\"1\" class=\"dataframe\">\n",
       "  <thead>\n",
       "    <tr style=\"text-align: right;\">\n",
       "      <th></th>\n",
       "      <th>repo_id</th>\n",
       "      <th>user_id</th>\n",
       "      <th>onboarding_date</th>\n",
       "      <th>project_author_id</th>\n",
       "      <th>project_created_at</th>\n",
       "      <th>total_commits</th>\n",
       "      <th>first_onboarding</th>\n",
       "      <th>last_onboarding</th>\n",
       "      <th>first_commit</th>\n",
       "      <th>last_commit</th>\n",
       "      <th>project_language</th>\n",
       "    </tr>\n",
       "  </thead>\n",
       "  <tbody>\n",
       "    <tr>\n",
       "      <th>0</th>\n",
       "      <td>19</td>\n",
       "      <td>9245591</td>\n",
       "      <td>2020-06-17 19:28:17</td>\n",
       "      <td>78</td>\n",
       "      <td>2009-01-05 14:00:43</td>\n",
       "      <td>NaN</td>\n",
       "      <td>NaN</td>\n",
       "      <td>NaN</td>\n",
       "      <td>NaN</td>\n",
       "      <td>NaN</td>\n",
       "      <td>Objective-C</td>\n",
       "    </tr>\n",
       "    <tr>\n",
       "      <th>1</th>\n",
       "      <td>19</td>\n",
       "      <td>33292409</td>\n",
       "      <td>2020-06-05 14:53:56</td>\n",
       "      <td>78</td>\n",
       "      <td>2009-01-05 14:00:43</td>\n",
       "      <td>NaN</td>\n",
       "      <td>NaN</td>\n",
       "      <td>NaN</td>\n",
       "      <td>NaN</td>\n",
       "      <td>NaN</td>\n",
       "      <td>Objective-C</td>\n",
       "    </tr>\n",
       "    <tr>\n",
       "      <th>2</th>\n",
       "      <td>4567</td>\n",
       "      <td>32547120</td>\n",
       "      <td>2020-01-04 17:08:41</td>\n",
       "      <td>21229</td>\n",
       "      <td>2011-12-23 04:52:33</td>\n",
       "      <td>NaN</td>\n",
       "      <td>NaN</td>\n",
       "      <td>NaN</td>\n",
       "      <td>NaN</td>\n",
       "      <td>NaN</td>\n",
       "      <td>JavaScript</td>\n",
       "    </tr>\n",
       "    <tr>\n",
       "      <th>3</th>\n",
       "      <td>6830</td>\n",
       "      <td>44244864</td>\n",
       "      <td>2019-04-19 01:58:41</td>\n",
       "      <td>8978</td>\n",
       "      <td>2012-02-21 19:46:55</td>\n",
       "      <td>NaN</td>\n",
       "      <td>NaN</td>\n",
       "      <td>NaN</td>\n",
       "      <td>NaN</td>\n",
       "      <td>NaN</td>\n",
       "      <td>Scala</td>\n",
       "    </tr>\n",
       "    <tr>\n",
       "      <th>4</th>\n",
       "      <td>8373</td>\n",
       "      <td>30552107</td>\n",
       "      <td>2020-06-05 20:09:57</td>\n",
       "      <td>19185</td>\n",
       "      <td>2011-05-10 07:41:19</td>\n",
       "      <td>NaN</td>\n",
       "      <td>NaN</td>\n",
       "      <td>NaN</td>\n",
       "      <td>NaN</td>\n",
       "      <td>NaN</td>\n",
       "      <td>Python</td>\n",
       "    </tr>\n",
       "    <tr>\n",
       "      <th>...</th>\n",
       "      <td>...</td>\n",
       "      <td>...</td>\n",
       "      <td>...</td>\n",
       "      <td>...</td>\n",
       "      <td>...</td>\n",
       "      <td>...</td>\n",
       "      <td>...</td>\n",
       "      <td>...</td>\n",
       "      <td>...</td>\n",
       "      <td>...</td>\n",
       "      <td>...</td>\n",
       "    </tr>\n",
       "    <tr>\n",
       "      <th>16626</th>\n",
       "      <td>206997704</td>\n",
       "      <td>66799493</td>\n",
       "      <td>2021-03-05 18:06:24</td>\n",
       "      <td>3749802</td>\n",
       "      <td>2021-03-05 16:49:43</td>\n",
       "      <td>NaN</td>\n",
       "      <td>NaN</td>\n",
       "      <td>NaN</td>\n",
       "      <td>NaN</td>\n",
       "      <td>NaN</td>\n",
       "      <td>C#</td>\n",
       "    </tr>\n",
       "    <tr>\n",
       "      <th>16627</th>\n",
       "      <td>206997704</td>\n",
       "      <td>66965962</td>\n",
       "      <td>2021-03-05 18:08:01</td>\n",
       "      <td>3749802</td>\n",
       "      <td>2021-03-05 16:49:43</td>\n",
       "      <td>NaN</td>\n",
       "      <td>NaN</td>\n",
       "      <td>NaN</td>\n",
       "      <td>NaN</td>\n",
       "      <td>NaN</td>\n",
       "      <td>C#</td>\n",
       "    </tr>\n",
       "    <tr>\n",
       "      <th>16628</th>\n",
       "      <td>206997704</td>\n",
       "      <td>66994499</td>\n",
       "      <td>2021-03-05 18:10:13</td>\n",
       "      <td>3749802</td>\n",
       "      <td>2021-03-05 16:49:43</td>\n",
       "      <td>NaN</td>\n",
       "      <td>NaN</td>\n",
       "      <td>NaN</td>\n",
       "      <td>NaN</td>\n",
       "      <td>NaN</td>\n",
       "      <td>C#</td>\n",
       "    </tr>\n",
       "    <tr>\n",
       "      <th>16629</th>\n",
       "      <td>206997704</td>\n",
       "      <td>67981477</td>\n",
       "      <td>2021-03-05 18:08:24</td>\n",
       "      <td>3749802</td>\n",
       "      <td>2021-03-05 16:49:43</td>\n",
       "      <td>NaN</td>\n",
       "      <td>NaN</td>\n",
       "      <td>NaN</td>\n",
       "      <td>NaN</td>\n",
       "      <td>NaN</td>\n",
       "      <td>C#</td>\n",
       "    </tr>\n",
       "    <tr>\n",
       "      <th>16630</th>\n",
       "      <td>206997704</td>\n",
       "      <td>67982813</td>\n",
       "      <td>2021-03-05 18:40:18</td>\n",
       "      <td>3749802</td>\n",
       "      <td>2021-03-05 16:49:43</td>\n",
       "      <td>NaN</td>\n",
       "      <td>NaN</td>\n",
       "      <td>NaN</td>\n",
       "      <td>NaN</td>\n",
       "      <td>NaN</td>\n",
       "      <td>C#</td>\n",
       "    </tr>\n",
       "  </tbody>\n",
       "</table>\n",
       "<p>16631 rows × 11 columns</p>\n",
       "</div>"
      ],
      "text/plain": [
       "         repo_id   user_id      onboarding_date  project_author_id  \\\n",
       "0             19   9245591  2020-06-17 19:28:17                 78   \n",
       "1             19  33292409  2020-06-05 14:53:56                 78   \n",
       "2           4567  32547120  2020-01-04 17:08:41              21229   \n",
       "3           6830  44244864  2019-04-19 01:58:41               8978   \n",
       "4           8373  30552107  2020-06-05 20:09:57              19185   \n",
       "...          ...       ...                  ...                ...   \n",
       "16626  206997704  66799493  2021-03-05 18:06:24            3749802   \n",
       "16627  206997704  66965962  2021-03-05 18:08:01            3749802   \n",
       "16628  206997704  66994499  2021-03-05 18:10:13            3749802   \n",
       "16629  206997704  67981477  2021-03-05 18:08:24            3749802   \n",
       "16630  206997704  67982813  2021-03-05 18:40:18            3749802   \n",
       "\n",
       "        project_created_at  total_commits  first_onboarding  last_onboarding  \\\n",
       "0      2009-01-05 14:00:43            NaN               NaN              NaN   \n",
       "1      2009-01-05 14:00:43            NaN               NaN              NaN   \n",
       "2      2011-12-23 04:52:33            NaN               NaN              NaN   \n",
       "3      2012-02-21 19:46:55            NaN               NaN              NaN   \n",
       "4      2011-05-10 07:41:19            NaN               NaN              NaN   \n",
       "...                    ...            ...               ...              ...   \n",
       "16626  2021-03-05 16:49:43            NaN               NaN              NaN   \n",
       "16627  2021-03-05 16:49:43            NaN               NaN              NaN   \n",
       "16628  2021-03-05 16:49:43            NaN               NaN              NaN   \n",
       "16629  2021-03-05 16:49:43            NaN               NaN              NaN   \n",
       "16630  2021-03-05 16:49:43            NaN               NaN              NaN   \n",
       "\n",
       "       first_commit  last_commit project_language  \n",
       "0               NaN          NaN      Objective-C  \n",
       "1               NaN          NaN      Objective-C  \n",
       "2               NaN          NaN       JavaScript  \n",
       "3               NaN          NaN            Scala  \n",
       "4               NaN          NaN           Python  \n",
       "...             ...          ...              ...  \n",
       "16626           NaN          NaN               C#  \n",
       "16627           NaN          NaN               C#  \n",
       "16628           NaN          NaN               C#  \n",
       "16629           NaN          NaN               C#  \n",
       "16630           NaN          NaN               C#  \n",
       "\n",
       "[16631 rows x 11 columns]"
      ]
     },
     "execution_count": 27,
     "metadata": {},
     "output_type": "execute_result"
    }
   ],
   "source": [
    "df_onboardings"
   ]
  },
  {
   "cell_type": "markdown",
   "metadata": {},
   "source": [
    "# Pegando a data da primeira e da última contribuição"
   ]
  },
  {
   "cell_type": "code",
   "execution_count": 67,
   "metadata": {},
   "outputs": [],
   "source": [
    "df_onboardings = pd.read_csv(\"onboarding.csv\", index_col=0)\n",
    "\n",
    "repos = df_onboardings['repo_id'].unique()"
   ]
  },
  {
   "cell_type": "code",
   "execution_count": 8,
   "metadata": {},
   "outputs": [],
   "source": [
    "df_project_members = pd.read_csv(\"project_members.csv\", names=[\"repo_id\", \"user_id\", \"created_at\"])\n",
    "\n",
    "df_project_members = df_project_members[df_project_members['repo_id'].isin(repos)]"
   ]
  },
  {
   "cell_type": "code",
   "execution_count": 36,
   "metadata": {},
   "outputs": [
    {
     "data": {
      "text/plain": [
       "np.int64(21229)"
      ]
     },
     "execution_count": 36,
     "metadata": {},
     "output_type": "execute_result"
    }
   ],
   "source": [
    "teste = df_onboardings[df_onboardings['repo_id'] == 4567]\n",
    "teste_dono =  teste['project_author_id']\n",
    "\n",
    "teste_dono.values[0]\n"
   ]
  },
  {
   "cell_type": "code",
   "execution_count": 52,
   "metadata": {},
   "outputs": [],
   "source": [
    "def get_min_date_row(group):\n",
    "    repo = group['repo_id'].unique()[0]\n",
    "    this_repo = df_onboardings[df_onboardings['repo_id'] == repo]\n",
    "    owner = this_repo['project_author_id'].values[0]\n",
    "    \n",
    "    group.drop(group[ group['user_id'] == owner ].index, inplace=True)\n",
    "    min_row = group.loc[group['created_at'].idxmin()]\n",
    "\n",
    "    return min_row"
   ]
  },
  {
   "cell_type": "code",
   "execution_count": 46,
   "metadata": {},
   "outputs": [],
   "source": [
    "def get_max_date_row(group):\n",
    "    repo = group['repo_id'].unique()[0]\n",
    "    this_repo = df_onboardings[df_onboardings['repo_id'] == repo]\n",
    "    user_onboard = this_repo['user_id'].values[0]\n",
    "\n",
    "    group.drop(group[ group['user_id'] == user_onboard ].index, inplace=True)\n",
    "    min_row = group.loc[group['created_at'].idxmax()]\n",
    "\n",
    "    return min_row"
   ]
  },
  {
   "cell_type": "code",
   "execution_count": 53,
   "metadata": {},
   "outputs": [
    {
     "name": "stderr",
     "output_type": "stream",
     "text": [
      "/tmp/ipykernel_6005/1145869671.py:1: DeprecationWarning: DataFrameGroupBy.apply operated on the grouping columns. This behavior is deprecated, and in a future version of pandas the grouping columns will be excluded from the operation. Either pass `include_groups=False` to exclude the groupings or explicitly select the grouping columns after groupby to silence this warning.\n",
      "  df_first_repo_contrib = df_project_members.groupby('repo_id').apply(get_min_date_row).reset_index(drop=True)\n"
     ]
    }
   ],
   "source": [
    "\n",
    "df_first_repo_contrib = df_project_members.groupby('repo_id').apply(get_min_date_row).reset_index(drop=True)"
   ]
  },
  {
   "cell_type": "code",
   "execution_count": 54,
   "metadata": {},
   "outputs": [
    {
     "data": {
      "text/html": [
       "<div>\n",
       "<style scoped>\n",
       "    .dataframe tbody tr th:only-of-type {\n",
       "        vertical-align: middle;\n",
       "    }\n",
       "\n",
       "    .dataframe tbody tr th {\n",
       "        vertical-align: top;\n",
       "    }\n",
       "\n",
       "    .dataframe thead th {\n",
       "        text-align: right;\n",
       "    }\n",
       "</style>\n",
       "<table border=\"1\" class=\"dataframe\">\n",
       "  <thead>\n",
       "    <tr style=\"text-align: right;\">\n",
       "      <th></th>\n",
       "      <th>repo_id</th>\n",
       "      <th>user_id</th>\n",
       "      <th>created_at</th>\n",
       "    </tr>\n",
       "  </thead>\n",
       "  <tbody>\n",
       "    <tr>\n",
       "      <th>0</th>\n",
       "      <td>19</td>\n",
       "      <td>1715601</td>\n",
       "      <td>2009-01-05 13:00:43</td>\n",
       "    </tr>\n",
       "    <tr>\n",
       "      <th>1</th>\n",
       "      <td>4567</td>\n",
       "      <td>21449</td>\n",
       "      <td>2011-12-23 03:52:33</td>\n",
       "    </tr>\n",
       "    <tr>\n",
       "      <th>2</th>\n",
       "      <td>6830</td>\n",
       "      <td>689911</td>\n",
       "      <td>2013-12-24 12:02:05</td>\n",
       "    </tr>\n",
       "    <tr>\n",
       "      <th>3</th>\n",
       "      <td>8373</td>\n",
       "      <td>14445</td>\n",
       "      <td>2011-05-10 05:41:19</td>\n",
       "    </tr>\n",
       "    <tr>\n",
       "      <th>4</th>\n",
       "      <td>31779</td>\n",
       "      <td>1003</td>\n",
       "      <td>2011-10-03 19:46:00</td>\n",
       "    </tr>\n",
       "    <tr>\n",
       "      <th>...</th>\n",
       "      <td>...</td>\n",
       "      <td>...</td>\n",
       "      <td>...</td>\n",
       "    </tr>\n",
       "    <tr>\n",
       "      <th>2889</th>\n",
       "      <td>206575072</td>\n",
       "      <td>42505408</td>\n",
       "      <td>2021-03-03 10:47:37</td>\n",
       "    </tr>\n",
       "    <tr>\n",
       "      <th>2890</th>\n",
       "      <td>206679205</td>\n",
       "      <td>31181786</td>\n",
       "      <td>2021-03-04 02:45:49</td>\n",
       "    </tr>\n",
       "    <tr>\n",
       "      <th>2891</th>\n",
       "      <td>206799386</td>\n",
       "      <td>46623845</td>\n",
       "      <td>2021-03-04 16:49:39</td>\n",
       "    </tr>\n",
       "    <tr>\n",
       "      <th>2892</th>\n",
       "      <td>206955864</td>\n",
       "      <td>67981142</td>\n",
       "      <td>2021-03-05 12:55:47</td>\n",
       "    </tr>\n",
       "    <tr>\n",
       "      <th>2893</th>\n",
       "      <td>206997704</td>\n",
       "      <td>67993950</td>\n",
       "      <td>2021-03-05 18:06:15</td>\n",
       "    </tr>\n",
       "  </tbody>\n",
       "</table>\n",
       "<p>2894 rows × 3 columns</p>\n",
       "</div>"
      ],
      "text/plain": [
       "        repo_id   user_id           created_at\n",
       "0            19   1715601  2009-01-05 13:00:43\n",
       "1          4567     21449  2011-12-23 03:52:33\n",
       "2          6830    689911  2013-12-24 12:02:05\n",
       "3          8373     14445  2011-05-10 05:41:19\n",
       "4         31779      1003  2011-10-03 19:46:00\n",
       "...         ...       ...                  ...\n",
       "2889  206575072  42505408  2021-03-03 10:47:37\n",
       "2890  206679205  31181786  2021-03-04 02:45:49\n",
       "2891  206799386  46623845  2021-03-04 16:49:39\n",
       "2892  206955864  67981142  2021-03-05 12:55:47\n",
       "2893  206997704  67993950  2021-03-05 18:06:15\n",
       "\n",
       "[2894 rows x 3 columns]"
      ]
     },
     "execution_count": 54,
     "metadata": {},
     "output_type": "execute_result"
    }
   ],
   "source": [
    "df_first_repo_contrib"
   ]
  },
  {
   "cell_type": "code",
   "execution_count": 48,
   "metadata": {},
   "outputs": [
    {
     "name": "stderr",
     "output_type": "stream",
     "text": [
      "/tmp/ipykernel_6005/1494079361.py:1: DeprecationWarning: DataFrameGroupBy.apply operated on the grouping columns. This behavior is deprecated, and in a future version of pandas the grouping columns will be excluded from the operation. Either pass `include_groups=False` to exclude the groupings or explicitly select the grouping columns after groupby to silence this warning.\n",
      "  df_last_repo_contrib = df_project_members.groupby('repo_id').apply(get_max_date_row).reset_index(drop=True)\n"
     ]
    }
   ],
   "source": [
    "df_last_repo_contrib = df_project_members.groupby('repo_id').apply(get_max_date_row).reset_index(drop=True)"
   ]
  },
  {
   "cell_type": "code",
   "execution_count": 68,
   "metadata": {},
   "outputs": [],
   "source": [
    "df_onboard_x_contribs = df_onboardings.merge(df_first_repo_contrib, left_on='repo_id', right_on='repo_id', suffixes=['', '_first_contrib'] )\n",
    "\n",
    "df_onboard_x_contribs = df_onboard_x_contribs.merge(df_last_repo_contrib, left_on='repo_id', right_on='repo_id', suffixes=['', '_last_contrib'] )"
   ]
  },
  {
   "cell_type": "code",
   "execution_count": 69,
   "metadata": {},
   "outputs": [
    {
     "data": {
      "text/html": [
       "<div>\n",
       "<style scoped>\n",
       "    .dataframe tbody tr th:only-of-type {\n",
       "        vertical-align: middle;\n",
       "    }\n",
       "\n",
       "    .dataframe tbody tr th {\n",
       "        vertical-align: top;\n",
       "    }\n",
       "\n",
       "    .dataframe thead th {\n",
       "        text-align: right;\n",
       "    }\n",
       "</style>\n",
       "<table border=\"1\" class=\"dataframe\">\n",
       "  <thead>\n",
       "    <tr style=\"text-align: right;\">\n",
       "      <th></th>\n",
       "      <th>repo_id</th>\n",
       "      <th>user_id</th>\n",
       "      <th>onboarding_date</th>\n",
       "      <th>project_author_id</th>\n",
       "      <th>project_created_at</th>\n",
       "      <th>total_commits</th>\n",
       "      <th>first_onboarding</th>\n",
       "      <th>last_onboarding</th>\n",
       "      <th>first_commit</th>\n",
       "      <th>last_commit</th>\n",
       "      <th>project_language</th>\n",
       "      <th>user_id_first_contrib</th>\n",
       "      <th>created_at</th>\n",
       "      <th>user_id_last_contrib</th>\n",
       "      <th>created_at_last_contrib</th>\n",
       "    </tr>\n",
       "  </thead>\n",
       "  <tbody>\n",
       "    <tr>\n",
       "      <th>0</th>\n",
       "      <td>19</td>\n",
       "      <td>9245591</td>\n",
       "      <td>2020-06-17 19:28:17</td>\n",
       "      <td>78</td>\n",
       "      <td>2009-01-05 14:00:43</td>\n",
       "      <td>NaN</td>\n",
       "      <td>NaN</td>\n",
       "      <td>NaN</td>\n",
       "      <td>NaN</td>\n",
       "      <td>NaN</td>\n",
       "      <td>Objective-C</td>\n",
       "      <td>1715601</td>\n",
       "      <td>2009-01-05 13:00:43</td>\n",
       "      <td>33292409</td>\n",
       "      <td>2020-06-05 14:53:56</td>\n",
       "    </tr>\n",
       "    <tr>\n",
       "      <th>1</th>\n",
       "      <td>19</td>\n",
       "      <td>33292409</td>\n",
       "      <td>2020-06-05 14:53:56</td>\n",
       "      <td>78</td>\n",
       "      <td>2009-01-05 14:00:43</td>\n",
       "      <td>NaN</td>\n",
       "      <td>NaN</td>\n",
       "      <td>NaN</td>\n",
       "      <td>NaN</td>\n",
       "      <td>NaN</td>\n",
       "      <td>Objective-C</td>\n",
       "      <td>1715601</td>\n",
       "      <td>2009-01-05 13:00:43</td>\n",
       "      <td>33292409</td>\n",
       "      <td>2020-06-05 14:53:56</td>\n",
       "    </tr>\n",
       "    <tr>\n",
       "      <th>2</th>\n",
       "      <td>4567</td>\n",
       "      <td>32547120</td>\n",
       "      <td>2020-01-04 17:08:41</td>\n",
       "      <td>21229</td>\n",
       "      <td>2011-12-23 04:52:33</td>\n",
       "      <td>NaN</td>\n",
       "      <td>NaN</td>\n",
       "      <td>NaN</td>\n",
       "      <td>NaN</td>\n",
       "      <td>NaN</td>\n",
       "      <td>JavaScript</td>\n",
       "      <td>21449</td>\n",
       "      <td>2011-12-23 03:52:33</td>\n",
       "      <td>40837416</td>\n",
       "      <td>2020-09-10 01:37:15</td>\n",
       "    </tr>\n",
       "    <tr>\n",
       "      <th>3</th>\n",
       "      <td>6830</td>\n",
       "      <td>44244864</td>\n",
       "      <td>2019-04-19 01:58:41</td>\n",
       "      <td>8978</td>\n",
       "      <td>2012-02-21 19:46:55</td>\n",
       "      <td>NaN</td>\n",
       "      <td>NaN</td>\n",
       "      <td>NaN</td>\n",
       "      <td>NaN</td>\n",
       "      <td>NaN</td>\n",
       "      <td>Scala</td>\n",
       "      <td>689911</td>\n",
       "      <td>2013-12-24 12:02:05</td>\n",
       "      <td>233554</td>\n",
       "      <td>2021-02-26 15:22:04</td>\n",
       "    </tr>\n",
       "    <tr>\n",
       "      <th>4</th>\n",
       "      <td>8373</td>\n",
       "      <td>30552107</td>\n",
       "      <td>2020-06-05 20:09:57</td>\n",
       "      <td>19185</td>\n",
       "      <td>2011-05-10 07:41:19</td>\n",
       "      <td>NaN</td>\n",
       "      <td>NaN</td>\n",
       "      <td>NaN</td>\n",
       "      <td>NaN</td>\n",
       "      <td>NaN</td>\n",
       "      <td>Python</td>\n",
       "      <td>14445</td>\n",
       "      <td>2011-05-10 05:41:19</td>\n",
       "      <td>53925354</td>\n",
       "      <td>2021-02-02 19:09:02</td>\n",
       "    </tr>\n",
       "    <tr>\n",
       "      <th>...</th>\n",
       "      <td>...</td>\n",
       "      <td>...</td>\n",
       "      <td>...</td>\n",
       "      <td>...</td>\n",
       "      <td>...</td>\n",
       "      <td>...</td>\n",
       "      <td>...</td>\n",
       "      <td>...</td>\n",
       "      <td>...</td>\n",
       "      <td>...</td>\n",
       "      <td>...</td>\n",
       "      <td>...</td>\n",
       "      <td>...</td>\n",
       "      <td>...</td>\n",
       "      <td>...</td>\n",
       "    </tr>\n",
       "    <tr>\n",
       "      <th>16626</th>\n",
       "      <td>206997704</td>\n",
       "      <td>66799493</td>\n",
       "      <td>2021-03-05 18:06:24</td>\n",
       "      <td>3749802</td>\n",
       "      <td>2021-03-05 16:49:43</td>\n",
       "      <td>NaN</td>\n",
       "      <td>NaN</td>\n",
       "      <td>NaN</td>\n",
       "      <td>NaN</td>\n",
       "      <td>NaN</td>\n",
       "      <td>C#</td>\n",
       "      <td>67993950</td>\n",
       "      <td>2021-03-05 18:06:15</td>\n",
       "      <td>67982813</td>\n",
       "      <td>2021-03-05 18:40:18</td>\n",
       "    </tr>\n",
       "    <tr>\n",
       "      <th>16627</th>\n",
       "      <td>206997704</td>\n",
       "      <td>66965962</td>\n",
       "      <td>2021-03-05 18:08:01</td>\n",
       "      <td>3749802</td>\n",
       "      <td>2021-03-05 16:49:43</td>\n",
       "      <td>NaN</td>\n",
       "      <td>NaN</td>\n",
       "      <td>NaN</td>\n",
       "      <td>NaN</td>\n",
       "      <td>NaN</td>\n",
       "      <td>C#</td>\n",
       "      <td>67993950</td>\n",
       "      <td>2021-03-05 18:06:15</td>\n",
       "      <td>67982813</td>\n",
       "      <td>2021-03-05 18:40:18</td>\n",
       "    </tr>\n",
       "    <tr>\n",
       "      <th>16628</th>\n",
       "      <td>206997704</td>\n",
       "      <td>66994499</td>\n",
       "      <td>2021-03-05 18:10:13</td>\n",
       "      <td>3749802</td>\n",
       "      <td>2021-03-05 16:49:43</td>\n",
       "      <td>NaN</td>\n",
       "      <td>NaN</td>\n",
       "      <td>NaN</td>\n",
       "      <td>NaN</td>\n",
       "      <td>NaN</td>\n",
       "      <td>C#</td>\n",
       "      <td>67993950</td>\n",
       "      <td>2021-03-05 18:06:15</td>\n",
       "      <td>67982813</td>\n",
       "      <td>2021-03-05 18:40:18</td>\n",
       "    </tr>\n",
       "    <tr>\n",
       "      <th>16629</th>\n",
       "      <td>206997704</td>\n",
       "      <td>67981477</td>\n",
       "      <td>2021-03-05 18:08:24</td>\n",
       "      <td>3749802</td>\n",
       "      <td>2021-03-05 16:49:43</td>\n",
       "      <td>NaN</td>\n",
       "      <td>NaN</td>\n",
       "      <td>NaN</td>\n",
       "      <td>NaN</td>\n",
       "      <td>NaN</td>\n",
       "      <td>C#</td>\n",
       "      <td>67993950</td>\n",
       "      <td>2021-03-05 18:06:15</td>\n",
       "      <td>67982813</td>\n",
       "      <td>2021-03-05 18:40:18</td>\n",
       "    </tr>\n",
       "    <tr>\n",
       "      <th>16630</th>\n",
       "      <td>206997704</td>\n",
       "      <td>67982813</td>\n",
       "      <td>2021-03-05 18:40:18</td>\n",
       "      <td>3749802</td>\n",
       "      <td>2021-03-05 16:49:43</td>\n",
       "      <td>NaN</td>\n",
       "      <td>NaN</td>\n",
       "      <td>NaN</td>\n",
       "      <td>NaN</td>\n",
       "      <td>NaN</td>\n",
       "      <td>C#</td>\n",
       "      <td>67993950</td>\n",
       "      <td>2021-03-05 18:06:15</td>\n",
       "      <td>67982813</td>\n",
       "      <td>2021-03-05 18:40:18</td>\n",
       "    </tr>\n",
       "  </tbody>\n",
       "</table>\n",
       "<p>16631 rows × 15 columns</p>\n",
       "</div>"
      ],
      "text/plain": [
       "         repo_id   user_id      onboarding_date  project_author_id  \\\n",
       "0             19   9245591  2020-06-17 19:28:17                 78   \n",
       "1             19  33292409  2020-06-05 14:53:56                 78   \n",
       "2           4567  32547120  2020-01-04 17:08:41              21229   \n",
       "3           6830  44244864  2019-04-19 01:58:41               8978   \n",
       "4           8373  30552107  2020-06-05 20:09:57              19185   \n",
       "...          ...       ...                  ...                ...   \n",
       "16626  206997704  66799493  2021-03-05 18:06:24            3749802   \n",
       "16627  206997704  66965962  2021-03-05 18:08:01            3749802   \n",
       "16628  206997704  66994499  2021-03-05 18:10:13            3749802   \n",
       "16629  206997704  67981477  2021-03-05 18:08:24            3749802   \n",
       "16630  206997704  67982813  2021-03-05 18:40:18            3749802   \n",
       "\n",
       "        project_created_at  total_commits  first_onboarding  last_onboarding  \\\n",
       "0      2009-01-05 14:00:43            NaN               NaN              NaN   \n",
       "1      2009-01-05 14:00:43            NaN               NaN              NaN   \n",
       "2      2011-12-23 04:52:33            NaN               NaN              NaN   \n",
       "3      2012-02-21 19:46:55            NaN               NaN              NaN   \n",
       "4      2011-05-10 07:41:19            NaN               NaN              NaN   \n",
       "...                    ...            ...               ...              ...   \n",
       "16626  2021-03-05 16:49:43            NaN               NaN              NaN   \n",
       "16627  2021-03-05 16:49:43            NaN               NaN              NaN   \n",
       "16628  2021-03-05 16:49:43            NaN               NaN              NaN   \n",
       "16629  2021-03-05 16:49:43            NaN               NaN              NaN   \n",
       "16630  2021-03-05 16:49:43            NaN               NaN              NaN   \n",
       "\n",
       "       first_commit  last_commit project_language  user_id_first_contrib  \\\n",
       "0               NaN          NaN      Objective-C                1715601   \n",
       "1               NaN          NaN      Objective-C                1715601   \n",
       "2               NaN          NaN       JavaScript                  21449   \n",
       "3               NaN          NaN            Scala                 689911   \n",
       "4               NaN          NaN           Python                  14445   \n",
       "...             ...          ...              ...                    ...   \n",
       "16626           NaN          NaN               C#               67993950   \n",
       "16627           NaN          NaN               C#               67993950   \n",
       "16628           NaN          NaN               C#               67993950   \n",
       "16629           NaN          NaN               C#               67993950   \n",
       "16630           NaN          NaN               C#               67993950   \n",
       "\n",
       "                created_at  user_id_last_contrib created_at_last_contrib  \n",
       "0      2009-01-05 13:00:43              33292409     2020-06-05 14:53:56  \n",
       "1      2009-01-05 13:00:43              33292409     2020-06-05 14:53:56  \n",
       "2      2011-12-23 03:52:33              40837416     2020-09-10 01:37:15  \n",
       "3      2013-12-24 12:02:05                233554     2021-02-26 15:22:04  \n",
       "4      2011-05-10 05:41:19              53925354     2021-02-02 19:09:02  \n",
       "...                    ...                   ...                     ...  \n",
       "16626  2021-03-05 18:06:15              67982813     2021-03-05 18:40:18  \n",
       "16627  2021-03-05 18:06:15              67982813     2021-03-05 18:40:18  \n",
       "16628  2021-03-05 18:06:15              67982813     2021-03-05 18:40:18  \n",
       "16629  2021-03-05 18:06:15              67982813     2021-03-05 18:40:18  \n",
       "16630  2021-03-05 18:06:15              67982813     2021-03-05 18:40:18  \n",
       "\n",
       "[16631 rows x 15 columns]"
      ]
     },
     "execution_count": 69,
     "metadata": {},
     "output_type": "execute_result"
    }
   ],
   "source": [
    "df_onboard_x_contribs"
   ]
  },
  {
   "cell_type": "code",
   "execution_count": 70,
   "metadata": {},
   "outputs": [
    {
     "data": {
      "text/html": [
       "<div>\n",
       "<style scoped>\n",
       "    .dataframe tbody tr th:only-of-type {\n",
       "        vertical-align: middle;\n",
       "    }\n",
       "\n",
       "    .dataframe tbody tr th {\n",
       "        vertical-align: top;\n",
       "    }\n",
       "\n",
       "    .dataframe thead th {\n",
       "        text-align: right;\n",
       "    }\n",
       "</style>\n",
       "<table border=\"1\" class=\"dataframe\">\n",
       "  <thead>\n",
       "    <tr style=\"text-align: right;\">\n",
       "      <th></th>\n",
       "      <th>repo_id</th>\n",
       "      <th>user_id</th>\n",
       "      <th>onboarding_date</th>\n",
       "      <th>project_author_id</th>\n",
       "      <th>project_created_at</th>\n",
       "      <th>total_commits</th>\n",
       "      <th>first_onboarding</th>\n",
       "      <th>last_onboarding</th>\n",
       "      <th>first_commit</th>\n",
       "      <th>last_commit</th>\n",
       "      <th>project_language</th>\n",
       "      <th>first_onboarding_user_id</th>\n",
       "      <th>last_onboarding_user_id</th>\n",
       "    </tr>\n",
       "  </thead>\n",
       "  <tbody>\n",
       "    <tr>\n",
       "      <th>0</th>\n",
       "      <td>19</td>\n",
       "      <td>9245591</td>\n",
       "      <td>2020-06-17 19:28:17</td>\n",
       "      <td>78</td>\n",
       "      <td>2009-01-05 14:00:43</td>\n",
       "      <td>NaN</td>\n",
       "      <td>2009-01-05 13:00:43</td>\n",
       "      <td>2020-06-05 14:53:56</td>\n",
       "      <td>NaN</td>\n",
       "      <td>NaN</td>\n",
       "      <td>Objective-C</td>\n",
       "      <td>1715601</td>\n",
       "      <td>33292409</td>\n",
       "    </tr>\n",
       "    <tr>\n",
       "      <th>1</th>\n",
       "      <td>19</td>\n",
       "      <td>33292409</td>\n",
       "      <td>2020-06-05 14:53:56</td>\n",
       "      <td>78</td>\n",
       "      <td>2009-01-05 14:00:43</td>\n",
       "      <td>NaN</td>\n",
       "      <td>2009-01-05 13:00:43</td>\n",
       "      <td>2020-06-05 14:53:56</td>\n",
       "      <td>NaN</td>\n",
       "      <td>NaN</td>\n",
       "      <td>Objective-C</td>\n",
       "      <td>1715601</td>\n",
       "      <td>33292409</td>\n",
       "    </tr>\n",
       "    <tr>\n",
       "      <th>2</th>\n",
       "      <td>4567</td>\n",
       "      <td>32547120</td>\n",
       "      <td>2020-01-04 17:08:41</td>\n",
       "      <td>21229</td>\n",
       "      <td>2011-12-23 04:52:33</td>\n",
       "      <td>NaN</td>\n",
       "      <td>2011-12-23 03:52:33</td>\n",
       "      <td>2020-09-10 01:37:15</td>\n",
       "      <td>NaN</td>\n",
       "      <td>NaN</td>\n",
       "      <td>JavaScript</td>\n",
       "      <td>21449</td>\n",
       "      <td>40837416</td>\n",
       "    </tr>\n",
       "    <tr>\n",
       "      <th>3</th>\n",
       "      <td>6830</td>\n",
       "      <td>44244864</td>\n",
       "      <td>2019-04-19 01:58:41</td>\n",
       "      <td>8978</td>\n",
       "      <td>2012-02-21 19:46:55</td>\n",
       "      <td>NaN</td>\n",
       "      <td>2013-12-24 12:02:05</td>\n",
       "      <td>2021-02-26 15:22:04</td>\n",
       "      <td>NaN</td>\n",
       "      <td>NaN</td>\n",
       "      <td>Scala</td>\n",
       "      <td>689911</td>\n",
       "      <td>233554</td>\n",
       "    </tr>\n",
       "    <tr>\n",
       "      <th>4</th>\n",
       "      <td>8373</td>\n",
       "      <td>30552107</td>\n",
       "      <td>2020-06-05 20:09:57</td>\n",
       "      <td>19185</td>\n",
       "      <td>2011-05-10 07:41:19</td>\n",
       "      <td>NaN</td>\n",
       "      <td>2011-05-10 05:41:19</td>\n",
       "      <td>2021-02-02 19:09:02</td>\n",
       "      <td>NaN</td>\n",
       "      <td>NaN</td>\n",
       "      <td>Python</td>\n",
       "      <td>14445</td>\n",
       "      <td>53925354</td>\n",
       "    </tr>\n",
       "    <tr>\n",
       "      <th>...</th>\n",
       "      <td>...</td>\n",
       "      <td>...</td>\n",
       "      <td>...</td>\n",
       "      <td>...</td>\n",
       "      <td>...</td>\n",
       "      <td>...</td>\n",
       "      <td>...</td>\n",
       "      <td>...</td>\n",
       "      <td>...</td>\n",
       "      <td>...</td>\n",
       "      <td>...</td>\n",
       "      <td>...</td>\n",
       "      <td>...</td>\n",
       "    </tr>\n",
       "    <tr>\n",
       "      <th>16626</th>\n",
       "      <td>206997704</td>\n",
       "      <td>66799493</td>\n",
       "      <td>2021-03-05 18:06:24</td>\n",
       "      <td>3749802</td>\n",
       "      <td>2021-03-05 16:49:43</td>\n",
       "      <td>NaN</td>\n",
       "      <td>2021-03-05 18:06:15</td>\n",
       "      <td>2021-03-05 18:40:18</td>\n",
       "      <td>NaN</td>\n",
       "      <td>NaN</td>\n",
       "      <td>C#</td>\n",
       "      <td>67993950</td>\n",
       "      <td>67982813</td>\n",
       "    </tr>\n",
       "    <tr>\n",
       "      <th>16627</th>\n",
       "      <td>206997704</td>\n",
       "      <td>66965962</td>\n",
       "      <td>2021-03-05 18:08:01</td>\n",
       "      <td>3749802</td>\n",
       "      <td>2021-03-05 16:49:43</td>\n",
       "      <td>NaN</td>\n",
       "      <td>2021-03-05 18:06:15</td>\n",
       "      <td>2021-03-05 18:40:18</td>\n",
       "      <td>NaN</td>\n",
       "      <td>NaN</td>\n",
       "      <td>C#</td>\n",
       "      <td>67993950</td>\n",
       "      <td>67982813</td>\n",
       "    </tr>\n",
       "    <tr>\n",
       "      <th>16628</th>\n",
       "      <td>206997704</td>\n",
       "      <td>66994499</td>\n",
       "      <td>2021-03-05 18:10:13</td>\n",
       "      <td>3749802</td>\n",
       "      <td>2021-03-05 16:49:43</td>\n",
       "      <td>NaN</td>\n",
       "      <td>2021-03-05 18:06:15</td>\n",
       "      <td>2021-03-05 18:40:18</td>\n",
       "      <td>NaN</td>\n",
       "      <td>NaN</td>\n",
       "      <td>C#</td>\n",
       "      <td>67993950</td>\n",
       "      <td>67982813</td>\n",
       "    </tr>\n",
       "    <tr>\n",
       "      <th>16629</th>\n",
       "      <td>206997704</td>\n",
       "      <td>67981477</td>\n",
       "      <td>2021-03-05 18:08:24</td>\n",
       "      <td>3749802</td>\n",
       "      <td>2021-03-05 16:49:43</td>\n",
       "      <td>NaN</td>\n",
       "      <td>2021-03-05 18:06:15</td>\n",
       "      <td>2021-03-05 18:40:18</td>\n",
       "      <td>NaN</td>\n",
       "      <td>NaN</td>\n",
       "      <td>C#</td>\n",
       "      <td>67993950</td>\n",
       "      <td>67982813</td>\n",
       "    </tr>\n",
       "    <tr>\n",
       "      <th>16630</th>\n",
       "      <td>206997704</td>\n",
       "      <td>67982813</td>\n",
       "      <td>2021-03-05 18:40:18</td>\n",
       "      <td>3749802</td>\n",
       "      <td>2021-03-05 16:49:43</td>\n",
       "      <td>NaN</td>\n",
       "      <td>2021-03-05 18:06:15</td>\n",
       "      <td>2021-03-05 18:40:18</td>\n",
       "      <td>NaN</td>\n",
       "      <td>NaN</td>\n",
       "      <td>C#</td>\n",
       "      <td>67993950</td>\n",
       "      <td>67982813</td>\n",
       "    </tr>\n",
       "  </tbody>\n",
       "</table>\n",
       "<p>16631 rows × 13 columns</p>\n",
       "</div>"
      ],
      "text/plain": [
       "         repo_id   user_id      onboarding_date  project_author_id  \\\n",
       "0             19   9245591  2020-06-17 19:28:17                 78   \n",
       "1             19  33292409  2020-06-05 14:53:56                 78   \n",
       "2           4567  32547120  2020-01-04 17:08:41              21229   \n",
       "3           6830  44244864  2019-04-19 01:58:41               8978   \n",
       "4           8373  30552107  2020-06-05 20:09:57              19185   \n",
       "...          ...       ...                  ...                ...   \n",
       "16626  206997704  66799493  2021-03-05 18:06:24            3749802   \n",
       "16627  206997704  66965962  2021-03-05 18:08:01            3749802   \n",
       "16628  206997704  66994499  2021-03-05 18:10:13            3749802   \n",
       "16629  206997704  67981477  2021-03-05 18:08:24            3749802   \n",
       "16630  206997704  67982813  2021-03-05 18:40:18            3749802   \n",
       "\n",
       "        project_created_at  total_commits     first_onboarding  \\\n",
       "0      2009-01-05 14:00:43            NaN  2009-01-05 13:00:43   \n",
       "1      2009-01-05 14:00:43            NaN  2009-01-05 13:00:43   \n",
       "2      2011-12-23 04:52:33            NaN  2011-12-23 03:52:33   \n",
       "3      2012-02-21 19:46:55            NaN  2013-12-24 12:02:05   \n",
       "4      2011-05-10 07:41:19            NaN  2011-05-10 05:41:19   \n",
       "...                    ...            ...                  ...   \n",
       "16626  2021-03-05 16:49:43            NaN  2021-03-05 18:06:15   \n",
       "16627  2021-03-05 16:49:43            NaN  2021-03-05 18:06:15   \n",
       "16628  2021-03-05 16:49:43            NaN  2021-03-05 18:06:15   \n",
       "16629  2021-03-05 16:49:43            NaN  2021-03-05 18:06:15   \n",
       "16630  2021-03-05 16:49:43            NaN  2021-03-05 18:06:15   \n",
       "\n",
       "           last_onboarding  first_commit  last_commit project_language  \\\n",
       "0      2020-06-05 14:53:56           NaN          NaN      Objective-C   \n",
       "1      2020-06-05 14:53:56           NaN          NaN      Objective-C   \n",
       "2      2020-09-10 01:37:15           NaN          NaN       JavaScript   \n",
       "3      2021-02-26 15:22:04           NaN          NaN            Scala   \n",
       "4      2021-02-02 19:09:02           NaN          NaN           Python   \n",
       "...                    ...           ...          ...              ...   \n",
       "16626  2021-03-05 18:40:18           NaN          NaN               C#   \n",
       "16627  2021-03-05 18:40:18           NaN          NaN               C#   \n",
       "16628  2021-03-05 18:40:18           NaN          NaN               C#   \n",
       "16629  2021-03-05 18:40:18           NaN          NaN               C#   \n",
       "16630  2021-03-05 18:40:18           NaN          NaN               C#   \n",
       "\n",
       "       first_onboarding_user_id  last_onboarding_user_id  \n",
       "0                       1715601                 33292409  \n",
       "1                       1715601                 33292409  \n",
       "2                         21449                 40837416  \n",
       "3                        689911                   233554  \n",
       "4                         14445                 53925354  \n",
       "...                         ...                      ...  \n",
       "16626                  67993950                 67982813  \n",
       "16627                  67993950                 67982813  \n",
       "16628                  67993950                 67982813  \n",
       "16629                  67993950                 67982813  \n",
       "16630                  67993950                 67982813  \n",
       "\n",
       "[16631 rows x 13 columns]"
      ]
     },
     "execution_count": 70,
     "metadata": {},
     "output_type": "execute_result"
    }
   ],
   "source": [
    "df_onboardings['first_onboarding'] = df_onboard_x_contribs['created_at'] \n",
    "df_onboardings['first_onboarding_user_id'] = df_onboard_x_contribs['user_id_first_contrib']\n",
    "\n",
    "df_onboardings['last_onboarding'] = df_onboard_x_contribs['created_at_last_contrib']\n",
    "df_onboardings['last_onboarding_user_id'] = df_onboard_x_contribs['user_id_last_contrib']\n",
    "\n",
    "df_onboardings"
   ]
  },
  {
   "cell_type": "code",
   "execution_count": 71,
   "metadata": {},
   "outputs": [],
   "source": [
    "df_onboardings.to_csv('onboarding.csv')"
   ]
  },
  {
   "cell_type": "markdown",
   "metadata": {},
   "source": [
    "# Calculando a quantidade de commits no projeto no momento de onboarding"
   ]
  },
  {
   "cell_type": "code",
   "execution_count": 4,
   "metadata": {},
   "outputs": [],
   "source": [
    "dump_open_source_files = listdir('open_source')\n"
   ]
  },
  {
   "cell_type": "code",
   "execution_count": 32,
   "metadata": {},
   "outputs": [],
   "source": [
    "df_onboardings = pd.read_csv(\"onboarding.csv\", index_col=0)\n",
    "\n",
    "\n",
    "repos = df_onboardings['repo_id'].unique()"
   ]
  },
  {
   "cell_type": "code",
   "execution_count": 12,
   "metadata": {},
   "outputs": [],
   "source": [
    "repos_commits = {}\n",
    "\n",
    "for repo in repos:\n",
    "        repos_commits[repo] = []\n",
    "\n",
    "repos_commits['failed'] = []\n",
    "\n"
   ]
  },
  {
   "cell_type": "code",
   "execution_count": 15,
   "metadata": {},
   "outputs": [
    {
     "name": "stdout",
     "output_type": "stream",
     "text": [
      "file:  0\n",
      "file:  1\n",
      "file:  2\n",
      "file:  3\n",
      "file:  4\n",
      "file:  5\n",
      "file:  6\n",
      "file:  7\n",
      "file:  8\n",
      "file:  9\n",
      "file:  10\n",
      "file:  11\n",
      "file:  12\n",
      "file:  13\n",
      "file:  14\n",
      "file:  15\n",
      "file:  16\n",
      "file:  17\n",
      "file:  18\n",
      "file:  19\n",
      "file:  20\n",
      "file:  21\n",
      "file:  22\n",
      "file:  23\n",
      "file:  24\n",
      "file:  25\n",
      "file:  26\n",
      "file:  27\n",
      "file:  28\n",
      "file:  29\n",
      "file:  30\n",
      "file:  31\n",
      "file:  32\n",
      "file:  33\n",
      "file:  34\n",
      "file:  35\n",
      "file:  36\n",
      "file:  37\n",
      "file:  38\n",
      "file:  39\n",
      "file:  40\n",
      "file:  41\n",
      "file:  42\n",
      "file:  43\n",
      "file:  44\n",
      "file:  45\n",
      "file:  46\n",
      "file:  47\n",
      "file:  48\n",
      "file:  49\n",
      "file:  50\n",
      "file:  51\n",
      "file:  52\n",
      "file:  53\n",
      "file:  54\n",
      "file:  55\n",
      "file:  56\n",
      "file:  57\n",
      "file:  58\n",
      "file:  59\n",
      "file:  60\n",
      "file:  61\n",
      "file:  62\n",
      "file:  63\n",
      "file:  64\n",
      "file:  65\n",
      "file:  66\n",
      "file:  67\n",
      "file:  68\n",
      "file:  69\n",
      "file:  70\n",
      "file:  71\n",
      "file:  72\n",
      "file:  73\n",
      "file:  74\n",
      "file:  75\n",
      "file:  76\n",
      "file:  77\n",
      "file:  78\n",
      "file:  79\n",
      "file:  80\n",
      "file:  81\n",
      "file:  82\n",
      "file:  83\n",
      "file:  84\n",
      "file:  85\n",
      "file:  86\n",
      "file:  87\n",
      "file:  88\n",
      "file:  89\n",
      "file:  90\n",
      "file:  91\n",
      "file:  92\n",
      "file:  93\n",
      "file:  94\n",
      "file:  95\n",
      "file:  96\n",
      "file:  97\n",
      "file:  98\n",
      "file:  99\n",
      "file:  100\n",
      "file:  101\n",
      "file:  102\n",
      "file:  103\n",
      "file:  104\n",
      "file:  105\n",
      "file:  106\n",
      "file:  107\n",
      "file:  108\n",
      "file:  109\n",
      "file:  110\n",
      "file:  111\n",
      "file:  112\n",
      "file:  113\n",
      "file:  114\n",
      "file:  115\n",
      "file:  116\n",
      "file:  117\n",
      "file:  118\n",
      "file:  119\n",
      "file:  120\n",
      "file:  121\n",
      "file:  122\n",
      "file:  123\n",
      "file:  124\n",
      "file:  125\n",
      "file:  126\n",
      "file:  127\n",
      "file:  128\n",
      "file:  129\n",
      "file:  130\n",
      "file:  131\n",
      "file:  132\n",
      "file:  133\n",
      "file:  134\n",
      "file:  135\n",
      "file:  136\n",
      "file:  137\n",
      "file:  138\n",
      "file:  139\n",
      "file:  140\n",
      "file:  141\n",
      "file:  142\n",
      "file:  143\n",
      "file:  144\n",
      "file:  145\n",
      "file:  146\n",
      "file:  147\n",
      "file:  148\n",
      "file:  149\n",
      "file:  150\n",
      "file:  151\n",
      "file:  152\n",
      "file:  153\n",
      "file:  154\n",
      "file:  155\n",
      "file:  156\n",
      "file:  157\n",
      "file:  158\n",
      "file:  159\n",
      "file:  160\n",
      "file:  161\n",
      "file:  162\n",
      "file:  163\n",
      "file:  164\n",
      "file:  165\n",
      "file:  166\n",
      "file:  167\n",
      "file:  168\n",
      "file:  169\n",
      "file:  170\n",
      "file:  171\n",
      "file:  172\n",
      "file:  173\n",
      "file:  174\n",
      "file:  175\n",
      "file:  176\n",
      "file:  177\n",
      "file:  178\n",
      "file:  179\n",
      "file:  180\n",
      "file:  181\n",
      "file:  182\n",
      "file:  183\n",
      "file:  184\n",
      "file:  185\n",
      "file:  186\n",
      "file:  187\n",
      "file:  188\n",
      "file:  189\n",
      "file:  190\n",
      "file:  191\n",
      "file:  192\n",
      "file:  193\n",
      "file:  194\n",
      "file:  195\n",
      "file:  196\n",
      "file:  197\n",
      "file:  198\n",
      "file:  199\n",
      "file:  200\n",
      "file:  201\n",
      "file:  202\n",
      "file:  203\n",
      "file:  204\n",
      "file:  205\n",
      "file:  206\n",
      "file:  207\n",
      "file:  208\n",
      "file:  209\n",
      "file:  210\n",
      "file:  211\n",
      "file:  212\n",
      "file:  213\n",
      "file:  214\n",
      "file:  215\n",
      "file:  216\n",
      "file:  217\n",
      "file:  218\n",
      "file:  219\n",
      "file:  220\n",
      "file:  221\n",
      "file:  222\n",
      "file:  223\n",
      "file:  224\n",
      "file:  225\n",
      "file:  226\n",
      "file:  227\n",
      "file:  228\n",
      "file:  229\n",
      "file:  230\n",
      "file:  231\n",
      "file:  232\n",
      "file:  233\n",
      "file:  234\n",
      "file:  235\n",
      "file:  236\n",
      "file:  237\n",
      "file:  238\n",
      "file:  239\n",
      "file:  240\n",
      "file:  241\n",
      "file:  242\n",
      "file:  243\n",
      "file:  244\n",
      "file:  245\n",
      "file:  246\n",
      "file:  247\n",
      "file:  248\n",
      "file:  249\n",
      "file:  250\n",
      "file:  251\n",
      "file:  252\n",
      "file:  253\n",
      "file:  254\n",
      "file:  255\n",
      "file:  256\n",
      "file:  257\n",
      "file:  258\n",
      "file:  259\n",
      "file:  260\n",
      "file:  261\n",
      "file:  262\n",
      "file:  263\n",
      "file:  264\n",
      "file:  265\n",
      "file:  266\n",
      "file:  267\n",
      "file:  268\n",
      "file:  269\n",
      "file:  270\n",
      "file:  271\n",
      "file:  272\n",
      "file:  273\n",
      "file:  274\n",
      "file:  275\n",
      "file:  276\n",
      "file:  277\n",
      "file:  278\n",
      "file:  279\n",
      "file:  280\n",
      "file:  281\n",
      "file:  282\n",
      "file:  283\n",
      "file:  284\n",
      "file:  285\n",
      "file:  286\n",
      "file:  287\n",
      "file:  288\n",
      "file:  289\n",
      "file:  290\n",
      "file:  291\n",
      "file:  292\n",
      "file:  293\n",
      "file:  294\n",
      "file:  295\n",
      "file:  296\n",
      "file:  297\n",
      "file:  298\n",
      "file:  299\n",
      "file:  300\n",
      "file:  301\n",
      "file:  302\n",
      "file:  303\n",
      "file:  304\n",
      "file:  305\n",
      "file:  306\n",
      "file:  307\n",
      "file:  308\n",
      "file:  309\n",
      "file:  310\n",
      "file:  311\n",
      "file:  312\n",
      "file:  313\n",
      "file:  314\n",
      "file:  315\n",
      "file:  316\n",
      "file:  317\n",
      "file:  318\n",
      "file:  319\n",
      "file:  320\n",
      "file:  321\n",
      "file:  322\n",
      "file:  323\n",
      "file:  324\n",
      "file:  325\n",
      "file:  326\n",
      "file:  327\n",
      "file:  328\n",
      "file:  329\n",
      "file:  330\n",
      "file:  331\n",
      "file:  332\n",
      "file:  333\n",
      "file:  334\n",
      "file:  335\n",
      "file:  336\n",
      "file:  337\n",
      "file:  338\n",
      "file:  339\n",
      "file:  340\n",
      "file:  341\n",
      "file:  342\n",
      "file:  343\n",
      "file:  344\n",
      "file:  345\n",
      "file:  346\n",
      "file:  347\n",
      "file:  348\n",
      "file:  349\n",
      "file:  350\n",
      "file:  351\n",
      "file:  352\n",
      "file:  353\n",
      "file:  354\n",
      "file:  355\n",
      "file:  356\n",
      "file:  357\n",
      "file:  358\n",
      "file:  359\n",
      "file:  360\n",
      "file:  361\n",
      "file:  362\n",
      "file:  363\n",
      "file:  364\n",
      "file:  365\n",
      "file:  366\n",
      "file:  367\n",
      "file:  368\n",
      "file:  369\n",
      "file:  370\n",
      "file:  371\n",
      "file:  372\n",
      "file:  373\n",
      "file:  374\n",
      "file:  375\n",
      "file:  376\n",
      "file:  377\n",
      "file:  378\n",
      "file:  379\n",
      "file:  380\n",
      "file:  381\n",
      "file:  382\n",
      "file:  383\n",
      "file:  384\n",
      "file:  385\n",
      "file:  386\n",
      "file:  387\n",
      "file:  388\n",
      "file:  389\n",
      "file:  390\n",
      "file:  391\n",
      "file:  392\n",
      "file:  393\n",
      "file:  394\n",
      "file:  395\n",
      "file:  396\n",
      "file:  397\n",
      "file:  398\n",
      "file:  399\n",
      "file:  400\n",
      "file:  401\n",
      "file:  402\n",
      "file:  403\n",
      "file:  404\n",
      "file:  405\n",
      "file:  406\n",
      "file:  407\n",
      "file:  408\n",
      "file:  409\n"
     ]
    }
   ],
   "source": [
    "for i, file in enumerate(dump_open_source_files):\n",
    "        print(\"file: \", i)\n",
    "        chunk = pd.read_csv(join('open_source', file))\n",
    "        chunk_repos = chunk['project_id'].unique()\n",
    "        for repo in chunk_repos:\n",
    "                try:\n",
    "                        repos_commits[repo].append(chunk[chunk['project_id'] == repo])\n",
    "                except:\n",
    "                        repos_commits['failed'].append(repo)"
   ]
  },
  {
   "cell_type": "code",
   "execution_count": null,
   "metadata": {},
   "outputs": [],
   "source": [
    "for repo in repos_commits:\n",
    "    df_repo_commits = pd.concat(repos_commits[repo])\n",
    "    if repo != 'failed':\n",
    "        df_repo_commits.to_csv(join('repos_commits', 'repos_commits_{0}.csv'.format(repo)))"
   ]
  },
  {
   "cell_type": "code",
   "execution_count": 46,
   "metadata": {},
   "outputs": [],
   "source": [
    "total_commits = []\n",
    "first_commits = []\n",
    "last_commits = []\n",
    "\n",
    "def get_total_commits(row):\n",
    "    repo_id = row['repo_id']\n",
    "    date = row['onboarding_date']\n",
    "\n",
    "    project_commits = pd.read_csv(join('repos_commits', 'repos_commits_{0}.csv'.format(repo_id)))\n",
    "    project_commits['created_at'] = pd.to_datetime(project_commits['created_at'])\n",
    "\n",
    "    project_commits = project_commits.loc[project_commits['created_at'] < pd.to_datetime(date)]\n",
    "\n",
    "    total_commits.append(project_commits.shape[0])\n",
    "    first_commits.append(project_commits['created_at'].min())\n",
    "    last_commits.append(project_commits['created_at'].max())"
   ]
  },
  {
   "cell_type": "code",
   "execution_count": 47,
   "metadata": {},
   "outputs": [
    {
     "name": "stderr",
     "output_type": "stream",
     "text": [
      "/tmp/ipykernel_7002/503111727.py:10: UserWarning: Could not infer format, so each element will be parsed individually, falling back to `dateutil`. To ensure parsing is consistent and as-expected, please specify a format.\n",
      "  project_commits['created_at'] = pd.to_datetime(project_commits['created_at'])\n",
      "/tmp/ipykernel_7002/503111727.py:10: UserWarning: Could not infer format, so each element will be parsed individually, falling back to `dateutil`. To ensure parsing is consistent and as-expected, please specify a format.\n",
      "  project_commits['created_at'] = pd.to_datetime(project_commits['created_at'])\n",
      "/tmp/ipykernel_7002/503111727.py:10: UserWarning: Could not infer format, so each element will be parsed individually, falling back to `dateutil`. To ensure parsing is consistent and as-expected, please specify a format.\n",
      "  project_commits['created_at'] = pd.to_datetime(project_commits['created_at'])\n",
      "/tmp/ipykernel_7002/503111727.py:10: UserWarning: Could not infer format, so each element will be parsed individually, falling back to `dateutil`. To ensure parsing is consistent and as-expected, please specify a format.\n",
      "  project_commits['created_at'] = pd.to_datetime(project_commits['created_at'])\n",
      "/tmp/ipykernel_7002/503111727.py:10: UserWarning: Could not infer format, so each element will be parsed individually, falling back to `dateutil`. To ensure parsing is consistent and as-expected, please specify a format.\n",
      "  project_commits['created_at'] = pd.to_datetime(project_commits['created_at'])\n",
      "/tmp/ipykernel_7002/503111727.py:10: UserWarning: Could not infer format, so each element will be parsed individually, falling back to `dateutil`. To ensure parsing is consistent and as-expected, please specify a format.\n",
      "  project_commits['created_at'] = pd.to_datetime(project_commits['created_at'])\n"
     ]
    }
   ],
   "source": [
    "\n",
    "df_onboardings.apply(get_total_commits, axis=1)   \n",
    "\n",
    "df_onboardings['total_commits'] = total_commits\n",
    "df_onboardings['first_commit'] = first_commits\n",
    "df_onboardings['last_commit'] = last_commits"
   ]
  },
  {
   "cell_type": "code",
   "execution_count": 50,
   "metadata": {},
   "outputs": [],
   "source": [
    "df_onboardings.to_csv('onboarding.csv')"
   ]
  }
 ],
 "metadata": {
  "kernelspec": {
   "display_name": "Python 3",
   "language": "python",
   "name": "python3"
  },
  "language_info": {
   "codemirror_mode": {
    "name": "ipython",
    "version": 3
   },
   "file_extension": ".py",
   "mimetype": "text/x-python",
   "name": "python",
   "nbconvert_exporter": "python",
   "pygments_lexer": "ipython3",
   "version": "3.10.12"
  }
 },
 "nbformat": 4,
 "nbformat_minor": 2
}

{
 "cells": [
  {
   "cell_type": "markdown",
   "metadata": {},
   "source": [
    "Testando se o ambiente está funcionando"
   ]
  },
  {
   "cell_type": "code",
   "execution_count": 4,
   "metadata": {},
   "outputs": [
    {
     "name": "stdout",
     "output_type": "stream",
     "text": [
      "teste\n"
     ]
    }
   ],
   "source": [
    "print('teste')"
   ]
  },
  {
   "cell_type": "markdown",
   "metadata": {},
   "source": [
    "Importando bibliotecas para explorar os diretórios do computador"
   ]
  },
  {
   "cell_type": "code",
   "execution_count": 5,
   "metadata": {},
   "outputs": [],
   "source": [
    "from os import listdir\n",
    "from os.path import isfile, join"
   ]
  },
  {
   "cell_type": "markdown",
   "metadata": {},
   "source": [
    "Verificando todos os arquivos obtidos da fonta de dados"
   ]
  },
  {
   "cell_type": "code",
   "execution_count": 6,
   "metadata": {},
   "outputs": [],
   "source": [
    "path = \"E://dump\"\n",
    "\n",
    "dump_files = listdir(path)"
   ]
  },
  {
   "cell_type": "code",
   "execution_count": 7,
   "metadata": {},
   "outputs": [],
   "source": [
    "import pandas as pd"
   ]
  },
  {
   "cell_type": "markdown",
   "metadata": {},
   "source": [
    "Tendo certeza que é possível ler os dados do GHtorrent."
   ]
  },
  {
   "cell_type": "code",
   "execution_count": 8,
   "metadata": {},
   "outputs": [],
   "source": [
    "#pd.read_csv(join(path, 'project_languages.csv'))"
   ]
  },
  {
   "cell_type": "markdown",
   "metadata": {},
   "source": [
    "Acredito que será possível partir dos pullrequest para observar quais repositórios possuem contribuições ou não. Além disso, após pesquisar (https://levelup.gitconnected.com/how-to-mine-github-data-in-2022-e9c70b3f61d3) parece que os dados de 2015 possuem uma estrutura diferente. Então irei tentar filtrar eles fora do meu dataset"
   ]
  },
  {
   "cell_type": "code",
   "execution_count": 9,
   "metadata": {},
   "outputs": [],
   "source": [
    "#df_pullrequests = pd.read_csv(join(path, 'pull_requests.csv'))"
   ]
  },
  {
   "cell_type": "code",
   "execution_count": 10,
   "metadata": {},
   "outputs": [],
   "source": [
    "#df_pullrequests"
   ]
  },
  {
   "cell_type": "markdown",
   "metadata": {},
   "source": [
    "Um artigo que mostra a estrutura dos arquivos do GHtorrent https://gousios.org/pub/ghtorrent-dataset-toolsuite.pdf\n",
    "misturando com esse aqui também https://github.com/ghtorrent/ghtorrent.org/blob/master/files/schema.pdf\n",
    "Então irei adicionar o nome nas colunas, acabei retirando a coluna pullrequest_id pois ela não fazia sentido no contexto"
   ]
  },
  {
   "cell_type": "code",
   "execution_count": 11,
   "metadata": {},
   "outputs": [],
   "source": [
    "#df_pullrequests.columns = [\"id\", \"head_repo_id\", \"base_repo_id\", \"head_commit_id\", \"base_commit_id\", \"intra_branch_id\",\"merged\"]"
   ]
  },
  {
   "cell_type": "markdown",
   "metadata": {},
   "source": [
    "Como os pull requests não possuem data de criação tentarei filtrar através dos commits que eles estão ligados."
   ]
  },
  {
   "cell_type": "code",
   "execution_count": 12,
   "metadata": {},
   "outputs": [],
   "source": [
    "# # Função para calcular o número total de chunks\n",
    "# def get_total_chunks(filename, chunksize):\n",
    "#     # Contar o número total de linhas no arquivo\n",
    "#     total_lines = sum(1 for _ in open(filename)) - 1  # Subtrai 1 por causa do cabeçalho\n",
    "#     # Calcular o número total de chunks\n",
    "#     total_chunks = (total_lines // chunksize) + (1 if total_lines % chunksize != 0 else 0)\n",
    "#     return total_chunks\n",
    "\n",
    "# # Exemplo de uso\n",
    "# filename = join(path, 'commits.csv')\n",
    "# chunksize = 5000000\n",
    "# total_chunks = get_total_chunks(filename, chunksize)\n",
    "# print(f\"Total de chunks: {total_chunks}\")"
   ]
  },
  {
   "cell_type": "code",
   "execution_count": 13,
   "metadata": {},
   "outputs": [],
   "source": [
    "#df_commits_19 = pd.DataFrame({},columns=[\"id\", \"sha\", \"author_id\", \"commiter_id\", \"project_id\", \"created_at\"])\n",
    "\n"
   ]
  },
  {
   "cell_type": "code",
   "execution_count": 14,
   "metadata": {},
   "outputs": [],
   "source": [
    "#def checkDate(df):\n",
    "#   return pd.to_datetime(df.iloc[0]['created_at']) > pd.to_datetime('2019-01-01') or pd.to_datetime(df.iloc[-1]['created_at']) > pd.to_datetime('2019-01-01')\n",
    "\n",
    "\n"
   ]
  },
  {
   "cell_type": "code",
   "execution_count": 15,
   "metadata": {},
   "outputs": [],
   "source": [
    "# for chunk in df_commits:\n",
    "#     chunk.map(lambda row: chechRowDate(row))"
   ]
  },
  {
   "cell_type": "code",
   "execution_count": 16,
   "metadata": {},
   "outputs": [],
   "source": [
    "# i=0\n",
    "\n",
    "# for chunk in df_commits:\n",
    "#     if checkDate(chunk):\n",
    "#         chunk.to_csv(f'E:/dump/commits_greater_than_2k19_{i}')\n",
    "\n",
    "#     i += 1"
   ]
  },
  {
   "cell_type": "markdown",
   "metadata": {},
   "source": [
    "Devido a grande quantidade de commits, não foi possível os utilizar como filtro de projetos open-source. Nesse caso, iremos utilizar a relação project_members para encontrar quais projetos são relevantes, ou seja, que possuem contribuintes além do dono."
   ]
  },
  {
   "cell_type": "code",
   "execution_count": 17,
   "metadata": {},
   "outputs": [],
   "source": [
    "df_project_members = pd.read_csv(join(path, 'project_members.csv'), names=[\"repo_id\", \"user_id\", \"created_at\", \"ext_ref_id\"])"
   ]
  },
  {
   "cell_type": "code",
   "execution_count": 18,
   "metadata": {},
   "outputs": [
    {
     "data": {
      "text/html": [
       "<div>\n",
       "<style scoped>\n",
       "    .dataframe tbody tr th:only-of-type {\n",
       "        vertical-align: middle;\n",
       "    }\n",
       "\n",
       "    .dataframe tbody tr th {\n",
       "        vertical-align: top;\n",
       "    }\n",
       "\n",
       "    .dataframe thead th {\n",
       "        text-align: right;\n",
       "    }\n",
       "</style>\n",
       "<table border=\"1\" class=\"dataframe\">\n",
       "  <thead>\n",
       "    <tr style=\"text-align: right;\">\n",
       "      <th></th>\n",
       "      <th>repo_id</th>\n",
       "      <th>user_id</th>\n",
       "      <th>created_at</th>\n",
       "      <th>ext_ref_id</th>\n",
       "    </tr>\n",
       "  </thead>\n",
       "  <tbody>\n",
       "    <tr>\n",
       "      <th>0</th>\n",
       "      <td>1</td>\n",
       "      <td>1</td>\n",
       "      <td>2009-12-08 10:17:27</td>\n",
       "      <td>NaN</td>\n",
       "    </tr>\n",
       "    <tr>\n",
       "      <th>1</th>\n",
       "      <td>1</td>\n",
       "      <td>2</td>\n",
       "      <td>2009-12-08 10:17:27</td>\n",
       "      <td>NaN</td>\n",
       "    </tr>\n",
       "    <tr>\n",
       "      <th>2</th>\n",
       "      <td>1</td>\n",
       "      <td>4</td>\n",
       "      <td>2009-12-08 10:17:27</td>\n",
       "      <td>NaN</td>\n",
       "    </tr>\n",
       "    <tr>\n",
       "      <th>3</th>\n",
       "      <td>3</td>\n",
       "      <td>24</td>\n",
       "      <td>2011-02-19 01:58:42</td>\n",
       "      <td>NaN</td>\n",
       "    </tr>\n",
       "    <tr>\n",
       "      <th>4</th>\n",
       "      <td>3</td>\n",
       "      <td>5465</td>\n",
       "      <td>2011-02-19 01:58:42</td>\n",
       "      <td>NaN</td>\n",
       "    </tr>\n",
       "    <tr>\n",
       "      <th>...</th>\n",
       "      <td>...</td>\n",
       "      <td>...</td>\n",
       "      <td>...</td>\n",
       "      <td>...</td>\n",
       "    </tr>\n",
       "    <tr>\n",
       "      <th>15525047</th>\n",
       "      <td>207191305</td>\n",
       "      <td>221488</td>\n",
       "      <td>2021-03-06 22:46:40</td>\n",
       "      <td>NaN</td>\n",
       "    </tr>\n",
       "    <tr>\n",
       "      <th>15525048</th>\n",
       "      <td>207191367</td>\n",
       "      <td>54196484</td>\n",
       "      <td>2021-03-06 22:51:54</td>\n",
       "      <td>NaN</td>\n",
       "    </tr>\n",
       "    <tr>\n",
       "      <th>15525049</th>\n",
       "      <td>207191455</td>\n",
       "      <td>54204581</td>\n",
       "      <td>2021-03-06 22:50:39</td>\n",
       "      <td>NaN</td>\n",
       "    </tr>\n",
       "    <tr>\n",
       "      <th>15525050</th>\n",
       "      <td>207191498</td>\n",
       "      <td>3518100</td>\n",
       "      <td>2021-03-06 22:45:27</td>\n",
       "      <td>NaN</td>\n",
       "    </tr>\n",
       "    <tr>\n",
       "      <th>15525051</th>\n",
       "      <td>207192080</td>\n",
       "      <td>56706217</td>\n",
       "      <td>2021-03-06 22:55:19</td>\n",
       "      <td>NaN</td>\n",
       "    </tr>\n",
       "  </tbody>\n",
       "</table>\n",
       "<p>15525052 rows × 4 columns</p>\n",
       "</div>"
      ],
      "text/plain": [
       "            repo_id   user_id           created_at  ext_ref_id\n",
       "0                 1         1  2009-12-08 10:17:27         NaN\n",
       "1                 1         2  2009-12-08 10:17:27         NaN\n",
       "2                 1         4  2009-12-08 10:17:27         NaN\n",
       "3                 3        24  2011-02-19 01:58:42         NaN\n",
       "4                 3      5465  2011-02-19 01:58:42         NaN\n",
       "...             ...       ...                  ...         ...\n",
       "15525047  207191305    221488  2021-03-06 22:46:40         NaN\n",
       "15525048  207191367  54196484  2021-03-06 22:51:54         NaN\n",
       "15525049  207191455  54204581  2021-03-06 22:50:39         NaN\n",
       "15525050  207191498   3518100  2021-03-06 22:45:27         NaN\n",
       "15525051  207192080  56706217  2021-03-06 22:55:19         NaN\n",
       "\n",
       "[15525052 rows x 4 columns]"
      ]
     },
     "execution_count": 18,
     "metadata": {},
     "output_type": "execute_result"
    }
   ],
   "source": [
    "df_project_members"
   ]
  },
  {
   "cell_type": "code",
   "execution_count": 19,
   "metadata": {},
   "outputs": [],
   "source": [
    "df_count_members = df_project_members.groupby(\"repo_id\", as_index=False)[\"user_id\"].count()"
   ]
  },
  {
   "cell_type": "code",
   "execution_count": 18,
   "metadata": {},
   "outputs": [
    {
     "data": {
      "text/html": [
       "<div>\n",
       "<style scoped>\n",
       "    .dataframe tbody tr th:only-of-type {\n",
       "        vertical-align: middle;\n",
       "    }\n",
       "\n",
       "    .dataframe tbody tr th {\n",
       "        vertical-align: top;\n",
       "    }\n",
       "\n",
       "    .dataframe thead th {\n",
       "        text-align: right;\n",
       "    }\n",
       "</style>\n",
       "<table border=\"1\" class=\"dataframe\">\n",
       "  <thead>\n",
       "    <tr style=\"text-align: right;\">\n",
       "      <th></th>\n",
       "      <th>repo_id</th>\n",
       "      <th>user_id</th>\n",
       "    </tr>\n",
       "  </thead>\n",
       "  <tbody>\n",
       "    <tr>\n",
       "      <th>0</th>\n",
       "      <td>1</td>\n",
       "      <td>3</td>\n",
       "    </tr>\n",
       "    <tr>\n",
       "      <th>1</th>\n",
       "      <td>3</td>\n",
       "      <td>19</td>\n",
       "    </tr>\n",
       "    <tr>\n",
       "      <th>2</th>\n",
       "      <td>5</td>\n",
       "      <td>1</td>\n",
       "    </tr>\n",
       "    <tr>\n",
       "      <th>3</th>\n",
       "      <td>6</td>\n",
       "      <td>6</td>\n",
       "    </tr>\n",
       "    <tr>\n",
       "      <th>4</th>\n",
       "      <td>8</td>\n",
       "      <td>16</td>\n",
       "    </tr>\n",
       "    <tr>\n",
       "      <th>...</th>\n",
       "      <td>...</td>\n",
       "      <td>...</td>\n",
       "    </tr>\n",
       "    <tr>\n",
       "      <th>9549778</th>\n",
       "      <td>207191305</td>\n",
       "      <td>1</td>\n",
       "    </tr>\n",
       "    <tr>\n",
       "      <th>9549779</th>\n",
       "      <td>207191367</td>\n",
       "      <td>1</td>\n",
       "    </tr>\n",
       "    <tr>\n",
       "      <th>9549780</th>\n",
       "      <td>207191455</td>\n",
       "      <td>1</td>\n",
       "    </tr>\n",
       "    <tr>\n",
       "      <th>9549781</th>\n",
       "      <td>207191498</td>\n",
       "      <td>1</td>\n",
       "    </tr>\n",
       "    <tr>\n",
       "      <th>9549782</th>\n",
       "      <td>207192080</td>\n",
       "      <td>1</td>\n",
       "    </tr>\n",
       "  </tbody>\n",
       "</table>\n",
       "<p>9549783 rows × 2 columns</p>\n",
       "</div>"
      ],
      "text/plain": [
       "           repo_id  user_id\n",
       "0                1        3\n",
       "1                3       19\n",
       "2                5        1\n",
       "3                6        6\n",
       "4                8       16\n",
       "...            ...      ...\n",
       "9549778  207191305        1\n",
       "9549779  207191367        1\n",
       "9549780  207191455        1\n",
       "9549781  207191498        1\n",
       "9549782  207192080        1\n",
       "\n",
       "[9549783 rows x 2 columns]"
      ]
     },
     "execution_count": 18,
     "metadata": {},
     "output_type": "execute_result"
    }
   ],
   "source": [
    "df_count_members"
   ]
  },
  {
   "cell_type": "code",
   "execution_count": 19,
   "metadata": {},
   "outputs": [],
   "source": [
    "df_open_source_members = df_count_members[df_count_members[\"user_id\"]>10]"
   ]
  },
  {
   "cell_type": "code",
   "execution_count": 20,
   "metadata": {},
   "outputs": [
    {
     "data": {
      "text/html": [
       "<div>\n",
       "<style scoped>\n",
       "    .dataframe tbody tr th:only-of-type {\n",
       "        vertical-align: middle;\n",
       "    }\n",
       "\n",
       "    .dataframe tbody tr th {\n",
       "        vertical-align: top;\n",
       "    }\n",
       "\n",
       "    .dataframe thead th {\n",
       "        text-align: right;\n",
       "    }\n",
       "</style>\n",
       "<table border=\"1\" class=\"dataframe\">\n",
       "  <thead>\n",
       "    <tr style=\"text-align: right;\">\n",
       "      <th></th>\n",
       "      <th>repo_id</th>\n",
       "      <th>user_id</th>\n",
       "    </tr>\n",
       "  </thead>\n",
       "  <tbody>\n",
       "    <tr>\n",
       "      <th>1</th>\n",
       "      <td>3</td>\n",
       "      <td>19</td>\n",
       "    </tr>\n",
       "    <tr>\n",
       "      <th>4</th>\n",
       "      <td>8</td>\n",
       "      <td>16</td>\n",
       "    </tr>\n",
       "    <tr>\n",
       "      <th>14</th>\n",
       "      <td>19</td>\n",
       "      <td>14</td>\n",
       "    </tr>\n",
       "    <tr>\n",
       "      <th>26</th>\n",
       "      <td>34</td>\n",
       "      <td>38</td>\n",
       "    </tr>\n",
       "    <tr>\n",
       "      <th>27</th>\n",
       "      <td>37</td>\n",
       "      <td>42</td>\n",
       "    </tr>\n",
       "    <tr>\n",
       "      <th>...</th>\n",
       "      <td>...</td>\n",
       "      <td>...</td>\n",
       "    </tr>\n",
       "    <tr>\n",
       "      <th>9544854</th>\n",
       "      <td>206859445</td>\n",
       "      <td>12</td>\n",
       "    </tr>\n",
       "    <tr>\n",
       "      <th>9545989</th>\n",
       "      <td>206918002</td>\n",
       "      <td>12</td>\n",
       "    </tr>\n",
       "    <tr>\n",
       "      <th>9546379</th>\n",
       "      <td>206955864</td>\n",
       "      <td>17</td>\n",
       "    </tr>\n",
       "    <tr>\n",
       "      <th>9547045</th>\n",
       "      <td>206997704</td>\n",
       "      <td>19</td>\n",
       "    </tr>\n",
       "    <tr>\n",
       "      <th>9549231</th>\n",
       "      <td>207159748</td>\n",
       "      <td>27</td>\n",
       "    </tr>\n",
       "  </tbody>\n",
       "</table>\n",
       "<p>57075 rows × 2 columns</p>\n",
       "</div>"
      ],
      "text/plain": [
       "           repo_id  user_id\n",
       "1                3       19\n",
       "4                8       16\n",
       "14              19       14\n",
       "26              34       38\n",
       "27              37       42\n",
       "...            ...      ...\n",
       "9544854  206859445       12\n",
       "9545989  206918002       12\n",
       "9546379  206955864       17\n",
       "9547045  206997704       19\n",
       "9549231  207159748       27\n",
       "\n",
       "[57075 rows x 2 columns]"
      ]
     },
     "execution_count": 20,
     "metadata": {},
     "output_type": "execute_result"
    }
   ],
   "source": [
    "df_open_source_members"
   ]
  },
  {
   "cell_type": "markdown",
   "metadata": {},
   "source": [
    "Devivo a datação dos dados iremos filtrar somente os membros a partir de 2019"
   ]
  },
  {
   "cell_type": "code",
   "execution_count": 24,
   "metadata": {},
   "outputs": [],
   "source": [
    "df_project_members = df_project_members.loc[\n",
    "    (pd.to_datetime(df_project_members['created_at']) > pd.to_datetime(\"01-01-2019\")) & \n",
    "    (df_project_members['repo_id'].isin(df_open_source_members['repo_id']))\n",
    "    ]"
   ]
  },
  {
   "cell_type": "code",
   "execution_count": 25,
   "metadata": {},
   "outputs": [
    {
     "data": {
      "text/html": [
       "<div>\n",
       "<style scoped>\n",
       "    .dataframe tbody tr th:only-of-type {\n",
       "        vertical-align: middle;\n",
       "    }\n",
       "\n",
       "    .dataframe tbody tr th {\n",
       "        vertical-align: top;\n",
       "    }\n",
       "\n",
       "    .dataframe thead th {\n",
       "        text-align: right;\n",
       "    }\n",
       "</style>\n",
       "<table border=\"1\" class=\"dataframe\">\n",
       "  <thead>\n",
       "    <tr style=\"text-align: right;\">\n",
       "      <th></th>\n",
       "      <th>repo_id</th>\n",
       "      <th>user_id</th>\n",
       "      <th>created_at</th>\n",
       "      <th>ext_ref_id</th>\n",
       "    </tr>\n",
       "  </thead>\n",
       "  <tbody>\n",
       "    <tr>\n",
       "      <th>66</th>\n",
       "      <td>19</td>\n",
       "      <td>9245591</td>\n",
       "      <td>2020-06-17 19:28:17</td>\n",
       "      <td>NaN</td>\n",
       "    </tr>\n",
       "    <tr>\n",
       "      <th>68</th>\n",
       "      <td>19</td>\n",
       "      <td>33292409</td>\n",
       "      <td>2020-06-05 14:53:56</td>\n",
       "      <td>NaN</td>\n",
       "    </tr>\n",
       "    <tr>\n",
       "      <th>1475</th>\n",
       "      <td>346</td>\n",
       "      <td>32145570</td>\n",
       "      <td>2019-01-29 14:55:47</td>\n",
       "      <td>NaN</td>\n",
       "    </tr>\n",
       "    <tr>\n",
       "      <th>2199</th>\n",
       "      <td>499</td>\n",
       "      <td>87499</td>\n",
       "      <td>2019-01-10 18:12:44</td>\n",
       "      <td>NaN</td>\n",
       "    </tr>\n",
       "    <tr>\n",
       "      <th>2201</th>\n",
       "      <td>499</td>\n",
       "      <td>249763</td>\n",
       "      <td>2019-02-27 17:41:17</td>\n",
       "      <td>NaN</td>\n",
       "    </tr>\n",
       "    <tr>\n",
       "      <th>...</th>\n",
       "      <td>...</td>\n",
       "      <td>...</td>\n",
       "      <td>...</td>\n",
       "      <td>...</td>\n",
       "    </tr>\n",
       "    <tr>\n",
       "      <th>15524292</th>\n",
       "      <td>207159748</td>\n",
       "      <td>61113108</td>\n",
       "      <td>2021-03-06 17:14:58</td>\n",
       "      <td>NaN</td>\n",
       "    </tr>\n",
       "    <tr>\n",
       "      <th>15524293</th>\n",
       "      <td>207159748</td>\n",
       "      <td>61908309</td>\n",
       "      <td>2021-03-06 17:13:48</td>\n",
       "      <td>NaN</td>\n",
       "    </tr>\n",
       "    <tr>\n",
       "      <th>15524294</th>\n",
       "      <td>207159748</td>\n",
       "      <td>68016435</td>\n",
       "      <td>2021-03-06 16:52:38</td>\n",
       "      <td>NaN</td>\n",
       "    </tr>\n",
       "    <tr>\n",
       "      <th>15524295</th>\n",
       "      <td>207159748</td>\n",
       "      <td>68016479</td>\n",
       "      <td>2021-03-06 16:54:11</td>\n",
       "      <td>NaN</td>\n",
       "    </tr>\n",
       "    <tr>\n",
       "      <th>15524296</th>\n",
       "      <td>207159748</td>\n",
       "      <td>68016916</td>\n",
       "      <td>2021-03-06 17:13:48</td>\n",
       "      <td>NaN</td>\n",
       "    </tr>\n",
       "  </tbody>\n",
       "</table>\n",
       "<p>439082 rows × 4 columns</p>\n",
       "</div>"
      ],
      "text/plain": [
       "            repo_id   user_id           created_at  ext_ref_id\n",
       "66               19   9245591  2020-06-17 19:28:17         NaN\n",
       "68               19  33292409  2020-06-05 14:53:56         NaN\n",
       "1475            346  32145570  2019-01-29 14:55:47         NaN\n",
       "2199            499     87499  2019-01-10 18:12:44         NaN\n",
       "2201            499    249763  2019-02-27 17:41:17         NaN\n",
       "...             ...       ...                  ...         ...\n",
       "15524292  207159748  61113108  2021-03-06 17:14:58         NaN\n",
       "15524293  207159748  61908309  2021-03-06 17:13:48         NaN\n",
       "15524294  207159748  68016435  2021-03-06 16:52:38         NaN\n",
       "15524295  207159748  68016479  2021-03-06 16:54:11         NaN\n",
       "15524296  207159748  68016916  2021-03-06 17:13:48         NaN\n",
       "\n",
       "[439082 rows x 4 columns]"
      ]
     },
     "execution_count": 25,
     "metadata": {},
     "output_type": "execute_result"
    }
   ],
   "source": [
    "df_project_members"
   ]
  },
  {
   "cell_type": "markdown",
   "metadata": {},
   "source": [
    "A partir do estudo Recommending GitHub Projects for Developer Onboarding podemos extrair alguns atributos a serem extraídos do dataset para que seja estudado o quão receptivo um repositório é, são eles:\n",
    "\n",
    "- Crescimento do Projeto: Quantidade de commits do projeto no momento de iniciação\n",
    "- Data de criação do projeto: Projetos mais novos tendem a atrair mais desenvolvedores\n",
    "- Momento de primeira contribuição: quando o projeto começa a receber contribuidores\n",
    "- Momento da última contribuição: se a equipe do projeto se manter estável significa que existe menos oportunidades de onboarding\n",
    "- Momento do primeiro commit: primeiro commit do projeto, a partir de quando passa a aceitar contribuições\n",
    "- Momento do último commit: se o projeto receber muitos commits, mas nao tiver tanto onboarding significa q esse projeto necessita de mais contribuintes"
   ]
  },
  {
   "cell_type": "code",
   "execution_count": 21,
   "metadata": {},
   "outputs": [
    {
     "data": {
      "text/html": [
       "<div>\n",
       "<style scoped>\n",
       "    .dataframe tbody tr th:only-of-type {\n",
       "        vertical-align: middle;\n",
       "    }\n",
       "\n",
       "    .dataframe tbody tr th {\n",
       "        vertical-align: top;\n",
       "    }\n",
       "\n",
       "    .dataframe thead th {\n",
       "        text-align: right;\n",
       "    }\n",
       "</style>\n",
       "<table border=\"1\" class=\"dataframe\">\n",
       "  <thead>\n",
       "    <tr style=\"text-align: right;\">\n",
       "      <th></th>\n",
       "      <th>repo_id</th>\n",
       "      <th>created_at</th>\n",
       "      <th>total_commits</th>\n",
       "      <th>first_onboarding</th>\n",
       "      <th>last_onboarding</th>\n",
       "      <th>first_commit</th>\n",
       "      <th>last_commit</th>\n",
       "      <th>user_id</th>\n",
       "      <th>onboarding_date</th>\n",
       "    </tr>\n",
       "  </thead>\n",
       "  <tbody>\n",
       "  </tbody>\n",
       "</table>\n",
       "</div>"
      ],
      "text/plain": [
       "Empty DataFrame\n",
       "Columns: [repo_id, created_at, total_commits, first_onboarding, last_onboarding, first_commit, last_commit, user_id, onboarding_date]\n",
       "Index: []"
      ]
     },
     "execution_count": 21,
     "metadata": {},
     "output_type": "execute_result"
    }
   ],
   "source": [
    "#objetivo final\n",
    "\n",
    "df_onboardings = pd.DataFrame({}, columns=[\"repo_id\", \"created_at\", \"total_commits\",\"first_onboarding\", \"last_onboarding\", \"first_commit\", \"last_commit\", \"user_id\", \"onboarding_date\"])\n",
    "\n",
    "df_onboardings"
   ]
  },
  {
   "cell_type": "code",
   "execution_count": 30,
   "metadata": {},
   "outputs": [],
   "source": [
    "chunks_commits = pd.read_csv(join(path, 'commits.csv'), names=[\"id\", \"sha\", \"author_id\", \"commiter_id\", \"project_id\", \"created_at\"], chunksize=5000000)"
   ]
  },
  {
   "cell_type": "markdown",
   "metadata": {},
   "source": [
    "Agora irei filtrar somente os commits dos projetos selecionados como open source após o ano de 2019"
   ]
  },
  {
   "cell_type": "code",
   "execution_count": 31,
   "metadata": {},
   "outputs": [],
   "source": [
    "#all_open_source_commits = []\n",
    "\n",
    "i=0\n",
    "for chunk in chunks_commits:\n",
    "        df_commit = chunk[chunk['project_id'].isin(df_project_members['repo_id'])]\n",
    "        df_commit.to_csv(f'E:/dump/open_source/open_source_commits_{i}.csv')\n",
    "        i += 1\n",
    "\n",
    "        #all_open_source_commits.append(df_commit)\n",
    "\n",
    "#df_commits_open_source = pd.concat(all_open_source_commits)"
   ]
  },
  {
   "cell_type": "code",
   "execution_count": 1,
   "metadata": {},
   "outputs": [
    {
     "ename": "NameError",
     "evalue": "name 'df_commits_open_source' is not defined",
     "output_type": "error",
     "traceback": [
      "\u001b[1;31m---------------------------------------------------------------------------\u001b[0m",
      "\u001b[1;31mNameError\u001b[0m                                 Traceback (most recent call last)",
      "Cell \u001b[1;32mIn[1], line 1\u001b[0m\n\u001b[1;32m----> 1\u001b[0m \u001b[43mdf_commits_open_source\u001b[49m\n",
      "\u001b[1;31mNameError\u001b[0m: name 'df_commits_open_source' is not defined"
     ]
    }
   ],
   "source": [
    "df_commits_open_source"
   ]
  },
  {
   "cell_type": "code",
   "execution_count": null,
   "metadata": {},
   "outputs": [],
   "source": [
    "df_commits_open_source = df_commits_open_source.drop('Unnamed: 0', axis=1)\n",
    "\n",
    "df_commits_open_source.to_csv(join(path,\"df_commits_open_source.csv\"))"
   ]
  },
  {
   "cell_type": "code",
   "execution_count": null,
   "metadata": {},
   "outputs": [],
   "source": [
    "#transforma o campo de data em data\n",
    "\n",
    "df_commits_open_source['created_at'] = pd.to_datetime(df_commits_open_source['created_at'])"
   ]
  },
  {
   "cell_type": "code",
   "execution_count": null,
   "metadata": {},
   "outputs": [],
   "source": [
    "df_commits_open_source"
   ]
  },
  {
   "cell_type": "markdown",
   "metadata": {},
   "source": [
    "Agora iremos obter o resultado o primeiro commit de cada usuário"
   ]
  },
  {
   "cell_type": "code",
   "execution_count": null,
   "metadata": {},
   "outputs": [],
   "source": [
    "def get_first_user_commit(row):\n",
    "    df_commits_open_source[df_commits_open_source['author_id'] == row['user_id']]"
   ]
  },
  {
   "cell_type": "code",
   "execution_count": null,
   "metadata": {},
   "outputs": [],
   "source": [
    "unique_users = df_commits_open_source['author_id'].unique()\n",
    "\n",
    "first_commit_user = []\n",
    "last_commit_user = []\n",
    "\n",
    "\n",
    "for user in unique_users:\n",
    "    df_user_commit = df_commits_open_source[df_commits_open_source['author_id'] == user]\n",
    "    first_commit_user.append(df_user_commit.iloc[df_user_commit['created_at'].argmin()])\n",
    "    last_commit_user.append(df_user_commit.iloc[df_user_commit['created_at'].argmax()])"
   ]
  },
  {
   "cell_type": "markdown",
   "metadata": {},
   "source": [
    "Agora que temos os projetos que possuem contribuidores podemos utilizar para filtrar a relação projetos"
   ]
  },
  {
   "cell_type": "code",
   "execution_count": null,
   "metadata": {},
   "outputs": [],
   "source": [
    "df_first_commit_user = pd.DataFrame(first_commit_user)\n",
    "\n",
    "df_first_commit_user"
   ]
  },
  {
   "cell_type": "markdown",
   "metadata": {},
   "source": [
    "Obtemos 26183 primeiras contribuições desde 2019. A partir disso vamos obter os demais dados importantes para contribuições"
   ]
  },
  {
   "cell_type": "code",
   "execution_count": null,
   "metadata": {},
   "outputs": [],
   "source": [
    "repo_done = []\n",
    "\n",
    "from IPython.display import clear_output"
   ]
  },
  {
   "cell_type": "code",
   "execution_count": null,
   "metadata": {},
   "outputs": [],
   "source": [
    "def get_total_commits(row):\n",
    "    repo_id = row['project_id']\n",
    "    date = row['created_at']\n",
    "    total_commits = 0\n",
    "    clear_output(wait=True)\n",
    "    repo_done.append(repo_id)\n",
    "    print(repo_done)\n",
    "    for chunk in df_commits:\n",
    "        total_commits += chunk.loc[(chunk['project_id'] == repo_id) & (pd.to_datetime(chunk['created_at']) <= pd.to_datetime(date))].shape[0]\n",
    "\n",
    "    return total_commits"
   ]
  },
  {
   "cell_type": "code",
   "execution_count": null,
   "metadata": {},
   "outputs": [],
   "source": [
    "\n",
    "df_first_commit_user['total_commits'] = df_first_commit_user.apply(get_total_commits, axis=1)   "
   ]
  },
  {
   "cell_type": "markdown",
   "metadata": {},
   "source": [
    "Pegar os detalhes do projeto"
   ]
  },
  {
   "cell_type": "code",
   "execution_count": null,
   "metadata": {},
   "outputs": [],
   "source": [
    "df_projetos = pd.read_csv(join(path, \"projects.csv\"), names=[\"id\", \"url\", \"owner_id\", \"name\", \"descriptor\", \"language\", \"created_at\", \"forked_from\", \"deleted\", \"updated_at\"], na_values=\"not available\", on_bad_lines='warn', chunksize=5000000)"
   ]
  }
 ],
 "metadata": {
  "kernelspec": {
   "display_name": "Python 3",
   "language": "python",
   "name": "python3"
  },
  "language_info": {
   "codemirror_mode": {
    "name": "ipython",
    "version": 3
   },
   "file_extension": ".py",
   "mimetype": "text/x-python",
   "name": "python",
   "nbconvert_exporter": "python",
   "pygments_lexer": "ipython3",
   "version": "3.10.7"
  }
 },
 "nbformat": 4,
 "nbformat_minor": 2
}

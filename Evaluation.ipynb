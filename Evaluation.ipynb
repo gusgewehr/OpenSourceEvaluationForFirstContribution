{
 "cells": [
  {
   "cell_type": "markdown",
   "metadata": {},
   "source": [
    "Testando se o ambiente está funcionando"
   ]
  },
  {
   "cell_type": "code",
   "execution_count": 2,
   "metadata": {},
   "outputs": [
    {
     "name": "stdout",
     "output_type": "stream",
     "text": [
      "teste\n"
     ]
    }
   ],
   "source": [
    "print('teste')"
   ]
  },
  {
   "cell_type": "markdown",
   "metadata": {},
   "source": [
    "Importando bibliotecas para explorar os diretórios do computador"
   ]
  },
  {
   "cell_type": "code",
   "execution_count": 3,
   "metadata": {},
   "outputs": [],
   "source": [
    "from os import listdir\n",
    "from os.path import isfile, join"
   ]
  },
  {
   "cell_type": "markdown",
   "metadata": {},
   "source": [
    "Verificando todos os arquivos obtidos da fonta de dados"
   ]
  },
  {
   "cell_type": "code",
   "execution_count": 4,
   "metadata": {},
   "outputs": [],
   "source": [
    "path = \"E://dump\"\n",
    "\n",
    "dump_files = listdir(path)"
   ]
  },
  {
   "cell_type": "code",
   "execution_count": 5,
   "metadata": {},
   "outputs": [],
   "source": [
    "import pandas as pd\n",
    "import numpy as np"
   ]
  },
  {
   "cell_type": "markdown",
   "metadata": {},
   "source": [
    "Tendo certeza que é possível ler os dados do GHtorrent."
   ]
  },
  {
   "cell_type": "code",
   "execution_count": null,
   "metadata": {},
   "outputs": [],
   "source": [
    "#pd.read_csv(join(path, 'project_languages.csv'))"
   ]
  },
  {
   "cell_type": "markdown",
   "metadata": {},
   "source": [
    "Um artigo que mostra a estrutura dos arquivos do GHtorrent https://gousios.org/pub/ghtorrent-dataset-toolsuite.pdf\n",
    "misturando com esse aqui também https://github.com/ghtorrent/ghtorrent.org/blob/master/files/schema.pdf\n",
    "Então irei adicionar o nome nas colunas, acabei retirando a coluna pullrequest_id pois ela não fazia sentido no contexto"
   ]
  },
  {
   "cell_type": "markdown",
   "metadata": {},
   "source": [
    "# Filtrando os repositórios Open Source"
   ]
  },
  {
   "cell_type": "markdown",
   "metadata": {},
   "source": [
    "Devido a grande quantidade de commits, não foi possível os utilizar como filtro de projetos open-source. Nesse caso, iremos utilizar a relação project_members para encontrar quais projetos são relevantes, ou seja, que possuem contribuintes além do dono."
   ]
  },
  {
   "cell_type": "code",
   "execution_count": 6,
   "metadata": {},
   "outputs": [],
   "source": [
    "df_project_members = pd.read_csv(join(path, 'project_members.csv'), names=[\"repo_id\", \"user_id\", \"created_at\"])"
   ]
  },
  {
   "cell_type": "code",
   "execution_count": null,
   "metadata": {},
   "outputs": [],
   "source": [
    "df_project_members"
   ]
  },
  {
   "cell_type": "code",
   "execution_count": null,
   "metadata": {},
   "outputs": [],
   "source": [
    "df_count_members = df_project_members.groupby(\"repo_id\", as_index=False)[\"user_id\"].count()"
   ]
  },
  {
   "cell_type": "code",
   "execution_count": null,
   "metadata": {},
   "outputs": [],
   "source": [
    "df_open_source_members = df_count_members[df_count_members[\"user_id\"]>10]"
   ]
  },
  {
   "cell_type": "code",
   "execution_count": null,
   "metadata": {},
   "outputs": [],
   "source": [
    "df_open_source_members"
   ]
  },
  {
   "cell_type": "markdown",
   "metadata": {},
   "source": [
    "Devivo a datação dos dados iremos filtrar somente os membros a partir de 2019"
   ]
  },
  {
   "cell_type": "code",
   "execution_count": null,
   "metadata": {},
   "outputs": [],
   "source": [
    "df_project_members = df_project_members.loc[\n",
    "    (pd.to_datetime(df_project_members['created_at']) > pd.to_datetime(\"01-01-2019\")) & \n",
    "    (df_project_members['repo_id'].isin(df_open_source_members['repo_id']))\n",
    "    ]"
   ]
  },
  {
   "cell_type": "code",
   "execution_count": null,
   "metadata": {},
   "outputs": [],
   "source": [
    "#transforma o campo de data em data\n",
    "\n",
    "df_project_members['created_at'] = pd.to_datetime(df_project_members['created_at'])"
   ]
  },
  {
   "cell_type": "code",
   "execution_count": null,
   "metadata": {},
   "outputs": [],
   "source": [
    "df_project_members"
   ]
  },
  {
   "cell_type": "markdown",
   "metadata": {},
   "source": [
    "# Dataframe alvo"
   ]
  },
  {
   "cell_type": "markdown",
   "metadata": {},
   "source": [
    "A partir do estudo Recommending GitHub Projects for Developer Onboarding podemos extrair alguns atributos a serem extraídos do dataset para que seja estudado o quão receptivo um repositório é, são eles:\n",
    "\n",
    "- Crescimento do Projeto: Quantidade de commits do projeto no momento de iniciação\n",
    "- Data de criação do projeto: Projetos mais novos tendem a atrair mais desenvolvedores\n",
    "- Momento de primeira contribuição: quando o projeto começa a receber contribuidores\n",
    "- Momento da última contribuição: se a equipe do projeto se manter estável significa que existe menos oportunidades de onboarding\n",
    "- Momento do primeiro commit: primeiro commit do projeto, a partir de quando passa a aceitar contribuições\n",
    "- Momento do último commit: se o projeto receber muitos commits, mas nao tiver tanto onboarding significa q esse projeto necessita de mais contribuintes"
   ]
  },
  {
   "cell_type": "code",
   "execution_count": 13,
   "metadata": {},
   "outputs": [
    {
     "data": {
      "text/html": [
       "<div>\n",
       "<style scoped>\n",
       "    .dataframe tbody tr th:only-of-type {\n",
       "        vertical-align: middle;\n",
       "    }\n",
       "\n",
       "    .dataframe tbody tr th {\n",
       "        vertical-align: top;\n",
       "    }\n",
       "\n",
       "    .dataframe thead th {\n",
       "        text-align: right;\n",
       "    }\n",
       "</style>\n",
       "<table border=\"1\" class=\"dataframe\">\n",
       "  <thead>\n",
       "    <tr style=\"text-align: right;\">\n",
       "      <th></th>\n",
       "      <th>repo_id</th>\n",
       "      <th>user_id</th>\n",
       "      <th>onboarding_date</th>\n",
       "      <th>project_author_id</th>\n",
       "      <th>project_created_at</th>\n",
       "      <th>total_commits</th>\n",
       "      <th>first_onboarding</th>\n",
       "      <th>last_onboarding</th>\n",
       "      <th>first_commit</th>\n",
       "      <th>last_commit</th>\n",
       "    </tr>\n",
       "  </thead>\n",
       "  <tbody>\n",
       "  </tbody>\n",
       "</table>\n",
       "</div>"
      ],
      "text/plain": [
       "Empty DataFrame\n",
       "Columns: [repo_id, user_id, onboarding_date, project_author_id, project_created_at, total_commits, first_onboarding, last_onboarding, first_commit, last_commit]\n",
       "Index: []"
      ]
     },
     "execution_count": 13,
     "metadata": {},
     "output_type": "execute_result"
    }
   ],
   "source": [
    "#objetivo final\n",
    "\n",
    "df_onboardings = pd.DataFrame({}, columns=[\"repo_id\", \"user_id\", \"onboarding_date\", \"project_author_id\", \"project_created_at\", \"total_commits\",\"first_onboarding\", \"last_onboarding\", \"first_commit\", \"last_commit\"])\n",
    "\n",
    "df_onboardings"
   ]
  },
  {
   "cell_type": "code",
   "execution_count": null,
   "metadata": {},
   "outputs": [],
   "source": [
    "chunks_commits = pd.read_csv(join(path, 'commits.csv'), names=[\"id\", \"sha\", \"author_id\", \"commiter_id\", \"project_id\", \"created_at\"], chunksize=5000000)"
   ]
  },
  {
   "cell_type": "markdown",
   "metadata": {},
   "source": [
    "Agora irei filtrar somente os commits dos projetos selecionados como open source após o ano de 2019"
   ]
  },
  {
   "cell_type": "markdown",
   "metadata": {},
   "source": [
    "# Pegando os commits referentes aos repositórios classificados como Open Source"
   ]
  },
  {
   "cell_type": "code",
   "execution_count": null,
   "metadata": {},
   "outputs": [],
   "source": [
    "\n",
    "#i=0\n",
    "#for chunk in chunks_commits:\n",
    "#        df_commit = chunk[chunk['project_id'].isin(df_project_members['repo_id'])]\n",
    "#        df_commit.to_csv(f'E:/dump/open_source/open_source_commits_{i}.csv')\n",
    "#        i += 1\n"
   ]
  },
  {
   "cell_type": "code",
   "execution_count": null,
   "metadata": {},
   "outputs": [],
   "source": [
    "dump_open_source_files = listdir(join(path, 'open_source'))\n"
   ]
  },
  {
   "cell_type": "markdown",
   "metadata": {},
   "source": [
    "# Descobrindo usuários iniciantes"
   ]
  },
  {
   "cell_type": "markdown",
   "metadata": {},
   "source": [
    "Para determinar quais contribuições são referentes a iniciantes teremos que descobrir qual foi o primeiro commit de cada usuário e qual foi o repositório dele"
   ]
  },
  {
   "cell_type": "markdown",
   "metadata": {},
   "source": [
    "testando um método de filtrar os primeiros commits em repositórios open source de cada usuário sem q o ID e o repo_id sejam abstraídos"
   ]
  },
  {
   "cell_type": "code",
   "execution_count": null,
   "metadata": {},
   "outputs": [],
   "source": [
    "def get_min_date_row(group):\n",
    "    min_row = group.loc[group['created_at'].idxmin()]\n",
    "    return min_row\n",
    "\n"
   ]
  },
  {
   "cell_type": "code",
   "execution_count": null,
   "metadata": {},
   "outputs": [],
   "source": [
    "# first_user_commit_by_chunks2 = []\n",
    "\n",
    "# i=0\n",
    "# for file in dump_open_source_files:\n",
    "#     print(\"lendo arquivo: \", i)\n",
    "#     df_commit = pd.read_csv(join(path,'open_source',file))\n",
    "#     df_commit[\"created_at\"] = pd.to_datetime(df_commit[\"created_at\"])\n",
    "#     first_user_commit_by_chunks2.append(df_commit.groupby('author_id').apply(get_min_date_row).reset_index(drop=True))\n",
    "#     i += 1"
   ]
  },
  {
   "cell_type": "code",
   "execution_count": null,
   "metadata": {},
   "outputs": [],
   "source": [
    "# df_first_user_commit2 = pd.concat(first_user_commit_by_chunks2)\n",
    "\n",
    "# df_first_user_commit2"
   ]
  },
  {
   "cell_type": "code",
   "execution_count": null,
   "metadata": {},
   "outputs": [],
   "source": [
    "# df_first_user_commit2.drop('Unnamed: 0', axis=1)\n",
    "\n",
    "# df_first_user_commit2.to_csv('first_user_commit.csv')"
   ]
  },
  {
   "cell_type": "code",
   "execution_count": null,
   "metadata": {},
   "outputs": [],
   "source": [
    "#df_first_user_commit2 = pd.read_csv('first_user_commit.csv')"
   ]
  },
  {
   "cell_type": "code",
   "execution_count": null,
   "metadata": {},
   "outputs": [],
   "source": [
    "#df_first_user_contrib = df_first_user_commit2.groupby('author_id').apply(get_min_date_row).reset_index(drop=True)\n",
    "\n"
   ]
  },
  {
   "cell_type": "code",
   "execution_count": null,
   "metadata": {},
   "outputs": [],
   "source": [
    "#df_first_user_contrib = df_first_user_contrib.drop('Unnamed: 0', axis=1)\n",
    "#df_first_user_contrib = df_first_user_contrib.drop('Unnamed: 0.1', axis=1)"
   ]
  },
  {
   "cell_type": "code",
   "execution_count": null,
   "metadata": {},
   "outputs": [],
   "source": [
    "#df_first_user_contrib.to_csv('first_user_contrib.csv')"
   ]
  },
  {
   "cell_type": "code",
   "execution_count": null,
   "metadata": {},
   "outputs": [],
   "source": [
    "df_first_user_contrib = pd.read_csv(\"first_user_contrib.csv\")"
   ]
  },
  {
   "cell_type": "markdown",
   "metadata": {},
   "source": [
    "Agora iremos filtrar somente as primeiras contribuições de cada pessoa, já que estamos focando em pessoas iniciantes"
   ]
  },
  {
   "cell_type": "code",
   "execution_count": null,
   "metadata": {},
   "outputs": [],
   "source": [
    "df_first_user_contrib = df_first_user_contrib.drop('Unnamed: 0', axis=1)\n",
    "df_first_user_contrib = df_first_user_contrib[pd.to_datetime(df_first_user_contrib['created_at']) > pd.to_datetime('01-01-2019')]"
   ]
  },
  {
   "cell_type": "code",
   "execution_count": null,
   "metadata": {},
   "outputs": [],
   "source": [
    "df_first_user_contrib"
   ]
  },
  {
   "cell_type": "code",
   "execution_count": null,
   "metadata": {},
   "outputs": [],
   "source": [
    "df_project_members"
   ]
  },
  {
   "cell_type": "code",
   "execution_count": null,
   "metadata": {},
   "outputs": [],
   "source": [
    "\n",
    "df_contrib_x_commits = df_project_members.merge(df_first_user_contrib, left_on=['repo_id', 'user_id'], right_on=['project_id', 'author_id'],  how='inner', suffixes=['_members', '_commits'])\n"
   ]
  },
  {
   "cell_type": "code",
   "execution_count": null,
   "metadata": {},
   "outputs": [],
   "source": [
    "df_onboardings['repo_id'] = df_contrib_x_commits['repo_id']\n",
    "df_onboardings['user_id'] = df_contrib_x_commits['author_id']\n",
    "df_onboardings['onboarding_date'] = df_contrib_x_commits['created_at_members']\n",
    "\n",
    "df_onboardings"
   ]
  },
  {
   "cell_type": "code",
   "execution_count": null,
   "metadata": {},
   "outputs": [],
   "source": [
    "df_onboardings.to_csv(\"onboarding.csv\")"
   ]
  },
  {
   "cell_type": "markdown",
   "metadata": {},
   "source": [
    "# Pegando os detalhes do projeto"
   ]
  },
  {
   "cell_type": "code",
   "execution_count": 16,
   "metadata": {},
   "outputs": [],
   "source": [
    "df_onboardings = pd.read_csv(\"onboarding.csv\")"
   ]
  },
  {
   "cell_type": "code",
   "execution_count": 6,
   "metadata": {},
   "outputs": [],
   "source": [
    "chunk_projects = pd.read_csv(join(path, \"projects.csv\"), index_col=False, chunksize=5000000  ,escapechar='\\\\', header=None, sep=\",\", quotechar='\"',encoding=\"utf-8\", names=[\"id\", \"url\", \"owner_id\", \"name\", \"descriptor\", \"language\", \"created_at\", \"forked_from\", \"deleted\", \"updated_at\"], na_values=\"not available\", on_bad_lines=\"warn\") #, engine=\"python\")"
   ]
  },
  {
   "cell_type": "code",
   "execution_count": 7,
   "metadata": {},
   "outputs": [
    {
     "name": "stderr",
     "output_type": "stream",
     "text": [
      "C:\\Users\\gusge\\AppData\\Local\\Temp\\ipykernel_25484\\4076905464.py:5: ParserWarning: Length of header or names does not match length of data. This leads to a loss of data with index_col=False.\n",
      "  for chunk in chunk_projects:\n"
     ]
    },
    {
     "name": "stdout",
     "output_type": "stream",
     "text": [
      "chunk  0\n"
     ]
    },
    {
     "name": "stderr",
     "output_type": "stream",
     "text": [
      "C:\\Users\\gusge\\AppData\\Local\\Temp\\ipykernel_25484\\4076905464.py:5: ParserWarning: Length of header or names does not match length of data. This leads to a loss of data with index_col=False.\n",
      "  for chunk in chunk_projects:\n"
     ]
    },
    {
     "name": "stdout",
     "output_type": "stream",
     "text": [
      "chunk  1\n"
     ]
    },
    {
     "name": "stderr",
     "output_type": "stream",
     "text": [
      "C:\\Users\\gusge\\AppData\\Local\\Temp\\ipykernel_25484\\4076905464.py:5: ParserWarning: Length of header or names does not match length of data. This leads to a loss of data with index_col=False.\n",
      "  for chunk in chunk_projects:\n"
     ]
    },
    {
     "name": "stdout",
     "output_type": "stream",
     "text": [
      "chunk  2\n"
     ]
    },
    {
     "name": "stderr",
     "output_type": "stream",
     "text": [
      "C:\\Users\\gusge\\AppData\\Local\\Temp\\ipykernel_25484\\4076905464.py:5: ParserWarning: Length of header or names does not match length of data. This leads to a loss of data with index_col=False.\n",
      "  for chunk in chunk_projects:\n"
     ]
    },
    {
     "name": "stdout",
     "output_type": "stream",
     "text": [
      "chunk  3\n"
     ]
    },
    {
     "name": "stderr",
     "output_type": "stream",
     "text": [
      "C:\\Users\\gusge\\AppData\\Local\\Temp\\ipykernel_25484\\4076905464.py:5: ParserWarning: Length of header or names does not match length of data. This leads to a loss of data with index_col=False.\n",
      "  for chunk in chunk_projects:\n"
     ]
    },
    {
     "name": "stdout",
     "output_type": "stream",
     "text": [
      "chunk  4\n"
     ]
    },
    {
     "name": "stderr",
     "output_type": "stream",
     "text": [
      "C:\\Users\\gusge\\AppData\\Local\\Temp\\ipykernel_25484\\4076905464.py:5: ParserWarning: Length of header or names does not match length of data. This leads to a loss of data with index_col=False.\n",
      "  for chunk in chunk_projects:\n"
     ]
    },
    {
     "name": "stdout",
     "output_type": "stream",
     "text": [
      "chunk  5\n"
     ]
    },
    {
     "name": "stderr",
     "output_type": "stream",
     "text": [
      "C:\\Users\\gusge\\AppData\\Local\\Temp\\ipykernel_25484\\4076905464.py:5: ParserWarning: Length of header or names does not match length of data. This leads to a loss of data with index_col=False.\n",
      "  for chunk in chunk_projects:\n"
     ]
    },
    {
     "name": "stdout",
     "output_type": "stream",
     "text": [
      "chunk  6\n"
     ]
    },
    {
     "name": "stderr",
     "output_type": "stream",
     "text": [
      "C:\\Users\\gusge\\AppData\\Local\\Temp\\ipykernel_25484\\4076905464.py:5: ParserWarning: Length of header or names does not match length of data. This leads to a loss of data with index_col=False.\n",
      "  for chunk in chunk_projects:\n"
     ]
    },
    {
     "name": "stdout",
     "output_type": "stream",
     "text": [
      "chunk  7\n"
     ]
    },
    {
     "name": "stderr",
     "output_type": "stream",
     "text": [
      "C:\\Users\\gusge\\AppData\\Local\\Temp\\ipykernel_25484\\4076905464.py:5: ParserWarning: Length of header or names does not match length of data. This leads to a loss of data with index_col=False.\n",
      "  for chunk in chunk_projects:\n"
     ]
    },
    {
     "name": "stdout",
     "output_type": "stream",
     "text": [
      "chunk  8\n"
     ]
    },
    {
     "name": "stderr",
     "output_type": "stream",
     "text": [
      "C:\\Users\\gusge\\AppData\\Local\\Temp\\ipykernel_25484\\4076905464.py:5: ParserWarning: Length of header or names does not match length of data. This leads to a loss of data with index_col=False.\n",
      "  for chunk in chunk_projects:\n"
     ]
    },
    {
     "name": "stdout",
     "output_type": "stream",
     "text": [
      "chunk  9\n"
     ]
    },
    {
     "name": "stderr",
     "output_type": "stream",
     "text": [
      "C:\\Users\\gusge\\AppData\\Local\\Temp\\ipykernel_25484\\4076905464.py:5: ParserWarning: Length of header or names does not match length of data. This leads to a loss of data with index_col=False.\n",
      "  for chunk in chunk_projects:\n"
     ]
    },
    {
     "name": "stdout",
     "output_type": "stream",
     "text": [
      "chunk  10\n"
     ]
    },
    {
     "name": "stderr",
     "output_type": "stream",
     "text": [
      "C:\\Users\\gusge\\AppData\\Local\\Temp\\ipykernel_25484\\4076905464.py:5: ParserWarning: Length of header or names does not match length of data. This leads to a loss of data with index_col=False.\n",
      "  for chunk in chunk_projects:\n"
     ]
    },
    {
     "name": "stdout",
     "output_type": "stream",
     "text": [
      "chunk  11\n"
     ]
    },
    {
     "name": "stderr",
     "output_type": "stream",
     "text": [
      "C:\\Users\\gusge\\AppData\\Local\\Temp\\ipykernel_25484\\4076905464.py:5: ParserWarning: Length of header or names does not match length of data. This leads to a loss of data with index_col=False.\n",
      "  for chunk in chunk_projects:\n"
     ]
    },
    {
     "name": "stdout",
     "output_type": "stream",
     "text": [
      "chunk  12\n"
     ]
    },
    {
     "name": "stderr",
     "output_type": "stream",
     "text": [
      "C:\\Users\\gusge\\AppData\\Local\\Temp\\ipykernel_25484\\4076905464.py:5: ParserWarning: Length of header or names does not match length of data. This leads to a loss of data with index_col=False.\n",
      "  for chunk in chunk_projects:\n"
     ]
    },
    {
     "name": "stdout",
     "output_type": "stream",
     "text": [
      "chunk  13\n"
     ]
    },
    {
     "name": "stderr",
     "output_type": "stream",
     "text": [
      "C:\\Users\\gusge\\AppData\\Local\\Temp\\ipykernel_25484\\4076905464.py:5: ParserWarning: Length of header or names does not match length of data. This leads to a loss of data with index_col=False.\n",
      "  for chunk in chunk_projects:\n"
     ]
    },
    {
     "name": "stdout",
     "output_type": "stream",
     "text": [
      "chunk  14\n"
     ]
    },
    {
     "name": "stderr",
     "output_type": "stream",
     "text": [
      "C:\\Users\\gusge\\AppData\\Local\\Temp\\ipykernel_25484\\4076905464.py:5: ParserWarning: Length of header or names does not match length of data. This leads to a loss of data with index_col=False.\n",
      "  for chunk in chunk_projects:\n"
     ]
    },
    {
     "name": "stdout",
     "output_type": "stream",
     "text": [
      "chunk  15\n"
     ]
    },
    {
     "name": "stderr",
     "output_type": "stream",
     "text": [
      "C:\\Users\\gusge\\AppData\\Local\\Temp\\ipykernel_25484\\4076905464.py:5: ParserWarning: Length of header or names does not match length of data. This leads to a loss of data with index_col=False.\n",
      "  for chunk in chunk_projects:\n"
     ]
    },
    {
     "name": "stdout",
     "output_type": "stream",
     "text": [
      "chunk  16\n"
     ]
    },
    {
     "name": "stderr",
     "output_type": "stream",
     "text": [
      "C:\\Users\\gusge\\AppData\\Local\\Temp\\ipykernel_25484\\4076905464.py:5: ParserWarning: Length of header or names does not match length of data. This leads to a loss of data with index_col=False.\n",
      "  for chunk in chunk_projects:\n"
     ]
    },
    {
     "name": "stdout",
     "output_type": "stream",
     "text": [
      "chunk  17\n"
     ]
    },
    {
     "name": "stderr",
     "output_type": "stream",
     "text": [
      "C:\\Users\\gusge\\AppData\\Local\\Temp\\ipykernel_25484\\4076905464.py:5: ParserWarning: Length of header or names does not match length of data. This leads to a loss of data with index_col=False.\n",
      "  for chunk in chunk_projects:\n"
     ]
    },
    {
     "name": "stdout",
     "output_type": "stream",
     "text": [
      "chunk  18\n"
     ]
    },
    {
     "name": "stderr",
     "output_type": "stream",
     "text": [
      "C:\\Users\\gusge\\AppData\\Local\\Temp\\ipykernel_25484\\4076905464.py:5: ParserWarning: Length of header or names does not match length of data. This leads to a loss of data with index_col=False.\n",
      "  for chunk in chunk_projects:\n"
     ]
    },
    {
     "name": "stdout",
     "output_type": "stream",
     "text": [
      "chunk  19\n"
     ]
    },
    {
     "name": "stderr",
     "output_type": "stream",
     "text": [
      "C:\\Users\\gusge\\AppData\\Local\\Temp\\ipykernel_25484\\4076905464.py:5: ParserWarning: Length of header or names does not match length of data. This leads to a loss of data with index_col=False.\n",
      "  for chunk in chunk_projects:\n"
     ]
    },
    {
     "name": "stdout",
     "output_type": "stream",
     "text": [
      "chunk  20\n"
     ]
    },
    {
     "name": "stderr",
     "output_type": "stream",
     "text": [
      "C:\\Users\\gusge\\AppData\\Local\\Temp\\ipykernel_25484\\4076905464.py:5: ParserWarning: Length of header or names does not match length of data. This leads to a loss of data with index_col=False.\n",
      "  for chunk in chunk_projects:\n"
     ]
    },
    {
     "name": "stdout",
     "output_type": "stream",
     "text": [
      "chunk  21\n"
     ]
    },
    {
     "name": "stderr",
     "output_type": "stream",
     "text": [
      "C:\\Users\\gusge\\AppData\\Local\\Temp\\ipykernel_25484\\4076905464.py:5: ParserWarning: Length of header or names does not match length of data. This leads to a loss of data with index_col=False.\n",
      "  for chunk in chunk_projects:\n"
     ]
    },
    {
     "name": "stdout",
     "output_type": "stream",
     "text": [
      "chunk  22\n"
     ]
    },
    {
     "name": "stderr",
     "output_type": "stream",
     "text": [
      "C:\\Users\\gusge\\AppData\\Local\\Temp\\ipykernel_25484\\4076905464.py:5: ParserWarning: Length of header or names does not match length of data. This leads to a loss of data with index_col=False.\n",
      "  for chunk in chunk_projects:\n"
     ]
    },
    {
     "name": "stdout",
     "output_type": "stream",
     "text": [
      "chunk  23\n"
     ]
    },
    {
     "name": "stderr",
     "output_type": "stream",
     "text": [
      "C:\\Users\\gusge\\AppData\\Local\\Temp\\ipykernel_25484\\4076905464.py:5: ParserWarning: Length of header or names does not match length of data. This leads to a loss of data with index_col=False.\n",
      "  for chunk in chunk_projects:\n"
     ]
    },
    {
     "name": "stdout",
     "output_type": "stream",
     "text": [
      "chunk  24\n"
     ]
    },
    {
     "name": "stderr",
     "output_type": "stream",
     "text": [
      "C:\\Users\\gusge\\AppData\\Local\\Temp\\ipykernel_25484\\4076905464.py:5: ParserWarning: Length of header or names does not match length of data. This leads to a loss of data with index_col=False.\n",
      "  for chunk in chunk_projects:\n"
     ]
    },
    {
     "name": "stdout",
     "output_type": "stream",
     "text": [
      "chunk  25\n"
     ]
    },
    {
     "name": "stderr",
     "output_type": "stream",
     "text": [
      "C:\\Users\\gusge\\AppData\\Local\\Temp\\ipykernel_25484\\4076905464.py:5: ParserWarning: Length of header or names does not match length of data. This leads to a loss of data with index_col=False.\n",
      "  for chunk in chunk_projects:\n"
     ]
    },
    {
     "name": "stdout",
     "output_type": "stream",
     "text": [
      "chunk  26\n"
     ]
    },
    {
     "name": "stderr",
     "output_type": "stream",
     "text": [
      "C:\\Users\\gusge\\AppData\\Local\\Temp\\ipykernel_25484\\4076905464.py:5: ParserWarning: Length of header or names does not match length of data. This leads to a loss of data with index_col=False.\n",
      "  for chunk in chunk_projects:\n"
     ]
    },
    {
     "name": "stdout",
     "output_type": "stream",
     "text": [
      "chunk  27\n"
     ]
    },
    {
     "name": "stderr",
     "output_type": "stream",
     "text": [
      "C:\\Users\\gusge\\AppData\\Local\\Temp\\ipykernel_25484\\4076905464.py:5: ParserWarning: Length of header or names does not match length of data. This leads to a loss of data with index_col=False.\n",
      "  for chunk in chunk_projects:\n"
     ]
    },
    {
     "name": "stdout",
     "output_type": "stream",
     "text": [
      "chunk  28\n"
     ]
    },
    {
     "name": "stderr",
     "output_type": "stream",
     "text": [
      "C:\\Users\\gusge\\AppData\\Local\\Temp\\ipykernel_25484\\4076905464.py:5: ParserWarning: Length of header or names does not match length of data. This leads to a loss of data with index_col=False.\n",
      "  for chunk in chunk_projects:\n"
     ]
    },
    {
     "name": "stdout",
     "output_type": "stream",
     "text": [
      "chunk  29\n"
     ]
    },
    {
     "name": "stderr",
     "output_type": "stream",
     "text": [
      "C:\\Users\\gusge\\AppData\\Local\\Temp\\ipykernel_25484\\4076905464.py:5: ParserWarning: Length of header or names does not match length of data. This leads to a loss of data with index_col=False.\n",
      "  for chunk in chunk_projects:\n"
     ]
    },
    {
     "name": "stdout",
     "output_type": "stream",
     "text": [
      "chunk  30\n"
     ]
    },
    {
     "name": "stderr",
     "output_type": "stream",
     "text": [
      "C:\\Users\\gusge\\AppData\\Local\\Temp\\ipykernel_25484\\4076905464.py:5: ParserWarning: Length of header or names does not match length of data. This leads to a loss of data with index_col=False.\n",
      "  for chunk in chunk_projects:\n"
     ]
    },
    {
     "name": "stdout",
     "output_type": "stream",
     "text": [
      "chunk  31\n"
     ]
    },
    {
     "name": "stderr",
     "output_type": "stream",
     "text": [
      "C:\\Users\\gusge\\AppData\\Local\\Temp\\ipykernel_25484\\4076905464.py:5: ParserWarning: Length of header or names does not match length of data. This leads to a loss of data with index_col=False.\n",
      "  for chunk in chunk_projects:\n"
     ]
    },
    {
     "name": "stdout",
     "output_type": "stream",
     "text": [
      "chunk  32\n"
     ]
    },
    {
     "name": "stderr",
     "output_type": "stream",
     "text": [
      "C:\\Users\\gusge\\AppData\\Local\\Temp\\ipykernel_25484\\4076905464.py:5: ParserWarning: Length of header or names does not match length of data. This leads to a loss of data with index_col=False.\n",
      "  for chunk in chunk_projects:\n"
     ]
    },
    {
     "name": "stdout",
     "output_type": "stream",
     "text": [
      "chunk  33\n"
     ]
    },
    {
     "name": "stderr",
     "output_type": "stream",
     "text": [
      "C:\\Users\\gusge\\AppData\\Local\\Temp\\ipykernel_25484\\4076905464.py:5: ParserWarning: Length of header or names does not match length of data. This leads to a loss of data with index_col=False.\n",
      "  for chunk in chunk_projects:\n"
     ]
    },
    {
     "name": "stdout",
     "output_type": "stream",
     "text": [
      "chunk  34\n"
     ]
    },
    {
     "name": "stderr",
     "output_type": "stream",
     "text": [
      "C:\\Users\\gusge\\AppData\\Local\\Temp\\ipykernel_25484\\4076905464.py:5: ParserWarning: Length of header or names does not match length of data. This leads to a loss of data with index_col=False.\n",
      "  for chunk in chunk_projects:\n"
     ]
    },
    {
     "name": "stdout",
     "output_type": "stream",
     "text": [
      "chunk  35\n"
     ]
    },
    {
     "name": "stderr",
     "output_type": "stream",
     "text": [
      "C:\\Users\\gusge\\AppData\\Local\\Temp\\ipykernel_25484\\4076905464.py:5: ParserWarning: Length of header or names does not match length of data. This leads to a loss of data with index_col=False.\n",
      "  for chunk in chunk_projects:\n"
     ]
    },
    {
     "name": "stdout",
     "output_type": "stream",
     "text": [
      "chunk  36\n"
     ]
    },
    {
     "name": "stderr",
     "output_type": "stream",
     "text": [
      "C:\\Users\\gusge\\AppData\\Local\\Temp\\ipykernel_25484\\4076905464.py:5: ParserWarning: Length of header or names does not match length of data. This leads to a loss of data with index_col=False.\n",
      "  for chunk in chunk_projects:\n"
     ]
    },
    {
     "name": "stdout",
     "output_type": "stream",
     "text": [
      "chunk  37\n"
     ]
    }
   ],
   "source": [
    "unique_projects = df_onboardings['repo_id'].unique()\n",
    "projects = []\n",
    "\n",
    "i=0\n",
    "for chunk in chunk_projects:\n",
    "    print(\"chunk \", i)\n",
    "    projects.append(chunk[chunk['id'].isin(unique_projects)])\n",
    "    i += 1\n",
    "    \n",
    "    "
   ]
  },
  {
   "cell_type": "code",
   "execution_count": 8,
   "metadata": {},
   "outputs": [],
   "source": [
    "df_projects = pd.concat(projects)"
   ]
  },
  {
   "cell_type": "code",
   "execution_count": 19,
   "metadata": {},
   "outputs": [],
   "source": [
    "df_onboarding_x_projects = df_onboardings.merge(df_projects[['id', 'owner_id', 'language', 'created_at']], left_on='repo_id', right_on='id', suffixes=['', '_project'])\n",
    "\n"
   ]
  },
  {
   "cell_type": "code",
   "execution_count": 24,
   "metadata": {},
   "outputs": [],
   "source": [
    "\n",
    "df_onboardings['project_author_id'] = df_onboarding_x_projects['owner_id']\n",
    "df_onboardings['project_language'] = df_onboarding_x_projects['language']\n",
    "df_onboardings['project_created_at'] = df_onboarding_x_projects['created_at']\n",
    "#df_onboardings = df_onboardings.drop('Unnamed: 0', axis=1)\n",
    "\n"
   ]
  },
  {
   "cell_type": "code",
   "execution_count": 26,
   "metadata": {},
   "outputs": [],
   "source": [
    "df_onboardings.to_csv('onboarding.csv')"
   ]
  },
  {
   "cell_type": "code",
   "execution_count": 27,
   "metadata": {},
   "outputs": [
    {
     "data": {
      "text/html": [
       "<div>\n",
       "<style scoped>\n",
       "    .dataframe tbody tr th:only-of-type {\n",
       "        vertical-align: middle;\n",
       "    }\n",
       "\n",
       "    .dataframe tbody tr th {\n",
       "        vertical-align: top;\n",
       "    }\n",
       "\n",
       "    .dataframe thead th {\n",
       "        text-align: right;\n",
       "    }\n",
       "</style>\n",
       "<table border=\"1\" class=\"dataframe\">\n",
       "  <thead>\n",
       "    <tr style=\"text-align: right;\">\n",
       "      <th></th>\n",
       "      <th>repo_id</th>\n",
       "      <th>user_id</th>\n",
       "      <th>onboarding_date</th>\n",
       "      <th>project_author_id</th>\n",
       "      <th>project_created_at</th>\n",
       "      <th>total_commits</th>\n",
       "      <th>first_onboarding</th>\n",
       "      <th>last_onboarding</th>\n",
       "      <th>first_commit</th>\n",
       "      <th>last_commit</th>\n",
       "      <th>project_language</th>\n",
       "    </tr>\n",
       "  </thead>\n",
       "  <tbody>\n",
       "    <tr>\n",
       "      <th>0</th>\n",
       "      <td>19</td>\n",
       "      <td>9245591</td>\n",
       "      <td>2020-06-17 19:28:17</td>\n",
       "      <td>78</td>\n",
       "      <td>2009-01-05 14:00:43</td>\n",
       "      <td>NaN</td>\n",
       "      <td>NaN</td>\n",
       "      <td>NaN</td>\n",
       "      <td>NaN</td>\n",
       "      <td>NaN</td>\n",
       "      <td>Objective-C</td>\n",
       "    </tr>\n",
       "    <tr>\n",
       "      <th>1</th>\n",
       "      <td>19</td>\n",
       "      <td>33292409</td>\n",
       "      <td>2020-06-05 14:53:56</td>\n",
       "      <td>78</td>\n",
       "      <td>2009-01-05 14:00:43</td>\n",
       "      <td>NaN</td>\n",
       "      <td>NaN</td>\n",
       "      <td>NaN</td>\n",
       "      <td>NaN</td>\n",
       "      <td>NaN</td>\n",
       "      <td>Objective-C</td>\n",
       "    </tr>\n",
       "    <tr>\n",
       "      <th>2</th>\n",
       "      <td>4567</td>\n",
       "      <td>32547120</td>\n",
       "      <td>2020-01-04 17:08:41</td>\n",
       "      <td>21229</td>\n",
       "      <td>2011-12-23 04:52:33</td>\n",
       "      <td>NaN</td>\n",
       "      <td>NaN</td>\n",
       "      <td>NaN</td>\n",
       "      <td>NaN</td>\n",
       "      <td>NaN</td>\n",
       "      <td>JavaScript</td>\n",
       "    </tr>\n",
       "    <tr>\n",
       "      <th>3</th>\n",
       "      <td>6830</td>\n",
       "      <td>44244864</td>\n",
       "      <td>2019-04-19 01:58:41</td>\n",
       "      <td>8978</td>\n",
       "      <td>2012-02-21 19:46:55</td>\n",
       "      <td>NaN</td>\n",
       "      <td>NaN</td>\n",
       "      <td>NaN</td>\n",
       "      <td>NaN</td>\n",
       "      <td>NaN</td>\n",
       "      <td>Scala</td>\n",
       "    </tr>\n",
       "    <tr>\n",
       "      <th>4</th>\n",
       "      <td>8373</td>\n",
       "      <td>30552107</td>\n",
       "      <td>2020-06-05 20:09:57</td>\n",
       "      <td>19185</td>\n",
       "      <td>2011-05-10 07:41:19</td>\n",
       "      <td>NaN</td>\n",
       "      <td>NaN</td>\n",
       "      <td>NaN</td>\n",
       "      <td>NaN</td>\n",
       "      <td>NaN</td>\n",
       "      <td>Python</td>\n",
       "    </tr>\n",
       "    <tr>\n",
       "      <th>...</th>\n",
       "      <td>...</td>\n",
       "      <td>...</td>\n",
       "      <td>...</td>\n",
       "      <td>...</td>\n",
       "      <td>...</td>\n",
       "      <td>...</td>\n",
       "      <td>...</td>\n",
       "      <td>...</td>\n",
       "      <td>...</td>\n",
       "      <td>...</td>\n",
       "      <td>...</td>\n",
       "    </tr>\n",
       "    <tr>\n",
       "      <th>16626</th>\n",
       "      <td>206997704</td>\n",
       "      <td>66799493</td>\n",
       "      <td>2021-03-05 18:06:24</td>\n",
       "      <td>3749802</td>\n",
       "      <td>2021-03-05 16:49:43</td>\n",
       "      <td>NaN</td>\n",
       "      <td>NaN</td>\n",
       "      <td>NaN</td>\n",
       "      <td>NaN</td>\n",
       "      <td>NaN</td>\n",
       "      <td>C#</td>\n",
       "    </tr>\n",
       "    <tr>\n",
       "      <th>16627</th>\n",
       "      <td>206997704</td>\n",
       "      <td>66965962</td>\n",
       "      <td>2021-03-05 18:08:01</td>\n",
       "      <td>3749802</td>\n",
       "      <td>2021-03-05 16:49:43</td>\n",
       "      <td>NaN</td>\n",
       "      <td>NaN</td>\n",
       "      <td>NaN</td>\n",
       "      <td>NaN</td>\n",
       "      <td>NaN</td>\n",
       "      <td>C#</td>\n",
       "    </tr>\n",
       "    <tr>\n",
       "      <th>16628</th>\n",
       "      <td>206997704</td>\n",
       "      <td>66994499</td>\n",
       "      <td>2021-03-05 18:10:13</td>\n",
       "      <td>3749802</td>\n",
       "      <td>2021-03-05 16:49:43</td>\n",
       "      <td>NaN</td>\n",
       "      <td>NaN</td>\n",
       "      <td>NaN</td>\n",
       "      <td>NaN</td>\n",
       "      <td>NaN</td>\n",
       "      <td>C#</td>\n",
       "    </tr>\n",
       "    <tr>\n",
       "      <th>16629</th>\n",
       "      <td>206997704</td>\n",
       "      <td>67981477</td>\n",
       "      <td>2021-03-05 18:08:24</td>\n",
       "      <td>3749802</td>\n",
       "      <td>2021-03-05 16:49:43</td>\n",
       "      <td>NaN</td>\n",
       "      <td>NaN</td>\n",
       "      <td>NaN</td>\n",
       "      <td>NaN</td>\n",
       "      <td>NaN</td>\n",
       "      <td>C#</td>\n",
       "    </tr>\n",
       "    <tr>\n",
       "      <th>16630</th>\n",
       "      <td>206997704</td>\n",
       "      <td>67982813</td>\n",
       "      <td>2021-03-05 18:40:18</td>\n",
       "      <td>3749802</td>\n",
       "      <td>2021-03-05 16:49:43</td>\n",
       "      <td>NaN</td>\n",
       "      <td>NaN</td>\n",
       "      <td>NaN</td>\n",
       "      <td>NaN</td>\n",
       "      <td>NaN</td>\n",
       "      <td>C#</td>\n",
       "    </tr>\n",
       "  </tbody>\n",
       "</table>\n",
       "<p>16631 rows × 11 columns</p>\n",
       "</div>"
      ],
      "text/plain": [
       "         repo_id   user_id      onboarding_date  project_author_id  \\\n",
       "0             19   9245591  2020-06-17 19:28:17                 78   \n",
       "1             19  33292409  2020-06-05 14:53:56                 78   \n",
       "2           4567  32547120  2020-01-04 17:08:41              21229   \n",
       "3           6830  44244864  2019-04-19 01:58:41               8978   \n",
       "4           8373  30552107  2020-06-05 20:09:57              19185   \n",
       "...          ...       ...                  ...                ...   \n",
       "16626  206997704  66799493  2021-03-05 18:06:24            3749802   \n",
       "16627  206997704  66965962  2021-03-05 18:08:01            3749802   \n",
       "16628  206997704  66994499  2021-03-05 18:10:13            3749802   \n",
       "16629  206997704  67981477  2021-03-05 18:08:24            3749802   \n",
       "16630  206997704  67982813  2021-03-05 18:40:18            3749802   \n",
       "\n",
       "        project_created_at  total_commits  first_onboarding  last_onboarding  \\\n",
       "0      2009-01-05 14:00:43            NaN               NaN              NaN   \n",
       "1      2009-01-05 14:00:43            NaN               NaN              NaN   \n",
       "2      2011-12-23 04:52:33            NaN               NaN              NaN   \n",
       "3      2012-02-21 19:46:55            NaN               NaN              NaN   \n",
       "4      2011-05-10 07:41:19            NaN               NaN              NaN   \n",
       "...                    ...            ...               ...              ...   \n",
       "16626  2021-03-05 16:49:43            NaN               NaN              NaN   \n",
       "16627  2021-03-05 16:49:43            NaN               NaN              NaN   \n",
       "16628  2021-03-05 16:49:43            NaN               NaN              NaN   \n",
       "16629  2021-03-05 16:49:43            NaN               NaN              NaN   \n",
       "16630  2021-03-05 16:49:43            NaN               NaN              NaN   \n",
       "\n",
       "       first_commit  last_commit project_language  \n",
       "0               NaN          NaN      Objective-C  \n",
       "1               NaN          NaN      Objective-C  \n",
       "2               NaN          NaN       JavaScript  \n",
       "3               NaN          NaN            Scala  \n",
       "4               NaN          NaN           Python  \n",
       "...             ...          ...              ...  \n",
       "16626           NaN          NaN               C#  \n",
       "16627           NaN          NaN               C#  \n",
       "16628           NaN          NaN               C#  \n",
       "16629           NaN          NaN               C#  \n",
       "16630           NaN          NaN               C#  \n",
       "\n",
       "[16631 rows x 11 columns]"
      ]
     },
     "execution_count": 27,
     "metadata": {},
     "output_type": "execute_result"
    }
   ],
   "source": [
    "df_onboardings"
   ]
  },
  {
   "cell_type": "markdown",
   "metadata": {},
   "source": [
    "# Pegando a data da primeira e da última contribuição"
   ]
  },
  {
   "cell_type": "code",
   "execution_count": 10,
   "metadata": {},
   "outputs": [],
   "source": [
    "df_onboardings = pd.read_csv(\"onboarding.csv\")\n",
    "\n",
    "repos = df_onboardings['repo_id'].unique()"
   ]
  },
  {
   "cell_type": "code",
   "execution_count": 11,
   "metadata": {},
   "outputs": [],
   "source": [
    "df_project_members = pd.read_csv(join(path, 'project_members.csv'), names=[\"repo_id\", \"user_id\", \"created_at\"])\n",
    "\n",
    "df_project_members = df_project_members[df_project_members['repo_id'].isin(repos)]"
   ]
  },
  {
   "cell_type": "code",
   "execution_count": 21,
   "metadata": {},
   "outputs": [],
   "source": [
    "def get_min_date_row(group):\n",
    "    min_row = group.loc[group['created_at'].idxmin()]\n",
    "\n",
    "    print(min_row)\n",
    "    \n",
    "    owner = df_onboardings.loc[df_onboardings['repo_id'] == min_row['repo_id']]\n",
    "\n",
    "    print(owner)\n",
    "    if min_row['user_id'] == owner:\n",
    "        print('era owner')\n",
    "        group.drop(min_row.index)\n",
    "        min_row = get_min_date_row(group)\n",
    "\n",
    "\n",
    "    return min_row"
   ]
  },
  {
   "cell_type": "code",
   "execution_count": 22,
   "metadata": {},
   "outputs": [
    {
     "name": "stdout",
     "output_type": "stream",
     "text": [
      "repo_id                        19\n",
      "user_id                        78\n",
      "created_at    2009-01-05 13:00:43\n",
      "Name: 55, dtype: object\n",
      "   Unnamed: 0  repo_id   user_id      onboarding_date  project_author_id  \\\n",
      "0           0       19   9245591  2020-06-17 19:28:17                 78   \n",
      "1           1       19  33292409  2020-06-05 14:53:56                 78   \n",
      "\n",
      "    project_created_at  total_commits  first_onboarding  last_onboarding  \\\n",
      "0  2009-01-05 14:00:43            NaN               NaN              NaN   \n",
      "1  2009-01-05 14:00:43            NaN               NaN              NaN   \n",
      "\n",
      "   first_commit  last_commit project_language  \n",
      "0           NaN          NaN      Objective-C  \n",
      "1           NaN          NaN      Objective-C  \n"
     ]
    },
    {
     "ename": "ValueError",
     "evalue": "The truth value of a DataFrame is ambiguous. Use a.empty, a.bool(), a.item(), a.any() or a.all().",
     "output_type": "error",
     "traceback": [
      "\u001b[1;31m---------------------------------------------------------------------------\u001b[0m",
      "\u001b[1;31mValueError\u001b[0m                                Traceback (most recent call last)",
      "\u001b[1;32m~\\AppData\\Local\\Temp\\ipykernel_25092\\1223204204.py\u001b[0m in \u001b[0;36m?\u001b[1;34m()\u001b[0m\n\u001b[1;32m----> 1\u001b[1;33m \u001b[0mdf_first_repo_contrib\u001b[0m \u001b[1;33m=\u001b[0m \u001b[0mdf_project_members\u001b[0m\u001b[1;33m.\u001b[0m\u001b[0mgroupby\u001b[0m\u001b[1;33m(\u001b[0m\u001b[1;34m'repo_id'\u001b[0m\u001b[1;33m)\u001b[0m\u001b[1;33m.\u001b[0m\u001b[0mapply\u001b[0m\u001b[1;33m(\u001b[0m\u001b[0mget_min_date_row\u001b[0m\u001b[1;33m)\u001b[0m \u001b[1;31m#.reset_index(drop=True)\u001b[0m\u001b[1;33m\u001b[0m\u001b[1;33m\u001b[0m\u001b[0m\n\u001b[0m",
      "\u001b[1;32mc:\\Users\\gusge\\AppData\\Local\\Programs\\Python\\Python310\\lib\\site-packages\\pandas\\core\\groupby\\groupby.py\u001b[0m in \u001b[0;36m?\u001b[1;34m(self, func, *args, **kwargs)\u001b[0m\n\u001b[0;32m   1763\u001b[0m         \u001b[1;31m# ignore SettingWithCopy here in case the user mutates\u001b[0m\u001b[1;33m\u001b[0m\u001b[1;33m\u001b[0m\u001b[0m\n\u001b[0;32m   1764\u001b[0m         \u001b[1;32mwith\u001b[0m \u001b[0moption_context\u001b[0m\u001b[1;33m(\u001b[0m\u001b[1;34m\"mode.chained_assignment\"\u001b[0m\u001b[1;33m,\u001b[0m \u001b[1;32mNone\u001b[0m\u001b[1;33m)\u001b[0m\u001b[1;33m:\u001b[0m\u001b[1;33m\u001b[0m\u001b[1;33m\u001b[0m\u001b[0m\n\u001b[0;32m   1765\u001b[0m             \u001b[1;32mtry\u001b[0m\u001b[1;33m:\u001b[0m\u001b[1;33m\u001b[0m\u001b[1;33m\u001b[0m\u001b[0m\n\u001b[0;32m   1766\u001b[0m                 \u001b[0mresult\u001b[0m \u001b[1;33m=\u001b[0m \u001b[0mself\u001b[0m\u001b[1;33m.\u001b[0m\u001b[0m_python_apply_general\u001b[0m\u001b[1;33m(\u001b[0m\u001b[0mf\u001b[0m\u001b[1;33m,\u001b[0m \u001b[0mself\u001b[0m\u001b[1;33m.\u001b[0m\u001b[0m_selected_obj\u001b[0m\u001b[1;33m)\u001b[0m\u001b[1;33m\u001b[0m\u001b[1;33m\u001b[0m\u001b[0m\n\u001b[1;32m-> 1767\u001b[1;33m             \u001b[1;32mexcept\u001b[0m \u001b[0mTypeError\u001b[0m\u001b[1;33m:\u001b[0m\u001b[1;33m\u001b[0m\u001b[1;33m\u001b[0m\u001b[0m\n\u001b[0m\u001b[0;32m   1768\u001b[0m                 \u001b[1;31m# gh-20949\u001b[0m\u001b[1;33m\u001b[0m\u001b[1;33m\u001b[0m\u001b[0m\n\u001b[0;32m   1769\u001b[0m                 \u001b[1;31m# try again, with .apply acting as a filtering\u001b[0m\u001b[1;33m\u001b[0m\u001b[1;33m\u001b[0m\u001b[0m\n\u001b[0;32m   1770\u001b[0m                 \u001b[1;31m# operation, by excluding the grouping column\u001b[0m\u001b[1;33m\u001b[0m\u001b[1;33m\u001b[0m\u001b[0m\n",
      "\u001b[1;32mc:\\Users\\gusge\\AppData\\Local\\Programs\\Python\\Python310\\lib\\site-packages\\pandas\\core\\groupby\\groupby.py\u001b[0m in \u001b[0;36m?\u001b[1;34m(self, f, data, not_indexed_same, is_transform, is_agg)\u001b[0m\n\u001b[0;32m   1811\u001b[0m         \u001b[1;33m-\u001b[0m\u001b[1;33m-\u001b[0m\u001b[1;33m-\u001b[0m\u001b[1;33m-\u001b[0m\u001b[1;33m-\u001b[0m\u001b[1;33m-\u001b[0m\u001b[1;33m-\u001b[0m\u001b[1;33m\u001b[0m\u001b[1;33m\u001b[0m\u001b[0m\n\u001b[0;32m   1812\u001b[0m         \u001b[0mSeries\u001b[0m \u001b[1;32mor\u001b[0m \u001b[0mDataFrame\u001b[0m\u001b[1;33m\u001b[0m\u001b[1;33m\u001b[0m\u001b[0m\n\u001b[0;32m   1813\u001b[0m             \u001b[0mdata\u001b[0m \u001b[0mafter\u001b[0m \u001b[0mapplying\u001b[0m \u001b[0mf\u001b[0m\u001b[1;33m\u001b[0m\u001b[1;33m\u001b[0m\u001b[0m\n\u001b[0;32m   1814\u001b[0m         \"\"\"\n\u001b[1;32m-> 1815\u001b[1;33m         \u001b[0mvalues\u001b[0m\u001b[1;33m,\u001b[0m \u001b[0mmutated\u001b[0m \u001b[1;33m=\u001b[0m \u001b[0mself\u001b[0m\u001b[1;33m.\u001b[0m\u001b[0mgrouper\u001b[0m\u001b[1;33m.\u001b[0m\u001b[0mapply_groupwise\u001b[0m\u001b[1;33m(\u001b[0m\u001b[0mf\u001b[0m\u001b[1;33m,\u001b[0m \u001b[0mdata\u001b[0m\u001b[1;33m,\u001b[0m \u001b[0mself\u001b[0m\u001b[1;33m.\u001b[0m\u001b[0maxis\u001b[0m\u001b[1;33m)\u001b[0m\u001b[1;33m\u001b[0m\u001b[1;33m\u001b[0m\u001b[0m\n\u001b[0m\u001b[0;32m   1816\u001b[0m         \u001b[1;32mif\u001b[0m \u001b[0mnot_indexed_same\u001b[0m \u001b[1;32mis\u001b[0m \u001b[1;32mNone\u001b[0m\u001b[1;33m:\u001b[0m\u001b[1;33m\u001b[0m\u001b[1;33m\u001b[0m\u001b[0m\n\u001b[0;32m   1817\u001b[0m             \u001b[0mnot_indexed_same\u001b[0m \u001b[1;33m=\u001b[0m \u001b[0mmutated\u001b[0m\u001b[1;33m\u001b[0m\u001b[1;33m\u001b[0m\u001b[0m\n\u001b[0;32m   1818\u001b[0m \u001b[1;33m\u001b[0m\u001b[0m\n",
      "\u001b[1;32mc:\\Users\\gusge\\AppData\\Local\\Programs\\Python\\Python310\\lib\\site-packages\\pandas\\core\\groupby\\ops.py\u001b[0m in \u001b[0;36m?\u001b[1;34m(self, f, data, axis)\u001b[0m\n\u001b[0;32m    901\u001b[0m             \u001b[0mobject\u001b[0m\u001b[1;33m.\u001b[0m\u001b[0m__setattr__\u001b[0m\u001b[1;33m(\u001b[0m\u001b[0mgroup\u001b[0m\u001b[1;33m,\u001b[0m \u001b[1;34m\"name\"\u001b[0m\u001b[1;33m,\u001b[0m \u001b[0mkey\u001b[0m\u001b[1;33m)\u001b[0m\u001b[1;33m\u001b[0m\u001b[1;33m\u001b[0m\u001b[0m\n\u001b[0;32m    902\u001b[0m \u001b[1;33m\u001b[0m\u001b[0m\n\u001b[0;32m    903\u001b[0m             \u001b[1;31m# group might be modified\u001b[0m\u001b[1;33m\u001b[0m\u001b[1;33m\u001b[0m\u001b[0m\n\u001b[0;32m    904\u001b[0m             \u001b[0mgroup_axes\u001b[0m \u001b[1;33m=\u001b[0m \u001b[0mgroup\u001b[0m\u001b[1;33m.\u001b[0m\u001b[0maxes\u001b[0m\u001b[1;33m\u001b[0m\u001b[1;33m\u001b[0m\u001b[0m\n\u001b[1;32m--> 905\u001b[1;33m             \u001b[0mres\u001b[0m \u001b[1;33m=\u001b[0m \u001b[0mf\u001b[0m\u001b[1;33m(\u001b[0m\u001b[0mgroup\u001b[0m\u001b[1;33m)\u001b[0m\u001b[1;33m\u001b[0m\u001b[1;33m\u001b[0m\u001b[0m\n\u001b[0m\u001b[0;32m    906\u001b[0m             \u001b[1;32mif\u001b[0m \u001b[1;32mnot\u001b[0m \u001b[0mmutated\u001b[0m \u001b[1;32mand\u001b[0m \u001b[1;32mnot\u001b[0m \u001b[0m_is_indexed_like\u001b[0m\u001b[1;33m(\u001b[0m\u001b[0mres\u001b[0m\u001b[1;33m,\u001b[0m \u001b[0mgroup_axes\u001b[0m\u001b[1;33m,\u001b[0m \u001b[0maxis\u001b[0m\u001b[1;33m)\u001b[0m\u001b[1;33m:\u001b[0m\u001b[1;33m\u001b[0m\u001b[1;33m\u001b[0m\u001b[0m\n\u001b[0;32m    907\u001b[0m                 \u001b[0mmutated\u001b[0m \u001b[1;33m=\u001b[0m \u001b[1;32mTrue\u001b[0m\u001b[1;33m\u001b[0m\u001b[1;33m\u001b[0m\u001b[0m\n\u001b[0;32m    908\u001b[0m             \u001b[0mresult_values\u001b[0m\u001b[1;33m.\u001b[0m\u001b[0mappend\u001b[0m\u001b[1;33m(\u001b[0m\u001b[0mres\u001b[0m\u001b[1;33m)\u001b[0m\u001b[1;33m\u001b[0m\u001b[1;33m\u001b[0m\u001b[0m\n",
      "\u001b[1;32m~\\AppData\\Local\\Temp\\ipykernel_25092\\1404988308.py\u001b[0m in \u001b[0;36m?\u001b[1;34m(group)\u001b[0m\n\u001b[0;32m      5\u001b[0m \u001b[1;33m\u001b[0m\u001b[0m\n\u001b[0;32m      6\u001b[0m     \u001b[0mowner\u001b[0m \u001b[1;33m=\u001b[0m \u001b[0mdf_onboardings\u001b[0m\u001b[1;33m.\u001b[0m\u001b[0mloc\u001b[0m\u001b[1;33m[\u001b[0m\u001b[0mdf_onboardings\u001b[0m\u001b[1;33m[\u001b[0m\u001b[1;34m'repo_id'\u001b[0m\u001b[1;33m]\u001b[0m \u001b[1;33m==\u001b[0m \u001b[0mmin_row\u001b[0m\u001b[1;33m[\u001b[0m\u001b[1;34m'repo_id'\u001b[0m\u001b[1;33m]\u001b[0m\u001b[1;33m]\u001b[0m\u001b[1;33m\u001b[0m\u001b[1;33m\u001b[0m\u001b[0m\n\u001b[0;32m      7\u001b[0m \u001b[1;33m\u001b[0m\u001b[0m\n\u001b[0;32m      8\u001b[0m     \u001b[0mprint\u001b[0m\u001b[1;33m(\u001b[0m\u001b[0mowner\u001b[0m\u001b[1;33m)\u001b[0m\u001b[1;33m\u001b[0m\u001b[1;33m\u001b[0m\u001b[0m\n\u001b[1;32m----> 9\u001b[1;33m     \u001b[1;32mif\u001b[0m \u001b[0mmin_row\u001b[0m\u001b[1;33m[\u001b[0m\u001b[1;34m'user_id'\u001b[0m\u001b[1;33m]\u001b[0m \u001b[1;33m==\u001b[0m \u001b[0mowner\u001b[0m\u001b[1;33m:\u001b[0m\u001b[1;33m\u001b[0m\u001b[1;33m\u001b[0m\u001b[0m\n\u001b[0m\u001b[0;32m     10\u001b[0m         \u001b[0mprint\u001b[0m\u001b[1;33m(\u001b[0m\u001b[1;34m'era owner'\u001b[0m\u001b[1;33m)\u001b[0m\u001b[1;33m\u001b[0m\u001b[1;33m\u001b[0m\u001b[0m\n\u001b[0;32m     11\u001b[0m         \u001b[0mgroup\u001b[0m\u001b[1;33m.\u001b[0m\u001b[0mdrop\u001b[0m\u001b[1;33m(\u001b[0m\u001b[0mmin_row\u001b[0m\u001b[1;33m.\u001b[0m\u001b[0mindex\u001b[0m\u001b[1;33m)\u001b[0m\u001b[1;33m\u001b[0m\u001b[1;33m\u001b[0m\u001b[0m\n\u001b[0;32m     12\u001b[0m         \u001b[0mmin_row\u001b[0m \u001b[1;33m=\u001b[0m \u001b[0mget_min_date_row\u001b[0m\u001b[1;33m(\u001b[0m\u001b[0mgroup\u001b[0m\u001b[1;33m)\u001b[0m\u001b[1;33m\u001b[0m\u001b[1;33m\u001b[0m\u001b[0m\n",
      "\u001b[1;32mc:\\Users\\gusge\\AppData\\Local\\Programs\\Python\\Python310\\lib\\site-packages\\pandas\\core\\generic.py\u001b[0m in \u001b[0;36m?\u001b[1;34m(self)\u001b[0m\n\u001b[0;32m   1517\u001b[0m     \u001b[1;33m@\u001b[0m\u001b[0mfinal\u001b[0m\u001b[1;33m\u001b[0m\u001b[1;33m\u001b[0m\u001b[0m\n\u001b[0;32m   1518\u001b[0m     \u001b[1;32mdef\u001b[0m \u001b[0m__nonzero__\u001b[0m\u001b[1;33m(\u001b[0m\u001b[0mself\u001b[0m\u001b[1;33m)\u001b[0m \u001b[1;33m->\u001b[0m \u001b[0mNoReturn\u001b[0m\u001b[1;33m:\u001b[0m\u001b[1;33m\u001b[0m\u001b[1;33m\u001b[0m\u001b[0m\n\u001b[1;32m-> 1519\u001b[1;33m         raise ValueError(\n\u001b[0m\u001b[0;32m   1520\u001b[0m             \u001b[1;34mf\"The truth value of a {type(self).__name__} is ambiguous. \"\u001b[0m\u001b[1;33m\u001b[0m\u001b[1;33m\u001b[0m\u001b[0m\n\u001b[0;32m   1521\u001b[0m             \u001b[1;34m\"Use a.empty, a.bool(), a.item(), a.any() or a.all().\"\u001b[0m\u001b[1;33m\u001b[0m\u001b[1;33m\u001b[0m\u001b[0m\n\u001b[0;32m   1522\u001b[0m         )\n",
      "\u001b[1;31mValueError\u001b[0m: The truth value of a DataFrame is ambiguous. Use a.empty, a.bool(), a.item(), a.any() or a.all()."
     ]
    }
   ],
   "source": [
    "\n",
    "df_first_repo_contrib = df_project_members.groupby('repo_id').apply(get_min_date_row) #.reset_index(drop=True)"
   ]
  },
  {
   "cell_type": "markdown",
   "metadata": {},
   "source": [
    "Agora calculamos quantos commits cada projeto possui no momento de onboard do dev"
   ]
  },
  {
   "cell_type": "code",
   "execution_count": null,
   "metadata": {},
   "outputs": [],
   "source": []
  },
  {
   "cell_type": "code",
   "execution_count": null,
   "metadata": {},
   "outputs": [],
   "source": [
    "\n",
    "def get_total_commits(row):\n",
    "    repo_id = row['project_id']\n",
    "    date = row['created_at']\n",
    "    total_commits = 0\n",
    "    for file in dump_open_source_files:\n",
    "        chunk = pd.read_csv(dump_open_source_files)\n",
    "        total_commits += chunk.loc[(chunk['project_id'] == repo_id) & (pd.to_datetime(chunk['created_at']) <= pd.to_datetime(date))].shape[0]\n",
    "\n",
    "    return total_commits"
   ]
  },
  {
   "cell_type": "code",
   "execution_count": null,
   "metadata": {},
   "outputs": [],
   "source": [
    "\n",
    "['total_commits'] = df_first_commit_user.apply(get_total_commits, axis=1)   "
   ]
  }
 ],
 "metadata": {
  "kernelspec": {
   "display_name": "Python 3",
   "language": "python",
   "name": "python3"
  },
  "language_info": {
   "codemirror_mode": {
    "name": "ipython",
    "version": 3
   },
   "file_extension": ".py",
   "mimetype": "text/x-python",
   "name": "python",
   "nbconvert_exporter": "python",
   "pygments_lexer": "ipython3",
   "version": "3.10.7"
  }
 },
 "nbformat": 4,
 "nbformat_minor": 2
}
